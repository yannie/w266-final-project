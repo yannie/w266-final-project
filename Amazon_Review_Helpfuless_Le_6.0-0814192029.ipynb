{
 "cells": [
  {
   "cell_type": "code",
   "execution_count": 1,
   "metadata": {
    "collapsed": false
   },
   "outputs": [],
   "source": [
    "# Imports\n",
    "import pandas as pd\n",
    "import numpy as np\n",
    "import gzip\n",
    "import time\n",
    "import matplotlib.pyplot as plt\n",
    "import matplotlib\n",
    "matplotlib.style.use('ggplot')\n",
    "\n",
    "# Sklearn libraries.\n",
    "from sklearn import datasets, linear_model, ensemble, metrics\n",
    "from sklearn.feature_extraction.text import TfidfVectorizer, CountVectorizer\n",
    "\n",
    "import nltk\n",
    "from nltk.corpus import stopwords\n",
    "import string\n",
    "\n",
    "from collections import Counter\n",
    "#deep learning library\n",
    "\n",
    "import json, os, re, shutil, sys, time\n",
    "import collections, itertools\n",
    "import unittest\n",
    "from IPython.display import display, HTML\n",
    "\n",
    "# NLTK for NLP utils and corpora\n",
    "import nltk\n",
    "\n",
    "# NumPy and TensorFlow\n",
    "import numpy as np\n",
    "import tensorflow as tf\n",
    "assert(tf.__version__.startswith(\"1.\"))\n",
    "\n",
    "# utils.pretty_print_matrix uses Pandas. Configure float format here.\n",
    "import pandas as pd\n",
    "pd.set_option('float_format', lambda f: \"{0:.04f}\".format(f))\n",
    "\n",
    "# Helper libraries\n",
    "from shared_lib import utils, vocabulary, tf_embed_viz\n",
    "\n",
    "from numpy import random\n",
    "from numpy.random import multinomial\n",
    "\n",
    "random.seed(10)"
   ]
  },
  {
   "cell_type": "markdown",
   "metadata": {},
   "source": [
    "\n",
    "### 1. Load Data"
   ]
  },
  {
   "cell_type": "code",
   "execution_count": 2,
   "metadata": {
    "collapsed": true
   },
   "outputs": [],
   "source": [
    "def parse(path):\n",
    "    g = gzip.open(path, 'r')\n",
    "    for l in g:\n",
    "        yield eval(l)"
   ]
  },
  {
   "cell_type": "code",
   "execution_count": 3,
   "metadata": {
    "collapsed": true
   },
   "outputs": [],
   "source": [
    "# Unzip gz file.\n",
    "def parse(path):\n",
    "    g = gzip.open(path, 'rb')\n",
    "    for l in g:\n",
    "        yield eval(l)\n",
    "\n",
    "# Load JSON into dataframe.\n",
    "def getDF(path):\n",
    "    i = 0\n",
    "    df = {}\n",
    "    for d in parse(path):\n",
    "        df[i] = d\n",
    "        i += 1\n",
    "    return pd.DataFrame.from_dict(df, orient='index')\n"
   ]
  },
  {
   "cell_type": "code",
   "execution_count": 4,
   "metadata": {
    "collapsed": false
   },
   "outputs": [
    {
     "name": "stdout",
     "output_type": "stream",
     "text": [
      "Time Used 46.919570s\n"
     ]
    }
   ],
   "source": [
    "start = time.time()\n",
    "df = getDF('/home/legu/data/reviews_Clothing_Shoes_and_Jewelry_5.json.gz')\n",
    "end = time.time()\n",
    "print(\"Time Used %fs\" %(end - start))"
   ]
  },
  {
   "cell_type": "markdown",
   "metadata": {},
   "source": [
    "### 2. Data Exploration"
   ]
  },
  {
   "cell_type": "code",
   "execution_count": 5,
   "metadata": {
    "collapsed": false
   },
   "outputs": [
    {
     "name": "stdout",
     "output_type": "stream",
     "text": [
      "Index([u'reviewerID', u'asin', u'reviewerName', u'helpful', u'unixReviewTime',\n",
      "       u'reviewText', u'overall', u'reviewTime', u'summary'],\n",
      "      dtype='object')\n",
      "This is a great tutu and at a really great price. It doesn't look cheap at all. I'm so glad I looked on Amazon and found such an affordable tutu that isn't made poorly. A++\n"
     ]
    },
    {
     "data": {
      "text/html": [
       "<div>\n",
       "<table border=\"1\" class=\"dataframe\">\n",
       "  <thead>\n",
       "    <tr style=\"text-align: right;\">\n",
       "      <th></th>\n",
       "      <th>reviewerID</th>\n",
       "      <th>asin</th>\n",
       "      <th>reviewerName</th>\n",
       "      <th>helpful</th>\n",
       "      <th>unixReviewTime</th>\n",
       "      <th>reviewText</th>\n",
       "      <th>overall</th>\n",
       "      <th>reviewTime</th>\n",
       "      <th>summary</th>\n",
       "    </tr>\n",
       "  </thead>\n",
       "  <tbody>\n",
       "    <tr>\n",
       "      <th>0</th>\n",
       "      <td>A1KLRMWW2FWPL4</td>\n",
       "      <td>0000031887</td>\n",
       "      <td>Amazon Customer \"cameramom\"</td>\n",
       "      <td>[0, 0]</td>\n",
       "      <td>1297468800</td>\n",
       "      <td>This is a great tutu and at a really great pri...</td>\n",
       "      <td>5.0000</td>\n",
       "      <td>02 12, 2011</td>\n",
       "      <td>Great tutu-  not cheaply made</td>\n",
       "    </tr>\n",
       "    <tr>\n",
       "      <th>1</th>\n",
       "      <td>A2G5TCU2WDFZ65</td>\n",
       "      <td>0000031887</td>\n",
       "      <td>Amazon Customer</td>\n",
       "      <td>[0, 0]</td>\n",
       "      <td>1358553600</td>\n",
       "      <td>I bought this for my 4 yr old daughter for dan...</td>\n",
       "      <td>5.0000</td>\n",
       "      <td>01 19, 2013</td>\n",
       "      <td>Very Cute!!</td>\n",
       "    </tr>\n",
       "    <tr>\n",
       "      <th>2</th>\n",
       "      <td>A1RLQXYNCMWRWN</td>\n",
       "      <td>0000031887</td>\n",
       "      <td>Carola</td>\n",
       "      <td>[0, 0]</td>\n",
       "      <td>1357257600</td>\n",
       "      <td>What can I say... my daughters have it in oran...</td>\n",
       "      <td>5.0000</td>\n",
       "      <td>01 4, 2013</td>\n",
       "      <td>I have buy more than one</td>\n",
       "    </tr>\n",
       "    <tr>\n",
       "      <th>3</th>\n",
       "      <td>A8U3FAMSJVHS5</td>\n",
       "      <td>0000031887</td>\n",
       "      <td>Caromcg</td>\n",
       "      <td>[0, 0]</td>\n",
       "      <td>1398556800</td>\n",
       "      <td>We bought several tutus at once, and they are ...</td>\n",
       "      <td>5.0000</td>\n",
       "      <td>04 27, 2014</td>\n",
       "      <td>Adorable, Sturdy</td>\n",
       "    </tr>\n",
       "    <tr>\n",
       "      <th>4</th>\n",
       "      <td>A3GEOILWLK86XM</td>\n",
       "      <td>0000031887</td>\n",
       "      <td>CJ</td>\n",
       "      <td>[0, 0]</td>\n",
       "      <td>1394841600</td>\n",
       "      <td>Thank you Halo Heaven great product for Little...</td>\n",
       "      <td>5.0000</td>\n",
       "      <td>03 15, 2014</td>\n",
       "      <td>Grammy's Angels Love it</td>\n",
       "    </tr>\n",
       "  </tbody>\n",
       "</table>\n",
       "</div>"
      ],
      "text/plain": [
       "       reviewerID        asin                 reviewerName helpful  \\\n",
       "0  A1KLRMWW2FWPL4  0000031887  Amazon Customer \"cameramom\"  [0, 0]   \n",
       "1  A2G5TCU2WDFZ65  0000031887              Amazon Customer  [0, 0]   \n",
       "2  A1RLQXYNCMWRWN  0000031887                       Carola  [0, 0]   \n",
       "3   A8U3FAMSJVHS5  0000031887                      Caromcg  [0, 0]   \n",
       "4  A3GEOILWLK86XM  0000031887                           CJ  [0, 0]   \n",
       "\n",
       "   unixReviewTime                                         reviewText  overall  \\\n",
       "0      1297468800  This is a great tutu and at a really great pri...   5.0000   \n",
       "1      1358553600  I bought this for my 4 yr old daughter for dan...   5.0000   \n",
       "2      1357257600  What can I say... my daughters have it in oran...   5.0000   \n",
       "3      1398556800  We bought several tutus at once, and they are ...   5.0000   \n",
       "4      1394841600  Thank you Halo Heaven great product for Little...   5.0000   \n",
       "\n",
       "    reviewTime                        summary  \n",
       "0  02 12, 2011  Great tutu-  not cheaply made  \n",
       "1  01 19, 2013                    Very Cute!!  \n",
       "2   01 4, 2013       I have buy more than one  \n",
       "3  04 27, 2014               Adorable, Sturdy  \n",
       "4  03 15, 2014        Grammy's Angels Love it  "
      ]
     },
     "execution_count": 5,
     "metadata": {},
     "output_type": "execute_result"
    }
   ],
   "source": [
    "print df.columns\n",
    "\n",
    "print df['reviewText'][0]\n",
    "\n",
    "df.head(5)\n"
   ]
  },
  {
   "cell_type": "markdown",
   "metadata": {},
   "source": [
    "#### Exploring helpfulness scores."
   ]
  },
  {
   "cell_type": "code",
   "execution_count": 6,
   "metadata": {
    "collapsed": false
   },
   "outputs": [],
   "source": [
    "helpfulness = []\n",
    "total_votes = []\n",
    "for i in df['helpful']:\n",
    "    if i[1] == 0:\n",
    "        helpfulness.append(np.nan)\n",
    "        total_votes.append(np.nan)\n",
    "    else:\n",
    "        helpfulness.append(float(i[0])/i[1])\n",
    "        total_votes.append(i[1])\n",
    "        \n",
    "# Convert to numpy array.\n",
    "helpfulness = np.array(helpfulness)\n",
    "total_votes = np.array(total_votes)"
   ]
  },
  {
   "cell_type": "code",
   "execution_count": 7,
   "metadata": {
    "collapsed": false
   },
   "outputs": [
    {
     "name": "stdout",
     "output_type": "stream",
     "text": [
      "reviewerID                                           A353U0L2HAMSHV\n",
      "asin                                                     B000JD2614\n",
      "reviewerName                   Cricket \"Living life and loving it!\"\n",
      "helpful                                                      [4, 2]\n",
      "unixReviewTime                                           1234828800\n",
      "reviewText        I have been waiting for these to go on sale fo...\n",
      "overall                                                      5.0000\n",
      "reviewTime                                              02 17, 2009\n",
      "summary                                              A gift for me!\n",
      "Name: 30730, dtype: object\n"
     ]
    }
   ],
   "source": [
    "for i, row in df.iterrows():\n",
    "    helpful = row['helpful']\n",
    "    if helpful[0] > helpful[1]:\n",
    "        print row"
   ]
  },
  {
   "cell_type": "code",
   "execution_count": 8,
   "metadata": {
    "collapsed": false
   },
   "outputs": [],
   "source": [
    "#  remove the invalid entries\n",
    "helpfulness_clean = np.delete(helpfulness, 30730)\n",
    "doc = np.array(df['reviewText'])\n",
    "doc_clean = np.delete(doc, 30730)\n",
    "\n",
    "# remove the nan values\n",
    "nonnan_doc_clean = doc_clean[~np.isnan(helpfulness_clean)]\n",
    "nonnan_helpfulness_clean = helpfulness_clean[~np.isnan(helpfulness_clean)]\n",
    "y = np.reshape(nonnan_helpfulness_clean,(-1,1))\n",
    "\n",
    "#binarize\n",
    "\n",
    "y_norm = np.argmax(np.concatenate((1-y,y), axis = 1),1)\n",
    "y_norm = 1-np.argmax(np.concatenate((y,1-y), axis = 1),1)"
   ]
  },
  {
   "cell_type": "code",
   "execution_count": 9,
   "metadata": {
    "collapsed": false
   },
   "outputs": [
    {
     "name": "stdout",
     "output_type": "stream",
     "text": [
      "0.875\n",
      "For what I paid for two tutus is unbeatable anywhere!  I ordered a pink and turquios and they are vibrant and beautiful! The tutu is very full! Princess style! Not cheaply made! Not cheap materia! Obviously someone made these with love and care! I paid less than 7 bucks for a tutu I and I feel proud of my self for researching to the point of finding gold!Recommend 2-6 years!My daughter is two ! Wears size 4t and this skirt ( one size ) fit perfect and will probaly be able to accommodate her quickly growing waist for some time!\n",
      "[ 0.875]\n",
      "1\n"
     ]
    }
   ],
   "source": [
    "print (nonnan_helpfulness_clean[0])\n",
    "print (nonnan_doc_clean[0])\n",
    "print (y[0])\n",
    "print (y_norm[0])"
   ]
  },
  {
   "cell_type": "code",
   "execution_count": 10,
   "metadata": {
    "collapsed": false
   },
   "outputs": [
    {
     "name": "stdout",
     "output_type": "stream",
     "text": [
      "[1 1 1 0 1 1 1 1 1 0 1 1 1 1]\n",
      "[[ 1.        ]\n",
      " [ 0.5       ]\n",
      " [ 1.        ]\n",
      " [ 0.        ]\n",
      " [ 0.5       ]\n",
      " [ 0.9804878 ]\n",
      " [ 0.83333333]\n",
      " [ 0.84615385]\n",
      " [ 0.77419355]\n",
      " [ 0.        ]\n",
      " [ 0.93939394]\n",
      " [ 0.91176471]\n",
      " [ 0.77777778]\n",
      " [ 0.83333333]]\n"
     ]
    }
   ],
   "source": [
    "print(y_norm[1:15])\n",
    "print(y[1:15])"
   ]
  },
  {
   "cell_type": "markdown",
   "metadata": {},
   "source": [
    "### 3. Balance the dataset and generate train/dev/test dataset "
   ]
  },
  {
   "cell_type": "markdown",
   "metadata": {},
   "source": [
    "#### Copied from Le's split to train/test/dev\n",
    "Revisit deleting above cells."
   ]
  },
  {
   "cell_type": "code",
   "execution_count": 11,
   "metadata": {
    "collapsed": false
   },
   "outputs": [],
   "source": [
    "n_total_samples = len(nonnan_doc_clean)# or whatever it is\n",
    "\n",
    "indices = np.arange(n_total_samples)\n",
    "inds_split = multinomial(n=1,\n",
    "                         pvals=[0.8, 0.1, 0.1],\n",
    "                         size=n_total_samples).argmax(axis=1)\n",
    "\n",
    "train_inds = indices[inds_split==0]\n",
    "test_inds  = indices[inds_split==1]\n",
    "dev_inds   = indices[inds_split==2]\n",
    "\n",
    "x_train = nonnan_doc_clean[train_inds]\n",
    "y_train = y[train_inds]\n",
    "y_train_norm = y_norm[train_inds]\n",
    "x_test = nonnan_doc_clean[test_inds]\n",
    "y_test = y[test_inds]\n",
    "y_test_norm = y_norm[test_inds]\n",
    "x_dev = nonnan_doc_clean[dev_inds]\n",
    "y_dev = y[dev_inds]\n",
    "y_dev_norm = y_norm[dev_inds]"
   ]
  },
  {
   "cell_type": "code",
   "execution_count": 12,
   "metadata": {
    "collapsed": false
   },
   "outputs": [
    {
     "name": "stdout",
     "output_type": "stream",
     "text": [
      "69646\n",
      "8657\n",
      "8717\n",
      "0.853616862419\n",
      "0.851680720804\n",
      "0.851095560399\n",
      "7373\n",
      "[ 6694.]\n"
     ]
    }
   ],
   "source": [
    "##for dubug purpose\n",
    "print (len(x_train))\n",
    "print (len(x_dev))\n",
    "print (len(x_test))\n",
    "print (float(sum(y_train_norm))/len(x_train))\n",
    "print (float(sum(y_dev_norm))/len(x_dev))\n",
    "print (float(sum(y_test_norm))/len(x_test))\n",
    "print (sum(y_dev_norm))\n",
    "print(sum(np.rint(y_dev)))"
   ]
  },
  {
   "cell_type": "code",
   "execution_count": 13,
   "metadata": {
    "collapsed": false
   },
   "outputs": [
    {
     "name": "stdout",
     "output_type": "stream",
     "text": [
      "For what I paid for two tutus is unbeatable anywhere!  I ordered a pink and turquios and they are vibrant and beautiful! The tutu is very full! Princess style! Not cheaply made! Not cheap materia! Obviously someone made these with love and care! I paid less than 7 bucks for a tutu I and I feel proud of my self for researching to the point of finding gold!Recommend 2-6 years!My daughter is two ! Wears size 4t and this skirt ( one size ) fit perfect and will probaly be able to accommodate her quickly growing waist for some time!\n",
      "I've never had french, learned french, or know anything about French. Now, however, I feel like I could do OK with a quick trip and to get around conversationally. Rosetta Stone is no substitute for deep immersion learning, but it's pretty useful as a tool to learn the basics.Pros:- Builds a LOT of vocabulary quickly- Helps understand what words mean by associating them with a concept, rather than translating- Internet community is pretty cool.Cons:- Doesn't focus on grammar at all- Level 1 doesn't contain a whole lot- It's obviously pretty expensive. I guess if you're *really* interested, it's worth it.For it's purpose, it is almost perfect software. You will feel confident with the basics after this.\n"
     ]
    }
   ],
   "source": [
    "print(x_train[0])\n",
    "print(x_test[0])"
   ]
  },
  {
   "cell_type": "code",
   "execution_count": 16,
   "metadata": {
    "collapsed": false
   },
   "outputs": [],
   "source": [
    "##upsample\n",
    "import random\n",
    "ind_0 = np.where(y_train_norm == 0)[0]\n",
    "ind_1 = np.where(y_train_norm == 1)[0]\n",
    "ind_upsamp = np.random.choice(ind_0,size = len(ind_1),replace =1)\n",
    "x_train_res= np.concatenate( [x_train[ind_upsamp] ,x_train[ind_1]],axis=0)\n",
    "y_train_res= np.concatenate( [y_train[ind_upsamp] ,y_train[ind_1]],axis=0)\n",
    "y_train_norm_res= np.concatenate( [y_train_norm[ind_upsamp] ,y_train_norm[ind_1]],axis=0)"
   ]
  },
  {
   "cell_type": "code",
   "execution_count": 15,
   "metadata": {
    "collapsed": false
   },
   "outputs": [],
   "source": [
    "##downsample\n",
    "import random\n",
    "ind_0 = np.where(y_train_norm == 0)[0]\n",
    "ind_1 = np.where(y_train_norm == 1)[0]\n",
    "ind_downsamp = np.random.choice(ind_1,size = len(ind_0),replace =0)\n",
    "x_train_res= np.concatenate( [x_train[ind_downsamp] ,x_train[ind_0]],axis=0)\n",
    "y_train_res= np.concatenate( [y_train[ind_downsamp] ,y_train[ind_0]],axis=0)\n",
    "y_train_norm_res= np.concatenate( [y_train_norm[ind_downsamp] ,y_train_norm[ind_0]],axis=0)"
   ]
  },
  {
   "cell_type": "code",
   "execution_count": 17,
   "metadata": {
    "collapsed": false,
    "scrolled": false
   },
   "outputs": [
    {
     "data": {
      "image/png": "[encoded data removed]",
      "text/plain": [
       "<matplotlib.figure.Figure at 0x7ff9cc04cc10>"
      ]
     },
     "metadata": {},
     "output_type": "display_data"
    },
    {
     "data": {
      "image/png": "[encoded data removed]",
      "text/plain": [
       "<matplotlib.figure.Figure at 0x7ff9cc04cf10>"
      ]
     },
     "metadata": {},
     "output_type": "display_data"
    },
    {
     "data": {
      "image/png": "[encoded data removed]",
      "text/plain": [
       "<matplotlib.figure.Figure at 0x7ff980fb3e90>"
      ]
     },
     "metadata": {},
     "output_type": "display_data"
    },
    {
     "data": {
      "image/png": "[encoded data removed]",
      "text/plain": [
       "<matplotlib.figure.Figure at 0x7ff980fb3f90>"
      ]
     },
     "metadata": {},
     "output_type": "display_data"
    },
    {
     "name": "stdout",
     "output_type": "stream",
     "text": [
      "Training data set is of size 69646: there are 10195 0 lables, and 59451 1 labels. After upsampling, there are total 118902 samples\n"
     ]
    }
   ],
   "source": [
    "plt.hist(y_train_norm)\n",
    "plt.title('training data')\n",
    "plt.show()\n",
    "\n",
    "plt.hist(y_train_norm_res)\n",
    "plt.title('training upsample data')\n",
    "plt.show()\n",
    "\n",
    "\n",
    "plt.hist(y_dev_norm)\n",
    "plt.title('dev data')\n",
    "plt.show()\n",
    "\n",
    "\n",
    "plt.hist(y_test_norm)\n",
    "plt.title('test data')\n",
    "plt.show()\n",
    "\n",
    "\n",
    "\n",
    "print ('Training data set is of size %i: there are %i 0 lables, and %i 1 labels. After upsampling, there are total %i samples'\n",
    "       %(len(x_train),len(np.where(y_train_norm == 0)[0]),len(np.where(y_train_norm == 1)[0]),len(x_train_res)))\n"
   ]
  },
  {
   "cell_type": "markdown",
   "metadata": {},
   "source": [
    "#### 2.Convert the review from list of words to list of word dictionary index"
   ]
  },
  {
   "cell_type": "code",
   "execution_count": 18,
   "metadata": {
    "collapsed": false
   },
   "outputs": [],
   "source": [
    "def get_tokens(docs):\n",
    "    tokens =[]\n",
    "    for i in docs:\n",
    "        lowers = i.lower()\n",
    "        #remove the punctuation using the character deletion step of translate\n",
    "        no_punctuation = lowers.translate(None, string.punctuation)\n",
    "        token = nltk.word_tokenize(no_punctuation)\n",
    "        tokens.extend(token)\n",
    "    return tokens\n",
    "\n",
    "tokens = get_tokens(x_train_res)"
   ]
  },
  {
   "cell_type": "code",
   "execution_count": 19,
   "metadata": {
    "collapsed": true
   },
   "outputs": [],
   "source": [
    "# Vocab size.\n",
    "V = 10000\n",
    "def build_dataset(words):\n",
    "    \n",
    "    # Leave the last index for all other words.\n",
    "    count = collections.Counter(words).most_common(V-1)\n",
    "    dictionary = dict()\n",
    "    for word, _ in count:\n",
    "        dictionary[word] = len(dictionary)\n",
    "    reverse_dictionary = dict(zip(dictionary.values(), dictionary.keys()))\n",
    "    return dictionary, reverse_dictionary"
   ]
  },
  {
   "cell_type": "code",
   "execution_count": 20,
   "metadata": {
    "collapsed": false
   },
   "outputs": [],
   "source": [
    "dic, rev_dict = build_dataset(tokens)"
   ]
  },
  {
   "cell_type": "code",
   "execution_count": 21,
   "metadata": {
    "collapsed": true
   },
   "outputs": [],
   "source": [
    "def transform_words_to_index(words, dictionary):\n",
    "    #build sample data\n",
    "    ids = []\n",
    "    for i in words:\n",
    "        lowers = i.lower()\n",
    "        #remove the punctuation using the character deletion step of translate\n",
    "        no_punctuation = lowers.translate(None, string.punctuation)\n",
    "        token = nltk.word_tokenize(no_punctuation)\n",
    "        j = []\n",
    "        for w in token:\n",
    "            if w in dictionary:\n",
    "                j.append(dictionary[w])\n",
    "            # Set token_id to vocab size - 1 if word not in top words\n",
    "            # since this is zero indexed.\n",
    "            else:\n",
    "                j.append(V-1)\n",
    "        ids.append(j)\n",
    "    return ids"
   ]
  },
  {
   "cell_type": "code",
   "execution_count": 22,
   "metadata": {
    "collapsed": false
   },
   "outputs": [],
   "source": [
    "x_train_res_ids = transform_words_to_index(x_train_res, dic)\n",
    "x_dev_ids = transform_words_to_index(x_dev, dic)\n",
    "x_test_ids = transform_words_to_index(x_test, dic)"
   ]
  },
  {
   "cell_type": "code",
   "execution_count": 23,
   "metadata": {
    "collapsed": false,
    "scrolled": true
   },
   "outputs": [
    {
     "name": "stdout",
     "output_type": "stream",
     "text": [
      "Sorry I ordered the wrong size, my fault, then I wasn't feeling well and didn't get them returned in time.  Bra looked very nice.\n",
      "[1040, 1, 74, 0, 414, 29, 11, 1324, 155, 1, 368, 734, 46, 2, 140, 62, 23, 365, 10, 77, 118, 269, 26, 63]\n",
      "[ 0.]\n",
      "0\n",
      "I've never had french, learned french, or know anything about French. Now, however, I feel like I could do OK with a quick trip and to get around conversationally. Rosetta Stone is no substitute for deep immersion learning, but it's pretty useful as a tool to learn the basics.Pros:- Builds a LOT of vocabulary quickly- Helps understand what words mean by associating them with a concept, rather than translating- Internet community is pretty cool.Cons:- Doesn't focus on grammar at all- Level 1 doesn't contain a whole lot- It's obviously pretty expensive. I guess if you're *really* interested, it's worth it.For it's purpose, it is almost perfect software. You will feel confident with the basics after this.\n",
      "[123, 201, 51, 3508, 1592, 3508, 35, 165, 301, 70, 3508, 125, 176, 1, 117, 27, 1, 128, 69, 362, 20, 3, 876, 610, 2, 4, 62, 115, 9999, 3822, 833, 6, 71, 4164, 7, 962, 9999, 3168, 13, 33, 119, 1339, 25, 3, 1561, 4, 2043, 0, 9999, 8332, 3, 174, 8, 9999, 489, 827, 1029, 80, 1374, 788, 141, 9999, 23, 20, 3, 2511, 495, 52, 9999, 2168, 5491, 6, 119, 9999, 172, 5738, 17, 6660, 42, 43, 1368, 478, 172, 5208, 3, 647, 174, 33, 1070, 119, 378, 1, 427, 36, 332, 53, 2440, 33, 262, 9999, 33, 1038, 5, 6, 289, 96, 4947, 24, 41, 117, 2622, 20, 0, 6724, 97, 9]\n",
      "[ 0.93939394]\n",
      "1\n",
      "The Rosetta Stone process gets you involve through what they call immersion right away, and I found it quite fun.  You run the application and learning CD's through your computer, plug in your headset/microphone to the USB port, enroll on line for the web support and community and off you go.You can hear it, see it, see how your respond, and it pretty much sweeps you along and gets you quite involved.  I have learned languages(the Romance languages) traditionally in school and self-taught over the years, and I found Rosetta very helpful and engaging.The negatives are the price, and this is only Level One.  It's a fine start, but if you're serious, you're going to have to do a lot more work and dish out for the next level.  Your call!May I suggest, for quick learning, say for a trip: get a tape/cd and a book.  Learn the quick, important phrases, practice some everyday- use it, use it, use it- hear it and say it, and if you can, practice with a native speaker- you really learn that way, and you get over the nervousness of being ignorant about the language and constantly fretting about making mistakes.If you're willing to pay the price and put in time- some of us just love computer, and it also includes an Audio CD for practice elsewheres, the Rosetta Stone French will give you a good, fun start into French or any new language.\n",
      "[0, 3822, 833, 1423, 679, 24, 7505, 244, 80, 12, 1138, 9999, 108, 386, 2, 1, 243, 5, 247, 573, 24, 211, 0, 5365, 2, 3168, 9999, 244, 75, 1890, 7229, 10, 75, 9999, 4, 0, 9999, 6266, 9999, 17, 509, 7, 0, 2504, 206, 2, 5491, 2, 116, 24, 9999, 56, 2227, 5, 153, 5, 153, 138, 75, 5018, 2, 5, 119, 87, 8856, 24, 755, 2, 679, 24, 247, 4754, 1, 19, 1592, 9999, 6422, 4801, 8065, 10, 851, 2, 9999, 129, 0, 199, 2, 1, 243, 3822, 26, 1528, 2, 9999, 4481, 14, 0, 85, 2, 9, 6, 84, 1368, 39, 33, 3, 237, 728, 13, 36, 332, 1441, 332, 168, 4, 19, 4, 69, 3, 174, 45, 111, 2, 6691, 54, 7, 0, 435, 1368, 75, 9999, 1, 821, 7, 876, 3168, 182, 7, 3, 610, 62, 3, 9999, 2, 3, 2084, 2043, 0, 876, 1008, 9999, 2874, 94, 551, 120, 5, 120, 5, 120, 5, 2227, 5, 2, 182, 5, 2, 36, 24, 56, 2874, 20, 3, 6453, 9999, 24, 53, 2043, 15, 114, 2, 24, 62, 129, 0, 9999, 8, 213, 9999, 70, 0, 3855, 2, 1141, 9999, 70, 583, 9999, 332, 2077, 4, 460, 0, 85, 2, 152, 10, 77, 94, 8, 522, 32, 49, 1890, 2, 5, 81, 2833, 68, 9999, 2748, 7, 2874, 9999, 0, 3822, 833, 3508, 41, 205, 24, 3, 44, 573, 728, 191, 3508, 35, 124, 198, 3855]\n",
      "[ 0.77777778]\n",
      "1\n"
     ]
    }
   ],
   "source": [
    "print (x_train_res[0])\n",
    "print (x_train_res_ids[0])\n",
    "print (y_train_res[0])\n",
    "print (y_train_norm_res[0])\n",
    "\n",
    "\n",
    "print (x_test[0])\n",
    "print (x_test_ids[0])\n",
    "print (y_test[0])\n",
    "print (y_test_norm[0])\n",
    "\n",
    "print (x_dev[0])\n",
    "print (x_dev_ids[0])\n",
    "print (y_dev[0])\n",
    "print (y_dev_norm[0])"
   ]
  },
  {
   "cell_type": "markdown",
   "metadata": {},
   "source": [
    "#### 3.Pad the sentence with differnt length"
   ]
  },
  {
   "cell_type": "code",
   "execution_count": 24,
   "metadata": {
    "collapsed": false
   },
   "outputs": [],
   "source": [
    "#combine the list of words index and label into a dataframe\n",
    "train_df = pd.DataFrame(np.column_stack([x_train_res_ids,y_train_norm_res]), \n",
    "                               columns=['list_words', 'label'])\n",
    "#combine the list of words index and label into a dataframe\n",
    "dev_df = pd.DataFrame(np.column_stack([x_dev_ids,y_dev_norm]), \n",
    "                               columns=['list_words', 'label'])\n",
    "#combine the list of words index and label into a dataframe\n",
    "test_df = pd.DataFrame(np.column_stack([x_test_ids,y_test_norm]), \n",
    "                               columns=['list_words', 'label'])"
   ]
  },
  {
   "cell_type": "code",
   "execution_count": 25,
   "metadata": {
    "collapsed": false
   },
   "outputs": [
    {
     "name": "stdout",
     "output_type": "stream",
     "text": [
      "118902\n"
     ]
    },
    {
     "data": {
      "text/html": [
       "<div>\n",
       "<table border=\"1\" class=\"dataframe\">\n",
       "  <thead>\n",
       "    <tr style=\"text-align: right;\">\n",
       "      <th></th>\n",
       "      <th>list_words</th>\n",
       "      <th>label</th>\n",
       "    </tr>\n",
       "  </thead>\n",
       "  <tbody>\n",
       "    <tr>\n",
       "      <th>0</th>\n",
       "      <td>[1040, 1, 74, 0, 414, 29, 11, 1324, 155, 1, 36...</td>\n",
       "      <td>0</td>\n",
       "    </tr>\n",
       "    <tr>\n",
       "      <th>1</th>\n",
       "      <td>[60, 259, 3, 29, 2770, 113, 20, 1232, 1377, 1,...</td>\n",
       "      <td>0</td>\n",
       "    </tr>\n",
       "    <tr>\n",
       "      <th>2</th>\n",
       "      <td>[1, 238, 3, 83, 8, 2592, 17, 9999, 3905, 44, 7...</td>\n",
       "      <td>0</td>\n",
       "    </tr>\n",
       "    <tr>\n",
       "      <th>3</th>\n",
       "      <td>[365, 18, 50, 94, 312, 239, 27, 23, 12, 66, 26...</td>\n",
       "      <td>0</td>\n",
       "    </tr>\n",
       "    <tr>\n",
       "      <th>4</th>\n",
       "      <td>[2397, 1517, 9, 149, 6, 16, 89, 262, 275, 24, ...</td>\n",
       "      <td>0</td>\n",
       "    </tr>\n",
       "  </tbody>\n",
       "</table>\n",
       "</div>"
      ],
      "text/plain": [
       "                                          list_words label\n",
       "0  [1040, 1, 74, 0, 414, 29, 11, 1324, 155, 1, 36...     0\n",
       "1  [60, 259, 3, 29, 2770, 113, 20, 1232, 1377, 1,...     0\n",
       "2  [1, 238, 3, 83, 8, 2592, 17, 9999, 3905, 44, 7...     0\n",
       "3  [365, 18, 50, 94, 312, 239, 27, 23, 12, 66, 26...     0\n",
       "4  [2397, 1517, 9, 149, 6, 16, 89, 262, 275, 24, ...     0"
      ]
     },
     "execution_count": 25,
     "metadata": {},
     "output_type": "execute_result"
    }
   ],
   "source": [
    "print (len(train_df))\n",
    "train_df.head()"
   ]
  },
  {
   "cell_type": "code",
   "execution_count": 26,
   "metadata": {
    "collapsed": false
   },
   "outputs": [
    {
     "name": "stdout",
     "output_type": "stream",
     "text": [
      "8657\n"
     ]
    },
    {
     "data": {
      "text/html": [
       "<div>\n",
       "<table border=\"1\" class=\"dataframe\">\n",
       "  <thead>\n",
       "    <tr style=\"text-align: right;\">\n",
       "      <th></th>\n",
       "      <th>list_words</th>\n",
       "      <th>label</th>\n",
       "    </tr>\n",
       "  </thead>\n",
       "  <tbody>\n",
       "    <tr>\n",
       "      <th>0</th>\n",
       "      <td>[0, 3822, 833, 1423, 679, 24, 7505, 244, 80, 1...</td>\n",
       "      <td>1</td>\n",
       "    </tr>\n",
       "    <tr>\n",
       "      <th>1</th>\n",
       "      <td>[1, 91, 9, 149, 7, 11, 1118, 197, 2312, 958, 3...</td>\n",
       "      <td>1</td>\n",
       "    </tr>\n",
       "    <tr>\n",
       "      <th>2</th>\n",
       "      <td>[1, 91, 3822, 833, 3190, 1368, 478, 3, 181, 36...</td>\n",
       "      <td>1</td>\n",
       "    </tr>\n",
       "    <tr>\n",
       "      <th>3</th>\n",
       "      <td>[9, 79, 3, 174, 8, 350, 2, 278, 6, 26, 763, 35...</td>\n",
       "      <td>1</td>\n",
       "    </tr>\n",
       "    <tr>\n",
       "      <th>4</th>\n",
       "      <td>[358, 121, 9, 149, 1, 21, 334, 349, 4, 9999, 9...</td>\n",
       "      <td>1</td>\n",
       "    </tr>\n",
       "  </tbody>\n",
       "</table>\n",
       "</div>"
      ],
      "text/plain": [
       "                                          list_words label\n",
       "0  [0, 3822, 833, 1423, 679, 24, 7505, 244, 80, 1...     1\n",
       "1  [1, 91, 9, 149, 7, 11, 1118, 197, 2312, 958, 3...     1\n",
       "2  [1, 91, 3822, 833, 3190, 1368, 478, 3, 181, 36...     1\n",
       "3  [9, 79, 3, 174, 8, 350, 2, 278, 6, 26, 763, 35...     1\n",
       "4  [358, 121, 9, 149, 1, 21, 334, 349, 4, 9999, 9...     1"
      ]
     },
     "execution_count": 26,
     "metadata": {},
     "output_type": "execute_result"
    }
   ],
   "source": [
    "print (len(dev_df))\n",
    "dev_df.head()"
   ]
  },
  {
   "cell_type": "code",
   "execution_count": 27,
   "metadata": {
    "collapsed": false
   },
   "outputs": [
    {
     "name": "stdout",
     "output_type": "stream",
     "text": [
      "8717\n"
     ]
    },
    {
     "data": {
      "text/html": [
       "<div>\n",
       "<table border=\"1\" class=\"dataframe\">\n",
       "  <thead>\n",
       "    <tr style=\"text-align: right;\">\n",
       "      <th></th>\n",
       "      <th>list_words</th>\n",
       "      <th>label</th>\n",
       "    </tr>\n",
       "  </thead>\n",
       "  <tbody>\n",
       "    <tr>\n",
       "      <th>0</th>\n",
       "      <td>[123, 201, 51, 3508, 1592, 3508, 35, 165, 301,...</td>\n",
       "      <td>1</td>\n",
       "    </tr>\n",
       "    <tr>\n",
       "      <th>1</th>\n",
       "      <td>[3822, 833, 6, 5840, 7, 5998, 3855, 0, 114, 64...</td>\n",
       "      <td>1</td>\n",
       "    </tr>\n",
       "    <tr>\n",
       "      <th>2</th>\n",
       "      <td>[19, 12, 689, 200, 9986, 129, 624, 7, 3, 621, ...</td>\n",
       "      <td>0</td>\n",
       "    </tr>\n",
       "    <tr>\n",
       "      <th>3</th>\n",
       "      <td>[5, 676, 24, 366, 4, 167, 75, 2289, 89, 10, 3,...</td>\n",
       "      <td>1</td>\n",
       "    </tr>\n",
       "    <tr>\n",
       "      <th>4</th>\n",
       "      <td>[49, 9, 149, 33, 76, 2, 106, 129, 75, 550, 2, ...</td>\n",
       "      <td>1</td>\n",
       "    </tr>\n",
       "  </tbody>\n",
       "</table>\n",
       "</div>"
      ],
      "text/plain": [
       "                                          list_words label\n",
       "0  [123, 201, 51, 3508, 1592, 3508, 35, 165, 301,...     1\n",
       "1  [3822, 833, 6, 5840, 7, 5998, 3855, 0, 114, 64...     1\n",
       "2  [19, 12, 689, 200, 9986, 129, 624, 7, 3, 621, ...     0\n",
       "3  [5, 676, 24, 366, 4, 167, 75, 2289, 89, 10, 3,...     1\n",
       "4  [49, 9, 149, 33, 76, 2, 106, 129, 75, 550, 2, ...     1"
      ]
     },
     "execution_count": 27,
     "metadata": {},
     "output_type": "execute_result"
    }
   ],
   "source": [
    "print (len(test_df))\n",
    "test_df.head()"
   ]
  },
  {
   "cell_type": "code",
   "execution_count": 28,
   "metadata": {
    "collapsed": false
   },
   "outputs": [
    {
     "name": "stdout",
     "output_type": "stream",
     "text": [
      "0    [1, 19, 122, 103, 977, 7, 199, 176, 89, 97, 60...\n",
      "1    [0, 169, 31, 229, 0, 1303, 21, 3, 64, 183, 267...\n",
      "2    [1, 49, 9, 134, 5, 92, 22, 37, 5, 106, 444, 46...\n",
      "Name: list_words, dtype: object\n",
      "0    0\n",
      "1    0\n",
      "2    0\n",
      "Name: label, dtype: object\n"
     ]
    }
   ],
   "source": [
    "class SimpleDataIterator():\n",
    "    def __init__(self, df):\n",
    "        self.df = df\n",
    "        self.size = len(self.df)\n",
    "        self.epochs = 0\n",
    "        self.shuffle()\n",
    "#         print (self.df.head())\n",
    "#         self.cursor = 0\n",
    "    def shuffle(self):\n",
    "        self.df = self.df.sample(frac=1).reset_index(drop=True)\n",
    "        self.cursor = 0\n",
    "\n",
    "    def next_batch(self, n):\n",
    "        if self.cursor+n-1 > self.size:\n",
    "            self.epochs += 1\n",
    "            self.shuffle()\n",
    "        res = self.df.ix[self.cursor:self.cursor+n-1]\n",
    "        self.cursor += n\n",
    "        return res['list_words'], res['label'] \n",
    "    \n",
    "data = SimpleDataIterator(train_df)\n",
    "a,b = data.next_batch(3)\n",
    "print(a)\n",
    "print(b)"
   ]
  },
  {
   "cell_type": "code",
   "execution_count": 29,
   "metadata": {
    "collapsed": false
   },
   "outputs": [],
   "source": [
    "##this helps to make sure each sentence have the same length (max_len)\n",
    "class PaddedDataIterator(SimpleDataIterator):\n",
    "    def next_batch(self, n, max_len):\n",
    "        if self.cursor+n > self.size:\n",
    "            self.epochs += 1\n",
    "            self.shuffle()\n",
    "#             self.max_len = max_len\n",
    "        res = self.df.ix[self.cursor:self.cursor+n-1]\n",
    "        self.cursor += n\n",
    "\n",
    "        # Pad sequences with 0s so they are all the same length\n",
    "        maxlen = max_len\n",
    "        x = np.zeros([n, maxlen], dtype=np.int32)\n",
    "        for i, x_i in enumerate(x):\n",
    "            l=len(res['list_words'].values[i]) ##list length\n",
    "            if l>maxlen: \n",
    "                x_i[:maxlen] = res['list_words'].values[i][:max_len]\n",
    "            else:\n",
    "                x_i[:l] = res['list_words'].values[i][:l]\n",
    "\n",
    "        return x, res['label'] \n",
    "    def pad_sentences(self, n, max_len):\n",
    "        maxlen = max_len\n",
    "        x = np.zeros([len(self.df), maxlen], dtype=np.int32)\n",
    "        for i, x_i in enumerate(x):\n",
    "            l=len(self.df['list_words'].values[i]) ##list length\n",
    "            if l>maxlen: \n",
    "                x_i[:maxlen] = self.df['list_words'].values[i][:max_len]\n",
    "            else:\n",
    "                x_i[:l] = self.df['list_words'].values[i][:l]\n",
    "#         print (x[0:1])\n",
    "#         print (self.df[0:1])\n",
    "        return x, self.df['label'] "
   ]
  },
  {
   "cell_type": "code",
   "execution_count": 30,
   "metadata": {
    "collapsed": false,
    "scrolled": true
   },
   "outputs": [
    {
     "name": "stdout",
     "output_type": "stream",
     "text": [
      "[123, 201, 51, 3508, 1592, 3508, 35, 165, 301, 70, 3508, 125, 176, 1, 117, 27, 1, 128, 69, 362, 20, 3, 876, 610, 2, 4, 62, 115, 9999, 3822, 833, 6, 71, 4164, 7, 962, 9999, 3168, 13, 33, 119, 1339, 25, 3, 1561, 4, 2043, 0, 9999, 8332, 3, 174, 8, 9999, 489, 827, 1029, 80, 1374, 788, 141, 9999, 23, 20, 3, 2511, 495, 52, 9999, 2168, 5491, 6, 119, 9999, 172, 5738, 17, 6660, 42, 43, 1368, 478, 172, 5208, 3, 647, 174, 33, 1070, 119, 378, 1, 427, 36, 332, 53, 2440, 33, 262, 9999, 33, 1038, 5, 6, 289, 96, 4947, 24, 41, 117, 2622, 20, 0, 6724, 97, 9]\n",
      "[   0  179   79  423  276  329   42   39  619   97   26 9999  120  281  224\n",
      "    5   13   33   45  904   52   33  262   33  101 3572    0    0    0    0\n",
      "    0    0    0    0    0    0    0    0    0    0    0    0    0    0    0\n",
      "    0    0    0    0    0    0    0    0    0    0    0    0    0    0    0\n",
      "    0    0    0    0    0    0    0    0    0    0    0    0    0    0    0\n",
      "    0    0    0    0    0    0    0    0    0    0    0    0    0    0    0\n",
      "    0    0    0    0    0    0    0    0    0    0]\n",
      "\n",
      "\n",
      "                                          list_words label\n",
      "0  [123, 201, 51, 3508, 1592, 3508, 35, 165, 301,...     1\n"
     ]
    }
   ],
   "source": [
    "# This cell is not needed. Just for debugging.\n",
    "#sample call to get the data\n",
    "max_length = 100 \n",
    "# a, b = PaddedDataIterator(train_df).next_batch(1,max_length)\n",
    "a1, b1 = PaddedDataIterator(test_df).pad_sentences(1,max_length)\n",
    "# print (a)\n",
    "# print (b)\n",
    "# print (len(a1))\n",
    "# print (len(b1))\n",
    "print (test_df['list_words'].values[0])\n",
    "print (a1[0])\n",
    "print ('\\n')\n",
    "print (test_df[0:1])\n"
   ]
  },
  {
   "cell_type": "markdown",
   "metadata": {},
   "source": [
    "#### 4.build RNN model "
   ]
  },
  {
   "cell_type": "code",
   "execution_count": null,
   "metadata": {
    "collapsed": true
   },
   "outputs": [],
   "source": [
    "print ('1')"
   ]
  },
  {
   "cell_type": "code",
   "execution_count": 31,
   "metadata": {
    "collapsed": true
   },
   "outputs": [],
   "source": [
    "\"\"\"\n",
    "Simple demo of a scatter plot.\n",
    "\"\"\"\n",
    "import numpy as np\n",
    "import matplotlib.pyplot as plt\n",
    "\n",
    "def visualizeTraining(iters, costs, accs):\n",
    "\n",
    "    x = iters\n",
    "    y = costs\n",
    "    z = accs\n",
    "\n",
    "    plt.scatter(x, y )\n",
    "    plt.xlabel('iterations')\n",
    "    plt.ylabel('cost')\n",
    "    plt.show()\n",
    "\n",
    "    plt.scatter(x, z)\n",
    "    plt.xlabel('iterations')\n",
    "    plt.ylabel('accuracy')\n",
    "    plt.show()\n",
    "\n",
    "    print (\"Dev Accuracy:\",dev_acc)\n",
    "    print(\"Dev cost:\",dev_cost)    \n",
    "    print(\"Dev F1=%.5f, Precision=%.5f, Recall=%.5f\" %(f1,precision,recall))"
   ]
  },
  {
   "cell_type": "code",
   "execution_count": 87,
   "metadata": {
    "collapsed": false
   },
   "outputs": [
    {
     "name": "stdout",
     "output_type": "stream",
     "text": [
      "(0.01, 200000, 100, 30, 20, 2):(0.70821303, 0.59439635, 0.81788031723143473, 0.87301831614591352, 0.76929336769293366)\n",
      "\n",
      "(0.01, 100000, 100, 100, 20, 1):(0.6633938, 0.63575739, 0.78132973135224371, 0.87451705022677639, 0.70608978706089787)\n",
      "\n",
      "(0.01, 100000, 100, 100, 50, 2):(0.67552269, 0.66073173, 0.79482871959681556, 0.86119025007913896, 0.73796283737962842)\n",
      "\n",
      "(0.01, 200000, 100, 50, 20, 3):(0.71560585, 0.5896163, 0.82526614620298089, 0.86556498436802143, 0.78855282788552827)\n",
      "\n",
      "(0.01, 100000, 100, 50, 50, 3):(0.73339492, 0.58779877, 0.83785302796121963, 0.86911528931642623, 0.808761698087617)\n",
      "\n",
      "(0.01, 100000, 100, 50, 20, 2):(0.69966501, 0.61315972, 0.81035740335521522, 0.87659775919204674, 0.75342465753424659)\n",
      "\n",
      "(0.01, 200000, 100, 100, 20, 2):(0.73524314, 0.58143616, 0.83927068723702669, 0.86888340351386673, 0.81160992811609933)\n",
      "\n",
      "(0.01, 200000, 100, 30, 20, 3):(0.69354278, 0.60780305, 0.80636449894168294, 0.87294563843236406, 0.74922012749220124)\n",
      "\n",
      "(0.01, 200000, 100, 50, 50, 2):(0.67540717, 0.61664969, 0.79197512585134744, 0.8718826405867971, 0.72548487725484878)\n",
      "\n",
      "(0.01, 100000, 100, 30, 50, 1):(0.68430173, 0.60682756, 0.80032147293051792, 0.86743744060817229, 0.74284551742845517)\n",
      "\n",
      "(0.01, 100000, 100, 100, 50, 3):(0.70509416, 0.62064689, 0.81578757486110098, 0.87156953438174534, 0.76671639766716393)\n",
      "\n",
      "(0.01, 100000, 100, 50, 20, 3):(0.66778332, 0.64719117, 0.78456928838951323, 0.87619206960013385, 0.71029431710294322)\n",
      "\n",
      "(0.01, 200000, 100, 30, 50, 2):(0.68187594, 0.61627716, 0.79773795534665104, 0.86993432644561908, 0.73660653736606541)\n",
      "\n",
      "(0.01, 200000, 100, 30, 50, 3):(0.7143352, 0.59214091, 0.82362171029170528, 0.86853188929001202, 0.78312762783127632)\n",
      "\n",
      "(0.01, 200000, 100, 50, 50, 3):(0.68869126, 0.61289454, 0.80455435492058891, 0.86455735660847877, 0.75233961752339618)\n",
      "\n",
      "(0.01, 100000, 100, 100, 20, 2):(0.60124755, 0.68159509, 0.7237958073291727, 0.88253658536585367, 0.61345449613454495)\n",
      "\n",
      "(0.01, 100000, 100, 50, 50, 1):(0.70232183, 0.60213995, 0.81506996770721207, 0.86543736665650717, 0.77024277770242777)\n",
      "\n",
      "(0.01, 100000, 100, 30, 20, 1):(0.67321241, 0.62021673, 0.79030464754280638, 0.87136319058515854, 0.72304353723043535)\n",
      "\n",
      "(0.01, 100000, 100, 30, 50, 2):(0.66477996, 0.62597948, 0.78297935985641642, 0.87264544090681784, 0.71002305710023061)\n",
      "\n",
      "(0.01, 100000, 100, 100, 20, 3):(0.35693657, 0.67093968, 0.42064730981371629, 0.90384615384615385, 0.27410823274108231)\n",
      "\n",
      "(0.01, 200000, 100, 50, 20, 1):(0.72669518, 0.57988566, 0.83352096819589083, 0.86606228980845157, 0.80333649803336493)\n",
      "\n",
      "(0.01, 100000, 100, 30, 20, 3):(0.68349314, 0.60741431, 0.79778597785977867, 0.87502023636069293, 0.73308015733080156)\n",
      "\n",
      "(0.01, 100000, 100, 30, 20, 2):(0.70082015, 0.59591836, 0.81329296424452135, 0.86797968918295121, 0.76508883765088842)\n",
      "\n",
      "(0.01, 200000, 100, 100, 20, 1):(0.68453276, 0.64332658, 0.79837578442229595, 0.87605314322747896, 0.73335141733351417)\n",
      "\n",
      "(0.01, 200000, 100, 50, 50, 1):(0.70925266, 0.59286356, 0.82096877445052996, 0.86314687406521085, 0.78272073782720741)\n",
      "\n",
      "(0.01, 100000, 100, 30, 50, 3):(0.67575371, 0.6210193, 0.79319236719958741, 0.86822580645161296, 0.73009629730096293)\n",
      "\n",
      "(0.01, 100000, 100, 100, 50, 1):(0.70636481, 0.62303936, 0.81571697839640422, 0.87618750973368631, 0.7630543876305439)\n",
      "\n",
      "(0.01, 200000, 100, 30, 20, 1):(0.67032456, 0.62377787, 0.78946591915019182, 0.86543748989163838, 0.72575613725756138)\n",
      "\n",
      "(0.01, 200000, 100, 50, 20, 2):(0.73651379, 0.57068408, 0.84052296720967623, 0.86738816738816737, 0.81527193815271937)\n",
      "\n",
      "(0.01, 200000, 100, 30, 50, 1):(0.69007736, 0.6060636, 0.8061556245935988, 0.86255411255411252, 0.75667977756679783)\n",
      "\n",
      "(0.01, 100000, 100, 50, 50, 2):(0.67263484, 0.62265635, 0.78945022288261513, 0.87284376540167574, 0.72060219720602192)\n",
      "\n",
      "(0.01, 100000, 100, 50, 20, 1):(0.64029109, 0.65508127, 0.76290543627227048, 0.86964068738066302, 0.67950630679506308)\n",
      "\n"
     ]
    }
   ],
   "source": [
    "for key, value in dic.items():\n",
    "        print('%s:%s\\n' % (key, value))\n",
    "        "
   ]
  },
  {
   "cell_type": "code",
   "execution_count": 88,
   "metadata": {
    "collapsed": false,
    "scrolled": false
   },
   "outputs": [],
   "source": [
    "with open('tunning file.csv', 'w') as f:\n",
    "    for key, value in dic.items():\n",
    "        f.write('%s:%s\\n' % (key, value))\n",
    "        "
   ]
  },
  {
   "cell_type": "code",
   "execution_count": 85,
   "metadata": {
    "collapsed": false
   },
   "outputs": [
    {
     "name": "stderr",
     "output_type": "stream",
     "text": [
      "/home/legu/anaconda2/lib/python2.7/site-packages/ipykernel/__main__.py:187: FutureWarning: reshape is deprecated and will raise in a subsequent release. Please use .values.reshape(...) instead\n"
     ]
    },
    {
     "name": "stdout",
     "output_type": "stream",
     "text": [
      "Optimization Finished!\n"
     ]
    },
    {
     "name": "stderr",
     "output_type": "stream",
     "text": [
      "/home/legu/anaconda2/lib/python2.7/site-packages/ipykernel/__main__.py:221: FutureWarning: reshape is deprecated and will raise in a subsequent release. Please use .values.reshape(...) instead\n"
     ]
    },
    {
     "name": "stdout",
     "output_type": "stream",
     "text": [
      "Optimization Finished!\n",
      "Optimization Finished!\n",
      "Optimization Finished!\n",
      "Optimization Finished!\n",
      "Optimization Finished!\n",
      "Optimization Finished!\n",
      "Optimization Finished!\n",
      "Optimization Finished!\n",
      "Optimization Finished!\n",
      "Optimization Finished!\n",
      "Optimization Finished!\n",
      "Optimization Finished!\n",
      "Optimization Finished!\n",
      "Optimization Finished!\n",
      "Optimization Finished!\n",
      "Optimization Finished!\n",
      "Optimization Finished!\n",
      "Optimization Finished!\n",
      "Optimization Finished!\n",
      "Optimization Finished!\n",
      "Optimization Finished!\n",
      "Optimization Finished!\n",
      "Optimization Finished!\n",
      "Optimization Finished!\n",
      "Optimization Finished!\n",
      "Optimization Finished!\n",
      "Optimization Finished!\n",
      "Optimization Finished!\n",
      "Optimization Finished!\n",
      "Optimization Finished!\n",
      "Optimization Finished!\n"
     ]
    },
    {
     "ename": "KeyboardInterrupt",
     "evalue": "",
     "output_type": "error",
     "traceback": [
      "\u001b[0;31m---------------------------------------------------------------------------\u001b[0m",
      "\u001b[0;31mKeyboardInterrupt\u001b[0m                         Traceback (most recent call last)",
      "\u001b[0;32m<ipython-input-85-a11b1db6cb37>\u001b[0m in \u001b[0;36m<module>\u001b[0;34m()\u001b[0m\n\u001b[1;32m      9\u001b[0m \u001b[0mdic\u001b[0m\u001b[0;34m=\u001b[0m \u001b[0;34m{\u001b[0m\u001b[0;34m}\u001b[0m\u001b[0;34m\u001b[0m\u001b[0m\n\u001b[1;32m     10\u001b[0m \u001b[0;32mfor\u001b[0m \u001b[0mlearning_rate_v\u001b[0m\u001b[0;34m,\u001b[0m \u001b[0mtraining_iters_v\u001b[0m\u001b[0;34m,\u001b[0m\u001b[0mbatch_size_v\u001b[0m\u001b[0;34m,\u001b[0m\u001b[0msentence_size_v\u001b[0m\u001b[0;34m,\u001b[0m\u001b[0mn_hidden_v\u001b[0m\u001b[0;34m,\u001b[0m\u001b[0mn_layer_v\u001b[0m     \u001b[0;32min\u001b[0m \u001b[0mproduct\u001b[0m\u001b[0;34m(\u001b[0m\u001b[0mlearning_rate\u001b[0m\u001b[0;34m,\u001b[0m \u001b[0mtraining_iters\u001b[0m \u001b[0;34m,\u001b[0m\u001b[0mbatch_size\u001b[0m\u001b[0;34m,\u001b[0m\u001b[0msentence_size\u001b[0m\u001b[0;34m,\u001b[0m\u001b[0mn_hidden\u001b[0m\u001b[0;34m,\u001b[0m\u001b[0mn_layer\u001b[0m\u001b[0;34m)\u001b[0m\u001b[0;34m:\u001b[0m\u001b[0;34m\u001b[0m\u001b[0m\n\u001b[0;32m---> 11\u001b[0;31m     \u001b[0ma\u001b[0m\u001b[0;34m,\u001b[0m\u001b[0mb\u001b[0m \u001b[0;34m=\u001b[0m \u001b[0mrun_graph\u001b[0m\u001b[0;34m(\u001b[0m\u001b[0mlearning_rate_v\u001b[0m\u001b[0;34m,\u001b[0m \u001b[0mtraining_iters_v\u001b[0m\u001b[0;34m,\u001b[0m\u001b[0mbatch_size_v\u001b[0m\u001b[0;34m,\u001b[0m\u001b[0msentence_size_v\u001b[0m\u001b[0;34m,\u001b[0m\u001b[0mn_hidden_v\u001b[0m\u001b[0;34m,\u001b[0m\u001b[0mn_layer_v\u001b[0m\u001b[0;34m)\u001b[0m\u001b[0;34m\u001b[0m\u001b[0m\n\u001b[0m\u001b[1;32m     12\u001b[0m     \u001b[0mdic\u001b[0m\u001b[0;34m[\u001b[0m\u001b[0ma\u001b[0m\u001b[0;34m]\u001b[0m\u001b[0;34m=\u001b[0m\u001b[0mb\u001b[0m\u001b[0;34m\u001b[0m\u001b[0m\n\u001b[1;32m     13\u001b[0m \u001b[0;34m\u001b[0m\u001b[0m\n",
      "\u001b[0;32m<ipython-input-78-3f86f0b1a868>\u001b[0m in \u001b[0;36mrun_graph\u001b[0;34m(learning_rate_v, training_iters_v, batch_size_v, sentence_size_v, n_hidden_v, n_layer_v)\u001b[0m\n\u001b[1;32m    194\u001b[0m             \u001b[0mout\u001b[0m \u001b[0;34m=\u001b[0m \u001b[0msess\u001b[0m\u001b[0;34m.\u001b[0m\u001b[0mrun\u001b[0m\u001b[0;34m(\u001b[0m\u001b[0moutputs\u001b[0m\u001b[0;34m,\u001b[0m\u001b[0mfeed_dict\u001b[0m\u001b[0;34m=\u001b[0m\u001b[0;34m{\u001b[0m\u001b[0mids_\u001b[0m\u001b[0;34m:\u001b[0m \u001b[0mbatch_x\u001b[0m\u001b[0;34m}\u001b[0m\u001b[0;34m)\u001b[0m\u001b[0;34m\u001b[0m\u001b[0m\n\u001b[1;32m    195\u001b[0m \u001b[0;34m\u001b[0m\u001b[0m\n\u001b[0;32m--> 196\u001b[0;31m             \u001b[0msess\u001b[0m\u001b[0;34m.\u001b[0m\u001b[0mrun\u001b[0m\u001b[0;34m(\u001b[0m\u001b[0moptimizer\u001b[0m\u001b[0;34m,\u001b[0m \u001b[0mfeed_dict\u001b[0m\u001b[0;34m=\u001b[0m\u001b[0;34m{\u001b[0m\u001b[0mids_\u001b[0m\u001b[0;34m:\u001b[0m \u001b[0mbatch_x\u001b[0m\u001b[0;34m,\u001b[0m \u001b[0my\u001b[0m\u001b[0;34m:\u001b[0m \u001b[0mbatch_y\u001b[0m\u001b[0;34m}\u001b[0m\u001b[0;34m)\u001b[0m\u001b[0;34m\u001b[0m\u001b[0m\n\u001b[0m\u001b[1;32m    197\u001b[0m \u001b[0;34m\u001b[0m\u001b[0m\n\u001b[1;32m    198\u001b[0m             \u001b[0;31m#################\u001b[0m\u001b[0;34m\u001b[0m\u001b[0;34m\u001b[0m\u001b[0m\n",
      "\u001b[0;32m/home/legu/anaconda2/lib/python2.7/site-packages/tensorflow/python/client/session.pyc\u001b[0m in \u001b[0;36mrun\u001b[0;34m(self, fetches, feed_dict, options, run_metadata)\u001b[0m\n\u001b[1;32m    776\u001b[0m     \u001b[0;32mtry\u001b[0m\u001b[0;34m:\u001b[0m\u001b[0;34m\u001b[0m\u001b[0m\n\u001b[1;32m    777\u001b[0m       result = self._run(None, fetches, feed_dict, options_ptr,\n\u001b[0;32m--> 778\u001b[0;31m                          run_metadata_ptr)\n\u001b[0m\u001b[1;32m    779\u001b[0m       \u001b[0;32mif\u001b[0m \u001b[0mrun_metadata\u001b[0m\u001b[0;34m:\u001b[0m\u001b[0;34m\u001b[0m\u001b[0m\n\u001b[1;32m    780\u001b[0m         \u001b[0mproto_data\u001b[0m \u001b[0;34m=\u001b[0m \u001b[0mtf_session\u001b[0m\u001b[0;34m.\u001b[0m\u001b[0mTF_GetBuffer\u001b[0m\u001b[0;34m(\u001b[0m\u001b[0mrun_metadata_ptr\u001b[0m\u001b[0;34m)\u001b[0m\u001b[0;34m\u001b[0m\u001b[0m\n",
      "\u001b[0;32m/home/legu/anaconda2/lib/python2.7/site-packages/tensorflow/python/client/session.pyc\u001b[0m in \u001b[0;36m_run\u001b[0;34m(self, handle, fetches, feed_dict, options, run_metadata)\u001b[0m\n\u001b[1;32m    980\u001b[0m     \u001b[0;32mif\u001b[0m \u001b[0mfinal_fetches\u001b[0m \u001b[0;32mor\u001b[0m \u001b[0mfinal_targets\u001b[0m\u001b[0;34m:\u001b[0m\u001b[0;34m\u001b[0m\u001b[0m\n\u001b[1;32m    981\u001b[0m       results = self._do_run(handle, final_targets, final_fetches,\n\u001b[0;32m--> 982\u001b[0;31m                              feed_dict_string, options, run_metadata)\n\u001b[0m\u001b[1;32m    983\u001b[0m     \u001b[0;32melse\u001b[0m\u001b[0;34m:\u001b[0m\u001b[0;34m\u001b[0m\u001b[0m\n\u001b[1;32m    984\u001b[0m       \u001b[0mresults\u001b[0m \u001b[0;34m=\u001b[0m \u001b[0;34m[\u001b[0m\u001b[0;34m]\u001b[0m\u001b[0;34m\u001b[0m\u001b[0m\n",
      "\u001b[0;32m/home/legu/anaconda2/lib/python2.7/site-packages/tensorflow/python/client/session.pyc\u001b[0m in \u001b[0;36m_do_run\u001b[0;34m(self, handle, target_list, fetch_list, feed_dict, options, run_metadata)\u001b[0m\n\u001b[1;32m   1030\u001b[0m     \u001b[0;32mif\u001b[0m \u001b[0mhandle\u001b[0m \u001b[0;32mis\u001b[0m \u001b[0mNone\u001b[0m\u001b[0;34m:\u001b[0m\u001b[0;34m\u001b[0m\u001b[0m\n\u001b[1;32m   1031\u001b[0m       return self._do_call(_run_fn, self._session, feed_dict, fetch_list,\n\u001b[0;32m-> 1032\u001b[0;31m                            target_list, options, run_metadata)\n\u001b[0m\u001b[1;32m   1033\u001b[0m     \u001b[0;32melse\u001b[0m\u001b[0;34m:\u001b[0m\u001b[0;34m\u001b[0m\u001b[0m\n\u001b[1;32m   1034\u001b[0m       return self._do_call(_prun_fn, self._session, handle, feed_dict,\n",
      "\u001b[0;32m/home/legu/anaconda2/lib/python2.7/site-packages/tensorflow/python/client/session.pyc\u001b[0m in \u001b[0;36m_do_call\u001b[0;34m(self, fn, *args)\u001b[0m\n\u001b[1;32m   1037\u001b[0m   \u001b[0;32mdef\u001b[0m \u001b[0m_do_call\u001b[0m\u001b[0;34m(\u001b[0m\u001b[0mself\u001b[0m\u001b[0;34m,\u001b[0m \u001b[0mfn\u001b[0m\u001b[0;34m,\u001b[0m \u001b[0;34m*\u001b[0m\u001b[0margs\u001b[0m\u001b[0;34m)\u001b[0m\u001b[0;34m:\u001b[0m\u001b[0;34m\u001b[0m\u001b[0m\n\u001b[1;32m   1038\u001b[0m     \u001b[0;32mtry\u001b[0m\u001b[0;34m:\u001b[0m\u001b[0;34m\u001b[0m\u001b[0m\n\u001b[0;32m-> 1039\u001b[0;31m       \u001b[0;32mreturn\u001b[0m \u001b[0mfn\u001b[0m\u001b[0;34m(\u001b[0m\u001b[0;34m*\u001b[0m\u001b[0margs\u001b[0m\u001b[0;34m)\u001b[0m\u001b[0;34m\u001b[0m\u001b[0m\n\u001b[0m\u001b[1;32m   1040\u001b[0m     \u001b[0;32mexcept\u001b[0m \u001b[0merrors\u001b[0m\u001b[0;34m.\u001b[0m\u001b[0mOpError\u001b[0m \u001b[0;32mas\u001b[0m \u001b[0me\u001b[0m\u001b[0;34m:\u001b[0m\u001b[0;34m\u001b[0m\u001b[0m\n\u001b[1;32m   1041\u001b[0m       \u001b[0mmessage\u001b[0m \u001b[0;34m=\u001b[0m \u001b[0mcompat\u001b[0m\u001b[0;34m.\u001b[0m\u001b[0mas_text\u001b[0m\u001b[0;34m(\u001b[0m\u001b[0me\u001b[0m\u001b[0;34m.\u001b[0m\u001b[0mmessage\u001b[0m\u001b[0;34m)\u001b[0m\u001b[0;34m\u001b[0m\u001b[0m\n",
      "\u001b[0;32m/home/legu/anaconda2/lib/python2.7/site-packages/tensorflow/python/client/session.pyc\u001b[0m in \u001b[0;36m_run_fn\u001b[0;34m(session, feed_dict, fetch_list, target_list, options, run_metadata)\u001b[0m\n\u001b[1;32m   1019\u001b[0m         return tf_session.TF_Run(session, options,\n\u001b[1;32m   1020\u001b[0m                                  \u001b[0mfeed_dict\u001b[0m\u001b[0;34m,\u001b[0m \u001b[0mfetch_list\u001b[0m\u001b[0;34m,\u001b[0m \u001b[0mtarget_list\u001b[0m\u001b[0;34m,\u001b[0m\u001b[0;34m\u001b[0m\u001b[0m\n\u001b[0;32m-> 1021\u001b[0;31m                                  status, run_metadata)\n\u001b[0m\u001b[1;32m   1022\u001b[0m \u001b[0;34m\u001b[0m\u001b[0m\n\u001b[1;32m   1023\u001b[0m     \u001b[0;32mdef\u001b[0m \u001b[0m_prun_fn\u001b[0m\u001b[0;34m(\u001b[0m\u001b[0msession\u001b[0m\u001b[0;34m,\u001b[0m \u001b[0mhandle\u001b[0m\u001b[0;34m,\u001b[0m \u001b[0mfeed_dict\u001b[0m\u001b[0;34m,\u001b[0m \u001b[0mfetch_list\u001b[0m\u001b[0;34m)\u001b[0m\u001b[0;34m:\u001b[0m\u001b[0;34m\u001b[0m\u001b[0m\n",
      "\u001b[0;31mKeyboardInterrupt\u001b[0m: "
     ]
    }
   ],
   "source": [
    "from itertools import product\n",
    "\n",
    "learning_rate = [0.01, 0.01]\n",
    "training_iters = [100000,200000]\n",
    "batch_size = [100] \n",
    "sentence_size =[30,50,100]\n",
    "n_hidden = [20,50]\n",
    "n_layer = [1,2,3]\n",
    "dic= {}\n",
    "for learning_rate_v, training_iters_v,batch_size_v,sentence_size_v,n_hidden_v,n_layer_v \\\n",
    "    in product(learning_rate, training_iters ,batch_size,sentence_size,n_hidden,n_layer):\n",
    "    a,b = run_graph(learning_rate_v, training_iters_v,batch_size_v,sentence_size_v,n_hidden_v,n_layer_v)\n",
    "    dic[a]=b\n",
    "    "
   ]
  },
  {
   "cell_type": "code",
   "execution_count": 80,
   "metadata": {
    "collapsed": false
   },
   "outputs": [
    {
     "name": "stderr",
     "output_type": "stream",
     "text": [
      "/home/legu/anaconda2/lib/python2.7/site-packages/ipykernel/__main__.py:187: FutureWarning: reshape is deprecated and will raise in a subsequent release. Please use .values.reshape(...) instead\n"
     ]
    },
    {
     "name": "stdout",
     "output_type": "stream",
     "text": [
      "Optimization Finished!\n"
     ]
    },
    {
     "name": "stderr",
     "output_type": "stream",
     "text": [
      "/home/legu/anaconda2/lib/python2.7/site-packages/ipykernel/__main__.py:221: FutureWarning: reshape is deprecated and will raise in a subsequent release. Please use .values.reshape(...) instead\n"
     ]
    }
   ],
   "source": [
    "a,b = run_graph(0.01 ,100000 ,100 ,30 ,30,2)\n",
    "# learning_rate ,training_iters ,batch_size ,sentence_size  ,n_hidden,n_layer\n"
   ]
  },
  {
   "cell_type": "code",
   "execution_count": 83,
   "metadata": {
    "collapsed": false
   },
   "outputs": [
    {
     "name": "stdout",
     "output_type": "stream",
     "text": [
      "(0.76423705, 0.5474683, 0.86097677269940742, 0.86480569239189931, 0.85718160857181613)\n"
     ]
    }
   ],
   "source": [
    "print (b)"
   ]
  },
  {
   "cell_type": "raw",
   "metadata": {},
   "source": []
  },
  {
   "cell_type": "code",
   "execution_count": 78,
   "metadata": {
    "collapsed": false
   },
   "outputs": [],
   "source": [
    "'''\n",
    "A Recurrent Neural Network (LSTM) implementation example using TensorFlow library.\n",
    "This example is using the MNIST database of handwritten digits (http://yann.lecun.com/exdb/mnist/)\n",
    "Long Short Term Memory paper: http://deeplearning.cs.cmu.edu/pdfs/Hochreiter97_lstm.pdf\n",
    "Author: Aymeric Damien\n",
    "Project: https://github.com/aymericdamien/TensorFlow-Examples/\n",
    "'''\n",
    "\n",
    "from __future__ import print_function\n",
    "\n",
    "def run_graph(learning_rate_v ,training_iters_v ,batch_size_v ,sentence_size_v ,n_hidden_v, n_layer_v):\n",
    "    import tensorflow as tf\n",
    "    import sklearn as sk\n",
    "    from tensorflow.contrib import rnn\n",
    "\n",
    "    # Import MNIST data\n",
    "\n",
    "\n",
    "    '''\n",
    "    To classify images using a recurrent neural network, we consider every image\n",
    "    row as a sequence of pixels. Because MNIST image shape is 28*28px, we will then\n",
    "    handle 28 sequences of 28 steps for every sample.\n",
    "    '''\n",
    "    # Reset defaul graph.\n",
    "    tf.reset_default_graph()\n",
    "    tf.set_random_seed(42)\n",
    "\n",
    "    ######################## \n",
    "    ### MODEL PARAMETERS ###\n",
    "    ######################## \n",
    "\n",
    "    # 0.01 learning rate\n",
    "    # 200k iterations\n",
    "    # 1000 batch size\n",
    "    # 10 context window\n",
    "    # 50 hidden\n",
    "    ## 70 sentence length\n",
    "\n",
    "\n",
    "    # Parameters\n",
    "    learning_rate = learning_rate_v\n",
    "    training_iters = training_iters_v\n",
    "    batch_size = batch_size_v\n",
    "    display_step = 2\n",
    "    sentence_size = sentence_size_v\n",
    "\n",
    "    # Network Parameters\n",
    "    n_input = 1  \n",
    "    n_steps = sentence_size/n_input # timesteps\n",
    "    n_hidden = n_hidden_v # hidden layer num of features\n",
    "    n_classes = 2  \n",
    "    vocab_size = 10000\n",
    "    n_layer = n_layer_v\n",
    "\n",
    "\n",
    "    #################################\n",
    "    ### PLACEHOLDER AND VARIABLE ###\n",
    "    #################################\n",
    "\n",
    "    # tf Graph input\n",
    "    ids_ = tf.placeholder(tf.int32, [None, n_steps, n_input], name=\"ids\")\n",
    "    y = tf.placeholder(tf.int32, [None, n_classes], name=\"y\")\n",
    "\n",
    "    # Define weights\n",
    "    weights = {\n",
    "        'out': tf.Variable(tf.random_normal([n_hidden, n_classes]), name=\"W\")\n",
    "    }\n",
    "    biases = {\n",
    "        'out': tf.Variable(tf.zeros([n_classes], dtype=tf.float32), name=\"b\")\n",
    "    }\n",
    "\n",
    "\n",
    "    ######################## \n",
    "    ### DEFINE RNN MODEL ###\n",
    "    ######################## \n",
    "    def MakeFancyRNNCell(H, keep_prob, num_layers=1):\n",
    "        \"\"\"Make a fancy RNN cell.\n",
    "        Use tf.nn.rnn_cell functions to construct an LSTM cell.\n",
    "        Initialize forget_bias=0.0 for better training.\n",
    "        Args:\n",
    "          H: hidden state size\n",
    "          keep_prob: dropout keep prob (same for input and output)\n",
    "          num_layers: number of cell layers\n",
    "        Returns:\n",
    "          (tf.nn.rnn_cell.RNNCell) multi-layer LSTM cell with dropout\n",
    "        \"\"\"\n",
    "        cells = []\n",
    "        for _ in xrange(num_layers):\n",
    "            cell = tf.contrib.rnn.BasicLSTMCell(H, forget_bias=0.0)\n",
    "            cell = tf.contrib.rnn.DropoutWrapper(\n",
    "              cell, input_keep_prob=keep_prob, output_keep_prob=keep_prob)\n",
    "            cells.append(cell)\n",
    "        return tf.contrib.rnn.MultiRNNCell(cells)\n",
    "\n",
    "\n",
    "    # def RNN(x, weights, biases):\n",
    "\n",
    "    with tf.name_scope(\"Embedding_Layer\"):\n",
    "        C_ = tf.Variable(tf.random_uniform([vocab_size, n_hidden],\n",
    "                                           -1.0, 1.0), name=\"C\")\n",
    "        # embedding_lookup gives shape (batch_size, N, M)\n",
    "        x_ = tf.reshape(tf.nn.embedding_lookup(C_, ids_), \n",
    "                        [-1, n_steps, n_input*n_hidden], name=\"x\")\n",
    "\n",
    "\n",
    "    # Unstack to get a list of 'n_steps' tensors of shape (batch_size, n_input)\n",
    "\n",
    "    # x = tf.unstack(x_, n_steps, 1) ##this to be change\n",
    "\n",
    "\n",
    "    #     with tf.variable_scope(\"first_lstm\"+str(randint(0, 1000))):\n",
    "    with tf.name_scope(\"Recurrent_Layer\"):\n",
    "        # Define a lstm cell with tensorflow\n",
    "    #         lstm_cell = tf.contrib.rnn.LSTMCell(n_hidden, state_is_tuple=True)\n",
    "            lstm_cell = MakeFancyRNNCell(n_hidden, keep_prob = 1.0, num_layers=n_layer)\n",
    "        # Get lstm cell output\n",
    "            outputs, states = tf.nn.dynamic_rnn(lstm_cell, x_, dtype=tf.float32)\n",
    "\n",
    "    # Linear activation, using rnn inner loop last output\n",
    "    with tf.name_scope(\"Output_Layer\"):\n",
    "        outputs=tf.transpose(outputs,[1,0,2])\n",
    "    #     print(outputs.shape)\n",
    "    #     print(outputs[-1].shape)\n",
    "    #     print(outputs.shape[0])\n",
    "\n",
    "        last_output = tf.gather(outputs,int(outputs.shape[0])-1)\n",
    "    #     print(last_output.shape)\n",
    "        logits_ = tf.nn.softmax(tf.matmul(outputs[-1], weights['out']) + biases['out'])\n",
    "    #     print(logits_.shape)\n",
    "    #     print(weights.shape)\n",
    "    #     return logits_\n",
    "\n",
    "    # logits_ = RNN(x, weights, biases)\n",
    "    # print(logits_.shape)\n",
    "\n",
    "\n",
    "    #############################\n",
    "    ### LOSS AND OPTIMIZATION ###\n",
    "    #############################\n",
    "\n",
    "    with tf.name_scope(\"Cost_Function\"):\n",
    "        per_example_train_loss_ = tf.nn.softmax_cross_entropy_with_logits(\n",
    "            logits=logits_, labels=y, name=\"per_example_train_loss\")\n",
    "        cost = tf.reduce_mean(per_example_train_loss_, name=\"loss\")\n",
    "    with tf.name_scope(\"Training\"):\n",
    "        optimizer = tf.train.AdamOptimizer(learning_rate=learning_rate).minimize(cost)\n",
    "\n",
    "\n",
    "    ##################\n",
    "    ### EVALUATION ###\n",
    "    ################## \n",
    "    with tf.name_scope(\"Prediction\"):\n",
    "        pred_ = 1-tf.argmax(logits_,1)\n",
    "        actual_labels_ = 1-tf.argmax(y,1)\n",
    "        correct_pred_ = tf.equal(pred_, actual_labels_)\n",
    "    with tf.name_scope(\"Scoring\"):\n",
    "        accuracy_ = tf.reduce_mean(tf.cast(correct_pred_, tf.float32))\n",
    "\n",
    "\n",
    "\n",
    "    #################\n",
    "    ### RUN GRAPH ###\n",
    "    #################\n",
    "\n",
    "    # Initializing the variables\n",
    "    init = tf.global_variables_initializer()\n",
    "    \n",
    "    \n",
    "    with tf.Session() as sess:\n",
    "        sess.run(init)\n",
    "        step = 1\n",
    "        iters=[]\n",
    "        costs=[]\n",
    "        accs=[]\n",
    "        f1s=[]\n",
    "        precisions=[]\n",
    "        recalls=[]\n",
    "        iterator = PaddedDataIterator(train_df)\n",
    "\n",
    "        # Keep training until reach max iterations\n",
    "        while step * batch_size < training_iters:\n",
    "\n",
    "            ##########################\n",
    "            ### GENERATE BATCH X,Y ###\n",
    "            ##########################\n",
    "            batch_x, batch_y_1 = iterator.next_batch(batch_size,sentence_size)\n",
    "            batch_y = np.concatenate((batch_y_1.reshape([-1,1]), 1-batch_y_1.reshape([-1,1])), axis=1)\n",
    "            batch_x = batch_x.reshape((batch_size, n_steps, n_input))\n",
    "\n",
    "\n",
    "            ################\n",
    "            ### TRAINING ###\n",
    "            ################\n",
    "            out = sess.run(outputs,feed_dict={ids_: batch_x})\n",
    "\n",
    "            sess.run(optimizer, feed_dict={ids_: batch_x, y: batch_y})\n",
    "\n",
    "            #################\n",
    "            ### REPORTING ###\n",
    "            #################\n",
    "\n",
    "            if step % display_step == 0:\n",
    "                # Calculate batch accuracy, loss\n",
    "                acc,loss = sess.run([accuracy_,cost], feed_dict={ids_: batch_x, y: batch_y})\n",
    "                iters.append(step*batch_size)\n",
    "                costs.append(loss)\n",
    "                accs.append(acc)\n",
    "\n",
    "#                 print(\"Iter \" + str(step*batch_size) + \", Minibatch Loss= \" + \\\n",
    "#                       \"{:.6f}\".format(loss) + \", Training Accuracy= \" + \\\n",
    "#                       \"{:.5f}\".format(acc))\n",
    "            step += 1\n",
    "        print(\"Optimization Finished!\")\n",
    "\n",
    "        ##########################\n",
    "        ### EVALUATE WITH DEV DATA ###\n",
    "        ##########################    \n",
    "\n",
    "        batch_x_dev_1, batch_y_1_dev = PaddedDataIterator(dev_df).next_batch(len(dev_df),sentence_size)\n",
    "        batch_x_dev = batch_x_dev_1.reshape([-1,n_steps, n_input])\n",
    "        batch_y_dev = np.concatenate((batch_y_1_dev.reshape([-1,1]), 1-batch_y_1_dev.reshape([-1,1])), axis=1)\n",
    "    #     dev_acc, dev_cost = sess.run([accuracy_, cost],feed_dict={x: batch_x_dev, y: batch_y_dev})\n",
    "        dev_pred,dev_acc_labels,dev_acc, dev_cost,logits = sess.run(\n",
    "            [pred_,actual_labels_,accuracy_, cost,logits_],\n",
    "            feed_dict={ids_: batch_x_dev, y: batch_y_dev})\n",
    "        precision = sk.metrics.precision_score(dev_acc_labels, dev_pred)\n",
    "        recall = sk.metrics.recall_score(dev_acc_labels, dev_pred)\n",
    "        f1 = sk.metrics.f1_score(dev_acc_labels, dev_pred)\n",
    "    #     print (sess.run([logits_], feed_dict={x: batch_x_dev}))\n",
    "#         print (\"Dev Accuracy:\",dev_acc)\n",
    "#         print(\"Dev cost:\",dev_cost)  \n",
    "#         print(\"F1=%.5f, Precision=%.5f, Recall=%.5f\" %(f1,precision,recall))\n",
    "        return (learning_rate ,training_iters ,batch_size ,sentence_size  ,n_hidden,n_layer),\\\n",
    "                (dev_acc,dev_cost,f1,precision,recall)"
   ]
  },
  {
   "cell_type": "code",
   "execution_count": 75,
   "metadata": {
    "collapsed": true
   },
   "outputs": [],
   "source": [
    "## separate version"
   ]
  },
  {
   "cell_type": "code",
   "execution_count": null,
   "metadata": {
    "collapsed": true
   },
   "outputs": [],
   "source": [
    "import tensorflow as tf\n",
    "import sklearn as sk\n",
    "from tensorflow.contrib import rnn\n",
    "\n",
    "# Import MNIST data\n",
    "\n",
    "\n",
    "'''\n",
    "To classify images using a recurrent neural network, we consider every image\n",
    "row as a sequence of pixels. Because MNIST image shape is 28*28px, we will then\n",
    "handle 28 sequences of 28 steps for every sample.\n",
    "'''\n",
    "# Reset defaul graph.\n",
    "tf.reset_default_graph()\n",
    "tf.set_random_seed(42)\n",
    "\n",
    "######################## \n",
    "### MODEL PARAMETERS ###\n",
    "######################## \n",
    "\n",
    "# 0.01 learning rate\n",
    "# 200k iterations\n",
    "# 1000 batch size\n",
    "# 10 context window\n",
    "# 50 hidden\n",
    "## 70 sentence length\n",
    "\n",
    "\n",
    "# Parameters\n",
    "learning_rate = 0.01\n",
    "training_iters = 200000\n",
    "batch_size = 1000\n",
    "display_step = 2\n",
    "sentence_size = 70\n",
    "\n",
    "# Network Parameters\n",
    "n_input = 1\n",
    "n_steps = sentence_size/n_input # timesteps\n",
    "n_hidden = 50 # hidden layer num of features\n",
    "n_classes = 2  \n",
    "vocab_size = 10000\n",
    "n_layer = 1\n",
    "\n",
    "\n",
    "#################################\n",
    "### PLACEHOLDER AND VARIABLE ###\n",
    "#################################\n",
    "\n",
    "# tf Graph input\n",
    "ids_ = tf.placeholder(tf.int32, [None, n_steps, n_input], name=\"ids\")\n",
    "y = tf.placeholder(tf.int32, [None, n_classes], name=\"y\")\n",
    "\n",
    "# Define weights\n",
    "weights = {\n",
    "    'out': tf.Variable(tf.random_normal([n_hidden, n_classes]), name=\"W\")\n",
    "}\n",
    "biases = {\n",
    "    'out': tf.Variable(tf.zeros([n_classes], dtype=tf.float32), name=\"b\")\n",
    "}\n",
    "\n",
    "\n",
    "######################## \n",
    "### DEFINE RNN MODEL ###\n",
    "######################## \n",
    "def MakeFancyRNNCell(H, keep_prob, num_layers=1):\n",
    "    \"\"\"Make a fancy RNN cell.\n",
    "    Use tf.nn.rnn_cell functions to construct an LSTM cell.\n",
    "    Initialize forget_bias=0.0 for better training.\n",
    "    Args:\n",
    "      H: hidden state size\n",
    "      keep_prob: dropout keep prob (same for input and output)\n",
    "      num_layers: number of cell layers\n",
    "    Returns:\n",
    "      (tf.nn.rnn_cell.RNNCell) multi-layer LSTM cell with dropout\n",
    "    \"\"\"\n",
    "    cells = []\n",
    "    for _ in xrange(num_layers):\n",
    "        cell = tf.contrib.rnn.BasicLSTMCell(H, forget_bias=0.0)\n",
    "        cell = tf.contrib.rnn.DropoutWrapper(\n",
    "          cell, input_keep_prob=keep_prob, output_keep_prob=keep_prob)\n",
    "        cells.append(cell)\n",
    "    return tf.contrib.rnn.MultiRNNCell(cells)\n",
    "\n",
    "\n",
    "# def RNN(x, weights, biases):\n",
    "\n",
    "with tf.name_scope(\"Embedding_Layer\"):\n",
    "    C_ = tf.Variable(tf.random_uniform([vocab_size, n_hidden],\n",
    "                                       -1.0, 1.0), name=\"C\")\n",
    "    # embedding_lookup gives shape (batch_size, N, M)\n",
    "    x_ = tf.reshape(tf.nn.embedding_lookup(C_, ids_), \n",
    "                    [-1, n_steps, n_input*n_hidden], name=\"x\")\n",
    "\n",
    "\n",
    "# Unstack to get a list of 'n_steps' tensors of shape (batch_size, n_input)\n",
    "\n",
    "# x = tf.unstack(x_, n_steps, 1) ##this to be change\n",
    "\n",
    "\n",
    "#     with tf.variable_scope(\"first_lstm\"+str(randint(0, 1000))):\n",
    "with tf.name_scope(\"Recurrent_Layer\"):\n",
    "    # Define a lstm cell with tensorflow\n",
    "#         lstm_cell = tf.contrib.rnn.LSTMCell(n_hidden, state_is_tuple=True)\n",
    "        lstm_cell = MakeFancyRNNCell(n_hidden, keep_prob = 1.0, num_layers=n_layer)\n",
    "    # Get lstm cell output\n",
    "        outputs, states = tf.nn.dynamic_rnn(lstm_cell, x_, dtype=tf.float32)\n",
    "\n",
    "# Linear activation, using rnn inner loop last output\n",
    "with tf.name_scope(\"Output_Layer\"):\n",
    "    outputs=tf.transpose(outputs,[1,0,2])\n",
    "#     print(outputs.shape)\n",
    "#     print(outputs[-1].shape)\n",
    "#     print(outputs.shape[0])\n",
    "\n",
    "    last_output = tf.gather(outputs,int(outputs.shape[0])-1)\n",
    "#     print(last_output.shape)\n",
    "    logits_ = tf.nn.softmax(tf.matmul(outputs[-1], weights['out']) + biases['out'])\n",
    "#     print(logits_.shape)\n",
    "#     print(weights.shape)\n",
    "#     return logits_\n",
    "\n",
    "# logits_ = RNN(x, weights, biases)\n",
    "# print(logits_.shape)\n",
    "\n",
    "\n",
    "#############################\n",
    "### LOSS AND OPTIMIZATION ###\n",
    "#############################\n",
    "\n",
    "with tf.name_scope(\"Cost_Function\"):\n",
    "    per_example_train_loss_ = tf.nn.softmax_cross_entropy_with_logits(\n",
    "        logits=logits_, labels=y, name=\"per_example_train_loss\")\n",
    "    cost = tf.reduce_mean(per_example_train_loss_, name=\"loss\")\n",
    "with tf.name_scope(\"Training\"):\n",
    "    optimizer = tf.train.AdamOptimizer(learning_rate=learning_rate).minimize(cost)\n",
    "\n",
    "\n",
    "##################\n",
    "### EVALUATION ###\n",
    "################## \n",
    "with tf.name_scope(\"Prediction\"):\n",
    "    pred_ = 1-tf.argmax(logits_,1)\n",
    "    actual_labels_ = 1-tf.argmax(y,1)\n",
    "    correct_pred_ = tf.equal(pred_, actual_labels_)\n",
    "with tf.name_scope(\"Scoring\"):\n",
    "    accuracy_ = tf.reduce_mean(tf.cast(correct_pred_, tf.float32))\n",
    "\n",
    "\n",
    "\n",
    "#################\n",
    "### RUN GRAPH ###\n",
    "#################\n",
    "\n",
    "# Initializing the variables\n",
    "init = tf.global_variables_initializer()"
   ]
  },
  {
   "cell_type": "code",
   "execution_count": 73,
   "metadata": {
    "collapsed": false,
    "scrolled": true
   },
   "outputs": [
    {
     "name": "stderr",
     "output_type": "stream",
     "text": [
      "/home/legu/anaconda2/lib/python2.7/site-packages/ipykernel/__main__.py:19: FutureWarning: reshape is deprecated and will raise in a subsequent release. Please use .values.reshape(...) instead\n"
     ]
    },
    {
     "name": "stdout",
     "output_type": "stream",
     "text": [
      "Iter 2000, Minibatch Loss= 0.804599, Training Accuracy= 0.50500\n",
      "Iter 4000, Minibatch Loss= 0.786908, Training Accuracy= 0.50500\n",
      "Iter 6000, Minibatch Loss= 0.803430, Training Accuracy= 0.49600\n",
      "Iter 8000, Minibatch Loss= 0.779664, Training Accuracy= 0.51600\n",
      "Iter 10000, Minibatch Loss= 0.734331, Training Accuracy= 0.51800\n",
      "Iter 12000, Minibatch Loss= 0.685153, Training Accuracy= 0.56300\n",
      "Iter 14000, Minibatch Loss= 0.702993, Training Accuracy= 0.54800\n",
      "Iter 16000, Minibatch Loss= 0.710986, Training Accuracy= 0.52500\n",
      "Iter 18000, Minibatch Loss= 0.681480, Training Accuracy= 0.55600\n",
      "Iter 20000, Minibatch Loss= 0.677929, Training Accuracy= 0.53100\n",
      "Iter 22000, Minibatch Loss= 0.689095, Training Accuracy= 0.50900\n",
      "Iter 24000, Minibatch Loss= 0.693370, Training Accuracy= 0.49900\n",
      "Iter 26000, Minibatch Loss= 0.682270, Training Accuracy= 0.55500\n",
      "Iter 28000, Minibatch Loss= 0.686642, Training Accuracy= 0.52900\n",
      "Iter 30000, Minibatch Loss= 0.688904, Training Accuracy= 0.54500\n",
      "Iter 32000, Minibatch Loss= 0.677753, Training Accuracy= 0.57300\n",
      "Iter 34000, Minibatch Loss= 0.676564, Training Accuracy= 0.57400\n",
      "Iter 36000, Minibatch Loss= 0.682613, Training Accuracy= 0.55400\n",
      "Iter 38000, Minibatch Loss= 0.679639, Training Accuracy= 0.56500\n",
      "Iter 40000, Minibatch Loss= 0.686124, Training Accuracy= 0.56100\n",
      "Iter 42000, Minibatch Loss= 0.681127, Training Accuracy= 0.55200\n",
      "Iter 44000, Minibatch Loss= 0.668005, Training Accuracy= 0.59800\n",
      "Iter 46000, Minibatch Loss= 0.670253, Training Accuracy= 0.58300\n",
      "Iter 48000, Minibatch Loss= 0.680458, Training Accuracy= 0.54100\n",
      "Iter 50000, Minibatch Loss= 0.680075, Training Accuracy= 0.57500\n",
      "Iter 52000, Minibatch Loss= 0.680534, Training Accuracy= 0.54800\n",
      "Iter 54000, Minibatch Loss= 0.658163, Training Accuracy= 0.58800\n",
      "Iter 56000, Minibatch Loss= 0.674671, Training Accuracy= 0.55000\n",
      "Iter 58000, Minibatch Loss= 0.666321, Training Accuracy= 0.57500\n",
      "Iter 60000, Minibatch Loss= 0.674003, Training Accuracy= 0.56800\n",
      "Iter 62000, Minibatch Loss= 0.666273, Training Accuracy= 0.57900\n",
      "Iter 64000, Minibatch Loss= 0.663926, Training Accuracy= 0.57900\n",
      "Iter 66000, Minibatch Loss= 0.672643, Training Accuracy= 0.57400\n",
      "Iter 68000, Minibatch Loss= 0.662689, Training Accuracy= 0.59200\n",
      "Iter 70000, Minibatch Loss= 0.671512, Training Accuracy= 0.56500\n",
      "Iter 72000, Minibatch Loss= 0.652824, Training Accuracy= 0.60500\n",
      "Iter 74000, Minibatch Loss= 0.656963, Training Accuracy= 0.62000\n",
      "Iter 76000, Minibatch Loss= 0.667354, Training Accuracy= 0.57600\n",
      "Iter 78000, Minibatch Loss= 0.665672, Training Accuracy= 0.59300\n",
      "Iter 80000, Minibatch Loss= 0.663325, Training Accuracy= 0.59300\n",
      "Iter 82000, Minibatch Loss= 0.645862, Training Accuracy= 0.61100\n",
      "Iter 84000, Minibatch Loss= 0.648140, Training Accuracy= 0.61900\n",
      "Iter 86000, Minibatch Loss= 0.644182, Training Accuracy= 0.63400\n",
      "Iter 88000, Minibatch Loss= 0.644830, Training Accuracy= 0.63400\n",
      "Iter 90000, Minibatch Loss= 0.652806, Training Accuracy= 0.60200\n",
      "Iter 92000, Minibatch Loss= 0.656473, Training Accuracy= 0.59900\n",
      "Iter 94000, Minibatch Loss= 0.650915, Training Accuracy= 0.61000\n",
      "Iter 96000, Minibatch Loss= 0.657851, Training Accuracy= 0.59200\n",
      "Iter 98000, Minibatch Loss= 0.641286, Training Accuracy= 0.62400\n",
      "Iter 100000, Minibatch Loss= 0.651350, Training Accuracy= 0.59200\n",
      "Iter 102000, Minibatch Loss= 0.644701, Training Accuracy= 0.62200\n",
      "Iter 104000, Minibatch Loss= 0.643366, Training Accuracy= 0.61300\n",
      "Iter 106000, Minibatch Loss= 0.641712, Training Accuracy= 0.61200\n",
      "Iter 108000, Minibatch Loss= 0.650532, Training Accuracy= 0.60300\n",
      "Iter 110000, Minibatch Loss= 0.656614, Training Accuracy= 0.58900\n",
      "Iter 112000, Minibatch Loss= 0.628090, Training Accuracy= 0.62000\n",
      "Iter 114000, Minibatch Loss= 0.635394, Training Accuracy= 0.62800\n",
      "Iter 116000, Minibatch Loss= 0.626502, Training Accuracy= 0.63800\n",
      "Iter 118000, Minibatch Loss= 0.643112, Training Accuracy= 0.62200\n",
      "Iter 120000, Minibatch Loss= 0.625204, Training Accuracy= 0.63500\n",
      "Iter 122000, Minibatch Loss= 0.622542, Training Accuracy= 0.63200\n",
      "Iter 124000, Minibatch Loss= 0.621145, Training Accuracy= 0.62100\n",
      "Iter 126000, Minibatch Loss= 0.620319, Training Accuracy= 0.63800\n",
      "Iter 128000, Minibatch Loss= 0.615477, Training Accuracy= 0.66000\n",
      "Iter 130000, Minibatch Loss= 0.616288, Training Accuracy= 0.64800\n",
      "Iter 132000, Minibatch Loss= 0.621285, Training Accuracy= 0.64600\n",
      "Iter 134000, Minibatch Loss= 0.624840, Training Accuracy= 0.64400\n",
      "Iter 136000, Minibatch Loss= 0.607893, Training Accuracy= 0.65000\n",
      "Iter 138000, Minibatch Loss= 0.613687, Training Accuracy= 0.66600\n",
      "Iter 140000, Minibatch Loss= 0.617044, Training Accuracy= 0.65200\n",
      "Iter 142000, Minibatch Loss= 0.619865, Training Accuracy= 0.65200\n",
      "Iter 144000, Minibatch Loss= 0.616789, Training Accuracy= 0.62600\n",
      "Iter 146000, Minibatch Loss= 0.610368, Training Accuracy= 0.64300\n",
      "Iter 148000, Minibatch Loss= 0.624464, Training Accuracy= 0.63400\n",
      "Iter 150000, Minibatch Loss= 0.616011, Training Accuracy= 0.64400\n",
      "Iter 152000, Minibatch Loss= 0.609702, Training Accuracy= 0.66900\n",
      "Iter 154000, Minibatch Loss= 0.613759, Training Accuracy= 0.65900\n",
      "Iter 156000, Minibatch Loss= 0.612602, Training Accuracy= 0.63800\n",
      "Iter 158000, Minibatch Loss= 0.620198, Training Accuracy= 0.64700\n",
      "Iter 160000, Minibatch Loss= 0.597444, Training Accuracy= 0.67300\n",
      "Iter 162000, Minibatch Loss= 0.605944, Training Accuracy= 0.66700\n",
      "Iter 164000, Minibatch Loss= 0.603482, Training Accuracy= 0.67700\n",
      "Iter 166000, Minibatch Loss= 0.607580, Training Accuracy= 0.65000\n",
      "Iter 168000, Minibatch Loss= 0.610352, Training Accuracy= 0.67600\n",
      "Iter 170000, Minibatch Loss= 0.593802, Training Accuracy= 0.69900\n",
      "Iter 172000, Minibatch Loss= 0.607309, Training Accuracy= 0.66100\n",
      "Iter 174000, Minibatch Loss= 0.593850, Training Accuracy= 0.70500\n",
      "Iter 176000, Minibatch Loss= 0.601882, Training Accuracy= 0.68000\n",
      "Iter 178000, Minibatch Loss= 0.605120, Training Accuracy= 0.67800\n",
      "Iter 180000, Minibatch Loss= 0.580023, Training Accuracy= 0.70200\n",
      "Iter 182000, Minibatch Loss= 0.595152, Training Accuracy= 0.66800\n",
      "Iter 184000, Minibatch Loss= 0.593773, Training Accuracy= 0.69300\n",
      "Iter 186000, Minibatch Loss= 0.590698, Training Accuracy= 0.69200\n",
      "Iter 188000, Minibatch Loss= 0.591427, Training Accuracy= 0.69100\n",
      "Iter 190000, Minibatch Loss= 0.580156, Training Accuracy= 0.71600\n",
      "Iter 192000, Minibatch Loss= 0.586039, Training Accuracy= 0.70000\n",
      "Iter 194000, Minibatch Loss= 0.582152, Training Accuracy= 0.68900\n",
      "Iter 196000, Minibatch Loss= 0.582609, Training Accuracy= 0.71000\n",
      "Iter 198000, Minibatch Loss= 0.578628, Training Accuracy= 0.71400\n",
      "Optimization Finished!\n"
     ]
    },
    {
     "name": "stderr",
     "output_type": "stream",
     "text": [
      "/home/legu/anaconda2/lib/python2.7/site-packages/ipykernel/__main__.py:59: FutureWarning: reshape is deprecated and will raise in a subsequent release. Please use .values.reshape(...) instead\n"
     ]
    },
    {
     "name": "stdout",
     "output_type": "stream",
     "text": [
      "Dev Accuracy: 0.652189\n",
      "Dev cost: 0.641149\n",
      "F1=0.77287, Precision=0.87067, Recall=0.69483\n"
     ]
    }
   ],
   "source": [
    "with tf.Session() as sess:\n",
    "    sess.run(init)\n",
    "    step = 1\n",
    "    iters=[]\n",
    "    costs=[]\n",
    "    accs=[]\n",
    "    f1s=[]\n",
    "    precisions=[]\n",
    "    recalls=[]\n",
    "    iterator = PaddedDataIterator(train_df)\n",
    "\n",
    "    # Keep training until reach max iterations\n",
    "    while step * batch_size < training_iters:\n",
    "        \n",
    "        ##########################\n",
    "        ### GENERATE BATCH X,Y ###\n",
    "        ##########################\n",
    "        batch_x, batch_y_1 = iterator.next_batch(batch_size,sentence_size)\n",
    "        batch_y = np.concatenate((batch_y_1.reshape([-1,1]), 1-batch_y_1.reshape([-1,1])), axis=1)\n",
    "        batch_x = batch_x.reshape((batch_size, n_steps, n_input))\n",
    "        \n",
    "        \n",
    "        ################\n",
    "        ### TRAINING ###\n",
    "        ################\n",
    "        out = sess.run(outputs,feed_dict={ids_: batch_x})\n",
    "        \n",
    "        sess.run(optimizer, feed_dict={ids_: batch_x, y: batch_y})\n",
    "        \n",
    "        #################\n",
    "        ### REPORTING ###\n",
    "        #################\n",
    "        \n",
    "        if step % display_step == 0:\n",
    "            # Calculate batch accuracy, loss\n",
    "            acc,loss = sess.run([accuracy_,cost], feed_dict={ids_: batch_x, y: batch_y})\n",
    "#             precision = sk.metrics.precision_score(acc_labels, preds)\n",
    "#             precisions.append(precision)\n",
    "#             recall = sk.metrics.recall_score(acc_labels, preds)\n",
    "#             recalls.append(recall)\n",
    "#             f1 = sk.metrics.f1_score(acc_labels, preds)\n",
    "#             f1s.append(f1)\n",
    "            iters.append(step*batch_size)\n",
    "            costs.append(loss)\n",
    "            accs.append(acc)\n",
    "#             print( sess.run(pred, feed_dict={x: batch_x, y: batch_y}))\n",
    "#             print(\"Iter: %s, Minibatch Loss=%.6f, Training Accuracy=%.5f, F1=%.5f, Precision=%.5f, Recall=%.5f\" %(\n",
    "#                 str(step*batch_size),loss,acc,f1,precision,recall))\n",
    "            print(\"Iter \" + str(step*batch_size) + \", Minibatch Loss= \" + \\\n",
    "                  \"{:.6f}\".format(loss) + \", Training Accuracy= \" + \\\n",
    "                  \"{:.5f}\".format(acc))\n",
    "        step += 1\n",
    "    print(\"Optimization Finished!\")\n",
    "    \n",
    "    ##########################\n",
    "    ### EVALUATE WITH DEV DATA ###\n",
    "    ##########################    \n",
    "    \n",
    "    batch_x_dev_1, batch_y_1_dev = PaddedDataIterator(dev_df).next_batch(len(dev_df),sentence_size)\n",
    "    batch_x_dev = batch_x_dev_1.reshape([-1,n_steps, n_input])\n",
    "    batch_y_dev = np.concatenate((batch_y_1_dev.reshape([-1,1]), 1-batch_y_1_dev.reshape([-1,1])), axis=1)\n",
    "#     dev_acc, dev_cost = sess.run([accuracy_, cost],feed_dict={x: batch_x_dev, y: batch_y_dev})\n",
    "    dev_pred,dev_acc_labels,dev_acc, dev_cost,logits = sess.run(\n",
    "        [pred_,actual_labels_,accuracy_, cost,logits_],\n",
    "        feed_dict={ids_: batch_x_dev, y: batch_y_dev})\n",
    "    precision = sk.metrics.precision_score(dev_acc_labels, dev_pred)\n",
    "    recall = sk.metrics.recall_score(dev_acc_labels, dev_pred)\n",
    "    f1 = sk.metrics.f1_score(dev_acc_labels, dev_pred)\n",
    "#     print (sess.run([logits_], feed_dict={x: batch_x_dev}))\n",
    "    print (\"Dev Accuracy:\",dev_acc)\n",
    "    print(\"Dev cost:\",dev_cost)  \n",
    "    print(\"F1=%.5f, Precision=%.5f, Recall=%.5f\" %(f1,precision,recall))"
   ]
  },
  {
   "cell_type": "code",
   "execution_count": 69,
   "metadata": {
    "collapsed": false
   },
   "outputs": [
    {
     "data": {
      "text/plain": [
       "array([[  5.19775925e-03,   9.94802237e-01],\n",
       "       [  9.99963284e-01,   3.67633729e-05],\n",
       "       [  5.49269393e-02,   9.45073009e-01],\n",
       "       ..., \n",
       "       [  2.98061371e-01,   7.01938689e-01],\n",
       "       [  4.35139269e-01,   5.64860761e-01],\n",
       "       [  4.17925984e-01,   5.82074046e-01]], dtype=float32)"
      ]
     },
     "execution_count": 69,
     "metadata": {},
     "output_type": "execute_result"
    }
   ],
   "source": [
    "logits[:,:]"
   ]
  },
  {
   "cell_type": "code",
   "execution_count": 74,
   "metadata": {
    "collapsed": false
   },
   "outputs": [
    {
     "data": {
      "image/png": "[encoded data removed]",
      "text/plain": [
       "<matplotlib.figure.Figure at 0x7ff958370490>"
      ]
     },
     "metadata": {},
     "output_type": "display_data"
    },
    {
     "data": {
      "image/png": "[encoded data removed]",
      "text/plain": [
       "<matplotlib.figure.Figure at 0x7ff958370190>"
      ]
     },
     "metadata": {},
     "output_type": "display_data"
    },
    {
     "data": {
      "image/png": "[encoded data removed]",
      "text/plain": [
       "<matplotlib.figure.Figure at 0x7ff973013050>"
      ]
     },
     "metadata": {},
     "output_type": "display_data"
    },
    {
     "data": {
      "image/png": "[encoded data removed]",
      "text/plain": [
       "<matplotlib.figure.Figure at 0x7ff97ef27410>"
      ]
     },
     "metadata": {},
     "output_type": "display_data"
    },
    {
     "data": {
      "image/png": "[encoded data removed]",
      "text/plain": [
       "<matplotlib.figure.Figure at 0x7ff97ef56c10>"
      ]
     },
     "metadata": {},
     "output_type": "display_data"
    },
    {
     "name": "stdout",
     "output_type": "stream",
     "text": [
      "('Dev Accuracy:', 0.65218896)\n",
      "('Dev cost:', 0.64114916)\n",
      "Dev F1=0.77287, Precision=0.87067, Recall=0.69483\n"
     ]
    }
   ],
   "source": [
    "plt.hist(dev_pred)\n",
    "plt.title('dev pred data')\n",
    "plt.show()\n",
    "\n",
    "plt.hist(batch_y_1_dev)\n",
    "plt.title('dev true data')\n",
    "plt.show()\n",
    "\n",
    "\n",
    "plt.scatter(logits[:,0],logits[:,1])\n",
    "plt.title('dev logits data')\n",
    "plt.show()\n",
    "\n",
    "visualizeTraining(iters, costs, accs)"
   ]
  },
  {
   "cell_type": "code",
   "execution_count": null,
   "metadata": {
    "collapsed": true
   },
   "outputs": [],
   "source": []
  },
  {
   "cell_type": "code",
   "execution_count": 32,
   "metadata": {
    "collapsed": false
   },
   "outputs": [],
   "source": [
    "from __future__ import print_function\n",
    "def graph_tuning(learning_rate_v ,training_iters_v ,batch_size_v ,sentence_size_v ,n_input_v ,n_hidden_v):\n",
    "    '''\n",
    "    A Recurrent Neural Network (LSTM) implementation example using TensorFlow library.\n",
    "    This example is using the MNIST database of handwritten digits (http://yann.lecun.com/exdb/mnist/)\n",
    "    Long Short Term Memory paper: http://deeplearning.cs.cmu.edu/pdfs/Hochreiter97_lstm.pdf\n",
    "    Author: Aymeric Damien\n",
    "    Project: https://github.com/aymericdamien/TensorFlow-Examples/\n",
    "    '''\n",
    "\n",
    "    \n",
    "\n",
    "    import tensorflow as tf\n",
    "    import sklearn as sk\n",
    "    from tensorflow.contrib import rnn\n",
    "\n",
    "    # Import MNIST data\n",
    "\n",
    "\n",
    "    '''\n",
    "    To classify images using a recurrent neural network, we consider every image\n",
    "    row as a sequence of pixels. Because MNIST image shape is 28*28px, we will then\n",
    "    handle 28 sequences of 28 steps for every sample.\n",
    "    '''\n",
    "    ######################## \n",
    "    ### MODEL PARAMETERS ###\n",
    "    ######################## \n",
    "\n",
    "\n",
    "    # Parameters\n",
    "    learning_rate = learning_rate_v\n",
    "    training_iters = training_iters_v\n",
    "    batch_size = batch_size_v\n",
    "    display_step = 2\n",
    "    sentence_size = sentence_size_v\n",
    "\n",
    "    # Network Parameters\n",
    "    n_input = n_input_v  \n",
    "    n_steps = sentence_size/n_input # timesteps\n",
    "    n_hidden = n_hidden_v # hidden layer num of features\n",
    "    n_classes = 2  \n",
    "    vocab_size = 10000\n",
    "\n",
    "\n",
    "    #################################\n",
    "    ### PLACEHOLDER AND VARIABLE ###\n",
    "    #################################\n",
    "\n",
    "    # tf Graph input\n",
    "    x = tf.placeholder(\"int32\", [None, n_steps, n_input])\n",
    "    y = tf.placeholder(\"int32\", [None, n_classes])\n",
    "\n",
    "    # Define weights\n",
    "    weights = {\n",
    "        'out': tf.Variable(tf.random_normal([n_hidden, n_classes]))\n",
    "    }\n",
    "    biases = {\n",
    "        'out': tf.Variable(tf.random_normal([n_classes]))\n",
    "    }\n",
    "\n",
    "\n",
    "    ######################## \n",
    "    ### DEFINE RNN MODEL ###\n",
    "    ######################## \n",
    "    def MakeFancyRNNCell(H, keep_prob, num_layers=2):\n",
    "        \"\"\"Make a fancy RNN cell.\n",
    "        Use tf.nn.rnn_cell functions to construct an LSTM cell.\n",
    "        Initialize forget_bias=0.0 for better training.\n",
    "        Args:\n",
    "          H: hidden state size\n",
    "          keep_prob: dropout keep prob (same for input and output)\n",
    "          num_layers: number of cell layers\n",
    "        Returns:\n",
    "          (tf.nn.rnn_cell.RNNCell) multi-layer LSTM cell with dropout\n",
    "        \"\"\"\n",
    "        cells = []\n",
    "        for _ in xrange(num_layers):\n",
    "            cell = tf.contrib.rnn.BasicLSTMCell(H, forget_bias=0.0)\n",
    "            cell = tf.contrib.rnn.DropoutWrapper(\n",
    "              cell, input_keep_prob=keep_prob, output_keep_prob=keep_prob)\n",
    "            cells.append(cell)\n",
    "        return tf.contrib.rnn.MultiRNNCell(cells)\n",
    "\n",
    "\n",
    "    def RNN(x, weights, biases):\n",
    "\n",
    "        with tf.name_scope(\"Embedding_Layer\"):\n",
    "            C_ = tf.Variable(tf.random_uniform([vocab_size, n_hidden], -1.0, 1.0), name=\"C\")\n",
    "            # embedding_lookup gives shape (batch_size, N, M)\n",
    "            test = tf.nn.embedding_lookup(C_, x)\n",
    "#             print(test.shape)\n",
    "            x_ = tf.reshape(tf.nn.embedding_lookup(C_, x), \n",
    "                            [-1, n_steps, n_input*n_hidden], name=\"x\")\n",
    "#             print(x_.shape)\n",
    "\n",
    "        # Unstack to get a list of 'n_steps' tensors of shape (batch_size, n_input)\n",
    "#         print(x.shape)\n",
    "        x = tf.unstack(x_, n_steps, 1)\n",
    "#         print(len(x))\n",
    "#         print(x[0].shape)\n",
    "\n",
    "        with tf.variable_scope(\"first_lstm\"+str(np.random.randint(0, 1000))):\n",
    "            # Define a lstm cell with tensorflow\n",
    "    #         lstm_cell = rnn.BasicLSTMCell(n_hidden, forget_bias=1.0)\n",
    "            lstm_cell = MakeFancyRNNCell(n_hidden, keep_prob = 1.0, num_layers=1)\n",
    "            # Get lstm cell output\n",
    "            outputs, states = rnn.static_rnn(lstm_cell, x, dtype=tf.float32)\n",
    "\n",
    "        # Linear activation, using rnn inner loop last output\n",
    "        return tf.matmul(outputs[-1], weights['out']) + biases['out']\n",
    "\n",
    "    logits_ = RNN(x, weights, biases)\n",
    "\n",
    "\n",
    "\n",
    "    #############################\n",
    "    ### LOSS AND OPTIMIZATION ###\n",
    "    #############################\n",
    "\n",
    "    cost = tf.reduce_mean(tf.nn.softmax_cross_entropy_with_logits(logits=logits_, labels=y))\n",
    "    # optimizer = tf.train.AdamOptimizer(learning_rate=learning_rate).minimize(cost)\n",
    "    optimizer = tf.train.GradientDescentOptimizer(learning_rate=learning_rate).minimize(cost)\n",
    "\n",
    "\n",
    "\n",
    "\n",
    "    ##################\n",
    "    ### EVALUATION ###\n",
    "    ################## \n",
    "    pred_ = 1-tf.argmax(logits_,1)\n",
    "    actual_labels_ = 1-tf.argmax(y,1)\n",
    "    correct_pred_ = tf.equal(pred_, actual_labels_)\n",
    "    # correct_pred_ = tf.equal(tf.argmax(logits_,1), tf.argmax(y,1))\n",
    "    accuracy_ = tf.reduce_mean(tf.cast(correct_pred_, tf.float32))\n",
    "\n",
    "\n",
    "\n",
    "    #################\n",
    "    ### RUN GRAPH ###\n",
    "    #################\n",
    "\n",
    "    # Initializing the variables\n",
    "    init = tf.global_variables_initializer()\n",
    "\n",
    "    with tf.Session() as sess:\n",
    "        sess.run(init)\n",
    "        step = 1\n",
    "        iters=[]\n",
    "        costs=[]\n",
    "        accs=[]\n",
    "        f1s=[]\n",
    "        precisions=[]\n",
    "        recalls=[]\n",
    "        iterator = PaddedDataIterator(train_df)\n",
    "\n",
    "        # Keep training until reach max iterations\n",
    "        while step * batch_size < training_iters:\n",
    "\n",
    "            ##########################\n",
    "            ### GENERATE BATCH X,Y ###\n",
    "            ##########################\n",
    "            batch_x, batch_y_1 = iterator.next_batch(batch_size,sentence_size)\n",
    "            batch_y = np.concatenate((batch_y_1.reshape([-1,1]), 1-batch_y_1.reshape([-1,1])), axis=1)\n",
    "            batch_x = batch_x.reshape((batch_size, n_steps, n_input))\n",
    "\n",
    "\n",
    "            ################\n",
    "            ### TRAINING ###\n",
    "            ################\n",
    "            sess.run(optimizer, feed_dict={x: batch_x, y: batch_y})\n",
    "\n",
    "            #################\n",
    "            ### REPORTING ###\n",
    "            #################\n",
    "\n",
    "            if step % display_step == 0:\n",
    "                # Calculate batch accuracy, loss\n",
    "                acc,loss = sess.run([accuracy_,cost], feed_dict={x: batch_x, y: batch_y})\n",
    "    #             precision = sk.metrics.precision_score(acc_labels, preds)\n",
    "    #             precisions.append(precision)\n",
    "    #             recall = sk.metrics.recall_score(acc_labels, preds)\n",
    "    #             recalls.append(recall)\n",
    "    #             f1 = sk.metrics.f1_score(acc_labels, preds)\n",
    "    #             f1s.append(f1)\n",
    "                iters.append(step*batch_size)\n",
    "                costs.append(loss)\n",
    "                accs.append(acc)\n",
    "    #             print( sess.run(pred, feed_dict={x: batch_x, y: batch_y}))\n",
    "    #             print(\"Iter: %s, Minibatch Loss=%.6f, Training Accuracy=%.5f, F1=%.5f, Precision=%.5f, Recall=%.5f\" %(\n",
    "    #                 str(step*batch_size),loss,acc,f1,precision,recall))\n",
    "#                 print(\"Iter \" + str(step*batch_size) + \", Minibatch Loss= \" + \\\n",
    "#                       \"{:.6f}\".format(loss) + \", Training Accuracy= \" + \\\n",
    "#                       \"{:.5f}\".format(acc))\n",
    "            step += 1\n",
    "        print(\"Optimization Finished!\")\n",
    "\n",
    "        ##########################\n",
    "        ### EVALUATE WITH DEV DATA ###\n",
    "        ##########################    \n",
    "\n",
    "        batch_x_dev_1, batch_y_1_dev = PaddedDataIterator(dev_df).pad_sentences(len(dev_df),sentence_size)\n",
    "        batch_x_dev = batch_x_dev_1.reshape([-1,n_steps, n_input])\n",
    "        batch_y_dev = np.concatenate((batch_y_1_dev.reshape([-1,1]), 1-batch_y_1_dev.reshape([-1,1])), axis=1)\n",
    "    #     dev_acc, dev_cost = sess.run([accuracy_, cost],feed_dict={x: batch_x_dev, y: batch_y_dev})\n",
    "        dev_pred,dev_acc_labels,dev_acc, dev_cost,logits = sess.run([pred_,actual_labels_,accuracy_, cost,logits_],\n",
    "                                                             feed_dict={x: batch_x_dev, y: batch_y_dev})\n",
    "        precision = sk.metrics.precision_score(dev_acc_labels, dev_pred)\n",
    "        recall = sk.metrics.recall_score(dev_acc_labels, dev_pred)\n",
    "        f1 = sk.metrics.f1_score(dev_acc_labels, dev_pred)\n",
    "    #     print (sess.run([logits_], feed_dict={x: batch_x_dev}))\n",
    "#         print (\"learning_rate %0.3f,training_iters %i,batch_size %i,sentence_size %i ,n_input %i,n_hidden %i\"%(learning_rate ,training_iters ,batch_size ,sentence_size ,n_input ,n_hidden))\n",
    "#         print (\"Dev Accuracy:\",dev_acc)\n",
    "#         print(\"Dev cost:\",dev_cost)  \n",
    "#         print(\"F1=%.5f, Precision=%.5f, Recall=%.5f\" %(f1,precision,recall))\n",
    "        return (learning_rate ,training_iters ,batch_size ,sentence_size ,n_input ,n_hidden),\\\n",
    "                (dev_acc,dev_cost,f1,precision,recall)"
   ]
  },
  {
   "cell_type": "code",
   "execution_count": 56,
   "metadata": {
    "collapsed": true
   },
   "outputs": [],
   "source": [
    "tf.reset_default_graph()"
   ]
  },
  {
   "cell_type": "code",
   "execution_count": 53,
   "metadata": {
    "collapsed": false
   },
   "outputs": [
    {
     "name": "stderr",
     "output_type": "stream",
     "text": [
      "/home/legu/anaconda2/lib/python2.7/site-packages/ipykernel/__main__.py:163: FutureWarning: reshape is deprecated and will raise in a subsequent release. Please use .values.reshape(...) instead\n"
     ]
    },
    {
     "name": "stdout",
     "output_type": "stream",
     "text": [
      "Optimization Finished!\n"
     ]
    },
    {
     "name": "stderr",
     "output_type": "stream",
     "text": [
      "/home/legu/anaconda2/lib/python2.7/site-packages/ipykernel/__main__.py:203: FutureWarning: reshape is deprecated and will raise in a subsequent release. Please use .values.reshape(...) instead\n"
     ]
    },
    {
     "data": {
      "text/plain": [
       "((0.01, 10000, 100, 30, 10, 20),\n",
       " (0.57629663,\n",
       "  0.71255732,\n",
       "  0.70627802690582953,\n",
       "  0.8621700879765396,\n",
       "  0.59812830598128308))"
      ]
     },
     "execution_count": 53,
     "metadata": {},
     "output_type": "execute_result"
    }
   ],
   "source": [
    "graph_tuning(0.01 ,10000 ,100 ,30 ,10 ,20)"
   ]
  },
  {
   "cell_type": "code",
   "execution_count": 58,
   "metadata": {
    "collapsed": true
   },
   "outputs": [],
   "source": [
    "\n",
    "summary_writer = tf.summary.FileWriter(\"tf_graph\", \n",
    "                                       tf.get_default_graph())"
   ]
  },
  {
   "cell_type": "code",
   "execution_count": 55,
   "metadata": {
    "collapsed": false
   },
   "outputs": [
    {
     "name": "stdout",
     "output_type": "stream",
     "text": [
      "events.out.tfevents.1502677645.w266  events.out.tfevents.1502677726.w266\r\n",
      "events.out.tfevents.1502677686.w266  events.out.tfevents.1502677757.w266\r\n"
     ]
    }
   ],
   "source": [
    "!ls tf_graph"
   ]
  },
  {
   "cell_type": "markdown",
   "metadata": {},
   "source": [
    "## Tuning"
   ]
  },
  {
   "cell_type": "code",
   "execution_count": null,
   "metadata": {
    "collapsed": false,
    "scrolled": true
   },
   "outputs": [
    {
     "name": "stderr",
     "output_type": "stream",
     "text": [
      "/home/legu/anaconda2/lib/python2.7/site-packages/ipykernel/__main__.py:163: FutureWarning: reshape is deprecated and will raise in a subsequent release. Please use .values.reshape(...) instead\n"
     ]
    },
    {
     "name": "stdout",
     "output_type": "stream",
     "text": [
      "Optimization Finished!\n"
     ]
    },
    {
     "name": "stderr",
     "output_type": "stream",
     "text": [
      "/home/legu/anaconda2/lib/python2.7/site-packages/ipykernel/__main__.py:203: FutureWarning: reshape is deprecated and will raise in a subsequent release. Please use .values.reshape(...) instead\n"
     ]
    },
    {
     "name": "stdout",
     "output_type": "stream",
     "text": [
      "Optimization Finished!\n",
      "Optimization Finished!\n",
      "Optimization Finished!\n",
      "Optimization Finished!\n",
      "Optimization Finished!\n",
      "Optimization Finished!\n",
      "Optimization Finished!\n",
      "Optimization Finished!\n",
      "Optimization Finished!\n",
      "Optimization Finished!\n",
      "Optimization Finished!\n",
      "Optimization Finished!\n",
      "Optimization Finished!\n",
      "Optimization Finished!\n",
      "Optimization Finished!\n",
      "Optimization Finished!\n",
      "Optimization Finished!\n",
      "Optimization Finished!\n"
     ]
    }
   ],
   "source": [
    "learning_rate = [0.001, 0.01]\n",
    "training_iters = [20000]\n",
    "batch_size = [10] \n",
    "sentence_size =[30,90]\n",
    "n_input = [2,3,10]\n",
    "n_hidden = [20,50]\n",
    "dic= {}\n",
    "for learning_rate_v in learning_rate:\n",
    "    for  training_iters_v in training_iters:\n",
    "        for batch_size_v in batch_size:\n",
    "            for sentence_size_v in sentence_size:\n",
    "                for n_input_v in n_input:\n",
    "                    for n_hidden_v in n_hidden:\n",
    "                        a,b=graph_tuning(learning_rate_v ,training_iters_v ,batch_size_v ,sentence_size_v ,n_input_v ,n_hidden_v)\n",
    "                        dic[a]=b"
   ]
  },
  {
   "cell_type": "code",
   "execution_count": null,
   "metadata": {
    "collapsed": false
   },
   "outputs": [],
   "source": [
    "dic"
   ]
  },
  {
   "cell_type": "code",
   "execution_count": null,
   "metadata": {
    "collapsed": true
   },
   "outputs": [],
   "source": [
    "\n",
    "import json\n",
    " \n",
    "dict = {'Python' : '.py', 'C++' : '.cpp', 'Java' : '.java'}\n",
    " \n",
    "json = json.dumps(dict)\n",
    "f = open(\"dict.json\",\"w\")\n",
    "f.write(json)\n",
    "f.close()"
   ]
  },
  {
   "cell_type": "code",
   "execution_count": 79,
   "metadata": {
    "collapsed": false
   },
   "outputs": [
    {
     "data": {
      "text/plain": [
       "{(0.001, 10000, 10, 30, 2, 10): (0.61129719,\n",
       "  0.65166932,\n",
       "  0.73835627089650879,\n",
       "  0.86516034985422741,\n",
       "  0.64397124643971249),\n",
       " (0.01, 10000, 10, 30, 2, 10): (0.52362251,\n",
       "  0.69635028,\n",
       "  0.65292038377377537,\n",
       "  0.86027944111776444,\n",
       "  0.52610877526108779),\n",
       " (0.1, 10000, 10, 30, 2, 10): (0.67621577,\n",
       "  0.66250747,\n",
       "  0.79394251268102622,\n",
       "  0.8667736757624398,\n",
       "  0.73240200732402005)}"
      ]
     },
     "execution_count": 79,
     "metadata": {},
     "output_type": "execute_result"
    }
   ],
   "source": [
    "dic"
   ]
  },
  {
   "cell_type": "code",
   "execution_count": 46,
   "metadata": {
    "collapsed": false
   },
   "outputs": [
    {
     "name": "stderr",
     "output_type": "stream",
     "text": [
      "/home/legu/anaconda2/lib/python2.7/site-packages/ipykernel/__main__.py:163: FutureWarning: reshape is deprecated and will raise in a subsequent release. Please use .values.reshape(...) instead\n"
     ]
    },
    {
     "name": "stdout",
     "output_type": "stream",
     "text": [
      "Optimization Finished!\n",
      "learning_rate 0.010,training_iters 10000,batch_size 100,sentence_size 30 ,n_input 10,n_hidden 20\n",
      "Dev Accuracy: 0.514612\n",
      "Dev cost: 0.753374\n",
      "F1=0.64110, Precision=0.86574, Recall=0.50902\n"
     ]
    },
    {
     "name": "stderr",
     "output_type": "stream",
     "text": [
      "/home/legu/anaconda2/lib/python2.7/site-packages/ipykernel/__main__.py:203: FutureWarning: reshape is deprecated and will raise in a subsequent release. Please use .values.reshape(...) instead\n"
     ]
    }
   ],
   "source": [
    "\n",
    "# graph_tuning(learning_rate_v ,training_iters_v ,batch_size_v ,sentence_size_v ,n_input_v ,n_hidden_v)\n",
    "graph_tuning(0.01 ,10000 ,100 ,30 ,10 ,20)"
   ]
  },
  {
   "cell_type": "code",
   "execution_count": 57,
   "metadata": {
    "collapsed": false,
    "scrolled": true
   },
   "outputs": [
    {
     "name": "stderr",
     "output_type": "stream",
     "text": [
      "/home/legu/anaconda2/lib/python2.7/site-packages/ipykernel/__main__.py:158: FutureWarning: reshape is deprecated and will raise in a subsequent release. Please use .values.reshape(...) instead\n"
     ]
    },
    {
     "name": "stdout",
     "output_type": "stream",
     "text": [
      "Iter 200, Minibatch Loss= 0.617770, Training Accuracy= 0.72000\n",
      "Iter 400, Minibatch Loss= 0.691370, Training Accuracy= 0.60000\n",
      "Iter 600, Minibatch Loss= 0.626899, Training Accuracy= 0.65000\n",
      "Iter 800, Minibatch Loss= 0.779797, Training Accuracy= 0.47000\n",
      "Iter 1000, Minibatch Loss= 0.725306, Training Accuracy= 0.47000\n",
      "Iter 1200, Minibatch Loss= 0.752246, Training Accuracy= 0.51000\n",
      "Iter 1400, Minibatch Loss= 0.763568, Training Accuracy= 0.52000\n",
      "Iter 1600, Minibatch Loss= 0.708530, Training Accuracy= 0.53000\n",
      "Iter 1800, Minibatch Loss= 0.701212, Training Accuracy= 0.55000\n",
      "Iter 2000, Minibatch Loss= 0.676506, Training Accuracy= 0.61000\n",
      "Iter 2200, Minibatch Loss= 0.673566, Training Accuracy= 0.61000\n",
      "Iter 2400, Minibatch Loss= 0.723346, Training Accuracy= 0.54000\n",
      "Iter 2600, Minibatch Loss= 0.695022, Training Accuracy= 0.53000\n",
      "Iter 2800, Minibatch Loss= 0.724142, Training Accuracy= 0.52000\n",
      "Iter 3000, Minibatch Loss= 0.722733, Training Accuracy= 0.53000\n",
      "Iter 3200, Minibatch Loss= 0.663004, Training Accuracy= 0.63000\n",
      "Iter 3400, Minibatch Loss= 0.713692, Training Accuracy= 0.57000\n",
      "Iter 3600, Minibatch Loss= 0.679403, Training Accuracy= 0.55000\n",
      "Iter 3800, Minibatch Loss= 0.692581, Training Accuracy= 0.58000\n",
      "Iter 4000, Minibatch Loss= 0.688208, Training Accuracy= 0.54000\n",
      "Iter 4200, Minibatch Loss= 0.693918, Training Accuracy= 0.59000\n",
      "Iter 4400, Minibatch Loss= 0.703947, Training Accuracy= 0.53000\n",
      "Iter 4600, Minibatch Loss= 0.709156, Training Accuracy= 0.48000\n",
      "Iter 4800, Minibatch Loss= 0.690307, Training Accuracy= 0.49000\n",
      "Iter 5000, Minibatch Loss= 0.701095, Training Accuracy= 0.50000\n",
      "Iter 5200, Minibatch Loss= 0.701827, Training Accuracy= 0.51000\n",
      "Iter 5400, Minibatch Loss= 0.687654, Training Accuracy= 0.56000\n",
      "Iter 5600, Minibatch Loss= 0.689514, Training Accuracy= 0.59000\n",
      "Iter 5800, Minibatch Loss= 0.687721, Training Accuracy= 0.57000\n",
      "Iter 6000, Minibatch Loss= 0.674251, Training Accuracy= 0.56000\n",
      "Iter 6200, Minibatch Loss= 0.682907, Training Accuracy= 0.60000\n",
      "Iter 6400, Minibatch Loss= 0.670863, Training Accuracy= 0.56000\n",
      "Iter 6600, Minibatch Loss= 0.702729, Training Accuracy= 0.48000\n",
      "Iter 6800, Minibatch Loss= 0.699759, Training Accuracy= 0.46000\n",
      "Iter 7000, Minibatch Loss= 0.684452, Training Accuracy= 0.55000\n",
      "Iter 7200, Minibatch Loss= 0.679021, Training Accuracy= 0.62000\n",
      "Iter 7400, Minibatch Loss= 0.716582, Training Accuracy= 0.52000\n",
      "Iter 7600, Minibatch Loss= 0.698886, Training Accuracy= 0.53000\n",
      "Iter 7800, Minibatch Loss= 0.680241, Training Accuracy= 0.58000\n",
      "Iter 8000, Minibatch Loss= 0.681734, Training Accuracy= 0.61000\n",
      "Iter 8200, Minibatch Loss= 0.690236, Training Accuracy= 0.57000\n",
      "Iter 8400, Minibatch Loss= 0.691123, Training Accuracy= 0.52000\n",
      "Iter 8600, Minibatch Loss= 0.681553, Training Accuracy= 0.58000\n",
      "Iter 8800, Minibatch Loss= 0.690613, Training Accuracy= 0.53000\n",
      "Iter 9000, Minibatch Loss= 0.682944, Training Accuracy= 0.56000\n",
      "Iter 9200, Minibatch Loss= 0.693022, Training Accuracy= 0.56000\n",
      "Iter 9400, Minibatch Loss= 0.687605, Training Accuracy= 0.56000\n",
      "Iter 9600, Minibatch Loss= 0.704127, Training Accuracy= 0.49000\n",
      "Iter 9800, Minibatch Loss= 0.689921, Training Accuracy= 0.54000\n",
      "Iter 10000, Minibatch Loss= 0.687779, Training Accuracy= 0.55000\n",
      "Iter 10200, Minibatch Loss= 0.663391, Training Accuracy= 0.66000\n",
      "Iter 10400, Minibatch Loss= 0.676281, Training Accuracy= 0.60000\n",
      "Iter 10600, Minibatch Loss= 0.701861, Training Accuracy= 0.51000\n",
      "Iter 10800, Minibatch Loss= 0.709245, Training Accuracy= 0.52000\n",
      "Iter 11000, Minibatch Loss= 0.698705, Training Accuracy= 0.50000\n",
      "Iter 11200, Minibatch Loss= 0.668723, Training Accuracy= 0.59000\n",
      "Iter 11400, Minibatch Loss= 0.671589, Training Accuracy= 0.56000\n",
      "Iter 11600, Minibatch Loss= 0.688678, Training Accuracy= 0.58000\n",
      "Iter 11800, Minibatch Loss= 0.698196, Training Accuracy= 0.49000\n",
      "Iter 12000, Minibatch Loss= 0.698570, Training Accuracy= 0.48000\n",
      "Iter 12200, Minibatch Loss= 0.683328, Training Accuracy= 0.59000\n",
      "Iter 12400, Minibatch Loss= 0.664937, Training Accuracy= 0.60000\n",
      "Iter 12600, Minibatch Loss= 0.676892, Training Accuracy= 0.64000\n",
      "Iter 12800, Minibatch Loss= 0.675084, Training Accuracy= 0.58000\n",
      "Iter 13000, Minibatch Loss= 0.682995, Training Accuracy= 0.54000\n",
      "Iter 13200, Minibatch Loss= 0.664868, Training Accuracy= 0.60000\n",
      "Iter 13400, Minibatch Loss= 0.697478, Training Accuracy= 0.56000\n",
      "Iter 13600, Minibatch Loss= 0.681834, Training Accuracy= 0.56000\n",
      "Iter 13800, Minibatch Loss= 0.709988, Training Accuracy= 0.48000\n",
      "Iter 14000, Minibatch Loss= 0.688299, Training Accuracy= 0.52000\n",
      "Iter 14200, Minibatch Loss= 0.710194, Training Accuracy= 0.44000\n",
      "Iter 14400, Minibatch Loss= 0.672690, Training Accuracy= 0.64000\n",
      "Iter 14600, Minibatch Loss= 0.686149, Training Accuracy= 0.50000\n",
      "Iter 14800, Minibatch Loss= 0.701374, Training Accuracy= 0.50000\n",
      "Iter 15000, Minibatch Loss= 0.678193, Training Accuracy= 0.59000\n",
      "Iter 15200, Minibatch Loss= 0.692181, Training Accuracy= 0.56000\n",
      "Iter 15400, Minibatch Loss= 0.673787, Training Accuracy= 0.53000\n",
      "Iter 15600, Minibatch Loss= 0.696800, Training Accuracy= 0.52000\n",
      "Iter 15800, Minibatch Loss= 0.679793, Training Accuracy= 0.57000\n",
      "Iter 16000, Minibatch Loss= 0.688707, Training Accuracy= 0.52000\n",
      "Iter 16200, Minibatch Loss= 0.670221, Training Accuracy= 0.60000\n",
      "Iter 16400, Minibatch Loss= 0.693571, Training Accuracy= 0.50000\n",
      "Iter 16600, Minibatch Loss= 0.705285, Training Accuracy= 0.49000\n",
      "Iter 16800, Minibatch Loss= 0.695950, Training Accuracy= 0.53000\n",
      "Iter 17000, Minibatch Loss= 0.681398, Training Accuracy= 0.60000\n",
      "Iter 17200, Minibatch Loss= 0.672821, Training Accuracy= 0.56000\n",
      "Iter 17400, Minibatch Loss= 0.681304, Training Accuracy= 0.63000\n",
      "Iter 17600, Minibatch Loss= 0.692548, Training Accuracy= 0.53000\n",
      "Iter 17800, Minibatch Loss= 0.695167, Training Accuracy= 0.48000\n",
      "Iter 18000, Minibatch Loss= 0.680919, Training Accuracy= 0.56000\n",
      "Iter 18200, Minibatch Loss= 0.688312, Training Accuracy= 0.52000\n",
      "Iter 18400, Minibatch Loss= 0.682744, Training Accuracy= 0.52000\n",
      "Iter 18600, Minibatch Loss= 0.692271, Training Accuracy= 0.51000\n",
      "Iter 18800, Minibatch Loss= 0.683492, Training Accuracy= 0.60000\n",
      "Iter 19000, Minibatch Loss= 0.686813, Training Accuracy= 0.58000\n",
      "Iter 19200, Minibatch Loss= 0.700830, Training Accuracy= 0.51000\n",
      "Iter 19400, Minibatch Loss= 0.677144, Training Accuracy= 0.58000\n",
      "Iter 19600, Minibatch Loss= 0.708152, Training Accuracy= 0.47000\n",
      "Iter 19800, Minibatch Loss= 0.684447, Training Accuracy= 0.60000\n",
      "Optimization Finished!\n",
      "Dev Accuracy: 0.707404\n",
      "Dev cost: 0.640082\n",
      "F1=0.81851, Precision=0.86756, Recall=0.77472\n"
     ]
    },
    {
     "name": "stderr",
     "output_type": "stream",
     "text": [
      "/home/legu/anaconda2/lib/python2.7/site-packages/ipykernel/__main__.py:196: FutureWarning: reshape is deprecated and will raise in a subsequent release. Please use .values.reshape(...) instead\n"
     ]
    }
   ],
   "source": [
    "'''\n",
    "A Recurrent Neural Network (LSTM) implementation example using TensorFlow library.\n",
    "This example is using the MNIST database of handwritten digits (http://yann.lecun.com/exdb/mnist/)\n",
    "Long Short Term Memory paper: http://deeplearning.cs.cmu.edu/pdfs/Hochreiter97_lstm.pdf\n",
    "Author: Aymeric Damien\n",
    "Project: https://github.com/aymericdamien/TensorFlow-Examples/\n",
    "'''\n",
    "\n",
    "from __future__ import print_function\n",
    "\n",
    "import tensorflow as tf\n",
    "import sklearn as sk\n",
    "from tensorflow.contrib import rnn\n",
    "\n",
    "# Import MNIST data\n",
    "\n",
    "\n",
    "'''\n",
    "To classify images using a recurrent neural network, we consider every image\n",
    "row as a sequence of pixels. Because MNIST image shape is 28*28px, we will then\n",
    "handle 28 sequences of 28 steps for every sample.\n",
    "'''\n",
    "######################## \n",
    "### MODEL PARAMETERS ###\n",
    "######################## \n",
    "\n",
    "\n",
    "# Parameters\n",
    "learning_rate = 0.01\n",
    "training_iters = 20000\n",
    "batch_size = 100\n",
    "display_step = 2\n",
    "sentence_size = 30\n",
    "\n",
    "# Network Parameters\n",
    "n_input = 10   \n",
    "n_steps = sentence_size/n_input # timesteps\n",
    "n_hidden = 20 # hidden layer num of features\n",
    "n_classes = 2  \n",
    "vocab_size = 10000\n",
    "\n",
    "\n",
    "#################################\n",
    "### PLACEHOLDER AND VARIABLE ###\n",
    "#################################\n",
    "\n",
    "# tf Graph input\n",
    "x = tf.placeholder(\"int32\", [None, n_steps, n_input])\n",
    "y = tf.placeholder(\"int32\", [None, n_classes])\n",
    "\n",
    "# Define weights\n",
    "weights = {\n",
    "    'out': tf.Variable(tf.random_normal([n_hidden, n_classes]))\n",
    "}\n",
    "biases = {\n",
    "    'out': tf.Variable(tf.random_normal([n_classes]))\n",
    "}\n",
    "\n",
    "\n",
    "######################## \n",
    "### DEFINE RNN MODEL ###\n",
    "######################## \n",
    "def MakeFancyRNNCell(H, keep_prob, num_layers=2):\n",
    "    \"\"\"Make a fancy RNN cell.\n",
    "    Use tf.nn.rnn_cell functions to construct an LSTM cell.\n",
    "    Initialize forget_bias=0.0 for better training.\n",
    "    Args:\n",
    "      H: hidden state size\n",
    "      keep_prob: dropout keep prob (same for input and output)\n",
    "      num_layers: number of cell layers\n",
    "    Returns:\n",
    "      (tf.nn.rnn_cell.RNNCell) multi-layer LSTM cell with dropout\n",
    "    \"\"\"\n",
    "    cells = []\n",
    "    for _ in xrange(num_layers):\n",
    "        cell = tf.contrib.rnn.BasicLSTMCell(H, forget_bias=0.0)\n",
    "        cell = tf.contrib.rnn.DropoutWrapper(\n",
    "          cell, input_keep_prob=keep_prob, output_keep_prob=keep_prob)\n",
    "        cells.append(cell)\n",
    "    return tf.contrib.rnn.MultiRNNCell(cells)\n",
    "\n",
    "\n",
    "def RNN(x, weights, biases):\n",
    "    \n",
    "    with tf.name_scope(\"Embedding_Layer\"):\n",
    "        C_ = tf.Variable(tf.random_uniform([vocab_size, n_hidden], -1.0, 1.0), name=\"C\")\n",
    "        # embedding_lookup gives shape (batch_size, N, M)\n",
    "        test = tf.nn.embedding_lookup(C_, x)\n",
    "        x_ = tf.reshape(tf.nn.embedding_lookup(C_, x), \n",
    "                        [-1, n_steps, n_input*n_hidden], name=\"x\")\n",
    "\n",
    "    # Unstack to get a list of 'n_steps' tensors of shape (batch_size, n_input)\n",
    "\n",
    "    x = tf.unstack(x_, n_steps, 1)\n",
    "\n",
    "    with tf.variable_scope(\"recurrent\"+str(np.random.randint(0, 1000))):\n",
    "#     with tf.variable_scope(\"recurrent1\"):\n",
    "        # Define a lstm cell with tensorflow\n",
    "#         lstm_cell = rnn.BasicLSTMCell(n_hidden, forget_bias=1.0)\n",
    "        lstm_cell = MakeFancyRNNCell(n_hidden, keep_prob = 1.0, num_layers=1)\n",
    "        # Get lstm cell output\n",
    "        outputs, states = rnn.static_rnn(lstm_cell, x, dtype=tf.float32)\n",
    "\n",
    "    # Linear activation, using rnn inner loop last output\n",
    "    return tf.matmul(outputs[-1], weights['out']) + biases['out']\n",
    "\n",
    "logits_ = RNN(x, weights, biases)\n",
    "\n",
    "\n",
    "\n",
    "#############################\n",
    "### LOSS AND OPTIMIZATION ###\n",
    "#############################\n",
    "with tf.name_scope(\"cost\"):\n",
    "    cost = tf.reduce_mean(tf.nn.softmax_cross_entropy_with_logits(logits=logits_, labels=y))\n",
    "optimizer = tf.train.AdamOptimizer(learning_rate=learning_rate).minimize(cost)\n",
    "# optimizer = tf.train.GradientDescentOptimizer(learning_rate=learning_rate).minimize(cost)\n",
    "#\n",
    "\n",
    "\n",
    "    \n",
    "##################\n",
    "### EVALUATION ###\n",
    "################## \n",
    "pred_ = 1-tf.argmax(logits_,1)\n",
    "actual_labels_ = 1-tf.argmax(y,1)\n",
    "correct_pred_ = tf.equal(pred_, actual_labels_)\n",
    "# correct_pred_ = tf.equal(tf.argmax(logits_,1), tf.argmax(y,1))\n",
    "accuracy_ = tf.reduce_mean(tf.cast(correct_pred_, tf.float32))\n",
    "\n",
    "\n",
    "\n",
    "#################\n",
    "### RUN GRAPH ###\n",
    "#################\n",
    "\n",
    "# Initializing the variables\n",
    "init = tf.global_variables_initializer()\n",
    "\n",
    "with tf.Session() as sess:\n",
    "    sess.run(init)\n",
    "    step = 1\n",
    "    iters=[]\n",
    "    costs=[]\n",
    "    accs=[]\n",
    "    f1s=[]\n",
    "    precisions=[]\n",
    "    recalls=[]\n",
    "    iterator = PaddedDataIterator(train_df)\n",
    "\n",
    "    # Keep training until reach max iterations\n",
    "    while step * batch_size < training_iters:\n",
    "        \n",
    "        ##########################\n",
    "        ### GENERATE BATCH X,Y ###\n",
    "        ##########################\n",
    "        batch_x, batch_y_1 = iterator.next_batch(batch_size,sentence_size)\n",
    "        batch_y = np.concatenate((batch_y_1.reshape([-1,1]), 1-batch_y_1.reshape([-1,1])), axis=1)\n",
    "        batch_x = batch_x.reshape((batch_size, n_steps, n_input))\n",
    "        \n",
    "        \n",
    "        ################\n",
    "        ### TRAINING ###\n",
    "        ################\n",
    "        sess.run(optimizer, feed_dict={x: batch_x, y: batch_y})\n",
    "        \n",
    "        #################\n",
    "        ### REPORTING ###\n",
    "        #################\n",
    "        \n",
    "        if step % display_step == 0:\n",
    "            # Calculate batch accuracy, loss\n",
    "            acc,loss = sess.run([accuracy_,cost], feed_dict={x: batch_x, y: batch_y})\n",
    "#             precision = sk.metrics.precision_score(acc_labels, preds)\n",
    "#             precisions.append(precision)\n",
    "#             recall = sk.metrics.recall_score(acc_labels, preds)\n",
    "#             recalls.append(recall)\n",
    "#             f1 = sk.metrics.f1_score(acc_labels, preds)\n",
    "#             f1s.append(f1)\n",
    "            iters.append(step*batch_size)\n",
    "            costs.append(loss)\n",
    "            accs.append(acc)\n",
    "#             print( sess.run(pred, feed_dict={x: batch_x, y: batch_y}))\n",
    "#             print(\"Iter: %s, Minibatch Loss=%.6f, Training Accuracy=%.5f, F1=%.5f, Precision=%.5f, Recall=%.5f\" %(\n",
    "#                 str(step*batch_size),loss,acc,f1,precision,recall))\n",
    "            print(\"Iter \" + str(step*batch_size) + \", Minibatch Loss= \" + \\\n",
    "                  \"{:.6f}\".format(loss) + \", Training Accuracy= \" + \\\n",
    "                  \"{:.5f}\".format(acc))\n",
    "        step += 1\n",
    "    print(\"Optimization Finished!\")\n",
    "    \n",
    "    ##########################\n",
    "    ### EVALUATE WITH DEV DATA ###\n",
    "    ##########################    \n",
    "    \n",
    "    batch_x_dev_1, batch_y_1_dev = PaddedDataIterator(dev_df).pad_sentences(len(dev_df),sentence_size)\n",
    "    batch_x_dev = batch_x_dev_1.reshape([-1,n_steps, n_input])\n",
    "    batch_y_dev = np.concatenate((batch_y_1_dev.reshape([-1,1]), 1-batch_y_1_dev.reshape([-1,1])), axis=1)\n",
    "#     dev_acc, dev_cost = sess.run([accuracy_, cost],feed_dict={x: batch_x_dev, y: batch_y_dev})\n",
    "    dev_pred,dev_acc_labels,dev_acc, dev_cost,logits = sess.run([pred_,actual_labels_,accuracy_, cost,logits_],\n",
    "                                                         feed_dict={x: batch_x_dev, y: batch_y_dev})\n",
    "    precision = sk.metrics.precision_score(dev_acc_labels, dev_pred)\n",
    "    recall = sk.metrics.recall_score(dev_acc_labels, dev_pred)\n",
    "    f1 = sk.metrics.f1_score(dev_acc_labels, dev_pred)\n",
    "#     print (sess.run([logits_], feed_dict={x: batch_x_dev}))\n",
    "    print (\"Dev Accuracy:\",dev_acc)\n",
    "    print(\"Dev cost:\",dev_cost)  \n",
    "    print(\"F1=%.5f, Precision=%.5f, Recall=%.5f\" %(f1,precision,recall))\n",
    "    \n"
   ]
  },
  {
   "cell_type": "code",
   "execution_count": 66,
   "metadata": {
    "collapsed": false
   },
   "outputs": [
    {
     "name": "stdout",
     "output_type": "stream",
     "text": [
      "[0 1 0 ..., 1 0 1]\n",
      "[1 1 1 ..., 1 1 1]\n",
      "[[-0.28805277  0.16064829]\n",
      " [ 0.39120692 -0.18723273]\n",
      " [ 0.40767032  0.44478032]\n",
      " ..., \n",
      " [ 0.84377855  0.12724963]\n",
      " [ 0.3439545   0.5653519 ]\n",
      " [ 0.48196965  0.40043703]]\n",
      "[[ 1.]]\n"
     ]
    }
   ],
   "source": [
    "print(dev_pred)\n",
    "print(dev_acc_labels)\n",
    "print(logits)\n",
    "print(y_dev[-1:])"
   ]
  },
  {
   "cell_type": "code",
   "execution_count": 34,
   "metadata": {
    "collapsed": false
   },
   "outputs": [
    {
     "ename": "NameError",
     "evalue": "name 'dev_pred' is not defined",
     "output_type": "error",
     "traceback": [
      "\u001b[0;31m---------------------------------------------------------------------------\u001b[0m",
      "\u001b[0;31mNameError\u001b[0m                                 Traceback (most recent call last)",
      "\u001b[0;32m<ipython-input-34-2c5a94c457ad>\u001b[0m in \u001b[0;36m<module>\u001b[0;34m()\u001b[0m\n\u001b[0;32m----> 1\u001b[0;31m \u001b[0mplt\u001b[0m\u001b[0;34m.\u001b[0m\u001b[0mhist\u001b[0m\u001b[0;34m(\u001b[0m\u001b[0mdev_pred\u001b[0m\u001b[0;34m)\u001b[0m\u001b[0;34m\u001b[0m\u001b[0m\n\u001b[0m\u001b[1;32m      2\u001b[0m \u001b[0mplt\u001b[0m\u001b[0;34m.\u001b[0m\u001b[0mtitle\u001b[0m\u001b[0;34m(\u001b[0m\u001b[0;34m'dev pred data'\u001b[0m\u001b[0;34m)\u001b[0m\u001b[0;34m\u001b[0m\u001b[0m\n\u001b[1;32m      3\u001b[0m \u001b[0mplt\u001b[0m\u001b[0;34m.\u001b[0m\u001b[0mshow\u001b[0m\u001b[0;34m(\u001b[0m\u001b[0;34m)\u001b[0m\u001b[0;34m\u001b[0m\u001b[0m\n\u001b[1;32m      4\u001b[0m \u001b[0;34m\u001b[0m\u001b[0m\n\u001b[1;32m      5\u001b[0m \u001b[0mplt\u001b[0m\u001b[0;34m.\u001b[0m\u001b[0mhist\u001b[0m\u001b[0;34m(\u001b[0m\u001b[0mdev_acc_labels\u001b[0m\u001b[0;34m)\u001b[0m\u001b[0;34m\u001b[0m\u001b[0m\n",
      "\u001b[0;31mNameError\u001b[0m: name 'dev_pred' is not defined"
     ]
    }
   ],
   "source": [
    "plt.hist(dev_pred)\n",
    "plt.title('dev pred data')\n",
    "plt.show()\n",
    "\n",
    "plt.hist(dev_acc_labels)\n",
    "plt.title('dev true data')\n",
    "plt.show()\n",
    "\n",
    "\n",
    "plt.scatter(logits[:,0],logits[:,1])\n",
    "plt.title('dev logits data')\n",
    "plt.show()\n"
   ]
  },
  {
   "cell_type": "code",
   "execution_count": 68,
   "metadata": {
    "collapsed": false
   },
   "outputs": [
    {
     "data": {
      "image/png": "[encoded data removed]",
      "text/plain": [
       "<matplotlib.figure.Figure at 0x7fafee5b8090>"
      ]
     },
     "metadata": {},
     "output_type": "display_data"
    },
    {
     "data": {
      "image/png": "[encoded data removed]",
      "text/plain": [
       "<matplotlib.figure.Figure at 0x7fafe8305d90>"
      ]
     },
     "metadata": {},
     "output_type": "display_data"
    },
    {
     "name": "stdout",
     "output_type": "stream",
     "text": [
      "('Dev Accuracy:', 0.55943167)\n",
      "('Dev cost:', 0.67649293)\n",
      "Dev F1=0.68671, Precision=0.87065, Recall=0.56693\n"
     ]
    }
   ],
   "source": [
    "# Original without FancyRNN\n",
    "visualizeTraining(iters, costs, accs)"
   ]
  },
  {
   "cell_type": "code",
   "execution_count": 69,
   "metadata": {
    "collapsed": false
   },
   "outputs": [],
   "source": [
    "tf.reset_default_graph()\n",
    "summary_writer = tf.summary.FileWriter(\"tf_graph\", \n",
    "                                       tf.get_default_graph())"
   ]
  },
  {
   "cell_type": "code",
   "execution_count": 64,
   "metadata": {
    "collapsed": true
   },
   "outputs": [],
   "source": [
    "tf.reset_default_graph()"
   ]
  },
  {
   "cell_type": "code",
   "execution_count": 42,
   "metadata": {
    "collapsed": false
   },
   "outputs": [
    {
     "name": "stdout",
     "output_type": "stream",
     "text": [
      "[array([[-1.44354713, -1.61279869],\n",
      "       [-1.65123856, -1.43266726],\n",
      "       [-1.48506927, -1.55775845],\n",
      "       ..., \n",
      "       [-0.53347147, -1.9806689 ],\n",
      "       [-1.45613861, -2.03279853],\n",
      "       [-1.00604534, -1.73468232]], dtype=float32)]\n"
     ]
    },
    {
     "name": "stderr",
     "output_type": "stream",
     "text": [
      "/home/legu/anaconda2/lib/python2.7/site-packages/ipykernel/__main__.py:7: FutureWarning: reshape is deprecated and will raise in a subsequent release. Please use .values.reshape(...) instead\n"
     ]
    }
   ],
   "source": [
    "init = tf.global_variables_initializer()\n",
    "\n",
    "with tf.Session() as sess:\n",
    "    sess.run(init)\n",
    "    batch_x_dev_1, batch_y_1_dev = PaddedDataIterator(dev_df).pad_sentences(len(dev_df),sentence_size)\n",
    "    batch_x_dev = batch_x_dev_1.reshape([-1,n_steps, n_input])\n",
    "    batch_y_dev = np.concatenate((batch_y_1_dev.reshape([-1,1]), 1-batch_y_1_dev.reshape([-1,1])), axis=1)\n",
    "    actual_labels = sess.run([actual_labels_], feed_dict={y: batch_y_dev})\n",
    "    print (sess.run([logits_], feed_dict={x: batch_x_dev}))"
   ]
  },
  {
   "cell_type": "code",
   "execution_count": null,
   "metadata": {
    "collapsed": true
   },
   "outputs": [],
   "source": []
  },
  {
   "cell_type": "code",
   "execution_count": 129,
   "metadata": {
    "collapsed": false
   },
   "outputs": [
    {
     "name": "stdout",
     "output_type": "stream",
     "text": [
      "8657\n",
      "6694\n",
      "[6694 1963]\n",
      "8657\n",
      "6694\n",
      "6694.0\n",
      "6694.0\n",
      "[array([1, 0, 1, ..., 1, 0, 0])]\n",
      "[1 0 1 1 1 1 0 1 0 1 0 1 1 0 1 1 1 0 1 0]\n"
     ]
    }
   ],
   "source": [
    "print(len(dev_df))\n",
    "print(np.sum(actual_labels))\n",
    "print(sum(batch_y_dev))\n",
    "print(len(batch_y_1_dev))\n",
    "print(sum(1-np.argmax(batch_y_dev,1)))\n",
    "print(sum(np.rint(np.array(batch_y_1_dev).astype(float))))\n",
    "print(sum(np.rint(np.array(batch_y_dev[:,0]).astype(float))))\n",
    "print(actual_labels[:20])\n",
    "print(batch_y_dev[0:20,0])"
   ]
  },
  {
   "cell_type": "code",
   "execution_count": 145,
   "metadata": {
    "collapsed": false
   },
   "outputs": [
    {
     "data": {
      "text/plain": [
       "array([ True, False,  True, ...,  True, False, False], dtype=bool)"
      ]
     },
     "execution_count": 145,
     "metadata": {},
     "output_type": "execute_result"
    }
   ],
   "source": [
    "dev_pred [0] ==batch_y_dev[:,0]"
   ]
  },
  {
   "cell_type": "code",
   "execution_count": 153,
   "metadata": {
    "collapsed": false
   },
   "outputs": [
    {
     "data": {
      "text/plain": [
       "array([1, 0, 0, ..., 0, 0, 0])"
      ]
     },
     "execution_count": 153,
     "metadata": {},
     "output_type": "execute_result"
    }
   ],
   "source": [
    "dev_pred"
   ]
  },
  {
   "cell_type": "code",
   "execution_count": 151,
   "metadata": {
    "collapsed": false
   },
   "outputs": [
    {
     "name": "stdout",
     "output_type": "stream",
     "text": [
      "8657\n",
      "2492\n"
     ]
    },
    {
     "ename": "TypeError",
     "evalue": "'numpy.int64' object is not iterable",
     "output_type": "error",
     "traceback": [
      "\u001b[0;31m---------------------------------------------------------------------------\u001b[0m",
      "\u001b[0;31mTypeError\u001b[0m                                 Traceback (most recent call last)",
      "\u001b[0;32m<ipython-input-151-99b0f5666e14>\u001b[0m in \u001b[0;36m<module>\u001b[0;34m()\u001b[0m\n\u001b[1;32m      1\u001b[0m \u001b[0;32mprint\u001b[0m\u001b[0;34m(\u001b[0m\u001b[0mlen\u001b[0m\u001b[0;34m(\u001b[0m\u001b[0mdev_pred\u001b[0m \u001b[0;34m[\u001b[0m\u001b[0;36m0\u001b[0m\u001b[0;34m]\u001b[0m \u001b[0;34m==\u001b[0m\u001b[0mbatch_y_dev\u001b[0m\u001b[0;34m[\u001b[0m\u001b[0;34m:\u001b[0m\u001b[0;34m,\u001b[0m\u001b[0;36m0\u001b[0m\u001b[0;34m]\u001b[0m\u001b[0;34m)\u001b[0m\u001b[0;34m)\u001b[0m\u001b[0;34m\u001b[0m\u001b[0m\n\u001b[1;32m      2\u001b[0m \u001b[0;32mprint\u001b[0m\u001b[0;34m(\u001b[0m\u001b[0msum\u001b[0m\u001b[0;34m(\u001b[0m\u001b[0mdev_pred\u001b[0m \u001b[0;34m==\u001b[0m\u001b[0mbatch_y_dev\u001b[0m\u001b[0;34m[\u001b[0m\u001b[0;34m:\u001b[0m\u001b[0;34m,\u001b[0m\u001b[0;36m0\u001b[0m\u001b[0;34m]\u001b[0m\u001b[0;34m)\u001b[0m\u001b[0;34m)\u001b[0m\u001b[0;34m\u001b[0m\u001b[0m\n\u001b[0;32m----> 3\u001b[0;31m \u001b[0;32mprint\u001b[0m\u001b[0;34m(\u001b[0m\u001b[0msum\u001b[0m\u001b[0;34m(\u001b[0m\u001b[0mdev_pred\u001b[0m \u001b[0;34m[\u001b[0m\u001b[0;36m0\u001b[0m\u001b[0;34m]\u001b[0m\u001b[0;34m)\u001b[0m\u001b[0;34m)\u001b[0m\u001b[0;34m\u001b[0m\u001b[0m\n\u001b[0m\u001b[1;32m      4\u001b[0m \u001b[0;32mprint\u001b[0m \u001b[0;34m(\u001b[0m\u001b[0msum\u001b[0m\u001b[0;34m(\u001b[0m\u001b[0mbatch_y_dev\u001b[0m\u001b[0;34m[\u001b[0m\u001b[0;34m:\u001b[0m\u001b[0;34m,\u001b[0m\u001b[0;36m0\u001b[0m\u001b[0;34m]\u001b[0m\u001b[0;34m)\u001b[0m\u001b[0;34m)\u001b[0m\u001b[0;34m\u001b[0m\u001b[0m\n",
      "\u001b[0;31mTypeError\u001b[0m: 'numpy.int64' object is not iterable"
     ]
    }
   ],
   "source": [
    "print(len(dev_pred [0] ==batch_y_dev[:,0]))\n",
    "print(sum(dev_pred ==batch_y_dev[:,0]))\n",
    "print(sum(dev_pred [0]))\n",
    "print (sum(batch_y_dev[:,0]))"
   ]
  },
  {
   "cell_type": "code",
   "execution_count": 142,
   "metadata": {
    "collapsed": false
   },
   "outputs": [
    {
     "data": {
      "text/plain": [
       "8657"
      ]
     },
     "execution_count": 142,
     "metadata": {},
     "output_type": "execute_result"
    }
   ],
   "source": [
    "len(actual_labels[0])"
   ]
  },
  {
   "cell_type": "code",
   "execution_count": 52,
   "metadata": {
    "collapsed": false
   },
   "outputs": [
    {
     "name": "stdout",
     "output_type": "stream",
     "text": [
      "Tensor(\"ns:0\", shape=(10,), dtype=int32)\n"
     ]
    }
   ],
   "source": [
    "print ( tf.tile([4], [10], name=\"ns\"))"
   ]
  },
  {
   "cell_type": "code",
   "execution_count": 58,
   "metadata": {
    "collapsed": false,
    "scrolled": false
   },
   "outputs": [
    {
     "name": "stdout",
     "output_type": "stream",
     "text": [
      "(?, 3, 10)\n"
     ]
    },
    {
     "ename": "ValueError",
     "evalue": "Attempt to have a second RNNCell use the weights of a variable scope that already has weights: 'recurrent2/recurrent3/multi_rnn_cell/cell_0/basic_lstm_cell'; and the cell was not constructed as BasicLSTMCell(..., reuse=True).  To share the weights of an RNNCell, simply reuse it in your second calculation, or create a new one with the argument reuse=True.",
     "output_type": "error",
     "traceback": [
      "\u001b[0;31m---------------------------------------------------------------------------\u001b[0m",
      "\u001b[0;31mValueError\u001b[0m                                Traceback (most recent call last)",
      "\u001b[0;32m<ipython-input-58-fe0a9d6a61e7>\u001b[0m in \u001b[0;36m<module>\u001b[0;34m()\u001b[0m\n\u001b[1;32m    105\u001b[0m     \u001b[0;32mreturn\u001b[0m \u001b[0mtf\u001b[0m\u001b[0;34m.\u001b[0m\u001b[0mmatmul\u001b[0m\u001b[0;34m(\u001b[0m\u001b[0moutputs\u001b[0m\u001b[0;34m[\u001b[0m\u001b[0;34m-\u001b[0m\u001b[0;36m1\u001b[0m\u001b[0;34m]\u001b[0m\u001b[0;34m,\u001b[0m \u001b[0mweights\u001b[0m\u001b[0;34m[\u001b[0m\u001b[0;34m'out'\u001b[0m\u001b[0;34m]\u001b[0m\u001b[0;34m)\u001b[0m \u001b[0;34m+\u001b[0m \u001b[0mbiases\u001b[0m\u001b[0;34m[\u001b[0m\u001b[0;34m'out'\u001b[0m\u001b[0;34m]\u001b[0m\u001b[0;34m\u001b[0m\u001b[0m\n\u001b[1;32m    106\u001b[0m \u001b[0;34m\u001b[0m\u001b[0m\n\u001b[0;32m--> 107\u001b[0;31m \u001b[0mlogits_\u001b[0m \u001b[0;34m=\u001b[0m \u001b[0mRNN\u001b[0m\u001b[0;34m(\u001b[0m\u001b[0mx\u001b[0m\u001b[0;34m,\u001b[0m \u001b[0mweights\u001b[0m\u001b[0;34m,\u001b[0m \u001b[0mbiases\u001b[0m\u001b[0;34m)\u001b[0m\u001b[0;34m\u001b[0m\u001b[0m\n\u001b[0m\u001b[1;32m    108\u001b[0m \u001b[0;34m\u001b[0m\u001b[0m\n\u001b[1;32m    109\u001b[0m \u001b[0;34m\u001b[0m\u001b[0m\n",
      "\u001b[0;32m<ipython-input-58-fe0a9d6a61e7>\u001b[0m in \u001b[0;36mRNN\u001b[0;34m(x, weights, biases)\u001b[0m\n\u001b[1;32m    100\u001b[0m         \u001b[0mlstm_cell\u001b[0m \u001b[0;34m=\u001b[0m \u001b[0mMakeFancyRNNCell\u001b[0m\u001b[0;34m(\u001b[0m\u001b[0mn_hidden\u001b[0m\u001b[0;34m,\u001b[0m \u001b[0mkeep_prob\u001b[0m \u001b[0;34m=\u001b[0m \u001b[0;36m1.0\u001b[0m\u001b[0;34m,\u001b[0m \u001b[0mnum_layers\u001b[0m\u001b[0;34m=\u001b[0m\u001b[0;36m1\u001b[0m\u001b[0;34m)\u001b[0m\u001b[0;34m\u001b[0m\u001b[0m\n\u001b[1;32m    101\u001b[0m         \u001b[0;31m# Get lstm cell output\u001b[0m\u001b[0;34m\u001b[0m\u001b[0;34m\u001b[0m\u001b[0m\n\u001b[0;32m--> 102\u001b[0;31m         \u001b[0moutputs\u001b[0m\u001b[0;34m,\u001b[0m \u001b[0mstates\u001b[0m \u001b[0;34m=\u001b[0m \u001b[0mrnn\u001b[0m\u001b[0;34m.\u001b[0m\u001b[0mstatic_rnn\u001b[0m\u001b[0;34m(\u001b[0m\u001b[0mlstm_cell\u001b[0m\u001b[0;34m,\u001b[0m \u001b[0mx\u001b[0m\u001b[0;34m,\u001b[0m \u001b[0mdtype\u001b[0m\u001b[0;34m=\u001b[0m\u001b[0mtf\u001b[0m\u001b[0;34m.\u001b[0m\u001b[0mfloat32\u001b[0m\u001b[0;34m,\u001b[0m\u001b[0mscope\u001b[0m\u001b[0;34m=\u001b[0m\u001b[0;34m\"recurrent3\"\u001b[0m\u001b[0;34m)\u001b[0m\u001b[0;34m\u001b[0m\u001b[0m\n\u001b[0m\u001b[1;32m    103\u001b[0m \u001b[0;34m\u001b[0m\u001b[0m\n\u001b[1;32m    104\u001b[0m     \u001b[0;31m# Linear activation, using rnn inner loop last output\u001b[0m\u001b[0;34m\u001b[0m\u001b[0;34m\u001b[0m\u001b[0m\n",
      "\u001b[0;32m/home/legu/anaconda2/lib/python2.7/site-packages/tensorflow/contrib/rnn/python/ops/core_rnn.pyc\u001b[0m in \u001b[0;36mstatic_rnn\u001b[0;34m(cell, inputs, initial_state, dtype, sequence_length, scope)\u001b[0m\n\u001b[1;32m    195\u001b[0m             state_size=cell.state_size)\n\u001b[1;32m    196\u001b[0m       \u001b[0;32melse\u001b[0m\u001b[0;34m:\u001b[0m\u001b[0;34m\u001b[0m\u001b[0m\n\u001b[0;32m--> 197\u001b[0;31m         \u001b[0;34m(\u001b[0m\u001b[0moutput\u001b[0m\u001b[0;34m,\u001b[0m \u001b[0mstate\u001b[0m\u001b[0;34m)\u001b[0m \u001b[0;34m=\u001b[0m \u001b[0mcall_cell\u001b[0m\u001b[0;34m(\u001b[0m\u001b[0;34m)\u001b[0m\u001b[0;34m\u001b[0m\u001b[0m\n\u001b[0m\u001b[1;32m    198\u001b[0m \u001b[0;34m\u001b[0m\u001b[0m\n\u001b[1;32m    199\u001b[0m       \u001b[0moutputs\u001b[0m\u001b[0;34m.\u001b[0m\u001b[0mappend\u001b[0m\u001b[0;34m(\u001b[0m\u001b[0moutput\u001b[0m\u001b[0;34m)\u001b[0m\u001b[0;34m\u001b[0m\u001b[0m\n",
      "\u001b[0;32m/home/legu/anaconda2/lib/python2.7/site-packages/tensorflow/contrib/rnn/python/ops/core_rnn.pyc\u001b[0m in \u001b[0;36m<lambda>\u001b[0;34m()\u001b[0m\n\u001b[1;32m    182\u001b[0m       \u001b[0;32mif\u001b[0m \u001b[0mtime\u001b[0m \u001b[0;34m>\u001b[0m \u001b[0;36m0\u001b[0m\u001b[0;34m:\u001b[0m \u001b[0mvarscope\u001b[0m\u001b[0;34m.\u001b[0m\u001b[0mreuse_variables\u001b[0m\u001b[0;34m(\u001b[0m\u001b[0;34m)\u001b[0m\u001b[0;34m\u001b[0m\u001b[0m\n\u001b[1;32m    183\u001b[0m       \u001b[0;31m# pylint: disable=cell-var-from-loop\u001b[0m\u001b[0;34m\u001b[0m\u001b[0;34m\u001b[0m\u001b[0m\n\u001b[0;32m--> 184\u001b[0;31m       \u001b[0mcall_cell\u001b[0m \u001b[0;34m=\u001b[0m \u001b[0;32mlambda\u001b[0m\u001b[0;34m:\u001b[0m \u001b[0mcell\u001b[0m\u001b[0;34m(\u001b[0m\u001b[0minput_\u001b[0m\u001b[0;34m,\u001b[0m \u001b[0mstate\u001b[0m\u001b[0;34m)\u001b[0m\u001b[0;34m\u001b[0m\u001b[0m\n\u001b[0m\u001b[1;32m    185\u001b[0m       \u001b[0;31m# pylint: enable=cell-var-from-loop\u001b[0m\u001b[0;34m\u001b[0m\u001b[0;34m\u001b[0m\u001b[0m\n\u001b[1;32m    186\u001b[0m       \u001b[0;32mif\u001b[0m \u001b[0msequence_length\u001b[0m \u001b[0;32mis\u001b[0m \u001b[0;32mnot\u001b[0m \u001b[0mNone\u001b[0m\u001b[0;34m:\u001b[0m\u001b[0;34m\u001b[0m\u001b[0m\n",
      "\u001b[0;32m/home/legu/anaconda2/lib/python2.7/site-packages/tensorflow/contrib/rnn/python/ops/core_rnn_cell_impl.pyc\u001b[0m in \u001b[0;36m__call__\u001b[0;34m(self, inputs, state, scope)\u001b[0m\n\u001b[1;32m    951\u001b[0m                 state, [0, cur_state_pos], [-1, cell.state_size])\n\u001b[1;32m    952\u001b[0m             \u001b[0mcur_state_pos\u001b[0m \u001b[0;34m+=\u001b[0m \u001b[0mcell\u001b[0m\u001b[0;34m.\u001b[0m\u001b[0mstate_size\u001b[0m\u001b[0;34m\u001b[0m\u001b[0m\n\u001b[0;32m--> 953\u001b[0;31m           \u001b[0mcur_inp\u001b[0m\u001b[0;34m,\u001b[0m \u001b[0mnew_state\u001b[0m \u001b[0;34m=\u001b[0m \u001b[0mcell\u001b[0m\u001b[0;34m(\u001b[0m\u001b[0mcur_inp\u001b[0m\u001b[0;34m,\u001b[0m \u001b[0mcur_state\u001b[0m\u001b[0;34m)\u001b[0m\u001b[0;34m\u001b[0m\u001b[0m\n\u001b[0m\u001b[1;32m    954\u001b[0m           \u001b[0mnew_states\u001b[0m\u001b[0;34m.\u001b[0m\u001b[0mappend\u001b[0m\u001b[0;34m(\u001b[0m\u001b[0mnew_state\u001b[0m\u001b[0;34m)\u001b[0m\u001b[0;34m\u001b[0m\u001b[0m\n\u001b[1;32m    955\u001b[0m     new_states = (tuple(new_states) if self._state_is_tuple else\n",
      "\u001b[0;32m/home/legu/anaconda2/lib/python2.7/site-packages/tensorflow/contrib/rnn/python/ops/core_rnn_cell_impl.pyc\u001b[0m in \u001b[0;36m__call__\u001b[0;34m(self, inputs, state, scope)\u001b[0m\n\u001b[1;32m    711\u001b[0m                              \u001b[0mself\u001b[0m\u001b[0;34m.\u001b[0m\u001b[0m_recurrent_input_noise\u001b[0m\u001b[0;34m,\u001b[0m\u001b[0;34m\u001b[0m\u001b[0m\n\u001b[1;32m    712\u001b[0m                              self._input_keep_prob)\n\u001b[0;32m--> 713\u001b[0;31m     \u001b[0moutput\u001b[0m\u001b[0;34m,\u001b[0m \u001b[0mnew_state\u001b[0m \u001b[0;34m=\u001b[0m \u001b[0mself\u001b[0m\u001b[0;34m.\u001b[0m\u001b[0m_cell\u001b[0m\u001b[0;34m(\u001b[0m\u001b[0minputs\u001b[0m\u001b[0;34m,\u001b[0m \u001b[0mstate\u001b[0m\u001b[0;34m,\u001b[0m \u001b[0mscope\u001b[0m\u001b[0;34m)\u001b[0m\u001b[0;34m\u001b[0m\u001b[0m\n\u001b[0m\u001b[1;32m    714\u001b[0m     \u001b[0;32mif\u001b[0m \u001b[0m_should_dropout\u001b[0m\u001b[0;34m(\u001b[0m\u001b[0mself\u001b[0m\u001b[0;34m.\u001b[0m\u001b[0m_state_keep_prob\u001b[0m\u001b[0;34m)\u001b[0m\u001b[0;34m:\u001b[0m\u001b[0;34m\u001b[0m\u001b[0m\n\u001b[1;32m    715\u001b[0m       new_state = self._dropout(new_state, \"state\",\n",
      "\u001b[0;32m/home/legu/anaconda2/lib/python2.7/site-packages/tensorflow/contrib/rnn/python/ops/core_rnn_cell_impl.pyc\u001b[0m in \u001b[0;36m__call__\u001b[0;34m(self, inputs, state, scope)\u001b[0m\n\u001b[1;32m    233\u001b[0m   \u001b[0;32mdef\u001b[0m \u001b[0m__call__\u001b[0m\u001b[0;34m(\u001b[0m\u001b[0mself\u001b[0m\u001b[0;34m,\u001b[0m \u001b[0minputs\u001b[0m\u001b[0;34m,\u001b[0m \u001b[0mstate\u001b[0m\u001b[0;34m,\u001b[0m \u001b[0mscope\u001b[0m\u001b[0;34m=\u001b[0m\u001b[0mNone\u001b[0m\u001b[0;34m)\u001b[0m\u001b[0;34m:\u001b[0m\u001b[0;34m\u001b[0m\u001b[0m\n\u001b[1;32m    234\u001b[0m     \u001b[0;34m\"\"\"Long short-term memory cell (LSTM).\"\"\"\u001b[0m\u001b[0;34m\u001b[0m\u001b[0m\n\u001b[0;32m--> 235\u001b[0;31m     \u001b[0;32mwith\u001b[0m \u001b[0m_checked_scope\u001b[0m\u001b[0;34m(\u001b[0m\u001b[0mself\u001b[0m\u001b[0;34m,\u001b[0m \u001b[0mscope\u001b[0m \u001b[0;32mor\u001b[0m \u001b[0;34m\"basic_lstm_cell\"\u001b[0m\u001b[0;34m,\u001b[0m \u001b[0mreuse\u001b[0m\u001b[0;34m=\u001b[0m\u001b[0mself\u001b[0m\u001b[0;34m.\u001b[0m\u001b[0m_reuse\u001b[0m\u001b[0;34m)\u001b[0m\u001b[0;34m:\u001b[0m\u001b[0;34m\u001b[0m\u001b[0m\n\u001b[0m\u001b[1;32m    236\u001b[0m       \u001b[0;31m# Parameters of gates are concatenated into one multiply for efficiency.\u001b[0m\u001b[0;34m\u001b[0m\u001b[0;34m\u001b[0m\u001b[0m\n\u001b[1;32m    237\u001b[0m       \u001b[0;32mif\u001b[0m \u001b[0mself\u001b[0m\u001b[0;34m.\u001b[0m\u001b[0m_state_is_tuple\u001b[0m\u001b[0;34m:\u001b[0m\u001b[0;34m\u001b[0m\u001b[0m\n",
      "\u001b[0;32m/home/legu/anaconda2/lib/python2.7/contextlib.pyc\u001b[0m in \u001b[0;36m__enter__\u001b[0;34m(self)\u001b[0m\n\u001b[1;32m     15\u001b[0m     \u001b[0;32mdef\u001b[0m \u001b[0m__enter__\u001b[0m\u001b[0;34m(\u001b[0m\u001b[0mself\u001b[0m\u001b[0;34m)\u001b[0m\u001b[0;34m:\u001b[0m\u001b[0;34m\u001b[0m\u001b[0m\n\u001b[1;32m     16\u001b[0m         \u001b[0;32mtry\u001b[0m\u001b[0;34m:\u001b[0m\u001b[0;34m\u001b[0m\u001b[0m\n\u001b[0;32m---> 17\u001b[0;31m             \u001b[0;32mreturn\u001b[0m \u001b[0mself\u001b[0m\u001b[0;34m.\u001b[0m\u001b[0mgen\u001b[0m\u001b[0;34m.\u001b[0m\u001b[0mnext\u001b[0m\u001b[0;34m(\u001b[0m\u001b[0;34m)\u001b[0m\u001b[0;34m\u001b[0m\u001b[0m\n\u001b[0m\u001b[1;32m     18\u001b[0m         \u001b[0;32mexcept\u001b[0m \u001b[0mStopIteration\u001b[0m\u001b[0;34m:\u001b[0m\u001b[0;34m\u001b[0m\u001b[0m\n\u001b[1;32m     19\u001b[0m             \u001b[0;32mraise\u001b[0m \u001b[0mRuntimeError\u001b[0m\u001b[0;34m(\u001b[0m\u001b[0;34m\"generator didn't yield\"\u001b[0m\u001b[0;34m)\u001b[0m\u001b[0;34m\u001b[0m\u001b[0m\n",
      "\u001b[0;32m/home/legu/anaconda2/lib/python2.7/site-packages/tensorflow/contrib/rnn/python/ops/core_rnn_cell_impl.pyc\u001b[0m in \u001b[0;36m_checked_scope\u001b[0;34m(cell, scope, reuse, **kwargs)\u001b[0m\n\u001b[1;32m     91\u001b[0m             \u001b[0;34m\"To share the weights of an RNNCell, simply \"\u001b[0m\u001b[0;34m\u001b[0m\u001b[0m\n\u001b[1;32m     92\u001b[0m             \u001b[0;34m\"reuse it in your second calculation, or create a new one with \"\u001b[0m\u001b[0;34m\u001b[0m\u001b[0m\n\u001b[0;32m---> 93\u001b[0;31m             \"the argument reuse=True.\" % (scope_name, type(cell).__name__))\n\u001b[0m\u001b[1;32m     94\u001b[0m \u001b[0;34m\u001b[0m\u001b[0m\n\u001b[1;32m     95\u001b[0m     \u001b[0;31m# Everything is OK.  Update the cell's scope and yield it.\u001b[0m\u001b[0;34m\u001b[0m\u001b[0;34m\u001b[0m\u001b[0m\n",
      "\u001b[0;31mValueError\u001b[0m: Attempt to have a second RNNCell use the weights of a variable scope that already has weights: 'recurrent2/recurrent3/multi_rnn_cell/cell_0/basic_lstm_cell'; and the cell was not constructed as BasicLSTMCell(..., reuse=True).  To share the weights of an RNNCell, simply reuse it in your second calculation, or create a new one with the argument reuse=True."
     ]
    }
   ],
   "source": [
    "'''\n",
    "A Recurrent Neural Network (LSTM) implementation example using TensorFlow library.\n",
    "This example is using the MNIST database of handwritten digits (http://yann.lecun.com/exdb/mnist/)\n",
    "Long Short Term Memory paper: http://deeplearning.cs.cmu.edu/pdfs/Hochreiter97_lstm.pdf\n",
    "Author: Aymeric Damien\n",
    "Project: https://github.com/aymericdamien/TensorFlow-Examples/\n",
    "'''\n",
    "\n",
    "from __future__ import print_function\n",
    "\n",
    "import tensorflow as tf\n",
    "import sklearn as sk\n",
    "from tensorflow.contrib import rnn\n",
    "\n",
    "# Import MNIST data\n",
    "\n",
    "\n",
    "'''\n",
    "To classify images using a recurrent neural network, we consider every image\n",
    "row as a sequence of pixels. Because MNIST image shape is 28*28px, we will then\n",
    "handle 28 sequences of 28 steps for every sample.\n",
    "'''\n",
    "######################## \n",
    "### MODEL PARAMETERS ###\n",
    "######################## \n",
    "\n",
    "\n",
    "# Parameters\n",
    "learning_rate = 0.01\n",
    "training_iters = 20000\n",
    "batch_size = 100\n",
    "display_step = 2\n",
    "sentence_size = 30\n",
    "\n",
    "# Network Parameters\n",
    "n_input = 10   \n",
    "# n_steps = sentence_size/n_input # timesteps\n",
    "n_hidden = 20 # hidden layer num of features\n",
    "n_classes = 2  \n",
    "vocab_size = 10000\n",
    "\n",
    "\n",
    "#################################\n",
    "### PLACEHOLDER AND VARIABLE ###\n",
    "#################################\n",
    "\n",
    "# tf Graph input\n",
    "x = tf.placeholder(\"int32\", [None, n_steps, n_input])\n",
    "y = tf.placeholder(\"int32\", [None, n_classes])\n",
    "print (x.shape)\n",
    "# Define weights\n",
    "weights = {\n",
    "    'out': tf.Variable(tf.random_normal([n_hidden, n_classes]))\n",
    "}\n",
    "biases = {\n",
    "    'out': tf.Variable(tf.random_normal([n_classes]))\n",
    "}\n",
    "\n",
    "\n",
    "######################## \n",
    "### DEFINE RNN MODEL ###\n",
    "######################## \n",
    "def MakeFancyRNNCell(H, keep_prob, num_layers=2):\n",
    "    \"\"\"Make a fancy RNN cell.\n",
    "    Use tf.nn.rnn_cell functions to construct an LSTM cell.\n",
    "    Initialize forget_bias=0.0 for better training.\n",
    "    Args:\n",
    "      H: hidden state size\n",
    "      keep_prob: dropout keep prob (same for input and output)\n",
    "      num_layers: number of cell layers\n",
    "    Returns:\n",
    "      (tf.nn.rnn_cell.RNNCell) multi-layer LSTM cell with dropout\n",
    "    \"\"\"\n",
    "    cells = []\n",
    "    for _ in xrange(num_layers):\n",
    "        cell = tf.contrib.rnn.BasicLSTMCell(H, forget_bias=0.0)\n",
    "        cell = tf.contrib.rnn.DropoutWrapper(\n",
    "          cell, input_keep_prob=keep_prob, output_keep_prob=keep_prob)\n",
    "        cells.append(cell)\n",
    "    return tf.contrib.rnn.MultiRNNCell(cells)\n",
    "\n",
    "\n",
    "def RNN(x, weights, biases):\n",
    "    \n",
    "    with tf.name_scope(\"Embedding_Layer\"):\n",
    "        C_ = tf.Variable(tf.random_uniform([vocab_size, n_hidden], -1.0, 1.0), name=\"C\")\n",
    "        # embedding_lookup gives shape (batch_size, N, M)\n",
    "        test = tf.nn.embedding_lookup(C_, x)\n",
    "        x_ = tf.reshape(tf.nn.embedding_lookup(C_, x), \n",
    "                        [-1, n_steps, n_input*n_hidden], name=\"x\")\n",
    "\n",
    "    # Unstack to get a list of 'n_steps' tensors of shape (batch_size, n_input)\n",
    "\n",
    "    x = tf.unstack(x_, n_steps, 1)\n",
    "\n",
    "#     with tf.variable_scope(\"first_lstm\"+str(np.random.randint(0, 1000))):\n",
    "    with tf.variable_scope(\"recurrent2\"):\n",
    "        # Define a lstm cell with tensorflow\n",
    "#         lstm_cell = rnn.BasicLSTMCell(n_hidden, forget_bias=1.0)\n",
    "        lstm_cell = MakeFancyRNNCell(n_hidden, keep_prob = 1.0, num_layers=1)\n",
    "        # Get lstm cell output\n",
    "        outputs, states = rnn.static_rnn(lstm_cell, x, dtype=tf.float32,scope=\"recurrent3\")\n",
    "\n",
    "    # Linear activation, using rnn inner loop last output\n",
    "    return tf.matmul(outputs[-1], weights['out']) + biases['out']\n",
    "\n",
    "logits_ = RNN(x, weights, biases)\n",
    "\n",
    "\n",
    "\n",
    "#############################\n",
    "### LOSS AND OPTIMIZATION ###\n",
    "#############################\n",
    "with tf.name_scope(\"cost\"):\n",
    "    cost = tf.reduce_mean(tf.nn.softmax_cross_entropy_with_logits(logits=logits_, labels=y))\n",
    "optimizer = tf.train.AdamOptimizer(learning_rate=learning_rate).minimize(cost)\n",
    "# optimizer = tf.train.GradientDescentOptimizer(learning_rate=learning_rate).minimize(cost)\n",
    "#\n",
    "\n",
    "\n",
    "    \n",
    "##################\n",
    "### EVALUATION ###\n",
    "################## \n",
    "pred_ = 1-tf.argmax(logits_,1)\n",
    "actual_labels_ = 1-tf.argmax(y,1)\n",
    "correct_pred_ = tf.equal(pred_, actual_labels_)\n",
    "# correct_pred_ = tf.equal(tf.argmax(logits_,1), tf.argmax(y,1))\n",
    "accuracy_ = tf.reduce_mean(tf.cast(correct_pred_, tf.float32))\n",
    "\n",
    "\n",
    "\n",
    "#################\n",
    "### RUN GRAPH ###\n",
    "#################\n",
    "\n",
    "# Initializing the variables\n",
    "init = tf.global_variables_initializer()\n",
    "\n",
    "with tf.Session() as sess:\n",
    "    sess.run(init)\n",
    "    step = 1\n",
    "    iters=[]\n",
    "    costs=[]\n",
    "    accs=[]\n",
    "    f1s=[]\n",
    "    precisions=[]\n",
    "    recalls=[]\n",
    "    iterator = PaddedDataIterator(train_df)\n",
    "\n",
    "    # Keep training until reach max iterations\n",
    "    while step * batch_size < training_iters:\n",
    "        \n",
    "        ##########################\n",
    "        ### GENERATE BATCH X,Y ###\n",
    "        ##########################\n",
    "        batch_x, batch_y_1 = iterator.next_batch(batch_size,sentence_size)\n",
    "        batch_y = np.concatenate((batch_y_1.reshape([-1,1]), 1-batch_y_1.reshape([-1,1])), axis=1)\n",
    "        batch_x = batch_x.reshape((batch_size, n_steps, n_input))\n",
    "        \n",
    "        \n",
    "        ################\n",
    "        ### TRAINING ###\n",
    "        ################\n",
    "        sess.run(optimizer, feed_dict={x: batch_x, y: batch_y})\n",
    "        \n",
    "        #################\n",
    "        ### REPORTING ###\n",
    "        #################\n",
    "        \n",
    "        if step % display_step == 0:\n",
    "            # Calculate batch accuracy, loss\n",
    "            acc,loss = sess.run([accuracy_,cost], feed_dict={x: batch_x, y: batch_y})\n",
    "#             precision = sk.metrics.precision_score(acc_labels, preds)\n",
    "#             precisions.append(precision)\n",
    "#             recall = sk.metrics.recall_score(acc_labels, preds)\n",
    "#             recalls.append(recall)\n",
    "#             f1 = sk.metrics.f1_score(acc_labels, preds)\n",
    "#             f1s.append(f1)\n",
    "            iters.append(step*batch_size)\n",
    "            costs.append(loss)\n",
    "            accs.append(acc)\n",
    "#             print( sess.run(pred, feed_dict={x: batch_x, y: batch_y}))\n",
    "#             print(\"Iter: %s, Minibatch Loss=%.6f, Training Accuracy=%.5f, F1=%.5f, Precision=%.5f, Recall=%.5f\" %(\n",
    "#                 str(step*batch_size),loss,acc,f1,precision,recall))\n",
    "            print(\"Iter \" + str(step*batch_size) + \", Minibatch Loss= \" + \\\n",
    "                  \"{:.6f}\".format(loss) + \", Training Accuracy= \" + \\\n",
    "                  \"{:.5f}\".format(acc))\n",
    "        step += 1\n",
    "    print(\"Optimization Finished!\")\n",
    "    \n",
    "    ##########################\n",
    "    ### EVALUATE WITH DEV DATA ###\n",
    "    ##########################    \n",
    "    \n",
    "    batch_x_dev_1, batch_y_1_dev = PaddedDataIterator(dev_df).pad_sentences(len(dev_df),sentence_size)\n",
    "    batch_x_dev = batch_x_dev_1.reshape([-1,n_steps, n_input])\n",
    "    batch_y_dev = np.concatenate((batch_y_1_dev.reshape([-1,1]), 1-batch_y_1_dev.reshape([-1,1])), axis=1)\n",
    "#     dev_acc, dev_cost = sess.run([accuracy_, cost],feed_dict={x: batch_x_dev, y: batch_y_dev})\n",
    "    dev_pred,dev_acc_labels,dev_acc, dev_cost,logits = sess.run([pred_,actual_labels_,accuracy_, cost,logits_],\n",
    "                                                         feed_dict={x: batch_x_dev, y: batch_y_dev})\n",
    "    precision = sk.metrics.precision_score(dev_acc_labels, dev_pred)\n",
    "    recall = sk.metrics.recall_score(dev_acc_labels, dev_pred)\n",
    "    f1 = sk.metrics.f1_score(dev_acc_labels, dev_pred)\n",
    "#     print (sess.run([logits_], feed_dict={x: batch_x_dev}))\n",
    "    print (\"Dev Accuracy:\",dev_acc)\n",
    "    print(\"Dev cost:\",dev_cost)  \n",
    "    print(\"F1=%.5f, Precision=%.5f, Recall=%.5f\" %(f1,precision,recall))\n",
    "    \n"
   ]
  },
  {
   "cell_type": "code",
   "execution_count": null,
   "metadata": {
    "collapsed": true
   },
   "outputs": [],
   "source": []
  },
  {
   "cell_type": "code",
   "execution_count": null,
   "metadata": {
    "collapsed": true
   },
   "outputs": [],
   "source": []
  },
  {
   "cell_type": "code",
   "execution_count": null,
   "metadata": {
    "collapsed": true
   },
   "outputs": [],
   "source": []
  },
  {
   "cell_type": "code",
   "execution_count": null,
   "metadata": {
    "collapsed": true
   },
   "outputs": [],
   "source": []
  },
  {
   "cell_type": "code",
   "execution_count": null,
   "metadata": {
    "collapsed": true
   },
   "outputs": [],
   "source": []
  },
  {
   "cell_type": "code",
   "execution_count": null,
   "metadata": {
    "collapsed": true
   },
   "outputs": [],
   "source": []
  },
  {
   "cell_type": "code",
   "execution_count": null,
   "metadata": {
    "collapsed": true
   },
   "outputs": [],
   "source": []
  },
  {
   "cell_type": "code",
   "execution_count": null,
   "metadata": {
    "collapsed": true
   },
   "outputs": [],
   "source": []
  },
  {
   "cell_type": "code",
   "execution_count": null,
   "metadata": {
    "collapsed": true
   },
   "outputs": [],
   "source": []
  },
  {
   "cell_type": "markdown",
   "metadata": {},
   "source": [
    "#### logistic Regression"
   ]
  },
  {
   "cell_type": "code",
   "execution_count": 185,
   "metadata": {
    "collapsed": true
   },
   "outputs": [],
   "source": [
    "##tf-idf transformation\n",
    "##based on this page: http://www.cs.duke.edu/courses/spring14/compsci290/assignments/lab02.html\n",
    "token_dict_train = {}\n",
    "token_dict_dev = {}\n",
    "\n",
    "def tokenize(text):\n",
    "    tokens = nltk.word_tokenize(text)\n",
    "    return tokens\n",
    "\n",
    "for i, text in enumerate(x_train_res):\n",
    "    lowers = text.lower()\n",
    "    no_punctuation = lowers.translate(None, string.punctuation)\n",
    "    token_dict_train[i] = no_punctuation\n",
    "\n",
    "for i, text in enumerate(x_dev):\n",
    "    lowers = text.lower()\n",
    "    no_punctuation = lowers.translate(None, string.punctuation)\n",
    "    token_dict_dev[i] = no_punctuation\n",
    "    \n",
    "#this can take some time\n",
    "tfidf = TfidfVectorizer(tokenizer=tokenize, stop_words='english')\n",
    "tfs_train = tfidf.fit_transform(token_dict_train.values())\n",
    "tfs_dev = tfidf.transform(token_dict_dev.values())"
   ]
  },
  {
   "cell_type": "code",
   "execution_count": 186,
   "metadata": {
    "collapsed": false
   },
   "outputs": [
    {
     "name": "stdout",
     "output_type": "stream",
     "text": [
      "(20342, 40288)\n",
      "(8788, 40288)\n",
      "20342\n",
      "8788\n"
     ]
    }
   ],
   "source": [
    "print(tfs_train.shape)\n",
    "print(tfs_dev.shape)\n",
    "print(len(y_train_norm_res))\n",
    "print(len(y_dev))"
   ]
  },
  {
   "cell_type": "code",
   "execution_count": 187,
   "metadata": {
    "collapsed": false
   },
   "outputs": [
    {
     "name": "stdout",
     "output_type": "stream",
     "text": [
      "LogisticRegression(C=1.0, class_weight=None, dual=False, fit_intercept=True,\n",
      "          intercept_scaling=1, max_iter=100, multi_class='ovr', n_jobs=1,\n",
      "          penalty='l2', random_state=None, solver='liblinear', tol=0.0001,\n",
      "          verbose=0, warm_start=False)\n",
      "[1 1 0 1 1 0 0 0 1 0]\n",
      "Coefficients: \n",
      " [[-0.10342257  0.32642485  0.32248688 ...,  0.00676869  0.92724733\n",
      "  -0.11121482]]\n",
      "             precision    recall  f1-score   support\n",
      "\n",
      "          0       0.21      0.58      0.30      1283\n",
      "          1       0.90      0.62      0.73      7505\n",
      "\n",
      "avg / total       0.80      0.61      0.67      8788\n",
      "\n"
     ]
    }
   ],
   "source": [
    "regr2 = linear_model.LogisticRegression()\n",
    "\n",
    "# Train the model using the training sets\n",
    "regr2.fit(tfs_train, y_train_norm_res)\n",
    "print(regr2)\n",
    "# make predictions\n",
    "predicted2 = regr2.predict(tfs_dev)\n",
    "print (predicted2[0:10])\n",
    "# The coefficients\n",
    "print('Coefficients: \\n', regr2.coef_)\n",
    "# The mean squared error\n",
    "# print(\"Mean squared error: %.2f\"\n",
    "#       % np.mean((predicted2 - y_dev) ** 2))\n",
    "# Explained variance score: 1 is perfect prediction\n",
    "# print('Variance score: %.2f' % regr2.score(X_test, y_test_norm))\n",
    "print(metrics.classification_report(y_dev_norm, predicted2))"
   ]
  },
  {
   "cell_type": "code",
   "execution_count": 126,
   "metadata": {
    "collapsed": false
   },
   "outputs": [
    {
     "name": "stderr",
     "output_type": "stream",
     "text": [
      "/home/legu/anaconda2/lib/python2.7/site-packages/ipykernel/__main__.py:1: DeprecationWarning: elementwise == comparison failed; this will raise an error in the future.\n",
      "  if __name__ == '__main__':\n"
     ]
    },
    {
     "ename": "TypeError",
     "evalue": "'bool' object is not iterable",
     "output_type": "error",
     "traceback": [
      "\u001b[0;31m---------------------------------------------------------------------------\u001b[0m",
      "\u001b[0;31mTypeError\u001b[0m                                 Traceback (most recent call last)",
      "\u001b[0;32m<ipython-input-126-c24a295a01d5>\u001b[0m in \u001b[0;36m<module>\u001b[0;34m()\u001b[0m\n\u001b[0;32m----> 1\u001b[0;31m \u001b[0;32mprint\u001b[0m \u001b[0;34m(\u001b[0m\u001b[0msum\u001b[0m\u001b[0;34m(\u001b[0m\u001b[0mactual_labels\u001b[0m\u001b[0;34m==\u001b[0m\u001b[0mbatch_y_dev\u001b[0m\u001b[0;34m)\u001b[0m\u001b[0;34m)\u001b[0m\u001b[0;34m\u001b[0m\u001b[0m\n\u001b[0m",
      "\u001b[0;31mTypeError\u001b[0m: 'bool' object is not iterable"
     ]
    }
   ],
   "source": [
    "print (sum(actual_labels==batch_y_dev))"
   ]
  },
  {
   "cell_type": "code",
   "execution_count": 144,
   "metadata": {
    "collapsed": false
   },
   "outputs": [
    {
     "name": "stdout",
     "output_type": "stream",
     "text": [
      "[1 1 1 1 0 1 1 1 1 1 1 1 1 1 1 1 0 1 1 1 1 1 1 1 1 1 1 1 1 1 1 1 1 1 1 1 1\n",
      " 1 1 1 1 1 1 1 1 1 1 1 1 1 1 1 1 1 1 1 1 1 1 1 1 1 1 1 1 1 1 1 1 1 1 1 1 1\n",
      " 1 1 1 1 1 1 1 1 1 1 1 1 1 0 1 1 1 1 1 1 1 1 1 1 1 1]\n",
      "8548\n",
      "[1 1 1 1 1 1 1 1 1 0 1 1 1 1 0 1 0 1 0 1 1 1 1 1 1 1 0 1 1 1 1 1 0 1 1 1 1\n",
      " 0 1 1 1 1 0 1 1 1 1 1 1 1 1 1 1 1 0 0 1 1 1 1 1 1 1 1 1 1 1 1 1 1 1 1 1 1\n",
      " 0 1 1 1 0 1 1 0 1 1 1 1 1 1 1 1 0 1 1 1 1 0 1 1 1 0]\n",
      "7453\n",
      "8721\n",
      "0.838895\n"
     ]
    }
   ],
   "source": [
    "print(dev_pred[:100])\n",
    "print(sum(dev_pred))\n",
    "print(dev_acc_labels[:100])\n",
    "print(sum(dev_acc_labels))\n",
    "print(len(dev_acc_labels))\n",
    "print(dev_acc)"
   ]
  },
  {
   "cell_type": "code",
   "execution_count": 70,
   "metadata": {
    "collapsed": true
   },
   "outputs": [],
   "source": [
    "def computeDevScores():\n",
    "    precision = sk.metrics.precision_score(dev_acc_labels, dev_pred)\n",
    "    recall = sk.metrics.recall_score(dev_acc_labels, dev_pred)\n",
    "    f1 = sk.metrics.f1_score(dev_acc_labels, dev_pred)\n",
    "    print(\"F1=%.5f, Precision=%.5f, Recall=%.5f\" %(f1,precision,recall))\n",
    "    precision2 = sk.metrics.precision_score(y_dev_norm, dev_pred)\n",
    "    recall2 = sk.metrics.recall_score(y_dev_norm, dev_pred)\n",
    "    f12 = sk.metrics.f1_score(y_dev_norm, dev_pred)\n",
    "    print(\"F1=%.5f, Precision=%.5f, Recall=%.5f\" %(f12,precision2,recall2))"
   ]
  },
  {
   "cell_type": "code",
   "execution_count": 145,
   "metadata": {
    "collapsed": false
   },
   "outputs": [
    {
     "name": "stdout",
     "output_type": "stream",
     "text": [
      "F1=0.91219, Precision=0.85377, Recall=0.97920\n",
      "F1=0.86190, Precision=0.76989, Recall=0.97888\n"
     ]
    }
   ],
   "source": [
    "# With 1 layer\n",
    "computeDevScores()"
   ]
  },
  {
   "cell_type": "code",
   "execution_count": 142,
   "metadata": {
    "collapsed": false
   },
   "outputs": [
    {
     "name": "stdout",
     "output_type": "stream",
     "text": [
      "F1=0.92160, Precision=0.85460, Recall=1.00000\n",
      "F1=0.87063, Precision=0.77090, Recall=1.00000\n"
     ]
    }
   ],
   "source": [
    "# With 3 layers\n",
    "computeDevScores()"
   ]
  },
  {
   "cell_type": "code",
   "execution_count": 119,
   "metadata": {
    "collapsed": true
   },
   "outputs": [],
   "source": [
    "def computeTestAccuracy():\n",
    "    batch_x_test_1, batch_y_1_test = PaddedDataIterator(test_df).next_batch(len(test_df),sentence_size)\n",
    "    batch_x_test = batch_x_test_1.reshape([-1,n_steps, n_input])\n",
    "    batch_y_test = np.concatenate((batch_y_1_test.reshape([-1,1]), 1-batch_y_1_test.reshape([-1,1])), axis=1)\n",
    "    test_acc, test_cost = sess.run([accuracy, cost], feed_dict={x: batch_x_test, y: batch_y_test})\n",
    "    print (\"Test Accuracy:\",test_acc)"
   ]
  },
  {
   "cell_type": "code",
   "execution_count": 31,
   "metadata": {
    "collapsed": false
   },
   "outputs": [
    {
     "data": {
      "image/png": "[encoded data removed]",
      "text/plain": [
       "<matplotlib.figure.Figure at 0x7f8181d580d0>"
      ]
     },
     "metadata": {},
     "output_type": "display_data"
    },
    {
     "data": {
      "image/png": "[encoded data removed]",
      "text/plain": [
       "<matplotlib.figure.Figure at 0x7f81953c5990>"
      ]
     },
     "metadata": {},
     "output_type": "display_data"
    },
    {
     "name": "stdout",
     "output_type": "stream",
     "text": [
      "Testing Accuracy: 0.777\n",
      "Testing cost: 0.530469\n"
     ]
    }
   ],
   "source": [
    "# Changed to Fancy RNN\n",
    "# 1.0 keep_prob\n",
    "# 1 layer\n",
    "visualizeTraining(iters, costs, accs)"
   ]
  },
  {
   "cell_type": "code",
   "execution_count": 33,
   "metadata": {
    "collapsed": false
   },
   "outputs": [
    {
     "data": {
      "image/png": "[encoded data removed]",
      "text/plain": [
       "<matplotlib.figure.Figure at 0x7f8195353410>"
      ]
     },
     "metadata": {},
     "output_type": "display_data"
    },
    {
     "data": {
      "image/png": "[encoded data removed]",
      "text/plain": [
       "<matplotlib.figure.Figure at 0x7f81795c9dd0>"
      ]
     },
     "metadata": {},
     "output_type": "display_data"
    },
    {
     "name": "stdout",
     "output_type": "stream",
     "text": [
      "Testing Accuracy: 0.77\n",
      "Testing cost: 0.536199\n"
     ]
    }
   ],
   "source": [
    "# Changed to Fancy RNN (2nd run same settings)\n",
    "# 1.0 keep_prob\n",
    "# 1 layer\n",
    "visualizeTraining(iters, costs, accs)"
   ]
  },
  {
   "cell_type": "code",
   "execution_count": 58,
   "metadata": {
    "collapsed": false
   },
   "outputs": [
    {
     "data": {
      "image/png": "[encoded data removed]",
      "text/plain": [
       "<matplotlib.figure.Figure at 0x7f816fadb550>"
      ]
     },
     "metadata": {},
     "output_type": "display_data"
    },
    {
     "data": {
      "image/png": "[encoded data removed]",
      "text/plain": [
       "<matplotlib.figure.Figure at 0x7f8192d29410>"
      ]
     },
     "metadata": {},
     "output_type": "display_data"
    },
    {
     "name": "stdout",
     "output_type": "stream",
     "text": [
      "Testing Accuracy: 0.85\n",
      "Testing cost: 0.383113\n"
     ]
    }
   ],
   "source": [
    "# Original without FancyRNN but using prob instead of one-hot\n",
    "visualizeTraining(iters, costs, accs)"
   ]
  },
  {
   "cell_type": "code",
   "execution_count": 60,
   "metadata": {
    "collapsed": false
   },
   "outputs": [
    {
     "data": {
      "image/png": "[encoded data removed]",
      "text/plain": [
       "<matplotlib.figure.Figure at 0x7f8192cb7310>"
      ]
     },
     "metadata": {},
     "output_type": "display_data"
    },
    {
     "data": {
      "image/png": "[encoded data removed]",
      "text/plain": [
       "<matplotlib.figure.Figure at 0x7f8194ae7310>"
      ]
     },
     "metadata": {},
     "output_type": "display_data"
    },
    {
     "name": "stdout",
     "output_type": "stream",
     "text": [
      "Testing Accuracy: 0.856\n",
      "Testing cost: 0.364555\n"
     ]
    }
   ],
   "source": [
    "# Default FancyRNN but using prob instead of one-hot\n",
    "visualizeTraining(iters, costs, accs)"
   ]
  },
  {
   "cell_type": "code",
   "execution_count": 62,
   "metadata": {
    "collapsed": false
   },
   "outputs": [
    {
     "data": {
      "image/png": "[encoded data removed]",
      "text/plain": [
       "<matplotlib.figure.Figure at 0x7f81920fe5d0>"
      ]
     },
     "metadata": {},
     "output_type": "display_data"
    },
    {
     "data": {
      "image/png": "[encoded data removed]",
      "text/plain": [
       "<matplotlib.figure.Figure at 0x7f8192cdfcd0>"
      ]
     },
     "metadata": {},
     "output_type": "display_data"
    },
    {
     "name": "stdout",
     "output_type": "stream",
     "text": [
      "Testing Accuracy: 0.867\n",
      "Testing cost: 0.362405\n"
     ]
    }
   ],
   "source": [
    "# Default FancyRNN but using prob instead of one-hot\n",
    "# 2 LSTM layers\n",
    "visualizeTraining(iters, costs, accs)"
   ]
  },
  {
   "cell_type": "code",
   "execution_count": 64,
   "metadata": {
    "collapsed": false
   },
   "outputs": [
    {
     "data": {
      "image/png": "[encoded data removed]",
      "text/plain": [
       "<matplotlib.figure.Figure at 0x7f8190c7a050>"
      ]
     },
     "metadata": {},
     "output_type": "display_data"
    },
    {
     "data": {
      "image/png": "[encoded data removed]",
      "text/plain": [
       "<matplotlib.figure.Figure at 0x7f8191c6f050>"
      ]
     },
     "metadata": {},
     "output_type": "display_data"
    },
    {
     "name": "stdout",
     "output_type": "stream",
     "text": [
      "Testing Accuracy: 0.878\n",
      "Testing cost: 0.348885\n"
     ]
    }
   ],
   "source": [
    "# Default FancyRNN but using prob instead of one-hot\n",
    "# 3 LSTM layers\n",
    "visualizeTraining(iters, costs, accs)"
   ]
  },
  {
   "cell_type": "code",
   "execution_count": 123,
   "metadata": {
    "collapsed": false
   },
   "outputs": [
    {
     "data": {
      "image/png": "[encoded data removed]",
      "text/plain": [
       "<matplotlib.figure.Figure at 0x7f819206f390>"
      ]
     },
     "metadata": {},
     "output_type": "display_data"
    },
    {
     "data": {
      "image/png": "[encoded data removed]",
      "text/plain": [
       "<matplotlib.figure.Figure at 0x7f816a1bce90>"
      ]
     },
     "metadata": {},
     "output_type": "display_data"
    },
    {
     "name": "stdout",
     "output_type": "stream",
     "text": [
      "Dev Accuracy: 0.870905\n",
      "Dev cost: 0.341749\n"
     ]
    }
   ],
   "source": [
    "# Default FancyRNN but using prob instead of one-hot\n",
    "# 3 LSTM layers\n",
    "visualizeTraining(iters, costs, accs)"
   ]
  },
  {
   "cell_type": "code",
   "execution_count": 120,
   "metadata": {
    "collapsed": false
   },
   "outputs": [
    {
     "name": "stderr",
     "output_type": "stream",
     "text": [
      "/home/annie_y_lee/anaconda2/lib/python2.7/site-packages/ipykernel/__main__.py:4: FutureWarning: reshape is deprecated and will raise in a subsequent release. Please use .values.reshape(...) instead\n"
     ]
    },
    {
     "ename": "RuntimeError",
     "evalue": "Attempted to use a closed Session.",
     "output_type": "error",
     "traceback": [
      "\u001b[0;31m---------------------------------------------------------------------------\u001b[0m",
      "\u001b[0;31mRuntimeError\u001b[0m                              Traceback (most recent call last)",
      "\u001b[0;32m<ipython-input-120-298f0f9cacc2>\u001b[0m in \u001b[0;36m<module>\u001b[0;34m()\u001b[0m\n\u001b[1;32m      1\u001b[0m \u001b[0;31m# Compute Test Accuracy\u001b[0m\u001b[0;34m\u001b[0m\u001b[0;34m\u001b[0m\u001b[0m\n\u001b[0;32m----> 2\u001b[0;31m \u001b[0mcomputeTestAccuracy\u001b[0m\u001b[0;34m(\u001b[0m\u001b[0;34m)\u001b[0m\u001b[0;34m\u001b[0m\u001b[0m\n\u001b[0m",
      "\u001b[0;32m<ipython-input-119-3def7dfbd88a>\u001b[0m in \u001b[0;36mcomputeTestAccuracy\u001b[0;34m()\u001b[0m\n\u001b[1;32m      3\u001b[0m     \u001b[0mbatch_x_test\u001b[0m \u001b[0;34m=\u001b[0m \u001b[0mbatch_x_test_1\u001b[0m\u001b[0;34m.\u001b[0m\u001b[0mreshape\u001b[0m\u001b[0;34m(\u001b[0m\u001b[0;34m[\u001b[0m\u001b[0;34m-\u001b[0m\u001b[0;36m1\u001b[0m\u001b[0;34m,\u001b[0m\u001b[0mn_steps\u001b[0m\u001b[0;34m,\u001b[0m \u001b[0mn_input\u001b[0m\u001b[0;34m]\u001b[0m\u001b[0;34m)\u001b[0m\u001b[0;34m\u001b[0m\u001b[0m\n\u001b[1;32m      4\u001b[0m     \u001b[0mbatch_y_test\u001b[0m \u001b[0;34m=\u001b[0m \u001b[0mnp\u001b[0m\u001b[0;34m.\u001b[0m\u001b[0mconcatenate\u001b[0m\u001b[0;34m(\u001b[0m\u001b[0;34m(\u001b[0m\u001b[0mbatch_y_1_test\u001b[0m\u001b[0;34m.\u001b[0m\u001b[0mreshape\u001b[0m\u001b[0;34m(\u001b[0m\u001b[0;34m[\u001b[0m\u001b[0;34m-\u001b[0m\u001b[0;36m1\u001b[0m\u001b[0;34m,\u001b[0m\u001b[0;36m1\u001b[0m\u001b[0;34m]\u001b[0m\u001b[0;34m)\u001b[0m\u001b[0;34m,\u001b[0m \u001b[0;36m1\u001b[0m\u001b[0;34m-\u001b[0m\u001b[0mbatch_y_1_test\u001b[0m\u001b[0;34m.\u001b[0m\u001b[0mreshape\u001b[0m\u001b[0;34m(\u001b[0m\u001b[0;34m[\u001b[0m\u001b[0;34m-\u001b[0m\u001b[0;36m1\u001b[0m\u001b[0;34m,\u001b[0m\u001b[0;36m1\u001b[0m\u001b[0;34m]\u001b[0m\u001b[0;34m)\u001b[0m\u001b[0;34m)\u001b[0m\u001b[0;34m,\u001b[0m \u001b[0maxis\u001b[0m\u001b[0;34m=\u001b[0m\u001b[0;36m1\u001b[0m\u001b[0;34m)\u001b[0m\u001b[0;34m\u001b[0m\u001b[0m\n\u001b[0;32m----> 5\u001b[0;31m     \u001b[0mtest_acc\u001b[0m\u001b[0;34m,\u001b[0m \u001b[0mtest_cost\u001b[0m \u001b[0;34m=\u001b[0m \u001b[0msess\u001b[0m\u001b[0;34m.\u001b[0m\u001b[0mrun\u001b[0m\u001b[0;34m(\u001b[0m\u001b[0;34m[\u001b[0m\u001b[0maccuracy\u001b[0m\u001b[0;34m,\u001b[0m \u001b[0mcost\u001b[0m\u001b[0;34m]\u001b[0m\u001b[0;34m,\u001b[0m \u001b[0mfeed_dict\u001b[0m\u001b[0;34m=\u001b[0m\u001b[0;34m{\u001b[0m\u001b[0mx\u001b[0m\u001b[0;34m:\u001b[0m \u001b[0mbatch_x_test\u001b[0m\u001b[0;34m,\u001b[0m \u001b[0my\u001b[0m\u001b[0;34m:\u001b[0m \u001b[0mbatch_y_test\u001b[0m\u001b[0;34m}\u001b[0m\u001b[0;34m)\u001b[0m\u001b[0;34m\u001b[0m\u001b[0m\n\u001b[0m\u001b[1;32m      6\u001b[0m     \u001b[0;32mprint\u001b[0m \u001b[0;34m(\u001b[0m\u001b[0;34m\"Test Accuracy:\"\u001b[0m\u001b[0;34m,\u001b[0m\u001b[0mtest_acc\u001b[0m\u001b[0;34m)\u001b[0m\u001b[0;34m\u001b[0m\u001b[0m\n",
      "\u001b[0;32m/home/annie_y_lee/anaconda2/lib/python2.7/site-packages/tensorflow/python/client/session.pyc\u001b[0m in \u001b[0;36mrun\u001b[0;34m(self, fetches, feed_dict, options, run_metadata)\u001b[0m\n\u001b[1;32m    765\u001b[0m     \u001b[0;32mtry\u001b[0m\u001b[0;34m:\u001b[0m\u001b[0;34m\u001b[0m\u001b[0m\n\u001b[1;32m    766\u001b[0m       result = self._run(None, fetches, feed_dict, options_ptr,\n\u001b[0;32m--> 767\u001b[0;31m                          run_metadata_ptr)\n\u001b[0m\u001b[1;32m    768\u001b[0m       \u001b[0;32mif\u001b[0m \u001b[0mrun_metadata\u001b[0m\u001b[0;34m:\u001b[0m\u001b[0;34m\u001b[0m\u001b[0m\n\u001b[1;32m    769\u001b[0m         \u001b[0mproto_data\u001b[0m \u001b[0;34m=\u001b[0m \u001b[0mtf_session\u001b[0m\u001b[0;34m.\u001b[0m\u001b[0mTF_GetBuffer\u001b[0m\u001b[0;34m(\u001b[0m\u001b[0mrun_metadata_ptr\u001b[0m\u001b[0;34m)\u001b[0m\u001b[0;34m\u001b[0m\u001b[0m\n",
      "\u001b[0;32m/home/annie_y_lee/anaconda2/lib/python2.7/site-packages/tensorflow/python/client/session.pyc\u001b[0m in \u001b[0;36m_run\u001b[0;34m(self, handle, fetches, feed_dict, options, run_metadata)\u001b[0m\n\u001b[1;32m    901\u001b[0m     \u001b[0;31m# Check session.\u001b[0m\u001b[0;34m\u001b[0m\u001b[0;34m\u001b[0m\u001b[0m\n\u001b[1;32m    902\u001b[0m     \u001b[0;32mif\u001b[0m \u001b[0mself\u001b[0m\u001b[0;34m.\u001b[0m\u001b[0m_closed\u001b[0m\u001b[0;34m:\u001b[0m\u001b[0;34m\u001b[0m\u001b[0m\n\u001b[0;32m--> 903\u001b[0;31m       \u001b[0;32mraise\u001b[0m \u001b[0mRuntimeError\u001b[0m\u001b[0;34m(\u001b[0m\u001b[0;34m'Attempted to use a closed Session.'\u001b[0m\u001b[0;34m)\u001b[0m\u001b[0;34m\u001b[0m\u001b[0m\n\u001b[0m\u001b[1;32m    904\u001b[0m     \u001b[0;32mif\u001b[0m \u001b[0mself\u001b[0m\u001b[0;34m.\u001b[0m\u001b[0mgraph\u001b[0m\u001b[0;34m.\u001b[0m\u001b[0mversion\u001b[0m \u001b[0;34m==\u001b[0m \u001b[0;36m0\u001b[0m\u001b[0;34m:\u001b[0m\u001b[0;34m\u001b[0m\u001b[0m\n\u001b[1;32m    905\u001b[0m       raise RuntimeError('The Session graph is empty.  Add operations to the '\n",
      "\u001b[0;31mRuntimeError\u001b[0m: Attempted to use a closed Session."
     ]
    }
   ],
   "source": [
    "# Compute Test Accuracy\n",
    "computeTestAccuracy()"
   ]
  },
  {
   "cell_type": "markdown",
   "metadata": {},
   "source": [
    "### Scratch below"
   ]
  },
  {
   "cell_type": "code",
   "execution_count": 177,
   "metadata": {
    "collapsed": true
   },
   "outputs": [],
   "source": [
    "batch_x, batch_y = PaddedDataIterator(train_df).next_batch(batch_size,100)"
   ]
  },
  {
   "cell_type": "code",
   "execution_count": 159,
   "metadata": {
    "collapsed": true
   },
   "outputs": [
    {
     "data": {
      "text/plain": [
       "array([[   5,  176,   34,   33,   55,  473,    5,  371,   68,  111,    4,\n",
       "        2523,  133,    5,   34,  371,    3,  140,  539,    2,   55,    1,\n",
       "        2409,   22,    1,   64,  210,   20,  237,    5,  175,  335,   21,\n",
       "           5,  193,  271,    5, 1097,  326,   53,    1,  216,   57,    9,\n",
       "        1349,    1,   17,   10,  150,   15,  266,    4,  213,   31, 2480,\n",
       "           9,  849,    1,   17,   15, 2183, 1508,  426,   11,   15,  352,\n",
       "          13, 2397,  432,    4,    3,  179, 1624,   40,    0, 2087,  663,\n",
       "           4,  891,  819,    2,  215,  192,   11,  512,    0,  266,  822,\n",
       "           7,    3,   62,  207,   23,    1,   43,    2,  612,    5,  125,\n",
       "          23],\n",
       "       [   1,  182,   10,   91,    3,   62,  100,    3,  160,  329,  136,\n",
       "          12,    1,   78,  451,   13,    5,    1,  263,    2,  968,    5,\n",
       "           1,  124,    5,   16, 1273,    4, 1381,   36,   43,  131, 2129,\n",
       "        1394,    0, 1723,    4,   17,  101,  692,    0, 1882,   11,    0,\n",
       "        1361, 2415, 2062, 1912,   16,    0,  732,    5,  839,   12,    0,\n",
       "         695,    7,   20, 1188,   23,    6,  220,  968,    5,   21,    3,\n",
       "         110,  423,   99,  148,  451,   13, 2383, 2179,    0,    0,    0,\n",
       "           0,    0,    0,    0,    0,    0,    0,    0,    0,    0,    0,\n",
       "           0,    0,    0,    0,    0,    0,    0,    0,    0,    0,    0,\n",
       "           0],\n",
       "       [ 182,   10,  242,    8,   15,  194,    2,  313,  123,  601,  563,\n",
       "          11,    4,    5,  389,   14,    0,  538,    9,    0,  173,  563,\n",
       "         111,    0, 1992,  551,  882,  125,  638,    1,   72,    5,   41,\n",
       "          33,  251,   22,    6,   60,  124,  327,  421,    0,  242,   14,\n",
       "          22,    6,  112,    2,  124,  563,   11,   92,   40,   15,  194,\n",
       "          47,    6,   41,   17,    2, 2361,   16,   24,  165,  551,   26,\n",
       "         954,  429,    0,    0,    0,    0,    0,    0,    0,    0,    0,\n",
       "           0,    0,    0,    0,    0,    0,    0,    0,    0,    0,    0,\n",
       "           0,    0,    0,    0,    0,    0,    0,    0,    0,    0,    0,\n",
       "           0],\n",
       "       [  10,   39, 1157, 1910,    4,  265, 2389,  125,    2,    3, 1613,\n",
       "         234, 1267,    7, 1455,    2,   35,    3,  179, 1495,   52,  169,\n",
       "        2577,   11, 2478, 2181, 1830,    4,   79,    3, 1563, 1538,   26,\n",
       "        1244,   27,  159,  440,  159,   14, 1975,   22,    6,  112,    3,\n",
       "          62,   50,  817,  130,   13,    0, 2066,  146, 1874,  196,   12,\n",
       "          63,  905,    0,  519,    7,    3,  440, 1450,   99,   51, 1502,\n",
       "         629,    9,    3, 1015,   39,   13,    3,  519,  196,    0,  449,\n",
       "           7,  553, 2402,  168,    0,  151, 1632,  114, 2212,    4, 2238,\n",
       "         198,    0,   65,   96,  410,    9,  121,    5,  212,  435,   14,\n",
       "          27],\n",
       "       [   1,  182,   10,  103,    2,  406,   96,  427,  171,  252,  370,\n",
       "          97,  461,   16,  439,  128,   34,  114,  472,    4,    0,  103,\n",
       "          18,    3,  493, 1120,   15,  427,  104,   20,   17,   31,  609,\n",
       "          23,   10, 1319,  103,  104,   27,  338,   68,    0,    0,    0,\n",
       "           0,    0,    0,    0,    0,    0,    0,    0,    0,    0,    0,\n",
       "           0,    0,    0,    0,    0,    0,    0,    0,    0,    0,    0,\n",
       "           0,    0,    0,    0,    0,    0,    0,    0,    0,    0,    0,\n",
       "           0,    0,    0,    0,    0,    0,    0,    0,    0,    0,    0,\n",
       "           0,    0,    0,    0,    0,    0,    0,    0,    0,    0,    0,\n",
       "           0],\n",
       "       [ 478, 1983,   18,   42,    1, 2514,  365,    4,   45,  238, 2338,\n",
       "          78,  589,   13,    0, 2435,  155, 2322,  194,  566,    5,    0,\n",
       "           0,    0,    0,    0,    0,    0,    0,    0,    0,    0,    0,\n",
       "           0,    0,    0,    0,    0,    0,    0,    0,    0,    0,    0,\n",
       "           0,    0,    0,    0,    0,    0,    0,    0,    0,    0,    0,\n",
       "           0,    0,    0,    0,    0,    0,    0,    0,    0,    0,    0,\n",
       "           0,    0,    0,    0,    0,    0,    0,    0,    0,    0,    0,\n",
       "           0,    0,    0,    0,    0,    0,    0,    0,    0,    0,    0,\n",
       "           0,    0,    0,    0,    0,    0,    0,    0,    0,    0,    0,\n",
       "           0],\n",
       "       [  74,  238,    1,  114, 1981,   42,    1,  328,    4,  492,    5,\n",
       "          11,  161,  784,    1, 1291,    4,   48,    2,   15,  767,    4,\n",
       "         533,   21,   68,    0,    0,    0,    0,    0,    0,    0,    0,\n",
       "           0,    0,    0,    0,    0,    0,    0,    0,    0,    0,    0,\n",
       "           0,    0,    0,    0,    0,    0,    0,    0,    0,    0,    0,\n",
       "           0,    0,    0,    0,    0,    0,    0,    0,    0,    0,    0,\n",
       "           0,    0,    0,    0,    0,    0,    0,    0,    0,    0,    0,\n",
       "           0,    0,    0,    0,    0,    0,    0,    0,    0,    0,    0,\n",
       "           0,    0,    0,    0,    0,    0,    0,    0,    0,    0,    0,\n",
       "           0],\n",
       "       [ 110,   10,   16,  333,  546,  439, 1131,   52, 1845,   97,   24,\n",
       "         663,   26,  277,    8,  195,   26, 1115,    1,  745,  205,    5,\n",
       "         389,  209,  213,   24,  549,   43,   15,  195,  405,  860,    4,\n",
       "         426,   11,    5,  252,  225,   97,    0,  461,    0,    0,    0,\n",
       "           0,    0,    0,    0,    0,    0,    0,    0,    0,    0,    0,\n",
       "           0,    0,    0,    0,    0,    0,    0,    0,    0,    0,    0,\n",
       "           0,    0,    0,    0,    0,    0,    0,    0,    0,    0,    0,\n",
       "           0,    0,    0,    0,    0,    0,    0,    0,    0,    0,    0,\n",
       "           0,    0,    0,    0,    0,    0,    0,    0,    0,    0,    0,\n",
       "           0],\n",
       "       [   2,   15,   80,    9, 1787,   92,   19,   49,   96, 2589,  142,\n",
       "         215,    0,  579,   52, 1646,    3,  531, 2544,  404,  120,    7,\n",
       "           0,   39,  233,    5,    7,   20,   32,  391,    5,  249,   79,\n",
       "         500,   27,  111,   57,    9,   32,  190,  845,  642,    1,  165,\n",
       "         301,  211,    4,   79,    0, 2473,  500,  233,  422,  559,   37,\n",
       "           0, 2317,    9,    3,  815,   14,   10,   31,  534,    5,    2,\n",
       "           3,  381,  146,   77,  239,   33,  878,    2, 1862,   76,  380,\n",
       "           8, 1081,    5,  273, 1316,    7,    0,  465,   12,  598,    0,\n",
       "        1483,    9,  138,  503,  880,    2,  582, 1431,  812, 1533,  450,\n",
       "          10],\n",
       "       [  10,   18,    3,   32,  446,  426,   12,    1,  110,   11, 2123,\n",
       "         243,    7, 1373, 2559,   23,    5,  193,   20,  435,   97,    3,\n",
       "         549,   14,  268,    2,  157,    3, 1758,   26,    3, 1498,    8,\n",
       "         575, 2345,  591,  877,  574,  244, 2572,   30,  190,  313, 1213,\n",
       "        1776, 2340,   13, 1249,   30,  313, 1948, 1077,   26,  917,   22,\n",
       "           6, 1865,  207,  266,  103,   12,   30,   33, 1310,   59, 1795,\n",
       "           3,  681,  426,   11, 2225,  649,    0,    0,    0,    0,    0,\n",
       "           0,    0,    0,    0,    0,    0,    0,    0,    0,    0,    0,\n",
       "           0,    0,    0,    0,    0,    0,    0,    0,    0,    0,    0,\n",
       "           0]], dtype=int32)"
      ]
     },
     "execution_count": 159,
     "metadata": {},
     "output_type": "execute_result"
    }
   ],
   "source": [
    "batch_x"
   ]
  },
  {
   "cell_type": "code",
   "execution_count": 163,
   "metadata": {
    "collapsed": false
   },
   "outputs": [],
   "source": [
    "batch_x, batch_y = PaddedDataIterator(train_df).next_batch(batch_size,100)\n",
    "batch_x = batch_x.reshape((batch_size, n_steps, n_input))\n",
    "\n",
    "x = tf.unstack(x, n_steps, 1)"
   ]
  },
  {
   "cell_type": "code",
   "execution_count": 161,
   "metadata": {
    "collapsed": false
   },
   "outputs": [
    {
     "data": {
      "text/plain": [
       "[<tf.Tensor 'unstack_5:0' shape=(?, 10) dtype=float32>,\n",
       " <tf.Tensor 'unstack_5:1' shape=(?, 10) dtype=float32>,\n",
       " <tf.Tensor 'unstack_5:2' shape=(?, 10) dtype=float32>,\n",
       " <tf.Tensor 'unstack_5:3' shape=(?, 10) dtype=float32>,\n",
       " <tf.Tensor 'unstack_5:4' shape=(?, 10) dtype=float32>,\n",
       " <tf.Tensor 'unstack_5:5' shape=(?, 10) dtype=float32>,\n",
       " <tf.Tensor 'unstack_5:6' shape=(?, 10) dtype=float32>,\n",
       " <tf.Tensor 'unstack_5:7' shape=(?, 10) dtype=float32>,\n",
       " <tf.Tensor 'unstack_5:8' shape=(?, 10) dtype=float32>,\n",
       " <tf.Tensor 'unstack_5:9' shape=(?, 10) dtype=float32>]"
      ]
     },
     "execution_count": 161,
     "metadata": {},
     "output_type": "execute_result"
    }
   ],
   "source": [
    "tf.unstack(x, n_steps, 1)"
   ]
  },
  {
   "cell_type": "code",
   "execution_count": 156,
   "metadata": {
    "collapsed": true
   },
   "outputs": [],
   "source": [
    "from tensorflow.contrib import rnn"
   ]
  },
  {
   "cell_type": "code",
   "execution_count": null,
   "metadata": {
    "collapsed": true
   },
   "outputs": [],
   "source": [
    "##define variables \n",
    "n_hidden = 10 \n",
    "with tf.variable_scope(\"softmax\"):\n",
    "    W_out_ = tf.Variable(tf.random_uniform([n_hidden,1], 0.0, 1.0), name=\"W_out_\")\n",
    "    b_out_ = tf.Variable(tf.zeros([1], dtype=tf.float32) ,name=\"b_out_\")\n",
    "\n",
    "with tf.variable_scope(\"recurrent\"):\n",
    "    rnn_cell = rnn.BasicLSTMCell(n_hidden)\n",
    "    outputs, states = rnn.static_rnn(rnn_cell, x, dtype=tf.float32)\n",
    "    initial_h_ = self.cell_.zero_state(self.batch_size_,dtype=tf.float32)\n",
    "    outputs, self.final_h_ = tf.nn.dynamic_rnn(self.cell_, inputs=self.x_,initial_state=self.initial_h_, sequence_length=100)\n",
    "\n"
   ]
  },
  {
   "cell_type": "code",
   "execution_count": 196,
   "metadata": {
    "collapsed": true
   },
   "outputs": [],
   "source": [
    "def MakeFancyRNNCell(H, keep_prob, num_layers=1):\n",
    "    \"\"\"Make a fancy RNN cell.\n",
    "\n",
    "    Use tf.nn.rnn_cell functions to construct an LSTM cell.\n",
    "    Initialize forget_bias=0.0 for better training.\n",
    "\n",
    "    Args:\n",
    "      H: hidden state size\n",
    "      keep_prob: dropout keep prob (same for input and output)\n",
    "      num_layers: number of cell layers\n",
    "\n",
    "    Returns:\n",
    "      (tf.nn.rnn_cell.RNNCell) multi-layer LSTM cell with dropout\n",
    "    \"\"\"\n",
    "    cells = []\n",
    "    for _ in xrange(num_layers):\n",
    "        cell = tf.contrib.rnn.BasicLSTMCell(H, forget_bias=0.0)\n",
    "        cell = tf.contrib.rnn.DropoutWrapper(\n",
    "        cell, input_keep_prob=keep_prob, output_keep_prob=keep_prob)\n",
    "        cells.append(cell)\n",
    "    return tf.contrib.rnn.MultiRNNCell(cells)\n"
   ]
  },
  {
   "cell_type": "code",
   "execution_count": 36,
   "metadata": {
    "collapsed": true
   },
   "outputs": [],
   "source": [
    "##have to fix here!!!\n",
    "def RNN(x):\n",
    "    n_hidden = 10 \n",
    "    with tf.variable_scope(\"softmax\"):\n",
    "        W_out_ = tf.Variable(tf.random_uniform([n_hidden,1], 0.0, 1.0), name=\"W_out_\")\n",
    "        b_out_ = tf.Variable(tf.zeros([1], dtype=tf.float32) ,name=\"b_out_\")\n",
    "    # reshape to [1, n_input]\n",
    "    n_input = len(x)\n",
    "    x = tf.reshape(x, [-1, n_input])\n",
    "\n",
    "    # Generate a n_input-element sequence of inputs\n",
    "    # (eg. [had] [a] [general] -> [20] [6] [33])\n",
    "    x = tf.split(x,n_input,1)\n",
    "#     print x\n",
    "    # 1-layer LSTM with n_hidden units.\n",
    "#     with tf.variable_scope('cell_def'):\n",
    "#         lstm_cell = MakeFancyRNNCell(H=n_hidden,keep_prob=1)\n",
    "    lstm_cell = tf.contrib.rnn.core_rnn_cell.BasicLSTMCell(n_hidden, forget_bias=0.0)\n",
    "#     print x\n",
    "    # generate prediction\n",
    "\n",
    "    \n",
    "#     with tf.variable_scope('rnn_def',reuse=True):\n",
    "    initial_h_ = lstm_cell.zero_state(1,dtype=tf.int32)\n",
    "    outputs,final_h_ = tf.contrib.rnn.static_rnn(lstm_cell, x,dtype=tf.int32)\n",
    "            \n",
    "            \n",
    "\n",
    "    # there are n_input outputs but\n",
    "    # we only want the last output\n",
    "    return tf.matmul(outputs[-1], W_out_) + b_out_"
   ]
  },
  {
   "cell_type": "code",
   "execution_count": 37,
   "metadata": {
    "collapsed": false
   },
   "outputs": [
    {
     "ename": "AttributeError",
     "evalue": "'module' object has no attribute 'static_rnn'",
     "output_type": "error",
     "traceback": [
      "\u001b[0;31m---------------------------------------------------------------------------\u001b[0m",
      "\u001b[0;31mAttributeError\u001b[0m                            Traceback (most recent call last)",
      "\u001b[0;32m<ipython-input-37-320bf1dbf5de>\u001b[0m in \u001b[0;36m<module>\u001b[0;34m()\u001b[0m\n\u001b[1;32m      4\u001b[0m \u001b[0;34m\u001b[0m\u001b[0m\n\u001b[1;32m      5\u001b[0m \u001b[0mlearning_rate\u001b[0m \u001b[0;34m=\u001b[0m\u001b[0;36m0.1\u001b[0m\u001b[0;34m\u001b[0m\u001b[0m\n\u001b[0;32m----> 6\u001b[0;31m \u001b[0mpred\u001b[0m \u001b[0;34m=\u001b[0m \u001b[0mRNN\u001b[0m\u001b[0;34m(\u001b[0m\u001b[0mX_sample_ids\u001b[0m\u001b[0;34m[\u001b[0m\u001b[0;36m0\u001b[0m\u001b[0;34m]\u001b[0m\u001b[0;34m)\u001b[0m\u001b[0;34m\u001b[0m\u001b[0m\n\u001b[0m\u001b[1;32m      7\u001b[0m \u001b[0;34m\u001b[0m\u001b[0m\n\u001b[1;32m      8\u001b[0m \u001b[0;31m# Loss and optimizer\u001b[0m\u001b[0;34m\u001b[0m\u001b[0;34m\u001b[0m\u001b[0m\n",
      "\u001b[0;32m<ipython-input-36-c600588cd114>\u001b[0m in \u001b[0;36mRNN\u001b[0;34m(x)\u001b[0m\n\u001b[1;32m     23\u001b[0m \u001b[0;31m#     with tf.variable_scope('rnn_def',reuse=True):\u001b[0m\u001b[0;34m\u001b[0m\u001b[0;34m\u001b[0m\u001b[0m\n\u001b[1;32m     24\u001b[0m     \u001b[0minitial_h_\u001b[0m \u001b[0;34m=\u001b[0m \u001b[0mlstm_cell\u001b[0m\u001b[0;34m.\u001b[0m\u001b[0mzero_state\u001b[0m\u001b[0;34m(\u001b[0m\u001b[0;36m1\u001b[0m\u001b[0;34m,\u001b[0m\u001b[0mdtype\u001b[0m\u001b[0;34m=\u001b[0m\u001b[0mtf\u001b[0m\u001b[0;34m.\u001b[0m\u001b[0mint32\u001b[0m\u001b[0;34m)\u001b[0m\u001b[0;34m\u001b[0m\u001b[0m\n\u001b[0;32m---> 25\u001b[0;31m     \u001b[0moutputs\u001b[0m\u001b[0;34m,\u001b[0m\u001b[0mfinal_h_\u001b[0m \u001b[0;34m=\u001b[0m \u001b[0mtf\u001b[0m\u001b[0;34m.\u001b[0m\u001b[0mcontrib\u001b[0m\u001b[0;34m.\u001b[0m\u001b[0mrnn\u001b[0m\u001b[0;34m.\u001b[0m\u001b[0mcore_rnn_cell\u001b[0m\u001b[0;34m.\u001b[0m\u001b[0mstatic_rnn\u001b[0m\u001b[0;34m(\u001b[0m\u001b[0mlstm_cell\u001b[0m\u001b[0;34m,\u001b[0m \u001b[0mx\u001b[0m\u001b[0;34m,\u001b[0m\u001b[0mdtype\u001b[0m\u001b[0;34m=\u001b[0m\u001b[0mtf\u001b[0m\u001b[0;34m.\u001b[0m\u001b[0mint32\u001b[0m\u001b[0;34m)\u001b[0m\u001b[0;34m\u001b[0m\u001b[0m\n\u001b[0m\u001b[1;32m     26\u001b[0m \u001b[0;34m\u001b[0m\u001b[0m\n\u001b[1;32m     27\u001b[0m \u001b[0;34m\u001b[0m\u001b[0m\n",
      "\u001b[0;31mAttributeError\u001b[0m: 'module' object has no attribute 'static_rnn'"
     ]
    }
   ],
   "source": [
    "import tensorflow as tf\n",
    "from tensorflow.contrib import rnn\n",
    "\n",
    "\n",
    "learning_rate =0.1\n",
    "pred = RNN(X_sample_ids[0])\n",
    "\n",
    "# Loss and optimizer\n",
    "cost = tf.reduce_mean(tf.nn.softmax_cross_entropy_with_logits(logits=pred, labels=y_sample[0]))\n",
    "optimizer = tf.train.RMSPropOptimizer(learning_rate=learning_rate).minimize(cost)"
   ]
  },
  {
   "cell_type": "code",
   "execution_count": null,
   "metadata": {
    "collapsed": true
   },
   "outputs": [],
   "source": [
    "_, loss, onehot_pred = session.run([optimizer, cost, pred], \n",
    "                                        feed_dict={x: symbols_in_keys, y: symbols_out_onehot})"
   ]
  },
  {
   "cell_type": "markdown",
   "metadata": {},
   "source": [
    "### Scratch below"
   ]
  },
  {
   "cell_type": "code",
   "execution_count": 17,
   "metadata": {
    "collapsed": false
   },
   "outputs": [
    {
     "name": "stdout",
     "output_type": "stream",
     "text": [
      "(60843,)\n",
      "(26177,)\n",
      "(60843, 1)\n",
      "(26177, 1)\n"
     ]
    }
   ],
   "source": [
    "print X_train.shape\n",
    "print X_test.shape\n",
    "print y_train.shape\n",
    "print y_test.shape"
   ]
  },
  {
   "cell_type": "code",
   "execution_count": 18,
   "metadata": {
    "collapsed": true
   },
   "outputs": [],
   "source": [
    "X_sample = nonnan_doc_clean[0:100]\n",
    "y_sample = y[0:100]"
   ]
  },
  {
   "cell_type": "code",
   "execution_count": 19,
   "metadata": {
    "collapsed": false
   },
   "outputs": [
    {
     "name": "stdout",
     "output_type": "stream",
     "text": [
      "35\n",
      "This is a great tutu and at a really great price. It doesn't look cheap at all. I'm so glad I looked on Amazon and found such an affordable tutu that isn't made poorly. A++\n",
      "[ 0.875]\n"
     ]
    }
   ],
   "source": [
    "print len(X_sample[0].split())\n",
    "print X_sample[0]\n",
    "print y[0]"
   ]
  },
  {
   "cell_type": "code",
   "execution_count": 22,
   "metadata": {
    "collapsed": false
   },
   "outputs": [
    {
     "data": {
      "text/plain": [
       "1161192"
      ]
     },
     "execution_count": 22,
     "metadata": {},
     "output_type": "execute_result"
    }
   ],
   "source": [
    "len(nltk.corpus.__getattr__('brown').words())"
   ]
  },
  {
   "cell_type": "code",
   "execution_count": 86,
   "metadata": {
    "collapsed": true
   },
   "outputs": [],
   "source": [
    "corpus = X_sample[0].split()\n",
    "bi = utils.batch_generator(np.array(X_sample[0].split()), batch_size=1, max_time=100)"
   ]
  },
  {
   "cell_type": "code",
   "execution_count": 87,
   "metadata": {
    "collapsed": false
   },
   "outputs": [
    {
     "name": "stdout",
     "output_type": "stream",
     "text": [
      "[['For' 'what' 'I' 'paid' 'for' 'two' 'tutus' 'is' 'unbeatable' 'anywhere!'\n",
      "  'I' 'ordered' 'a' 'pink' 'and' 'turquios' 'and' 'they' 'are' 'vibrant'\n",
      "  'and' 'beautiful!' 'The' 'tutu' 'is' 'very' 'full!' 'Princess' 'style!'\n",
      "  'Not' 'cheaply' 'made!' 'Not' 'cheap' 'materia!' 'Obviously' 'someone'\n",
      "  'made' 'these' 'with' 'love' 'and' 'care!' 'I' 'paid' 'less' 'than' '7'\n",
      "  'bucks' 'for' 'a' 'tutu' 'I' 'and' 'I' 'feel' 'proud' 'of' 'my' 'self'\n",
      "  'for' 'researching' 'to' 'the' 'point' 'of' 'finding' 'gold!Recommend'\n",
      "  '2-6' 'years!My' 'daughter' 'is' 'two' '!' 'Wears' 'size' '4t' 'and'\n",
      "  'this' 'skirt' '(' 'one' 'size' ')' 'fit' 'perfect' 'and' 'will'\n",
      "  'probaly' 'be' 'able' 'to' 'accommodate' 'her' 'quickly' 'growing'\n",
      "  'waist' 'for' 'some']]\n",
      "[ 0.875]\n"
     ]
    }
   ],
   "source": [
    "for i, (w,y) in enumerate(bi):\n",
    "    print w\n",
    "    print y_sample[0]"
   ]
  },
  {
   "cell_type": "code",
   "execution_count": 99,
   "metadata": {
    "collapsed": false
   },
   "outputs": [
    {
     "data": {
      "text/plain": [
       "<module 'rnnlm' from 'rnnlm.py'>"
      ]
     },
     "execution_count": 99,
     "metadata": {},
     "output_type": "execute_result"
    }
   ],
   "source": [
    "import rnnlm\n",
    "# import rnnlm_test\n",
    "reload(rnnlm)\n",
    "# reload(rnnlm_test)"
   ]
  },
  {
   "cell_type": "code",
   "execution_count": 92,
   "metadata": {
    "collapsed": true
   },
   "outputs": [],
   "source": [
    "def run_epoch(lm, session, batch_iterator,\n",
    "              train=False, verbose=False,\n",
    "              tick_s=10, learning_rate=0.1):\n",
    "    start_time = time.time()\n",
    "    tick_time = start_time  # for showing status\n",
    "    total_cost = 0.0  # total cost, summed over all words\n",
    "    total_batches = 0\n",
    "    total_words = 0\n",
    "\n",
    "    if train:\n",
    "        train_op = lm.train_step_\n",
    "        use_dropout = True\n",
    "        loss = lm.train_loss_\n",
    "    else:\n",
    "        train_op = tf.no_op()\n",
    "        use_dropout = False  # no dropout at test time\n",
    "        loss = lm.loss_  # true loss, if train_loss is an approximation\n",
    "\n",
    "    for i, (w, y) in enumerate(batch_iterator):\n",
    "        cost = 0.0\n",
    "        # At first batch in epoch, get a clean intitial state.\n",
    "        if i == 0:\n",
    "            h = session.run(lm.initial_h_, {lm.input_w_: w})\n",
    "\n",
    "        #### YOUR CODE HERE ####\n",
    "        \n",
    "        feed_dict = {lm.input_w_:w,\n",
    "                 lm.target_y_:y,\n",
    "                 lm.learning_rate_:learning_rate,\n",
    "                 lm.initial_h_ : h}\n",
    "            \n",
    "        cost, _, h = session.run([loss, train_op,lm.final_h_],\n",
    "                       feed_dict=feed_dict)\n",
    "        \n",
    "        \n",
    "            \n",
    "            \n",
    "        #### END(YOUR CODE) ####\n",
    "        total_cost += cost\n",
    "        total_batches = i + 1\n",
    "        total_words += w.size  # w.size = batch_size * max_time\n",
    "\n",
    "        ##\n",
    "        # Print average loss-so-far for epoch\n",
    "        # If using train_loss_, this may be an underestimate.\n",
    "        if verbose and (time.time() - tick_time >= tick_s):\n",
    "            avg_cost = total_cost / total_batches\n",
    "            avg_wps = total_words / (time.time() - start_time)\n",
    "            print \"[batch %d]: seen %d words at %d wps, loss = %.3f\" % (\n",
    "                i, total_words, avg_wps, avg_cost)\n",
    "            tick_time = time.time()  # reset time ticker\n",
    "\n",
    "    return total_cost / total_batches"
   ]
  },
  {
   "cell_type": "code",
   "execution_count": 93,
   "metadata": {
    "collapsed": true
   },
   "outputs": [],
   "source": [
    "V=1000\n",
    "max_time = 20\n",
    "batch_size = 50\n",
    "learning_rate = 0.5\n",
    "num_epochs = 5\n",
    "\n",
    "# Model parameters\n",
    "model_params = dict(V=100, \n",
    "                    H=100, \n",
    "                    softmax_ns=200,\n",
    "                    num_layers=1)\n",
    "\n",
    "# TF_SAVEDIR = \"tf_saved\"\n",
    "# checkpoint_filename = os.path.join(TF_SAVEDIR, \"rnnlm\")\n",
    "# trained_filename = os.path.join(TF_SAVEDIR, \"rnnlm_trained\")"
   ]
  },
  {
   "cell_type": "code",
   "execution_count": 101,
   "metadata": {
    "collapsed": false
   },
   "outputs": [
    {
     "ename": "ValueError",
     "evalue": "Dimension must be 2 but is 3 for 'recurrent/transpose' (op: 'Transpose') with input shapes: [?,100], [3].",
     "output_type": "error",
     "traceback": [
      "\u001b[0;31m---------------------------------------------------------------------------\u001b[0m",
      "\u001b[0;31mValueError\u001b[0m                                Traceback (most recent call last)",
      "\u001b[0;32m<ipython-input-101-576b79a3ba51>\u001b[0m in \u001b[0;36m<module>\u001b[0;34m()\u001b[0m\n\u001b[1;32m      9\u001b[0m \u001b[0;34m\u001b[0m\u001b[0m\n\u001b[1;32m     10\u001b[0m \u001b[0mlm\u001b[0m \u001b[0;34m=\u001b[0m \u001b[0mrnnlm\u001b[0m\u001b[0;34m.\u001b[0m\u001b[0mRNNLM\u001b[0m\u001b[0;34m(\u001b[0m\u001b[0;34m**\u001b[0m\u001b[0mmodel_params\u001b[0m\u001b[0;34m)\u001b[0m\u001b[0;34m\u001b[0m\u001b[0m\n\u001b[0;32m---> 11\u001b[0;31m \u001b[0mlm\u001b[0m\u001b[0;34m.\u001b[0m\u001b[0mBuildCoreGraph\u001b[0m\u001b[0;34m(\u001b[0m\u001b[0;34m)\u001b[0m\u001b[0;34m\u001b[0m\u001b[0m\n\u001b[0m\u001b[1;32m     12\u001b[0m \u001b[0mlm\u001b[0m\u001b[0;34m.\u001b[0m\u001b[0mBuildTrainGraph\u001b[0m\u001b[0;34m(\u001b[0m\u001b[0;34m)\u001b[0m\u001b[0;34m\u001b[0m\u001b[0m\n\u001b[1;32m     13\u001b[0m \u001b[0;34m\u001b[0m\u001b[0m\n",
      "\u001b[0;32m/home/legu/266project/w266-final-project/rnnlm.py\u001b[0m in \u001b[0;36mwrapper\u001b[0;34m(self, *args, **kwargs)\u001b[0m\n\u001b[1;32m     61\u001b[0m     \u001b[0;32mdef\u001b[0m \u001b[0mwrapper\u001b[0m\u001b[0;34m(\u001b[0m\u001b[0mself\u001b[0m\u001b[0;34m,\u001b[0m \u001b[0;34m*\u001b[0m\u001b[0margs\u001b[0m\u001b[0;34m,\u001b[0m \u001b[0;34m**\u001b[0m\u001b[0mkwargs\u001b[0m\u001b[0;34m)\u001b[0m\u001b[0;34m:\u001b[0m\u001b[0;34m\u001b[0m\u001b[0m\n\u001b[1;32m     62\u001b[0m         \u001b[0;32mwith\u001b[0m \u001b[0mself\u001b[0m\u001b[0;34m.\u001b[0m\u001b[0mgraph\u001b[0m\u001b[0;34m.\u001b[0m\u001b[0mas_default\u001b[0m\u001b[0;34m(\u001b[0m\u001b[0;34m)\u001b[0m\u001b[0;34m:\u001b[0m\u001b[0;34m\u001b[0m\u001b[0m\n\u001b[0;32m---> 63\u001b[0;31m             \u001b[0;32mreturn\u001b[0m \u001b[0mfunction\u001b[0m\u001b[0;34m(\u001b[0m\u001b[0mself\u001b[0m\u001b[0;34m,\u001b[0m \u001b[0;34m*\u001b[0m\u001b[0margs\u001b[0m\u001b[0;34m,\u001b[0m \u001b[0;34m**\u001b[0m\u001b[0mkwargs\u001b[0m\u001b[0;34m)\u001b[0m\u001b[0;34m\u001b[0m\u001b[0m\n\u001b[0m\u001b[1;32m     64\u001b[0m     \u001b[0;32mreturn\u001b[0m \u001b[0mwrapper\u001b[0m\u001b[0;34m\u001b[0m\u001b[0m\n\u001b[1;32m     65\u001b[0m \u001b[0;34m\u001b[0m\u001b[0m\n",
      "\u001b[0;32m/home/legu/266project/w266-final-project/rnnlm.py\u001b[0m in \u001b[0;36mBuildCoreGraph\u001b[0;34m(self)\u001b[0m\n\u001b[1;32m    195\u001b[0m \u001b[0;34m\u001b[0m\u001b[0m\n\u001b[1;32m    196\u001b[0m             \u001b[0mself\u001b[0m\u001b[0;34m.\u001b[0m\u001b[0minitial_h_\u001b[0m \u001b[0;34m=\u001b[0m \u001b[0mself\u001b[0m\u001b[0;34m.\u001b[0m\u001b[0mcell_\u001b[0m\u001b[0;34m.\u001b[0m\u001b[0mzero_state\u001b[0m\u001b[0;34m(\u001b[0m\u001b[0mself\u001b[0m\u001b[0;34m.\u001b[0m\u001b[0mbatch_size_\u001b[0m\u001b[0;34m,\u001b[0m\u001b[0mdtype\u001b[0m\u001b[0;34m=\u001b[0m\u001b[0mtf\u001b[0m\u001b[0;34m.\u001b[0m\u001b[0mfloat32\u001b[0m\u001b[0;34m)\u001b[0m\u001b[0;34m\u001b[0m\u001b[0m\n\u001b[0;32m--> 197\u001b[0;31m             \u001b[0mself\u001b[0m\u001b[0;34m.\u001b[0m\u001b[0moutputs\u001b[0m\u001b[0;34m,\u001b[0m \u001b[0mself\u001b[0m\u001b[0;34m.\u001b[0m\u001b[0mfinal_h_\u001b[0m \u001b[0;34m=\u001b[0m \u001b[0mtf\u001b[0m\u001b[0;34m.\u001b[0m\u001b[0mnn\u001b[0m\u001b[0;34m.\u001b[0m\u001b[0mdynamic_rnn\u001b[0m\u001b[0;34m(\u001b[0m\u001b[0mself\u001b[0m\u001b[0;34m.\u001b[0m\u001b[0mcell_\u001b[0m\u001b[0;34m,\u001b[0m \u001b[0minputs\u001b[0m\u001b[0;34m=\u001b[0m\u001b[0mself\u001b[0m\u001b[0;34m.\u001b[0m\u001b[0mx_\u001b[0m\u001b[0;34m,\u001b[0m\u001b[0minitial_state\u001b[0m\u001b[0;34m=\u001b[0m\u001b[0mself\u001b[0m\u001b[0;34m.\u001b[0m\u001b[0minitial_h_\u001b[0m\u001b[0;34m,\u001b[0m \u001b[0msequence_length\u001b[0m\u001b[0;34m=\u001b[0m\u001b[0;36m100\u001b[0m\u001b[0;34m)\u001b[0m\u001b[0;34m\u001b[0m\u001b[0m\n\u001b[0m\u001b[1;32m    198\u001b[0m \u001b[0;34m\u001b[0m\u001b[0m\n\u001b[1;32m    199\u001b[0m \u001b[0;34m\u001b[0m\u001b[0m\n",
      "\u001b[0;32m/home/legu/anaconda2/lib/python2.7/site-packages/tensorflow/python/ops/rnn.pyc\u001b[0m in \u001b[0;36mdynamic_rnn\u001b[0;34m(cell, inputs, sequence_length, initial_state, dtype, parallel_iterations, swap_memory, time_major, scope)\u001b[0m\n\u001b[1;32m    495\u001b[0m     \u001b[0;31m# (B,T,D) => (T,B,D)\u001b[0m\u001b[0;34m\u001b[0m\u001b[0;34m\u001b[0m\u001b[0m\n\u001b[1;32m    496\u001b[0m     flat_input = tuple(array_ops.transpose(input_, [1, 0, 2])\n\u001b[0;32m--> 497\u001b[0;31m                        for input_ in flat_input)\n\u001b[0m\u001b[1;32m    498\u001b[0m \u001b[0;34m\u001b[0m\u001b[0m\n\u001b[1;32m    499\u001b[0m   \u001b[0mparallel_iterations\u001b[0m \u001b[0;34m=\u001b[0m \u001b[0mparallel_iterations\u001b[0m \u001b[0;32mor\u001b[0m \u001b[0;36m32\u001b[0m\u001b[0;34m\u001b[0m\u001b[0m\n",
      "\u001b[0;32m/home/legu/anaconda2/lib/python2.7/site-packages/tensorflow/python/ops/rnn.pyc\u001b[0m in \u001b[0;36m<genexpr>\u001b[0;34m((input_,))\u001b[0m\n\u001b[1;32m    495\u001b[0m     \u001b[0;31m# (B,T,D) => (T,B,D)\u001b[0m\u001b[0;34m\u001b[0m\u001b[0;34m\u001b[0m\u001b[0m\n\u001b[1;32m    496\u001b[0m     flat_input = tuple(array_ops.transpose(input_, [1, 0, 2])\n\u001b[0;32m--> 497\u001b[0;31m                        for input_ in flat_input)\n\u001b[0m\u001b[1;32m    498\u001b[0m \u001b[0;34m\u001b[0m\u001b[0m\n\u001b[1;32m    499\u001b[0m   \u001b[0mparallel_iterations\u001b[0m \u001b[0;34m=\u001b[0m \u001b[0mparallel_iterations\u001b[0m \u001b[0;32mor\u001b[0m \u001b[0;36m32\u001b[0m\u001b[0;34m\u001b[0m\u001b[0m\n",
      "\u001b[0;32m/home/legu/anaconda2/lib/python2.7/site-packages/tensorflow/python/ops/array_ops.pyc\u001b[0m in \u001b[0;36mtranspose\u001b[0;34m(a, perm, name)\u001b[0m\n\u001b[1;32m   1268\u001b[0m         \u001b[0mret\u001b[0m\u001b[0;34m.\u001b[0m\u001b[0mset_shape\u001b[0m\u001b[0;34m(\u001b[0m\u001b[0minput_shape\u001b[0m\u001b[0;34m[\u001b[0m\u001b[0;34m:\u001b[0m\u001b[0;34m:\u001b[0m\u001b[0;34m-\u001b[0m\u001b[0;36m1\u001b[0m\u001b[0;34m]\u001b[0m\u001b[0;34m)\u001b[0m\u001b[0;34m\u001b[0m\u001b[0m\n\u001b[1;32m   1269\u001b[0m     \u001b[0;32melse\u001b[0m\u001b[0;34m:\u001b[0m\u001b[0;34m\u001b[0m\u001b[0m\n\u001b[0;32m-> 1270\u001b[0;31m       \u001b[0mret\u001b[0m \u001b[0;34m=\u001b[0m \u001b[0mgen_array_ops\u001b[0m\u001b[0;34m.\u001b[0m\u001b[0mtranspose\u001b[0m\u001b[0;34m(\u001b[0m\u001b[0ma\u001b[0m\u001b[0;34m,\u001b[0m \u001b[0mperm\u001b[0m\u001b[0;34m,\u001b[0m \u001b[0mname\u001b[0m\u001b[0;34m=\u001b[0m\u001b[0mname\u001b[0m\u001b[0;34m)\u001b[0m\u001b[0;34m\u001b[0m\u001b[0m\n\u001b[0m\u001b[1;32m   1271\u001b[0m     \u001b[0;32mreturn\u001b[0m \u001b[0mret\u001b[0m\u001b[0;34m\u001b[0m\u001b[0m\n\u001b[1;32m   1272\u001b[0m \u001b[0;34m\u001b[0m\u001b[0m\n",
      "\u001b[0;32m/home/legu/anaconda2/lib/python2.7/site-packages/tensorflow/python/ops/gen_array_ops.pyc\u001b[0m in \u001b[0;36mtranspose\u001b[0;34m(x, perm, name)\u001b[0m\n\u001b[1;32m   3719\u001b[0m     \u001b[0mA\u001b[0m \u001b[0;34m`\u001b[0m\u001b[0mTensor\u001b[0m\u001b[0;34m`\u001b[0m\u001b[0;34m.\u001b[0m \u001b[0mHas\u001b[0m \u001b[0mthe\u001b[0m \u001b[0msame\u001b[0m \u001b[0mtype\u001b[0m \u001b[0;32mas\u001b[0m \u001b[0;34m`\u001b[0m\u001b[0mx\u001b[0m\u001b[0;34m`\u001b[0m\u001b[0;34m.\u001b[0m\u001b[0;34m\u001b[0m\u001b[0m\n\u001b[1;32m   3720\u001b[0m   \"\"\"\n\u001b[0;32m-> 3721\u001b[0;31m   \u001b[0mresult\u001b[0m \u001b[0;34m=\u001b[0m \u001b[0m_op_def_lib\u001b[0m\u001b[0;34m.\u001b[0m\u001b[0mapply_op\u001b[0m\u001b[0;34m(\u001b[0m\u001b[0;34m\"Transpose\"\u001b[0m\u001b[0;34m,\u001b[0m \u001b[0mx\u001b[0m\u001b[0;34m=\u001b[0m\u001b[0mx\u001b[0m\u001b[0;34m,\u001b[0m \u001b[0mperm\u001b[0m\u001b[0;34m=\u001b[0m\u001b[0mperm\u001b[0m\u001b[0;34m,\u001b[0m \u001b[0mname\u001b[0m\u001b[0;34m=\u001b[0m\u001b[0mname\u001b[0m\u001b[0;34m)\u001b[0m\u001b[0;34m\u001b[0m\u001b[0m\n\u001b[0m\u001b[1;32m   3722\u001b[0m   \u001b[0;32mreturn\u001b[0m \u001b[0mresult\u001b[0m\u001b[0;34m\u001b[0m\u001b[0m\n\u001b[1;32m   3723\u001b[0m \u001b[0;34m\u001b[0m\u001b[0m\n",
      "\u001b[0;32m/home/legu/anaconda2/lib/python2.7/site-packages/tensorflow/python/framework/op_def_library.pyc\u001b[0m in \u001b[0;36mapply_op\u001b[0;34m(self, op_type_name, name, **keywords)\u001b[0m\n\u001b[1;32m    766\u001b[0m         op = g.create_op(op_type_name, inputs, output_types, name=scope,\n\u001b[1;32m    767\u001b[0m                          \u001b[0minput_types\u001b[0m\u001b[0;34m=\u001b[0m\u001b[0minput_types\u001b[0m\u001b[0;34m,\u001b[0m \u001b[0mattrs\u001b[0m\u001b[0;34m=\u001b[0m\u001b[0mattr_protos\u001b[0m\u001b[0;34m,\u001b[0m\u001b[0;34m\u001b[0m\u001b[0m\n\u001b[0;32m--> 768\u001b[0;31m                          op_def=op_def)\n\u001b[0m\u001b[1;32m    769\u001b[0m         \u001b[0;32mif\u001b[0m \u001b[0moutput_structure\u001b[0m\u001b[0;34m:\u001b[0m\u001b[0;34m\u001b[0m\u001b[0m\n\u001b[1;32m    770\u001b[0m           \u001b[0moutputs\u001b[0m \u001b[0;34m=\u001b[0m \u001b[0mop\u001b[0m\u001b[0;34m.\u001b[0m\u001b[0moutputs\u001b[0m\u001b[0;34m\u001b[0m\u001b[0m\n",
      "\u001b[0;32m/home/legu/anaconda2/lib/python2.7/site-packages/tensorflow/python/framework/ops.pyc\u001b[0m in \u001b[0;36mcreate_op\u001b[0;34m(self, op_type, inputs, dtypes, input_types, name, attrs, op_def, compute_shapes, compute_device)\u001b[0m\n\u001b[1;32m   2336\u001b[0m                     original_op=self._default_original_op, op_def=op_def)\n\u001b[1;32m   2337\u001b[0m     \u001b[0;32mif\u001b[0m \u001b[0mcompute_shapes\u001b[0m\u001b[0;34m:\u001b[0m\u001b[0;34m\u001b[0m\u001b[0m\n\u001b[0;32m-> 2338\u001b[0;31m       \u001b[0mset_shapes_for_outputs\u001b[0m\u001b[0;34m(\u001b[0m\u001b[0mret\u001b[0m\u001b[0;34m)\u001b[0m\u001b[0;34m\u001b[0m\u001b[0m\n\u001b[0m\u001b[1;32m   2339\u001b[0m     \u001b[0mself\u001b[0m\u001b[0;34m.\u001b[0m\u001b[0m_add_op\u001b[0m\u001b[0;34m(\u001b[0m\u001b[0mret\u001b[0m\u001b[0;34m)\u001b[0m\u001b[0;34m\u001b[0m\u001b[0m\n\u001b[1;32m   2340\u001b[0m     \u001b[0mself\u001b[0m\u001b[0;34m.\u001b[0m\u001b[0m_record_op_seen_by_control_dependencies\u001b[0m\u001b[0;34m(\u001b[0m\u001b[0mret\u001b[0m\u001b[0;34m)\u001b[0m\u001b[0;34m\u001b[0m\u001b[0m\n",
      "\u001b[0;32m/home/legu/anaconda2/lib/python2.7/site-packages/tensorflow/python/framework/ops.pyc\u001b[0m in \u001b[0;36mset_shapes_for_outputs\u001b[0;34m(op)\u001b[0m\n\u001b[1;32m   1717\u001b[0m       \u001b[0mshape_func\u001b[0m \u001b[0;34m=\u001b[0m \u001b[0m_call_cpp_shape_fn_and_require_op\u001b[0m\u001b[0;34m\u001b[0m\u001b[0m\n\u001b[1;32m   1718\u001b[0m \u001b[0;34m\u001b[0m\u001b[0m\n\u001b[0;32m-> 1719\u001b[0;31m   \u001b[0mshapes\u001b[0m \u001b[0;34m=\u001b[0m \u001b[0mshape_func\u001b[0m\u001b[0;34m(\u001b[0m\u001b[0mop\u001b[0m\u001b[0;34m)\u001b[0m\u001b[0;34m\u001b[0m\u001b[0m\n\u001b[0m\u001b[1;32m   1720\u001b[0m   \u001b[0;32mif\u001b[0m \u001b[0mshapes\u001b[0m \u001b[0;32mis\u001b[0m \u001b[0mNone\u001b[0m\u001b[0;34m:\u001b[0m\u001b[0;34m\u001b[0m\u001b[0m\n\u001b[1;32m   1721\u001b[0m     raise RuntimeError(\n",
      "\u001b[0;32m/home/legu/anaconda2/lib/python2.7/site-packages/tensorflow/python/framework/ops.pyc\u001b[0m in \u001b[0;36mcall_with_requiring\u001b[0;34m(op)\u001b[0m\n\u001b[1;32m   1667\u001b[0m \u001b[0;34m\u001b[0m\u001b[0m\n\u001b[1;32m   1668\u001b[0m   \u001b[0;32mdef\u001b[0m \u001b[0mcall_with_requiring\u001b[0m\u001b[0;34m(\u001b[0m\u001b[0mop\u001b[0m\u001b[0;34m)\u001b[0m\u001b[0;34m:\u001b[0m\u001b[0;34m\u001b[0m\u001b[0m\n\u001b[0;32m-> 1669\u001b[0;31m     \u001b[0;32mreturn\u001b[0m \u001b[0mcall_cpp_shape_fn\u001b[0m\u001b[0;34m(\u001b[0m\u001b[0mop\u001b[0m\u001b[0;34m,\u001b[0m \u001b[0mrequire_shape_fn\u001b[0m\u001b[0;34m=\u001b[0m\u001b[0mTrue\u001b[0m\u001b[0;34m)\u001b[0m\u001b[0;34m\u001b[0m\u001b[0m\n\u001b[0m\u001b[1;32m   1670\u001b[0m \u001b[0;34m\u001b[0m\u001b[0m\n\u001b[1;32m   1671\u001b[0m   \u001b[0m_call_cpp_shape_fn_and_require_op\u001b[0m \u001b[0;34m=\u001b[0m \u001b[0mcall_with_requiring\u001b[0m\u001b[0;34m\u001b[0m\u001b[0m\n",
      "\u001b[0;32m/home/legu/anaconda2/lib/python2.7/site-packages/tensorflow/python/framework/common_shapes.pyc\u001b[0m in \u001b[0;36mcall_cpp_shape_fn\u001b[0;34m(op, input_tensors_needed, input_tensors_as_shapes_needed, debug_python_shape_fn, require_shape_fn)\u001b[0m\n\u001b[1;32m    608\u001b[0m     res = _call_cpp_shape_fn_impl(op, input_tensors_needed,\n\u001b[1;32m    609\u001b[0m                                   \u001b[0minput_tensors_as_shapes_needed\u001b[0m\u001b[0;34m,\u001b[0m\u001b[0;34m\u001b[0m\u001b[0m\n\u001b[0;32m--> 610\u001b[0;31m                                   debug_python_shape_fn, require_shape_fn)\n\u001b[0m\u001b[1;32m    611\u001b[0m     \u001b[0;32mif\u001b[0m \u001b[0;32mnot\u001b[0m \u001b[0misinstance\u001b[0m\u001b[0;34m(\u001b[0m\u001b[0mres\u001b[0m\u001b[0;34m,\u001b[0m \u001b[0mdict\u001b[0m\u001b[0;34m)\u001b[0m\u001b[0;34m:\u001b[0m\u001b[0;34m\u001b[0m\u001b[0m\n\u001b[1;32m    612\u001b[0m       \u001b[0;31m# Handles the case where _call_cpp_shape_fn_impl calls unknown_shape(op).\u001b[0m\u001b[0;34m\u001b[0m\u001b[0;34m\u001b[0m\u001b[0m\n",
      "\u001b[0;32m/home/legu/anaconda2/lib/python2.7/site-packages/tensorflow/python/framework/common_shapes.pyc\u001b[0m in \u001b[0;36m_call_cpp_shape_fn_impl\u001b[0;34m(op, input_tensors_needed, input_tensors_as_shapes_needed, debug_python_shape_fn, require_shape_fn)\u001b[0m\n\u001b[1;32m    674\u001b[0m       \u001b[0mmissing_shape_fn\u001b[0m \u001b[0;34m=\u001b[0m \u001b[0mTrue\u001b[0m\u001b[0;34m\u001b[0m\u001b[0m\n\u001b[1;32m    675\u001b[0m     \u001b[0;32melse\u001b[0m\u001b[0;34m:\u001b[0m\u001b[0;34m\u001b[0m\u001b[0m\n\u001b[0;32m--> 676\u001b[0;31m       \u001b[0;32mraise\u001b[0m \u001b[0mValueError\u001b[0m\u001b[0;34m(\u001b[0m\u001b[0merr\u001b[0m\u001b[0;34m.\u001b[0m\u001b[0mmessage\u001b[0m\u001b[0;34m)\u001b[0m\u001b[0;34m\u001b[0m\u001b[0m\n\u001b[0m\u001b[1;32m    677\u001b[0m \u001b[0;34m\u001b[0m\u001b[0m\n\u001b[1;32m    678\u001b[0m   \u001b[0;32mif\u001b[0m \u001b[0mmissing_shape_fn\u001b[0m\u001b[0;34m:\u001b[0m\u001b[0;34m\u001b[0m\u001b[0m\n",
      "\u001b[0;31mValueError\u001b[0m: Dimension must be 2 but is 3 for 'recurrent/transpose' (op: 'Transpose') with input shapes: [?,100], [3]."
     ]
    }
   ],
   "source": [
    "# Will print status every this many seconds\n",
    "import rnnlm\n",
    "# import rnnlm_test\n",
    "reload(rnnlm)\n",
    "print_interval = 5\n",
    "\n",
    "# Clear old log directory\n",
    "shutil.rmtree(\"tf_summaries\", ignore_errors=True)\n",
    "\n",
    "lm = rnnlm.RNNLM(**model_params)\n",
    "lm.BuildCoreGraph()\n",
    "lm.BuildTrainGraph()\n",
    "\n",
    "# Explicitly add global initializer and variable saver to LM graph\n",
    "with lm.graph.as_default():\n",
    "    initializer = tf.global_variables_initializer()\n",
    "    saver = tf.train.Saver()\n",
    "    \n",
    "# Clear old log directory\n",
    "# shutil.rmtree(TF_SAVEDIR, ignore_errors=True)\n",
    "# if not os.path.isdir(TF_SAVEDIR):\n",
    "#     os.makedirs(TF_SAVEDIR)\n",
    "\n",
    "with tf.Session(graph=lm.graph) as session:\n",
    "    # Seed RNG for repeatability\n",
    "    tf.set_random_seed(42)\n",
    "\n",
    "    session.run(initializer)\n",
    "\n",
    "    for epoch in xrange(1,num_epochs+1):\n",
    "        t0_epoch = time.time()\n",
    "#         bi = utils.batch_generator(train_ids, batch_size, max_time)\n",
    "        corpus = X_sample[0].split()\n",
    "        bi = utils.batch_generator(np.array(X_sample[0].split()), batch_size=1, max_time=100)\n",
    "        for i, (w,y) in enumerate(bi):\n",
    "            w1=w\n",
    "            \n",
    "        bi= (w1,y_sample[y])\n",
    "        print \"[epoch %d] Starting epoch %d\" % (epoch, epoch)\n",
    "        #### YOUR CODE HERE ####\n",
    "        # Run a training epoch.\n",
    "        cost = run_epoch(lm, session, bi, \n",
    "                     learning_rate=learning_rate, train=True, \n",
    "                     verbose=False, tick_s=3600)\n",
    "\n",
    "        #### END(YOUR CODE) ####\n",
    "        print \"[epoch %d] Completed in %s\" % (epoch, utils.pretty_timedelta(since=t0_epoch))\n",
    "    \n",
    "        # Save a checkpoint\n",
    "        saver.save(session, checkpoint_filename, global_step=epoch)\n",
    "    \n",
    "        ##\n",
    "        # score_dataset will run a forward pass over the entire dataset\n",
    "        # and report perplexity scores. This can be slow (around 1/2 to \n",
    "        # 1/4 as long as a full epoch), so you may want to comment it out\n",
    "        # to speed up training on a slow machine. Be sure to run it at the \n",
    "        # end to evaluate your score.\n",
    "        print (\"[epoch %d]\" % epoch),\n",
    "        #score_dataset(lm, session, train_ids, name=\"Train set\")\n",
    "        print (\"[epoch %d]\" % epoch),\n",
    "        score_dataset(lm, session, test_ids, name=\"Test set\")\n",
    "        print \"\"\n",
    "    \n",
    "    # Save final model\n",
    "    saver.save(session, trained_filename)"
   ]
  },
  {
   "cell_type": "markdown",
   "metadata": {},
   "source": [
    "## Scratch Below"
   ]
  },
  {
   "cell_type": "code",
   "execution_count": null,
   "metadata": {
    "collapsed": true
   },
   "outputs": [],
   "source": [
    "print 1"
   ]
  },
  {
   "cell_type": "code",
   "execution_count": 62,
   "metadata": {
    "collapsed": false
   },
   "outputs": [
    {
     "name": "stdout",
     "output_type": "stream",
     "text": [
      "[nltk_data] Downloading package brown to /Users/legu/nltk_data...\n",
      "[nltk_data]   Unzipping corpora/brown.zip.\n"
     ]
    }
   ],
   "source": [
    "import nltk\n",
    "nltk.download('brown')\n",
    "\n",
    "corpus = nltk.corpus.brown"
   ]
  },
  {
   "cell_type": "code",
   "execution_count": 72,
   "metadata": {
    "collapsed": false
   },
   "outputs": [
    {
     "name": "stdout",
     "output_type": "stream",
     "text": [
      "Collecting vocabulary\n",
      "  Downloading Vocabulary-1.0.4.tar.gz\n",
      "Collecting requests==2.13.0 (from vocabulary)\n",
      "  Downloading requests-2.13.0-py2.py3-none-any.whl (584kB)\n",
      "\u001b[K    100% |████████████████████████████████| 593kB 408kB/s \n",
      "\u001b[?25hCollecting mock==2.0.0 (from vocabulary)\n",
      "  Downloading mock-2.0.0-py2.py3-none-any.whl (56kB)\n",
      "\u001b[K    100% |████████████████████████████████| 61kB 1.9MB/s \n",
      "\u001b[?25hRequirement already satisfied (use --upgrade to upgrade): funcsigs>=1; python_version < \"3.3\" in /Users/legu/anaconda/lib/python2.7/site-packages (from mock==2.0.0->vocabulary)\n",
      "Requirement already satisfied (use --upgrade to upgrade): six>=1.9 in /Users/legu/anaconda/lib/python2.7/site-packages (from mock==2.0.0->vocabulary)\n",
      "Collecting pbr>=0.11 (from mock==2.0.0->vocabulary)\n",
      "  Downloading pbr-3.1.1-py2.py3-none-any.whl (99kB)\n",
      "\u001b[K    100% |████████████████████████████████| 102kB 1.2MB/s \n",
      "\u001b[?25hBuilding wheels for collected packages: vocabulary\n",
      "  Running setup.py bdist_wheel for vocabulary ... \u001b[?25l-\b \b\\\b \bdone\n",
      "\u001b[?25h  Stored in directory: /Users/legu/Library/Caches/pip/wheels/36/6c/c0/92bb20f79402d055c3bce3e89d9f2cce5d6937bc2aadc0fb45\n",
      "Successfully built vocabulary\n",
      "Installing collected packages: requests, pbr, mock, vocabulary\n",
      "  Found existing installation: requests 2.11.1\n",
      "    Uninstalling requests-2.11.1:\n",
      "      Successfully uninstalled requests-2.11.1\n",
      "Successfully installed mock-2.0.0 pbr-3.1.1 requests-2.13.0 vocabulary-1.0.4\n",
      "\u001b[33mYou are using pip version 8.1.2, however version 9.0.1 is available.\n",
      "You should consider upgrading via the 'pip install --upgrade pip' command.\u001b[0m\n"
     ]
    }
   ],
   "source": [
    "!pip install vocabulary"
   ]
  },
  {
   "cell_type": "code",
   "execution_count": 73,
   "metadata": {
    "collapsed": false
   },
   "outputs": [
    {
     "ename": "AttributeError",
     "evalue": "'module' object has no attribute 'Vocabulary'",
     "output_type": "error",
     "traceback": [
      "\u001b[0;31m---------------------------------------------------------------------------\u001b[0m",
      "\u001b[0;31mAttributeError\u001b[0m                            Traceback (most recent call last)",
      "\u001b[0;32m<ipython-input-73-385fd0cf2b77>\u001b[0m in \u001b[0;36m<module>\u001b[0;34m()\u001b[0m\n\u001b[1;32m      2\u001b[0m \u001b[0;32mimport\u001b[0m \u001b[0mvocabulary\u001b[0m\u001b[0;34m\u001b[0m\u001b[0m\n\u001b[1;32m      3\u001b[0m \u001b[0;31m# train_sents, test_sents = utils.get_train_test_sents(corpus, split=0.8, shuffle=True)\u001b[0m\u001b[0;34m\u001b[0m\u001b[0;34m\u001b[0m\u001b[0m\n\u001b[0;32m----> 4\u001b[0;31m \u001b[0mvocab\u001b[0m \u001b[0;34m=\u001b[0m \u001b[0mvocabulary\u001b[0m\u001b[0;34m.\u001b[0m\u001b[0mVocabulary\u001b[0m\u001b[0;34m(\u001b[0m\u001b[0mutils\u001b[0m\u001b[0;34m.\u001b[0m\u001b[0mcanonicalize_word\u001b[0m\u001b[0;34m(\u001b[0m\u001b[0mw\u001b[0m\u001b[0;34m)\u001b[0m \u001b[0;32mfor\u001b[0m \u001b[0mw\u001b[0m \u001b[0;32min\u001b[0m \u001b[0mutils\u001b[0m\u001b[0;34m.\u001b[0m\u001b[0mflatten\u001b[0m\u001b[0;34m(\u001b[0m\u001b[0mcorpus\u001b[0m\u001b[0;34m)\u001b[0m\u001b[0;34m)\u001b[0m\u001b[0;34m\u001b[0m\u001b[0m\n\u001b[0m\u001b[1;32m      5\u001b[0m \u001b[0;32mprint\u001b[0m \u001b[0;34m\"Train set vocabulary: %d words\"\u001b[0m \u001b[0;34m%\u001b[0m \u001b[0mvocab\u001b[0m\u001b[0;34m.\u001b[0m\u001b[0msize\u001b[0m\u001b[0;34m\u001b[0m\u001b[0m\n",
      "\u001b[0;31mAttributeError\u001b[0m: 'module' object has no attribute 'Vocabulary'"
     ]
    }
   ],
   "source": [
    "import utils\n",
    "import vocabulary\n",
    "# train_sents, test_sents = utils.get_train_test_sents(corpus, split=0.8, shuffle=True)\n",
    "vocab = vocabulary.Vocabulary(utils.canonicalize_word(w) for w in utils.flatten(corpus))\n",
    "print \"Train set vocabulary: %d words\" % vocab.size"
   ]
  },
  {
   "cell_type": "code",
   "execution_count": null,
   "metadata": {
    "collapsed": true
   },
   "outputs": [],
   "source": []
  }
 ],
 "metadata": {
  "anaconda-cloud": {},
  "kernelspec": {
   "display_name": "Python 2",
   "language": "python",
   "name": "python2"
  },
  "language_info": {
   "codemirror_mode": {
    "name": "ipython",
    "version": 2
   },
   "file_extension": ".py",
   "mimetype": "text/x-python",
   "name": "python",
   "nbconvert_exporter": "python",
   "pygments_lexer": "ipython2",
   "version": "2.7.13"
  }
 },
 "nbformat": 4,
 "nbformat_minor": 1
}
