{
 "cells": [
  {
   "cell_type": "code",
   "execution_count": 1,
   "metadata": {
    "collapsed": true
   },
   "outputs": [],
   "source": [
    "# Imports\n",
    "import os, sys\n",
    "import pandas as pd\n",
    "import numpy as np\n",
    "import gzip\n",
    "import time\n",
    "import matplotlib.pyplot as plt\n",
    "import matplotlib\n",
    "matplotlib.style.use('ggplot')\n",
    "\n",
    "# Sklearn libraries.\n",
    "from sklearn import datasets, linear_model, ensemble, metrics\n",
    "from sklearn.feature_extraction.text import TfidfVectorizer, CountVectorizer\n",
    "\n",
    "import nltk\n",
    "from nltk.corpus import stopwords\n",
    "import string\n",
    "\n",
    "from collections import Counter"
   ]
  },
  {
   "cell_type": "markdown",
   "metadata": {},
   "source": [
    "\n",
    "### 1. Load Data"
   ]
  },
  {
   "cell_type": "code",
   "execution_count": 2,
   "metadata": {
    "collapsed": true
   },
   "outputs": [],
   "source": [
    "def parse(path):\n",
    "    g = gzip.open(path, 'r')\n",
    "    for l in g:\n",
    "        yield eval(l)"
   ]
  },
  {
   "cell_type": "code",
   "execution_count": 3,
   "metadata": {
    "collapsed": true
   },
   "outputs": [],
   "source": [
    "# Unzip gz file.\n",
    "def parse(path):\n",
    "    g = gzip.open(path, 'rb')\n",
    "    for l in g:\n",
    "        yield eval(l)\n",
    "\n",
    "# Load JSON into dataframe.\n",
    "def getDF(path):\n",
    "    i = 0\n",
    "    df = {}\n",
    "    for d in parse(path):\n",
    "        df[i] = d\n",
    "        i += 1\n",
    "    return pd.DataFrame.from_dict(df, orient='index')\n"
   ]
  },
  {
   "cell_type": "code",
   "execution_count": 4,
   "metadata": {
    "collapsed": false
   },
   "outputs": [
    {
     "name": "stdout",
     "output_type": "stream",
     "text": [
      "Time Used 41.126850s\n"
     ]
    }
   ],
   "source": [
    "start = time.time()\n",
    "df = getDF('reviews_Clothing_Shoes_and_Jewelry_5.json.gz')\n",
    "end = time.time()\n",
    "print \"Time Used %fs\" %(end - start)"
   ]
  },
  {
   "cell_type": "markdown",
   "metadata": {},
   "source": [
    "### 2. Data Exploration"
   ]
  },
  {
   "cell_type": "code",
   "execution_count": 73,
   "metadata": {
    "collapsed": false
   },
   "outputs": [
    {
     "name": "stdout",
     "output_type": "stream",
     "text": [
      "Index([u'reviewerID', u'asin', u'reviewerName', u'helpful', u'unixReviewTime',\n",
      "       u'reviewText', u'overall', u'reviewTime', u'summary'],\n",
      "      dtype='object')\n",
      "This is a great tutu and at a really great price. It doesn't look cheap at all. I'm so glad I looked on Amazon and found such an affordable tutu that isn't made poorly. A++\n"
     ]
    },
    {
     "data": {
      "text/html": [
       "<div>\n",
       "<style>\n",
       "    .dataframe thead tr:only-child th {\n",
       "        text-align: right;\n",
       "    }\n",
       "\n",
       "    .dataframe thead th {\n",
       "        text-align: left;\n",
       "    }\n",
       "\n",
       "    .dataframe tbody tr th {\n",
       "        vertical-align: top;\n",
       "    }\n",
       "</style>\n",
       "<table border=\"1\" class=\"dataframe\">\n",
       "  <thead>\n",
       "    <tr style=\"text-align: right;\">\n",
       "      <th></th>\n",
       "      <th>reviewerID</th>\n",
       "      <th>asin</th>\n",
       "      <th>reviewerName</th>\n",
       "      <th>helpful</th>\n",
       "      <th>unixReviewTime</th>\n",
       "      <th>reviewText</th>\n",
       "      <th>overall</th>\n",
       "      <th>reviewTime</th>\n",
       "      <th>summary</th>\n",
       "    </tr>\n",
       "  </thead>\n",
       "  <tbody>\n",
       "    <tr>\n",
       "      <th>0</th>\n",
       "      <td>A1KLRMWW2FWPL4</td>\n",
       "      <td>0000031887</td>\n",
       "      <td>Amazon Customer \"cameramom\"</td>\n",
       "      <td>[0, 0]</td>\n",
       "      <td>1297468800</td>\n",
       "      <td>This is a great tutu and at a really great pri...</td>\n",
       "      <td>5.0</td>\n",
       "      <td>02 12, 2011</td>\n",
       "      <td>Great tutu-  not cheaply made</td>\n",
       "    </tr>\n",
       "    <tr>\n",
       "      <th>1</th>\n",
       "      <td>A2G5TCU2WDFZ65</td>\n",
       "      <td>0000031887</td>\n",
       "      <td>Amazon Customer</td>\n",
       "      <td>[0, 0]</td>\n",
       "      <td>1358553600</td>\n",
       "      <td>I bought this for my 4 yr old daughter for dan...</td>\n",
       "      <td>5.0</td>\n",
       "      <td>01 19, 2013</td>\n",
       "      <td>Very Cute!!</td>\n",
       "    </tr>\n",
       "    <tr>\n",
       "      <th>2</th>\n",
       "      <td>A1RLQXYNCMWRWN</td>\n",
       "      <td>0000031887</td>\n",
       "      <td>Carola</td>\n",
       "      <td>[0, 0]</td>\n",
       "      <td>1357257600</td>\n",
       "      <td>What can I say... my daughters have it in oran...</td>\n",
       "      <td>5.0</td>\n",
       "      <td>01 4, 2013</td>\n",
       "      <td>I have buy more than one</td>\n",
       "    </tr>\n",
       "    <tr>\n",
       "      <th>3</th>\n",
       "      <td>A8U3FAMSJVHS5</td>\n",
       "      <td>0000031887</td>\n",
       "      <td>Caromcg</td>\n",
       "      <td>[0, 0]</td>\n",
       "      <td>1398556800</td>\n",
       "      <td>We bought several tutus at once, and they are ...</td>\n",
       "      <td>5.0</td>\n",
       "      <td>04 27, 2014</td>\n",
       "      <td>Adorable, Sturdy</td>\n",
       "    </tr>\n",
       "    <tr>\n",
       "      <th>4</th>\n",
       "      <td>A3GEOILWLK86XM</td>\n",
       "      <td>0000031887</td>\n",
       "      <td>CJ</td>\n",
       "      <td>[0, 0]</td>\n",
       "      <td>1394841600</td>\n",
       "      <td>Thank you Halo Heaven great product for Little...</td>\n",
       "      <td>5.0</td>\n",
       "      <td>03 15, 2014</td>\n",
       "      <td>Grammy's Angels Love it</td>\n",
       "    </tr>\n",
       "  </tbody>\n",
       "</table>\n",
       "</div>"
      ],
      "text/plain": [
       "       reviewerID        asin                 reviewerName helpful  \\\n",
       "0  A1KLRMWW2FWPL4  0000031887  Amazon Customer \"cameramom\"  [0, 0]   \n",
       "1  A2G5TCU2WDFZ65  0000031887              Amazon Customer  [0, 0]   \n",
       "2  A1RLQXYNCMWRWN  0000031887                       Carola  [0, 0]   \n",
       "3   A8U3FAMSJVHS5  0000031887                      Caromcg  [0, 0]   \n",
       "4  A3GEOILWLK86XM  0000031887                           CJ  [0, 0]   \n",
       "\n",
       "   unixReviewTime                                         reviewText  overall  \\\n",
       "0      1297468800  This is a great tutu and at a really great pri...      5.0   \n",
       "1      1358553600  I bought this for my 4 yr old daughter for dan...      5.0   \n",
       "2      1357257600  What can I say... my daughters have it in oran...      5.0   \n",
       "3      1398556800  We bought several tutus at once, and they are ...      5.0   \n",
       "4      1394841600  Thank you Halo Heaven great product for Little...      5.0   \n",
       "\n",
       "    reviewTime                        summary  \n",
       "0  02 12, 2011  Great tutu-  not cheaply made  \n",
       "1  01 19, 2013                    Very Cute!!  \n",
       "2   01 4, 2013       I have buy more than one  \n",
       "3  04 27, 2014               Adorable, Sturdy  \n",
       "4  03 15, 2014        Grammy's Angels Love it  "
      ]
     },
     "execution_count": 73,
     "metadata": {},
     "output_type": "execute_result"
    }
   ],
   "source": [
    "print df.columns\n",
    "\n",
    "print df['reviewText'][0]\n",
    "\n",
    "df.head(5)"
   ]
  },
  {
   "cell_type": "code",
   "execution_count": 10,
   "metadata": {
    "collapsed": false
   },
   "outputs": [
    {
     "data": {
      "text/plain": [
       "278677"
      ]
     },
     "execution_count": 10,
     "metadata": {},
     "output_type": "execute_result"
    }
   ],
   "source": [
    "len(df)"
   ]
  },
  {
   "cell_type": "markdown",
   "metadata": {},
   "source": [
    "#### Exploring helpfulness scores."
   ]
  },
  {
   "cell_type": "code",
   "execution_count": 6,
   "metadata": {
    "collapsed": true
   },
   "outputs": [],
   "source": [
    "helpfulness = []\n",
    "total_votes = []\n",
    "for i in df['helpful']:\n",
    "    if i[1] == 0:\n",
    "        helpfulness.append(np.nan)\n",
    "        total_votes.append(np.nan)\n",
    "    else:\n",
    "        helpfulness.append(float(i[0])/i[1])\n",
    "        total_votes.append(i[1])\n",
    "        \n",
    "# Convert to numpy array.\n",
    "helpfulness = np.array(helpfulness)\n",
    "total_votes = np.array(total_votes)"
   ]
  },
  {
   "cell_type": "code",
   "execution_count": 35,
   "metadata": {
    "collapsed": false
   },
   "outputs": [
    {
     "name": "stdout",
     "output_type": "stream",
     "text": [
      "0     [0, 0]\n",
      "1     [0, 0]\n",
      "2     [0, 0]\n",
      "3     [0, 0]\n",
      "4     [0, 0]\n",
      "5     [0, 0]\n",
      "6     [0, 0]\n",
      "7     [0, 0]\n",
      "8     [0, 0]\n",
      "9     [7, 8]\n",
      "10    [0, 0]\n",
      "11    [0, 0]\n",
      "12    [0, 0]\n",
      "13    [1, 1]\n",
      "14    [0, 0]\n",
      "15    [0, 0]\n",
      "16    [0, 0]\n",
      "17    [0, 0]\n",
      "18    [0, 0]\n",
      "19    [0, 0]\n",
      "20    [0, 0]\n",
      "21    [0, 0]\n",
      "22    [1, 2]\n",
      "23    [1, 1]\n",
      "24    [0, 1]\n",
      "25    [1, 2]\n",
      "26    [0, 0]\n",
      "27    [0, 0]\n",
      "28    [0, 0]\n",
      "29    [0, 0]\n",
      "Name: helpful, dtype: object\n"
     ]
    }
   ],
   "source": [
    "sum(np.isnan(helpfulness[0:100]))\n",
    "print df['helpful'][0:30]"
   ]
  },
  {
   "cell_type": "code",
   "execution_count": 7,
   "metadata": {
    "collapsed": false
   },
   "outputs": [
    {
     "name": "stdout",
     "output_type": "stream",
     "text": [
      "average helpfulness 0.780014\n",
      "number of reviews with helpfulness score: 87021\n",
      "total reviews:  278677\n",
      "percent of reviews with helpfulness score:  0.312264736595\n"
     ]
    }
   ],
   "source": [
    "print \"average helpfulness %f\" %np.nanmean(helpfulness)\n",
    "print \"number of reviews with helpfulness score: %i\" %np.count_nonzero(~np.isnan(helpfulness))\n",
    "print \"total reviews: \", len(df)\n",
    "print \"percent of reviews with helpfulness score: \", (np.count_nonzero(~np.isnan(helpfulness)) / float(len(df)))"
   ]
  },
  {
   "cell_type": "code",
   "execution_count": 8,
   "metadata": {
    "collapsed": false
   },
   "outputs": [
    {
     "data": {
      "image/png": "[encoded data removed]",
      "text/plain": [
       "<matplotlib.figure.Figure at 0x7eff1eb21610>"
      ]
     },
     "metadata": {},
     "output_type": "display_data"
    },
    {
     "data": {
      "image/png": "[encoded data removed]",
      "text/plain": [
       "<matplotlib.figure.Figure at 0x7eff1ef99910>"
      ]
     },
     "metadata": {},
     "output_type": "display_data"
    },
    {
     "data": {
      "image/png": "[encoded data removed]",
      "text/plain": [
       "<matplotlib.figure.Figure at 0x7eff1fbb7b10>"
      ]
     },
     "metadata": {},
     "output_type": "display_data"
    }
   ],
   "source": [
    "# Plot boxplot.\n",
    "nonnan_helpfulness = helpfulness[~np.isnan(helpfulness)]\n",
    "\n",
    "plt.figure()\n",
    "plt.boxplot(nonnan_helpfulness)\n",
    "\n",
    "# Remove invalid record.\n",
    "helpfulness_clean = nonnan_helpfulness[np.where(nonnan_helpfulness < 2)]\n",
    "\n",
    "plt.figure()\n",
    "plt.boxplot(helpfulness_clean[~np.isnan(helpfulness_clean)])\n",
    "\n",
    "# Plot histogram\n",
    "plt.figure()\n",
    "plt.hist(helpfulness_clean)\n",
    "\n",
    "plt.show()"
   ]
  },
  {
   "cell_type": "code",
   "execution_count": 9,
   "metadata": {
    "collapsed": false
   },
   "outputs": [
    {
     "name": "stdout",
     "output_type": "stream",
     "text": [
      "reviewerID                                           A353U0L2HAMSHV\n",
      "asin                                                     B000JD2614\n",
      "reviewerName                   Cricket \"Living life and loving it!\"\n",
      "helpful                                                      [4, 2]\n",
      "unixReviewTime                                           1234828800\n",
      "reviewText        I have been waiting for these to go on sale fo...\n",
      "overall                                                           5\n",
      "reviewTime                                              02 17, 2009\n",
      "summary                                              A gift for me!\n",
      "Name: 30730, dtype: object\n"
     ]
    }
   ],
   "source": [
    "for i, row in df.iterrows():\n",
    "    helpful = row['helpful']\n",
    "    if helpful[0] > helpful[1]:\n",
    "        print row"
   ]
  },
  {
   "cell_type": "markdown",
   "metadata": {},
   "source": [
    "#### Exploring distribution of helpfulness votes."
   ]
  },
  {
   "cell_type": "code",
   "execution_count": 10,
   "metadata": {
    "collapsed": false
   },
   "outputs": [
    {
     "name": "stdout",
     "output_type": "stream",
     "text": [
      "average # votes for reviews with votes: 4.305961\n",
      "min # votes for reviews with votes: 1\n",
      "max # votes for reviews with votes: 1267\n"
     ]
    }
   ],
   "source": [
    "print \"average # votes for reviews with votes: %f\" %np.nanmean(total_votes)\n",
    "print \"min # votes for reviews with votes: %i\" %np.nanmin(total_votes)\n",
    "print \"max # votes for reviews with votes: %i\" %np.nanmax(total_votes)"
   ]
  },
  {
   "cell_type": "code",
   "execution_count": 11,
   "metadata": {
    "collapsed": false
   },
   "outputs": [
    {
     "data": {
      "image/png": "[encoded data removed]",
      "text/plain": [
       "<matplotlib.figure.Figure at 0x7eff1eb21950>"
      ]
     },
     "metadata": {},
     "output_type": "display_data"
    },
    {
     "data": {
      "image/png": "[encoded data removed]",
      "text/plain": [
       "<matplotlib.figure.Figure at 0x7eff27784b90>"
      ]
     },
     "metadata": {},
     "output_type": "display_data"
    },
    {
     "data": {
      "image/png": "[encoded data removed]",
      "text/plain": [
       "<matplotlib.figure.Figure at 0x7eff24de4790>"
      ]
     },
     "metadata": {},
     "output_type": "display_data"
    }
   ],
   "source": [
    "# Create array that contains total votes per review with >0 votes.\n",
    "non_zero_total_votes = total_votes[np.isfinite(total_votes)]\n",
    "\n",
    "# Plot boxplot.\n",
    "plt.figure()\n",
    "plt.boxplot(non_zero_total_votes)\n",
    "\n",
    "# Remove outlier.\n",
    "non_zero_total_votes_minus_outliers = non_zero_total_votes[np.where(non_zero_total_votes < 1267)]\n",
    "\n",
    "# Plot boxplot.\n",
    "plt.figure()\n",
    "plt.boxplot(non_zero_total_votes_minus_outliers)\n",
    "\n",
    "# Plot histogram using log(total votes) due to right skewed distribution.\n",
    "plt.figure()\n",
    "plt.hist(np.log(non_zero_total_votes_minus_outliers))\n",
    "\n",
    "plt.show()"
   ]
  },
  {
   "cell_type": "markdown",
   "metadata": {},
   "source": [
    "#### Exploring review text lengths."
   ]
  },
  {
   "cell_type": "code",
   "execution_count": 12,
   "metadata": {
    "collapsed": false
   },
   "outputs": [
    {
     "name": "stdout",
     "output_type": "stream",
     "text": [
      "[ 172  306  312 ...,  914 1126 1295]\n",
      "average review length: 315\n",
      "min review length: 0\n",
      "max review length: 22646\n"
     ]
    }
   ],
   "source": [
    "# Compute review lengths.\n",
    "review_lengths = np.array([len(x) for x in df['reviewText']])\n",
    "print review_lengths\n",
    "print \"average review length: %i\" %np.mean(review_lengths)\n",
    "print \"min review length: %i\" %np.min(review_lengths)\n",
    "print \"max review length: %i\" %np.max(review_lengths)"
   ]
  },
  {
   "cell_type": "code",
   "execution_count": 9,
   "metadata": {
    "collapsed": false
   },
   "outputs": [
    {
     "data": {
      "image/png": "[encoded data removed]",
      "text/plain": [
       "<matplotlib.figure.Figure at 0x7f4935995f10>"
      ]
     },
     "metadata": {},
     "output_type": "display_data"
    },
    {
     "data": {
      "image/png": "[encoded data removed]",
      "text/plain": [
       "<matplotlib.figure.Figure at 0x7f492cabb3d0>"
      ]
     },
     "metadata": {},
     "output_type": "display_data"
    },
    {
     "data": {
      "image/png": "[encoded data removed]",
      "text/plain": [
       "<matplotlib.figure.Figure at 0x7f4936f2d1d0>"
      ]
     },
     "metadata": {},
     "output_type": "display_data"
    }
   ],
   "source": [
    "# Plot boxplot.\n",
    "plt.figure()\n",
    "plt.boxplot(review_lengths)\n",
    "\n",
    "# Remove outliers.\n",
    "review_lengths_minus_outliers = review_lengths[np.where(np.logical_and(review_lengths > 0, review_lengths < 10000))]\n",
    "\n",
    "# Plot boxplot.\n",
    "plt.figure()\n",
    "plt.boxplot(review_lengths_minus_outliers)\n",
    "\n",
    "# # Plot histogram using log(review length) due to right skewed distribution.\n",
    "plt.figure()\n",
    "plt.hist(np.log(review_lengths_minus_outliers))\n",
    "\n",
    "plt.show()"
   ]
  },
  {
   "cell_type": "code",
   "execution_count": 13,
   "metadata": {
    "collapsed": false
   },
   "outputs": [
    {
     "data": {
      "image/png": "[encoded data removed]",
      "text/plain": [
       "<matplotlib.figure.Figure at 0x7eff27711d90>"
      ]
     },
     "metadata": {},
     "output_type": "display_data"
    }
   ],
   "source": [
    "# Remove invalid and nan values.\n",
    "helpfulness_clean = np.delete(helpfulness, 30730)\n",
    "review_lengths_clean = np.delete(review_lengths, 30730)\n",
    "nonnan_helpfulness_clean = helpfulness_clean[~np.isnan(helpfulness_clean)]\n",
    "nonnan_review_lengths_clean = review_lengths_clean[~np.isnan(helpfulness_clean)]\n",
    "\n",
    "# Print scatterplot of review length to helpfulness score.\n",
    "plt.figure()\n",
    "plt.scatter(nonnan_review_lengths_clean, nonnan_helpfulness_clean)\n",
    "plt.title(\"Helpfulness score by review length\")\n",
    "plt.show()"
   ]
  },
  {
   "cell_type": "code",
   "execution_count": 147,
   "metadata": {
    "collapsed": false
   },
   "outputs": [
    {
     "data": {
      "text/plain": [
       "0.054565284474689578"
      ]
     },
     "execution_count": 147,
     "metadata": {},
     "output_type": "execute_result"
    }
   ],
   "source": [
    "# Compute correlation.\n",
    "np.corrcoef(nonnan_review_lengths_clean, nonnan_helpfulness_clean)[1,0]"
   ]
  },
  {
   "cell_type": "markdown",
   "metadata": {},
   "source": [
    "#### Exploring review scores."
   ]
  },
  {
   "cell_type": "code",
   "execution_count": 16,
   "metadata": {
    "collapsed": false
   },
   "outputs": [
    {
     "name": "stdout",
     "output_type": "stream",
     "text": [
      "average review score: 4\n",
      "min review score: 1\n",
      "max review score: 5\n"
     ]
    }
   ],
   "source": [
    "# Compute scores.\n",
    "review_scores = np.array(df['overall'])\n",
    "print \"average review score: %i\" %np.mean(review_scores)\n",
    "print \"min review score: %i\" %np.min(review_scores)\n",
    "print \"max review score: %i\" %np.max(review_scores)"
   ]
  },
  {
   "cell_type": "code",
   "execution_count": 17,
   "metadata": {
    "collapsed": false
   },
   "outputs": [
    {
     "data": {
      "text/plain": [
       "<matplotlib.figure.Figure at 0x7eff26f13f90>"
      ]
     },
     "metadata": {},
     "output_type": "display_data"
    },
    {
     "data": {
      "image/png": "[encoded data removed]",
      "text/plain": [
       "<matplotlib.figure.Figure at 0x7eff1eb21750>"
      ]
     },
     "metadata": {},
     "output_type": "display_data"
    },
    {
     "data": {
      "image/png": "[encoded data removed]",
      "text/plain": [
       "<matplotlib.figure.Figure at 0x7eff20e6edd0>"
      ]
     },
     "metadata": {},
     "output_type": "display_data"
    }
   ],
   "source": [
    "# Plot boxplot.\n",
    "plt.figure()\n",
    "plt.boxplot(review_scores)\n",
    "\n",
    "# # Plot histogram.\n",
    "plt.figure()\n",
    "plt.hist(review_scores, bins=5)\n",
    "\n",
    "plt.show()"
   ]
  },
  {
   "cell_type": "code",
   "execution_count": 18,
   "metadata": {
    "collapsed": false
   },
   "outputs": [
    {
     "data": {
      "image/png": "[encoded data removed]",
      "text/plain": [
       "<matplotlib.figure.Figure at 0x7eff2a4dfa50>"
      ]
     },
     "metadata": {},
     "output_type": "display_data"
    }
   ],
   "source": [
    "# Remove invalid and nan values.\n",
    "review_scores_clean = np.delete(review_scores, 30730)\n",
    "nonnan_review_scores_clean = review_scores_clean[~np.isnan(helpfulness_clean)]\n",
    "\n",
    "# Print scatterplot of review length to helpfulness score.\n",
    "plt.figure()\n",
    "plt.scatter(nonnan_review_scores_clean, nonnan_helpfulness_clean)\n",
    "plt.title(\"Helpfulness score by review length\")\n",
    "plt.show()"
   ]
  },
  {
   "cell_type": "code",
   "execution_count": 158,
   "metadata": {
    "collapsed": false
   },
   "outputs": [
    {
     "data": {
      "text/plain": [
       "0.18085804717359091"
      ]
     },
     "execution_count": 158,
     "metadata": {},
     "output_type": "execute_result"
    }
   ],
   "source": [
    "# Compute correlation.\n",
    "np.corrcoef(nonnan_review_scores_clean, nonnan_helpfulness_clean)[1,0]"
   ]
  },
  {
   "cell_type": "markdown",
   "metadata": {},
   "source": [
    "### 3. Build Baseline Model"
   ]
  },
  {
   "cell_type": "code",
   "execution_count": 19,
   "metadata": {
    "collapsed": false
   },
   "outputs": [
    {
     "name": "stdout",
     "output_type": "stream",
     "text": [
      "[nltk_data] Downloading collection u'all'\n",
      "[nltk_data]    | \n",
      "[nltk_data]    | Downloading package abc to\n",
      "[nltk_data]    |     /home/annie_y_lee/nltk_data...\n",
      "[nltk_data]    |   Package abc is already up-to-date!\n",
      "[nltk_data]    | Downloading package alpino to\n",
      "[nltk_data]    |     /home/annie_y_lee/nltk_data...\n",
      "[nltk_data]    |   Package alpino is already up-to-date!\n",
      "[nltk_data]    | Downloading package biocreative_ppi to\n",
      "[nltk_data]    |     /home/annie_y_lee/nltk_data...\n",
      "[nltk_data]    |   Package biocreative_ppi is already up-to-date!\n",
      "[nltk_data]    | Downloading package brown to\n",
      "[nltk_data]    |     /home/annie_y_lee/nltk_data...\n",
      "[nltk_data]    |   Package brown is already up-to-date!\n",
      "[nltk_data]    | Downloading package brown_tei to\n",
      "[nltk_data]    |     /home/annie_y_lee/nltk_data...\n",
      "[nltk_data]    |   Package brown_tei is already up-to-date!\n",
      "[nltk_data]    | Downloading package cess_cat to\n",
      "[nltk_data]    |     /home/annie_y_lee/nltk_data...\n",
      "[nltk_data]    |   Package cess_cat is already up-to-date!\n",
      "[nltk_data]    | Downloading package cess_esp to\n",
      "[nltk_data]    |     /home/annie_y_lee/nltk_data...\n",
      "[nltk_data]    |   Package cess_esp is already up-to-date!\n",
      "[nltk_data]    | Downloading package chat80 to\n",
      "[nltk_data]    |     /home/annie_y_lee/nltk_data...\n",
      "[nltk_data]    |   Package chat80 is already up-to-date!\n",
      "[nltk_data]    | Downloading package city_database to\n",
      "[nltk_data]    |     /home/annie_y_lee/nltk_data...\n",
      "[nltk_data]    |   Package city_database is already up-to-date!\n",
      "[nltk_data]    | Downloading package cmudict to\n",
      "[nltk_data]    |     /home/annie_y_lee/nltk_data...\n",
      "[nltk_data]    |   Package cmudict is already up-to-date!\n",
      "[nltk_data]    | Downloading package comparative_sentences to\n",
      "[nltk_data]    |     /home/annie_y_lee/nltk_data...\n",
      "[nltk_data]    |   Package comparative_sentences is already up-to-\n",
      "[nltk_data]    |       date!\n",
      "[nltk_data]    | Downloading package comtrans to\n",
      "[nltk_data]    |     /home/annie_y_lee/nltk_data...\n",
      "[nltk_data]    |   Package comtrans is already up-to-date!\n",
      "[nltk_data]    | Downloading package conll2000 to\n",
      "[nltk_data]    |     /home/annie_y_lee/nltk_data...\n",
      "[nltk_data]    |   Package conll2000 is already up-to-date!\n",
      "[nltk_data]    | Downloading package conll2002 to\n",
      "[nltk_data]    |     /home/annie_y_lee/nltk_data...\n",
      "[nltk_data]    |   Package conll2002 is already up-to-date!\n",
      "[nltk_data]    | Downloading package conll2007 to\n",
      "[nltk_data]    |     /home/annie_y_lee/nltk_data...\n",
      "[nltk_data]    |   Package conll2007 is already up-to-date!\n",
      "[nltk_data]    | Downloading package crubadan to\n",
      "[nltk_data]    |     /home/annie_y_lee/nltk_data...\n",
      "[nltk_data]    |   Package crubadan is already up-to-date!\n",
      "[nltk_data]    | Downloading package dependency_treebank to\n",
      "[nltk_data]    |     /home/annie_y_lee/nltk_data...\n",
      "[nltk_data]    |   Package dependency_treebank is already up-to-date!\n",
      "[nltk_data]    | Downloading package dolch to\n",
      "[nltk_data]    |     /home/annie_y_lee/nltk_data...\n",
      "[nltk_data]    |   Package dolch is already up-to-date!\n",
      "[nltk_data]    | Downloading package europarl_raw to\n",
      "[nltk_data]    |     /home/annie_y_lee/nltk_data...\n",
      "[nltk_data]    |   Package europarl_raw is already up-to-date!\n",
      "[nltk_data]    | Downloading package floresta to\n",
      "[nltk_data]    |     /home/annie_y_lee/nltk_data...\n",
      "[nltk_data]    |   Package floresta is already up-to-date!\n",
      "[nltk_data]    | Downloading package framenet_v15 to\n",
      "[nltk_data]    |     /home/annie_y_lee/nltk_data...\n",
      "[nltk_data]    |   Package framenet_v15 is already up-to-date!\n",
      "[nltk_data]    | Downloading package framenet_v17 to\n",
      "[nltk_data]    |     /home/annie_y_lee/nltk_data...\n",
      "[nltk_data]    |   Package framenet_v17 is already up-to-date!\n",
      "[nltk_data]    | Downloading package gazetteers to\n",
      "[nltk_data]    |     /home/annie_y_lee/nltk_data...\n",
      "[nltk_data]    |   Package gazetteers is already up-to-date!\n",
      "[nltk_data]    | Downloading package genesis to\n",
      "[nltk_data]    |     /home/annie_y_lee/nltk_data...\n",
      "[nltk_data]    |   Package genesis is already up-to-date!\n",
      "[nltk_data]    | Downloading package gutenberg to\n",
      "[nltk_data]    |     /home/annie_y_lee/nltk_data...\n",
      "[nltk_data]    |   Package gutenberg is already up-to-date!\n",
      "[nltk_data]    | Downloading package ieer to\n",
      "[nltk_data]    |     /home/annie_y_lee/nltk_data...\n",
      "[nltk_data]    |   Package ieer is already up-to-date!\n",
      "[nltk_data]    | Downloading package inaugural to\n",
      "[nltk_data]    |     /home/annie_y_lee/nltk_data...\n",
      "[nltk_data]    |   Package inaugural is already up-to-date!\n",
      "[nltk_data]    | Downloading package indian to\n",
      "[nltk_data]    |     /home/annie_y_lee/nltk_data...\n",
      "[nltk_data]    |   Package indian is already up-to-date!\n",
      "[nltk_data]    | Downloading package jeita to\n",
      "[nltk_data]    |     /home/annie_y_lee/nltk_data...\n",
      "[nltk_data]    |   Package jeita is already up-to-date!\n",
      "[nltk_data]    | Downloading package kimmo to\n",
      "[nltk_data]    |     /home/annie_y_lee/nltk_data...\n",
      "[nltk_data]    |   Package kimmo is already up-to-date!\n",
      "[nltk_data]    | Downloading package knbc to\n",
      "[nltk_data]    |     /home/annie_y_lee/nltk_data...\n",
      "[nltk_data]    |   Package knbc is already up-to-date!\n",
      "[nltk_data]    | Downloading package lin_thesaurus to\n",
      "[nltk_data]    |     /home/annie_y_lee/nltk_data...\n",
      "[nltk_data]    |   Package lin_thesaurus is already up-to-date!\n",
      "[nltk_data]    | Downloading package mac_morpho to\n",
      "[nltk_data]    |     /home/annie_y_lee/nltk_data...\n",
      "[nltk_data]    |   Package mac_morpho is already up-to-date!\n",
      "[nltk_data]    | Downloading package machado to\n",
      "[nltk_data]    |     /home/annie_y_lee/nltk_data...\n",
      "[nltk_data]    |   Package machado is already up-to-date!\n",
      "[nltk_data]    | Downloading package masc_tagged to\n",
      "[nltk_data]    |     /home/annie_y_lee/nltk_data...\n",
      "[nltk_data]    |   Package masc_tagged is already up-to-date!\n",
      "[nltk_data]    | Downloading package moses_sample to\n",
      "[nltk_data]    |     /home/annie_y_lee/nltk_data...\n",
      "[nltk_data]    |   Package moses_sample is already up-to-date!\n",
      "[nltk_data]    | Downloading package movie_reviews to\n",
      "[nltk_data]    |     /home/annie_y_lee/nltk_data...\n",
      "[nltk_data]    |   Package movie_reviews is already up-to-date!\n",
      "[nltk_data]    | Downloading package names to\n",
      "[nltk_data]    |     /home/annie_y_lee/nltk_data...\n",
      "[nltk_data]    |   Package names is already up-to-date!\n",
      "[nltk_data]    | Downloading package nombank.1.0 to\n",
      "[nltk_data]    |     /home/annie_y_lee/nltk_data...\n",
      "[nltk_data]    |   Package nombank.1.0 is already up-to-date!\n",
      "[nltk_data]    | Downloading package nps_chat to\n",
      "[nltk_data]    |     /home/annie_y_lee/nltk_data...\n",
      "[nltk_data]    |   Package nps_chat is already up-to-date!\n",
      "[nltk_data]    | Downloading package omw to\n",
      "[nltk_data]    |     /home/annie_y_lee/nltk_data...\n",
      "[nltk_data]    |   Package omw is already up-to-date!\n",
      "[nltk_data]    | Downloading package opinion_lexicon to\n",
      "[nltk_data]    |     /home/annie_y_lee/nltk_data...\n",
      "[nltk_data]    |   Package opinion_lexicon is already up-to-date!\n",
      "[nltk_data]    | Downloading package paradigms to\n",
      "[nltk_data]    |     /home/annie_y_lee/nltk_data...\n",
      "[nltk_data]    |   Package paradigms is already up-to-date!\n",
      "[nltk_data]    | Downloading package pil to\n",
      "[nltk_data]    |     /home/annie_y_lee/nltk_data...\n",
      "[nltk_data]    |   Package pil is already up-to-date!\n",
      "[nltk_data]    | Downloading package pl196x to\n",
      "[nltk_data]    |     /home/annie_y_lee/nltk_data...\n",
      "[nltk_data]    |   Package pl196x is already up-to-date!\n",
      "[nltk_data]    | Downloading package ppattach to\n",
      "[nltk_data]    |     /home/annie_y_lee/nltk_data...\n",
      "[nltk_data]    |   Package ppattach is already up-to-date!\n",
      "[nltk_data]    | Downloading package problem_reports to\n",
      "[nltk_data]    |     /home/annie_y_lee/nltk_data...\n",
      "[nltk_data]    |   Package problem_reports is already up-to-date!\n",
      "[nltk_data]    | Downloading package propbank to\n",
      "[nltk_data]    |     /home/annie_y_lee/nltk_data...\n",
      "[nltk_data]    |   Package propbank is already up-to-date!\n",
      "[nltk_data]    | Downloading package ptb to\n",
      "[nltk_data]    |     /home/annie_y_lee/nltk_data...\n",
      "[nltk_data]    |   Package ptb is already up-to-date!\n",
      "[nltk_data]    | Downloading package product_reviews_1 to\n",
      "[nltk_data]    |     /home/annie_y_lee/nltk_data...\n",
      "[nltk_data]    |   Package product_reviews_1 is already up-to-date!\n",
      "[nltk_data]    | Downloading package product_reviews_2 to\n",
      "[nltk_data]    |     /home/annie_y_lee/nltk_data...\n",
      "[nltk_data]    |   Package product_reviews_2 is already up-to-date!\n",
      "[nltk_data]    | Downloading package pros_cons to\n",
      "[nltk_data]    |     /home/annie_y_lee/nltk_data...\n",
      "[nltk_data]    |   Package pros_cons is already up-to-date!\n",
      "[nltk_data]    | Downloading package qc to\n",
      "[nltk_data]    |     /home/annie_y_lee/nltk_data...\n",
      "[nltk_data]    |   Package qc is already up-to-date!\n",
      "[nltk_data]    | Downloading package reuters to\n",
      "[nltk_data]    |     /home/annie_y_lee/nltk_data...\n",
      "[nltk_data]    |   Package reuters is already up-to-date!\n",
      "[nltk_data]    | Downloading package rte to\n",
      "[nltk_data]    |     /home/annie_y_lee/nltk_data...\n",
      "[nltk_data]    |   Package rte is already up-to-date!\n",
      "[nltk_data]    | Downloading package semcor to\n",
      "[nltk_data]    |     /home/annie_y_lee/nltk_data...\n",
      "[nltk_data]    |   Package semcor is already up-to-date!\n",
      "[nltk_data]    | Downloading package senseval to\n",
      "[nltk_data]    |     /home/annie_y_lee/nltk_data...\n",
      "[nltk_data]    |   Package senseval is already up-to-date!\n",
      "[nltk_data]    | Downloading package sentiwordnet to\n",
      "[nltk_data]    |     /home/annie_y_lee/nltk_data...\n",
      "[nltk_data]    |   Package sentiwordnet is already up-to-date!\n",
      "[nltk_data]    | Downloading package sentence_polarity to\n",
      "[nltk_data]    |     /home/annie_y_lee/nltk_data...\n",
      "[nltk_data]    |   Package sentence_polarity is already up-to-date!\n",
      "[nltk_data]    | Downloading package shakespeare to\n",
      "[nltk_data]    |     /home/annie_y_lee/nltk_data...\n",
      "[nltk_data]    |   Package shakespeare is already up-to-date!\n",
      "[nltk_data]    | Downloading package sinica_treebank to\n",
      "[nltk_data]    |     /home/annie_y_lee/nltk_data...\n",
      "[nltk_data]    |   Package sinica_treebank is already up-to-date!\n",
      "[nltk_data]    | Downloading package smultron to\n",
      "[nltk_data]    |     /home/annie_y_lee/nltk_data...\n",
      "[nltk_data]    |   Package smultron is already up-to-date!\n",
      "[nltk_data]    | Downloading package state_union to\n",
      "[nltk_data]    |     /home/annie_y_lee/nltk_data...\n",
      "[nltk_data]    |   Package state_union is already up-to-date!\n",
      "[nltk_data]    | Downloading package stopwords to\n",
      "[nltk_data]    |     /home/annie_y_lee/nltk_data...\n",
      "[nltk_data]    |   Package stopwords is already up-to-date!\n",
      "[nltk_data]    | Downloading package subjectivity to\n",
      "[nltk_data]    |     /home/annie_y_lee/nltk_data...\n",
      "[nltk_data]    |   Package subjectivity is already up-to-date!\n",
      "[nltk_data]    | Downloading package swadesh to\n",
      "[nltk_data]    |     /home/annie_y_lee/nltk_data...\n",
      "[nltk_data]    |   Package swadesh is already up-to-date!\n",
      "[nltk_data]    | Downloading package switchboard to\n",
      "[nltk_data]    |     /home/annie_y_lee/nltk_data...\n",
      "[nltk_data]    |   Package switchboard is already up-to-date!\n",
      "[nltk_data]    | Downloading package timit to\n",
      "[nltk_data]    |     /home/annie_y_lee/nltk_data...\n",
      "[nltk_data]    |   Package timit is already up-to-date!\n",
      "[nltk_data]    | Downloading package toolbox to\n",
      "[nltk_data]    |     /home/annie_y_lee/nltk_data...\n",
      "[nltk_data]    |   Package toolbox is already up-to-date!\n",
      "[nltk_data]    | Downloading package treebank to\n",
      "[nltk_data]    |     /home/annie_y_lee/nltk_data...\n",
      "[nltk_data]    |   Package treebank is already up-to-date!\n",
      "[nltk_data]    | Downloading package twitter_samples to\n",
      "[nltk_data]    |     /home/annie_y_lee/nltk_data...\n",
      "[nltk_data]    |   Package twitter_samples is already up-to-date!\n",
      "[nltk_data]    | Downloading package udhr to\n",
      "[nltk_data]    |     /home/annie_y_lee/nltk_data...\n",
      "[nltk_data]    |   Package udhr is already up-to-date!\n",
      "[nltk_data]    | Downloading package udhr2 to\n",
      "[nltk_data]    |     /home/annie_y_lee/nltk_data...\n",
      "[nltk_data]    |   Package udhr2 is already up-to-date!\n",
      "[nltk_data]    | Downloading package unicode_samples to\n",
      "[nltk_data]    |     /home/annie_y_lee/nltk_data...\n",
      "[nltk_data]    |   Package unicode_samples is already up-to-date!\n",
      "[nltk_data]    | Downloading package universal_treebanks_v20 to\n",
      "[nltk_data]    |     /home/annie_y_lee/nltk_data...\n",
      "[nltk_data]    |   Package universal_treebanks_v20 is already up-to-\n",
      "[nltk_data]    |       date!\n",
      "[nltk_data]    | Downloading package verbnet to\n",
      "[nltk_data]    |     /home/annie_y_lee/nltk_data...\n",
      "[nltk_data]    |   Package verbnet is already up-to-date!\n",
      "[nltk_data]    | Downloading package webtext to\n",
      "[nltk_data]    |     /home/annie_y_lee/nltk_data...\n",
      "[nltk_data]    |   Package webtext is already up-to-date!\n",
      "[nltk_data]    | Downloading package wordnet to\n",
      "[nltk_data]    |     /home/annie_y_lee/nltk_data...\n",
      "[nltk_data]    |   Package wordnet is already up-to-date!\n",
      "[nltk_data]    | Downloading package wordnet_ic to\n",
      "[nltk_data]    |     /home/annie_y_lee/nltk_data...\n",
      "[nltk_data]    |   Package wordnet_ic is already up-to-date!\n",
      "[nltk_data]    | Downloading package words to\n",
      "[nltk_data]    |     /home/annie_y_lee/nltk_data...\n",
      "[nltk_data]    |   Package words is already up-to-date!\n",
      "[nltk_data]    | Downloading package ycoe to\n",
      "[nltk_data]    |     /home/annie_y_lee/nltk_data...\n",
      "[nltk_data]    |   Package ycoe is already up-to-date!\n",
      "[nltk_data]    | Downloading package rslp to\n",
      "[nltk_data]    |     /home/annie_y_lee/nltk_data...\n",
      "[nltk_data]    |   Package rslp is already up-to-date!\n",
      "[nltk_data]    | Downloading package hmm_treebank_pos_tagger to\n",
      "[nltk_data]    |     /home/annie_y_lee/nltk_data...\n",
      "[nltk_data]    |   Package hmm_treebank_pos_tagger is already up-to-\n",
      "[nltk_data]    |       date!\n",
      "[nltk_data]    | Downloading package maxent_treebank_pos_tagger to\n",
      "[nltk_data]    |     /home/annie_y_lee/nltk_data...\n",
      "[nltk_data]    |   Package maxent_treebank_pos_tagger is already up-\n",
      "[nltk_data]    |       to-date!\n",
      "[nltk_data]    | Downloading package universal_tagset to\n",
      "[nltk_data]    |     /home/annie_y_lee/nltk_data...\n",
      "[nltk_data]    |   Package universal_tagset is already up-to-date!\n",
      "[nltk_data]    | Downloading package maxent_ne_chunker to\n",
      "[nltk_data]    |     /home/annie_y_lee/nltk_data...\n",
      "[nltk_data]    |   Package maxent_ne_chunker is already up-to-date!\n",
      "[nltk_data]    | Downloading package punkt to\n",
      "[nltk_data]    |     /home/annie_y_lee/nltk_data...\n",
      "[nltk_data]    |   Package punkt is already up-to-date!\n",
      "[nltk_data]    | Downloading package book_grammars to\n",
      "[nltk_data]    |     /home/annie_y_lee/nltk_data...\n",
      "[nltk_data]    |   Package book_grammars is already up-to-date!\n",
      "[nltk_data]    | Downloading package sample_grammars to\n",
      "[nltk_data]    |     /home/annie_y_lee/nltk_data...\n",
      "[nltk_data]    |   Package sample_grammars is already up-to-date!\n",
      "[nltk_data]    | Downloading package spanish_grammars to\n",
      "[nltk_data]    |     /home/annie_y_lee/nltk_data...\n",
      "[nltk_data]    |   Package spanish_grammars is already up-to-date!\n",
      "[nltk_data]    | Downloading package basque_grammars to\n",
      "[nltk_data]    |     /home/annie_y_lee/nltk_data...\n",
      "[nltk_data]    |   Package basque_grammars is already up-to-date!\n",
      "[nltk_data]    | Downloading package large_grammars to\n",
      "[nltk_data]    |     /home/annie_y_lee/nltk_data...\n",
      "[nltk_data]    |   Package large_grammars is already up-to-date!\n",
      "[nltk_data]    | Downloading package tagsets to\n",
      "[nltk_data]    |     /home/annie_y_lee/nltk_data...\n",
      "[nltk_data]    |   Package tagsets is already up-to-date!\n",
      "[nltk_data]    | Downloading package snowball_data to\n",
      "[nltk_data]    |     /home/annie_y_lee/nltk_data...\n",
      "[nltk_data]    |   Package snowball_data is already up-to-date!\n",
      "[nltk_data]    | Downloading package bllip_wsj_no_aux to\n",
      "[nltk_data]    |     /home/annie_y_lee/nltk_data...\n",
      "[nltk_data]    |   Package bllip_wsj_no_aux is already up-to-date!\n",
      "[nltk_data]    | Downloading package word2vec_sample to\n",
      "[nltk_data]    |     /home/annie_y_lee/nltk_data...\n",
      "[nltk_data]    |   Package word2vec_sample is already up-to-date!\n",
      "[nltk_data]    | Downloading package panlex_swadesh to\n",
      "[nltk_data]    |     /home/annie_y_lee/nltk_data...\n",
      "[nltk_data]    |   Package panlex_swadesh is already up-to-date!\n",
      "[nltk_data]    | Downloading package mte_teip5 to\n",
      "[nltk_data]    |     /home/annie_y_lee/nltk_data...\n",
      "[nltk_data]    |   Package mte_teip5 is already up-to-date!\n",
      "[nltk_data]    | Downloading package averaged_perceptron_tagger to\n",
      "[nltk_data]    |     /home/annie_y_lee/nltk_data...\n",
      "[nltk_data]    |   Package averaged_perceptron_tagger is already up-\n",
      "[nltk_data]    |       to-date!\n",
      "[nltk_data]    | Downloading package perluniprops to\n",
      "[nltk_data]    |     /home/annie_y_lee/nltk_data...\n",
      "[nltk_data]    |   Package perluniprops is already up-to-date!\n",
      "[nltk_data]    | Downloading package nonbreaking_prefixes to\n",
      "[nltk_data]    |     /home/annie_y_lee/nltk_data...\n",
      "[nltk_data]    |   Package nonbreaking_prefixes is already up-to-date!\n",
      "[nltk_data]    | Downloading package vader_lexicon to\n",
      "[nltk_data]    |     /home/annie_y_lee/nltk_data...\n",
      "[nltk_data]    |   Package vader_lexicon is already up-to-date!\n",
      "[nltk_data]    | Downloading package porter_test to\n",
      "[nltk_data]    |     /home/annie_y_lee/nltk_data...\n",
      "[nltk_data]    |   Package porter_test is already up-to-date!\n",
      "[nltk_data]    | Downloading package wmt15_eval to\n",
      "[nltk_data]    |     /home/annie_y_lee/nltk_data...\n",
      "[nltk_data]    |   Package wmt15_eval is already up-to-date!\n",
      "[nltk_data]    | Downloading package mwa_ppdb to\n",
      "[nltk_data]    |     /home/annie_y_lee/nltk_data...\n",
      "[nltk_data]    |   Package mwa_ppdb is already up-to-date!\n",
      "[nltk_data]    | \n",
      "[nltk_data]  Done downloading collection all\n"
     ]
    },
    {
     "data": {
      "text/plain": [
       "True"
      ]
     },
     "execution_count": 19,
     "metadata": {},
     "output_type": "execute_result"
    }
   ],
   "source": [
    "nltk.download('all')"
   ]
  },
  {
   "cell_type": "code",
   "execution_count": 20,
   "metadata": {
    "collapsed": true
   },
   "outputs": [],
   "source": [
    "#extract the review text\n",
    "doc = np.array(df['reviewText'])\n",
    "\n",
    "# Filter down to reviews with helpfulness scores.\n",
    "# Remove item with invalid helpfulness score.\n",
    "doc_clean = np.delete(doc, 30730)\n",
    "nonnan_doc_clean = doc_clean[~np.isnan(helpfulness_clean)]"
   ]
  },
  {
   "cell_type": "code",
   "execution_count": 13,
   "metadata": {
    "collapsed": true
   },
   "outputs": [],
   "source": [
    "def get_tokens(docs):\n",
    "    tokens =[]\n",
    "    for i in docs:\n",
    "        lowers = i.lower()\n",
    "        #remove the punctuation using the character deletion step of translate\n",
    "        no_punctuation = lowers.translate(None, string.punctuation)\n",
    "        token = nltk.word_tokenize(no_punctuation)\n",
    "        tokens.extend(token)\n",
    "    return tokens"
   ]
  },
  {
   "cell_type": "code",
   "execution_count": 14,
   "metadata": {
    "collapsed": true
   },
   "outputs": [],
   "source": [
    "##only use the first 10000 doc, since it is too large\n",
    "# token = get_tokens(doc[0:10000])\n",
    "tokens = get_tokens(nonnan_doc_clean)"
   ]
  },
  {
   "cell_type": "code",
   "execution_count": 28,
   "metadata": {
    "collapsed": false,
    "scrolled": true
   },
   "outputs": [
    {
     "name": "stdout",
     "output_type": "stream",
     "text": [
      "6886128\n"
     ]
    }
   ],
   "source": [
    "print len(tokens)\n",
    "# from collections import Counter\n",
    "# filtered = [w for w in tokens if not w in stopwords.words('english')]\n",
    "# count = Counter(filtered)\n",
    "# print count.most_common(10)"
   ]
  },
  {
   "cell_type": "code",
   "execution_count": null,
   "metadata": {
    "collapsed": false
   },
   "outputs": [],
   "source": [
    "len(count)"
   ]
  },
  {
   "cell_type": "markdown",
   "metadata": {},
   "source": [
    "#### Feature Extraction 1: TF-IDF"
   ]
  },
  {
   "cell_type": "code",
   "execution_count": 19,
   "metadata": {
    "collapsed": true
   },
   "outputs": [],
   "source": [
    "##tf-idf transformation\n",
    "##based on this page: http://www.cs.duke.edu/courses/spring14/compsci290/assignments/lab02.html\n",
    "token_dict = {}\n",
    "\n",
    "def tokenize(text):\n",
    "    tokens = nltk.word_tokenize(text)\n",
    "    return tokens\n",
    "\n",
    "for i, text in enumerate(nonnan_doc_clean):\n",
    "    \n",
    "    lowers = text.lower()\n",
    "    no_punctuation = lowers.translate(None, string.punctuation)\n",
    "    token_dict[i] = no_punctuation\n",
    "        \n",
    "#this can take some time\n",
    "tfidf = TfidfVectorizer(tokenizer=tokenize, stop_words='english')\n",
    "tfs = tfidf.fit_transform(token_dict.values())"
   ]
  },
  {
   "cell_type": "code",
   "execution_count": 30,
   "metadata": {
    "collapsed": false
   },
   "outputs": [
    {
     "name": "stdout",
     "output_type": "stream",
     "text": [
      " Shape of token_dict:  87020\n",
      "Shape of tfs:  (87020, 107593)\n",
      "  (0, 68058)\t0.216703480324\n",
      "  (0, 98123)\t0.212744944401\n",
      "  (0, 98629)\t0.176596053643\n",
      "  (0, 66494)\t0.0631953401241\n",
      "  (0, 70642)\t0.109490227093\n",
      "  (0, 98082)\t0.241394045464\n",
      "  (0, 101088)\t0.131950970803\n",
      "  (0, 15931)\t0.0850771708476\n",
      "  (0, 98121)\t0.373710794984\n",
      "  (0, 73129)\t0.160965850583\n",
      "  (0, 90129)\t0.0820228732145\n",
      "  (0, 22822)\t0.131138445196\n",
      "  (0, 22750)\t0.086428440649\n",
      "  (0, 58546)\t0.227069494933\n",
      "  (0, 64800)\t0.127663141811\n",
      "  (0, 56932)\t0.0556624302158\n",
      "  (0, 21636)\t0.110400926372\n",
      "  (0, 7941)\t0.10163576141\n",
      "  (0, 20105)\t0.13069505841\n",
      "  (0, 38518)\t0.0732511497488\n",
      "  (0, 73979)\t0.160139102017\n",
      "  (0, 81117)\t0.143789692481\n",
      "  (0, 77309)\t0.185429593707\n",
      "  (0, 71542)\t0.109490227093\n",
      "  (0, 39073)\t0.117652333702\n",
      "  (0, 43511)\t0.241394045464\n",
      "  (0, 2618)\t0.158957868637\n",
      "  (0, 106826)\t0.241394045464\n",
      "  (0, 29536)\t0.0983717387243\n",
      "  (0, 103288)\t0.101268725295\n",
      "  (0, 84275)\t0.0970537583343\n",
      "  (0, 6929)\t0.18613020175\n",
      "  (0, 84834)\t0.108786125523\n",
      "  (0, 39452)\t0.0493076984333\n",
      "  (0, 69490)\t0.0661915982914\n",
      "  (0, 73235)\t0.241394045464\n",
      "  (0, 9037)\t0.0944615749912\n",
      "  (0, 9337)\t0.140021842843\n",
      "  (0, 75021)\t0.101695576091\n",
      "  (0, 44680)\t0.157481100687\n",
      "  (0, 101589)\t0.087533395336\n",
      "  (0, 95336)\t0.0649041154142\n",
      "for what i paid for two tutus is unbeatable anywhere  i ordered a pink and turquios and they are vibrant and beautiful the tutu is very full princess style not cheaply made not cheap materia obviously someone made these with love and care i paid less than 7 bucks for a tutu i and i feel proud of my self for researching to the point of finding goldrecommend 26 yearsmy daughter is two  wears size 4t and this skirt  one size  fit perfect and will probaly be able to accommodate her quickly growing waist for some time\n",
      "Items in vocab:  107593\n",
      "ID of tutu:  98121\n"
     ]
    }
   ],
   "source": [
    "print \"Shape of token_dict: \", len(token_dict)\n",
    "print \"Shape of tfs: \", tfs.shape\n",
    "print tfs[0,:] #sparse matrix\n",
    "print token_dict[0]\n",
    "print \"Items in vocab: \", len(tfidf.vocabulary_)\n",
    "print \"ID of tutu: \", tfidf.vocabulary_['tutu']"
   ]
  },
  {
   "cell_type": "code",
   "execution_count": 75,
   "metadata": {
    "collapsed": false
   },
   "outputs": [
    {
     "name": "stdout",
     "output_type": "stream",
     "text": [
      "Requirement already up-to-date: scikit-learn in /Users/legu/anaconda/lib/python2.7/site-packages\r\n"
     ]
    }
   ],
   "source": [
    "#!pip install -U scikit-learn"
   ]
  },
  {
   "cell_type": "code",
   "execution_count": 22,
   "metadata": {
    "collapsed": false
   },
   "outputs": [
    {
     "name": "stdout",
     "output_type": "stream",
     "text": [
      "(87020, 1)\n"
     ]
    }
   ],
   "source": [
    "# helpfulness[0:10000].reshape(10000,1)\n",
    "y = np.reshape(nonnan_helpfulness_clean,(-1,1))\n",
    "print y.shape"
   ]
  },
  {
   "cell_type": "code",
   "execution_count": 23,
   "metadata": {
    "collapsed": true
   },
   "outputs": [],
   "source": [
    "# Normalizes y be [0,1]\n",
    "y_norm = np.rint(y)"
   ]
  },
  {
   "cell_type": "code",
   "execution_count": 168,
   "metadata": {
    "collapsed": true
   },
   "outputs": [],
   "source": [
    "# No longer needed since we removed nans earlier on.\n",
    "# nan_ind = (np.isnan(helpfulness[0:10000]))\n",
    "# tfs_remove_nan = tfs[~nan_ind]\n",
    "# y_remove_nan = y[~nan_ind]"
   ]
  },
  {
   "cell_type": "markdown",
   "metadata": {},
   "source": [
    "#### Preparing train/test sets"
   ]
  },
  {
   "cell_type": "code",
   "execution_count": 35,
   "metadata": {
    "collapsed": true
   },
   "outputs": [],
   "source": [
    "#random split\n",
    "msk = np.random.rand(tfs.shape[0]) <= 0.7\n",
    "\n",
    "X_train = tfs[msk]\n",
    "X_test = tfs[~msk]\n",
    "y_train = y[msk]\n",
    "y_test = y[~msk]"
   ]
  },
  {
   "cell_type": "code",
   "execution_count": 79,
   "metadata": {
    "collapsed": false
   },
   "outputs": [
    {
     "name": "stdout",
     "output_type": "stream",
     "text": [
      "(61008, 107593)\n",
      "(26012, 107593)\n",
      "(61008, 1)\n",
      "(26012, 1)\n"
     ]
    }
   ],
   "source": [
    "print X_train.shape\n",
    "print X_test.shape\n",
    "print y_train.shape\n",
    "print y_test.shape"
   ]
  },
  {
   "cell_type": "markdown",
   "metadata": {},
   "source": [
    "#### Linear Model"
   ]
  },
  {
   "cell_type": "code",
   "execution_count": 214,
   "metadata": {
    "collapsed": false
   },
   "outputs": [
    {
     "name": "stdout",
     "output_type": "stream",
     "text": [
      "LinearRegression(copy_X=True, fit_intercept=True, n_jobs=1, normalize=False)\n",
      "('Coefficients: \\n', array([[-0.70224571, -0.26878266, -0.21638084, ...,  0.        ,\n",
      "        -1.95550203,  1.42154242]]))\n",
      "Mean squared error: 0.37\n",
      "Variance score: -2.10\n"
     ]
    }
   ],
   "source": [
    "#build linear model\n",
    "# import matplotlib.pyplot as plt\n",
    "# load the iris datasets\n",
    "\n",
    "# fit a linear regression model to the data\n",
    "regr = linear_model.LinearRegression()\n",
    "\n",
    "# Train the model using the training sets\n",
    "regr.fit(X_train, y_train)\n",
    "print(regr)\n",
    "# make predictions\n",
    "# expected = dataset.target\n",
    "predicted = regr.predict(X_test)\n",
    "\n",
    "# The coefficients\n",
    "print('Coefficients: \\n', regr.coef_)\n",
    "# The mean squared error\n",
    "print(\"Mean squared error: %.2f\"\n",
    "      % np.mean((predicted - y_test) ** 2))\n",
    "# Explained variance score: 1 is perfect prediction\n",
    "print('Variance score: %.2f' % regr.score(X_test, y_test))"
   ]
  },
  {
   "cell_type": "code",
   "execution_count": 217,
   "metadata": {
    "collapsed": false
   },
   "outputs": [
    {
     "name": "stdout",
     "output_type": "stream",
     "text": [
      "(26182, 1)\n",
      "(26182, 1)\n"
     ]
    }
   ],
   "source": [
    "print predicted.shape\n",
    "print y_test.shape"
   ]
  },
  {
   "cell_type": "markdown",
   "metadata": {},
   "source": [
    "#### Normalizing helpfulness scores"
   ]
  },
  {
   "cell_type": "code",
   "execution_count": 78,
   "metadata": {
    "collapsed": false
   },
   "outputs": [],
   "source": [
    "# Round helpfulness scores to [0,1] labels.\n",
    "y_train_norm = np.rint(y_train)\n",
    "y_test_norm = np.rint(y_test)"
   ]
  },
  {
   "cell_type": "markdown",
   "metadata": {},
   "source": [
    "#### Logistic Regression"
   ]
  },
  {
   "cell_type": "code",
   "execution_count": 212,
   "metadata": {
    "collapsed": false
   },
   "outputs": [
    {
     "name": "stdout",
     "output_type": "stream",
     "text": [
      "LogisticRegression(C=1.0, class_weight=None, dual=False, fit_intercept=True,\n",
      "          intercept_scaling=1, max_iter=100, multi_class='ovr', n_jobs=1,\n",
      "          penalty='l2', random_state=None, solver='liblinear', tol=0.0001,\n",
      "          verbose=0, warm_start=False)\n",
      "('Coefficients: \\n', array([[-0.20440635,  0.07116786, -0.54615414, ...,  0.        ,\n",
      "        -0.14703691,  0.09026733]]))\n",
      "Mean squared error: 0.24\n",
      "Variance score: 0.77\n",
      "             precision    recall  f1-score   support\n",
      "\n",
      "        0.0       0.50      0.04      0.07      5968\n",
      "        1.0       0.78      0.99      0.87     20214\n",
      "\n",
      "avg / total       0.71      0.77      0.69     26182\n",
      "\n"
     ]
    }
   ],
   "source": [
    "regr2 = linear_model.LogisticRegression()\n",
    "\n",
    "# Train the model using the training sets\n",
    "regr2.fit(X_train, y_train_norm)\n",
    "print(regr2)\n",
    "# make predictions\n",
    "predicted2 = regr2.predict(X_test)\n",
    "\n",
    "# The coefficients\n",
    "print('Coefficients: \\n', regr2.coef_)\n",
    "# The mean squared error\n",
    "print(\"Mean squared error: %.2f\"\n",
    "      % np.mean((predicted2 - y_test_norm) ** 2))\n",
    "# Explained variance score: 1 is perfect prediction\n",
    "print('Variance score: %.2f' % regr2.score(X_test, y_test_norm))\n",
    "print(metrics.classification_report(y_test_norm, predicted2))"
   ]
  },
  {
   "cell_type": "markdown",
   "metadata": {},
   "source": [
    "#### Random Forest"
   ]
  },
  {
   "cell_type": "code",
   "execution_count": 234,
   "metadata": {
    "collapsed": false
   },
   "outputs": [
    {
     "name": "stderr",
     "output_type": "stream",
     "text": [
      "/anaconda/lib/python2.7/site-packages/ipykernel_launcher.py:4: DataConversionWarning: A column-vector y was passed when a 1d array was expected. Please change the shape of y to (n_samples,), for example using ravel().\n",
      "  after removing the cwd from sys.path.\n"
     ]
    },
    {
     "name": "stdout",
     "output_type": "stream",
     "text": [
      "RandomForestClassifier(bootstrap=True, class_weight=None, criterion='gini',\n",
      "            max_depth=None, max_features='auto', max_leaf_nodes=None,\n",
      "            min_impurity_split=1e-07, min_samples_leaf=1,\n",
      "            min_samples_split=2, min_weight_fraction_leaf=0.0,\n",
      "            n_estimators=100, n_jobs=1, oob_score=False, random_state=None,\n",
      "            verbose=0, warm_start=False)\n",
      "Mean squared error: 0.23\n"
     ]
    }
   ],
   "source": [
    "rf = ensemble.RandomForestClassifier(n_estimators = 100)\n",
    "\n",
    "# Train the model using the training sets\n",
    "rf.fit(X_train, y_train_norm)\n",
    "print(rf)\n",
    "# make predictions\n",
    "predicted_rf = rf.predict(X_test)\n",
    "\n",
    "# The mean squared error\n",
    "print(\"Mean squared error: %.2f\"\n",
    "      % np.mean((predicted_rf - y_test_norm) ** 2))\n",
    "# Explained variance score: 1 is perfect prediction\n",
    "# print('Variance score: %.2f' % regr2.score(X_test, y_test_norm))"
   ]
  },
  {
   "cell_type": "code",
   "execution_count": 239,
   "metadata": {
    "collapsed": false
   },
   "outputs": [
    {
     "name": "stdout",
     "output_type": "stream",
     "text": [
      "             precision    recall  f1-score   support\n",
      "\n",
      "        0.0       0.68      0.01      0.03      5968\n",
      "        1.0       0.77      1.00      0.87     20214\n",
      "\n",
      "avg / total       0.75      0.77      0.68     26182\n",
      "\n"
     ]
    }
   ],
   "source": [
    "print(metrics.classification_report(y_test_norm, predicted_rf))"
   ]
  },
  {
   "cell_type": "markdown",
   "metadata": {},
   "source": [
    "#### Feature Extraction 2: CountVectorizer\n",
    "We expect simple counts to perform worse than TF-IDF. This is also used for baseline comparison."
   ]
  },
  {
   "cell_type": "code",
   "execution_count": 120,
   "metadata": {
    "collapsed": true
   },
   "outputs": [],
   "source": [
    "cv = CountVectorizer(tokenizer=tokenize, stop_words='english', dtype=np.float32, max_features=10000)\n",
    "cv_features = cv.fit_transform(token_dict.values())"
   ]
  },
  {
   "cell_type": "code",
   "execution_count": 121,
   "metadata": {
    "collapsed": true
   },
   "outputs": [],
   "source": [
    "CV_train = cv_features[msk]\n",
    "CV_test = cv_features[~msk]"
   ]
  },
  {
   "cell_type": "code",
   "execution_count": 122,
   "metadata": {
    "collapsed": false
   },
   "outputs": [
    {
     "name": "stdout",
     "output_type": "stream",
     "text": [
      "(61008, 10000)\n",
      "(26012, 10000)\n"
     ]
    }
   ],
   "source": [
    "print CV_train.shape\n",
    "print CV_test.shape"
   ]
  },
  {
   "cell_type": "code",
   "execution_count": 232,
   "metadata": {
    "collapsed": false
   },
   "outputs": [
    {
     "name": "stdout",
     "output_type": "stream",
     "text": [
      "LogisticRegression(C=1.0, class_weight=None, dual=False, fit_intercept=True,\n",
      "          intercept_scaling=1, max_iter=100, multi_class='ovr', n_jobs=1,\n",
      "          penalty='l2', random_state=None, solver='liblinear', tol=0.0001,\n",
      "          verbose=0, warm_start=False)\n",
      "('Coefficients: \\n', array([[-0.22478245,  0.12051003, -0.57436598, ...,  0.        ,\n",
      "        -0.15019969,  0.24599894]]))\n",
      "Mean squared error: 0.27\n"
     ]
    }
   ],
   "source": [
    "cv_regr = linear_model.LogisticRegression()\n",
    "\n",
    "# Train the model using the training sets\n",
    "cv_regr.fit(CV_train, y_train_norm)\n",
    "print(cv_regr)\n",
    "# make predictions\n",
    "cv_predicted = cv_regr.predict(CV_test)\n",
    "\n",
    "# The coefficients\n",
    "print('Coefficients: \\n', cv_regr.coef_)\n",
    "# The mean squared error\n",
    "print(\"Mean squared error: %.2f\"\n",
    "      % np.mean((cv_predicted - y_test_norm) ** 2))"
   ]
  },
  {
   "cell_type": "code",
   "execution_count": 233,
   "metadata": {
    "collapsed": false
   },
   "outputs": [
    {
     "name": "stdout",
     "output_type": "stream",
     "text": [
      "             precision    recall  f1-score   support\n",
      "\n",
      "        0.0       0.33      0.11      0.17      5968\n",
      "        1.0       0.78      0.93      0.85     20214\n",
      "\n",
      "avg / total       0.68      0.75      0.69     26182\n",
      "\n"
     ]
    }
   ],
   "source": [
    "print(metrics.classification_report(y_test_norm, cv_predicted))"
   ]
  },
  {
   "cell_type": "markdown",
   "metadata": {},
   "source": [
    "#### Summary of findings.\n",
    "\n",
    "TF-IDF performs better than simple counts with Logistic Regression providing the best results. See above for metrics summary."
   ]
  },
  {
   "cell_type": "markdown",
   "metadata": {},
   "source": [
    "### 4. Deep Learning Exploration"
   ]
  },
  {
   "cell_type": "code",
   "execution_count": 5,
   "metadata": {
    "collapsed": false
   },
   "outputs": [
    {
     "data": {
      "text/plain": [
       "<module 'utils' from 'utils.pyc'>"
      ]
     },
     "execution_count": 5,
     "metadata": {},
     "output_type": "execute_result"
    }
   ],
   "source": [
    "import json, os, re, shutil, sys, time\n",
    "import collections, itertools\n",
    "\n",
    "# NumPy and TensorFlow\n",
    "import numpy as np\n",
    "import tensorflow as tf\n",
    "\n",
    "import rnnlm\n",
    "reload(rnnlm)\n",
    "\n",
    "import utils, vocabulary\n",
    "reload(vocabulary)\n",
    "reload(utils)"
   ]
  },
  {
   "cell_type": "markdown",
   "metadata": {},
   "source": [
    "Moved the code to compute the training data down here since it was mixed through the exploration section. This makes it easier to just run this cell instead of figuring out which cells need to be run in the exploration section."
   ]
  },
  {
   "cell_type": "code",
   "execution_count": 6,
   "metadata": {
    "collapsed": false
   },
   "outputs": [
    {
     "name": "stdout",
     "output_type": "stream",
     "text": [
      "278677\n",
      "87021\n",
      "87020\n",
      "87020\n"
     ]
    }
   ],
   "source": [
    "# Preprocess data to filter for valid reviews with scores.\n",
    "helpfulness = []\n",
    "for i in df['helpful']:\n",
    "    if i[1] == 0:\n",
    "        helpfulness.append(np.nan)\n",
    "    else:\n",
    "        helpfulness.append(float(i[0])/i[1])\n",
    "        \n",
    "# Convert to numpy array.\n",
    "helpfulness = np.array(helpfulness)\n",
    "print len(helpfulness)\n",
    "\n",
    "nonnan_helpfulness = helpfulness[~np.isnan(helpfulness)]\n",
    "print len(nonnan_helpfulness)\n",
    "\n",
    "# Remove invalid record.\n",
    "nonnan_helpfulness_clean = nonnan_helpfulness[np.where(nonnan_helpfulness < 2)]\n",
    "print len(nonnan_helpfulness_clean)\n",
    "\n",
    "doc = np.array(df['reviewText'])\n",
    "\n",
    "# Filter down to reviews with helpfulness scores.\n",
    "# Remove item with invalid helpfulness score.\n",
    "helpfulness_clean = np.delete(helpfulness, 30730)\n",
    "doc_clean = np.delete(doc, 30730)\n",
    "nonnan_doc_clean = doc_clean[~np.isnan(helpfulness_clean)]\n",
    "print len(nonnan_doc_clean)"
   ]
  },
  {
   "cell_type": "code",
   "execution_count": 7,
   "metadata": {
    "collapsed": false
   },
   "outputs": [
    {
     "name": "stdout",
     "output_type": "stream",
     "text": [
      "87020\n",
      "87020\n"
     ]
    }
   ],
   "source": [
    "# Extract labels.\n",
    "y = np.reshape(nonnan_helpfulness_clean,(-1,1))\n",
    "print len(y)\n",
    "# Normalizes y be [0,1]\n",
    "y_norm = np.rint(y)\n",
    "print len(y_norm)"
   ]
  },
  {
   "cell_type": "code",
   "execution_count": 8,
   "metadata": {
    "collapsed": false
   },
   "outputs": [
    {
     "name": "stdout",
     "output_type": "stream",
     "text": [
      "Loaded 10000 sentences (1.02481e+06 tokens)\n",
      "Training set: 7000 sentences (716729 tokens)\n",
      "Test set: 3000 sentences (308079 tokens)\n",
      "Train set vocabulary: 10000 words\n"
     ]
    }
   ],
   "source": [
    "V = 10000\n",
    "\n",
    "# Split to train/test sets.\n",
    "train_sents, test_sents, train_y, test_y = utils.get_train_test_sents(nonnan_doc_clean[:10000], y[:10000], split=0.7, shuffle=False)\n",
    "\n",
    "vocab = vocabulary.Vocabulary((utils.canonicalize_word(w) for w in utils.flatten(train_sents)), size=V)\n",
    "print \"Train set vocabulary: %d words\" % vocab.size"
   ]
  },
  {
   "cell_type": "code",
   "execution_count": 9,
   "metadata": {
    "collapsed": false
   },
   "outputs": [
    {
     "name": "stdout",
     "output_type": "stream",
     "text": [
      "7000\n",
      "3000\n"
     ]
    }
   ],
   "source": [
    "print train_y.size\n",
    "print test_y.size"
   ]
  },
  {
   "cell_type": "code",
   "execution_count": 10,
   "metadata": {
    "collapsed": false
   },
   "outputs": [
    {
     "name": "stdout",
     "output_type": "stream",
     "text": [
      "(7000, 2)\n",
      "(3000, 2)\n",
      "[[ 1.  0.]\n",
      " [ 1.  0.]\n",
      " [ 0.  1.]\n",
      " [ 1.  0.]\n",
      " [ 0.  1.]\n",
      " [ 0.  1.]\n",
      " [ 1.  0.]\n",
      " [ 1.  0.]\n",
      " [ 1.  0.]\n",
      " [ 1.  0.]]\n"
     ]
    }
   ],
   "source": [
    "# Converts labels into an array with two columns (Helpful, Not Helpful) so that\n",
    "# we can use the model to compute scores for each of these labels and take the\n",
    "# higher score.\n",
    "train_y_norm = np.column_stack((y_norm[:7000], 1-y_norm[:7000]))\n",
    "test_y_norm = np.column_stack((y_norm[7000:10000], 1-y_norm[7000:10000]))\n",
    "print train_y_norm.shape\n",
    "print test_y_norm.shape\n",
    "print train_y_norm[0:10]"
   ]
  },
  {
   "cell_type": "code",
   "execution_count": 11,
   "metadata": {
    "collapsed": false
   },
   "outputs": [],
   "source": [
    "# Converts sentences to BOW counts\n",
    "train_x = utils.sents_to_counts(train_sents, vocab)\n",
    "test_x = utils.sents_to_counts(test_sents, vocab)"
   ]
  },
  {
   "cell_type": "code",
   "execution_count": 34,
   "metadata": {
    "collapsed": false
   },
   "outputs": [
    {
     "name": "stdout",
     "output_type": "stream",
     "text": [
      "Train set size: 7000\n",
      "Test set size: 3000\n"
     ]
    }
   ],
   "source": [
    "print \"Train set size: %g\" %len(train_x)\n",
    "print \"Test set size: %g\" %len(test_x)"
   ]
  },
  {
   "cell_type": "markdown",
   "metadata": {},
   "source": [
    "#### Logistic Regression using TF and BOW features"
   ]
  },
  {
   "cell_type": "code",
   "execution_count": 50,
   "metadata": {
    "collapsed": false
   },
   "outputs": [
    {
     "name": "stdout",
     "output_type": "stream",
     "text": [
      "WARNING:tensorflow:From <ipython-input-50-1d68efa08498>:41: initialize_all_variables (from tensorflow.python.ops.variables) is deprecated and will be removed after 2017-03-02.\n",
      "Instructions for updating:\n",
      "Use `tf.global_variables_initializer` instead.\n",
      "step 0, training accuracy 0.600571\n",
      "step 0, cost 2944.5\n",
      "step 0, change in cost 2944.5\n",
      "step 10, training accuracy 0.753\n",
      "step 10, cost 2027.3\n",
      "step 10, change in cost 917.199\n",
      "step 20, training accuracy 0.772286\n",
      "step 20, cost 1728.18\n",
      "step 20, change in cost 299.123\n",
      "step 30, training accuracy 0.774857\n",
      "step 30, cost 1652.54\n",
      "step 30, change in cost 75.6373\n",
      "step 40, training accuracy 0.776286\n",
      "step 40, cost 1621.98\n",
      "step 40, change in cost 30.5537\n",
      "step 50, training accuracy 0.776857\n",
      "step 50, cost 1606.06\n",
      "step 50, change in cost 15.9261\n",
      "step 60, training accuracy 0.777429\n",
      "step 60, cost 1595.72\n",
      "step 60, change in cost 10.3395\n",
      "step 70, training accuracy 0.777286\n",
      "step 70, cost 1587.3\n",
      "step 70, change in cost 8.41602\n",
      "step 80, training accuracy 0.777286\n",
      "step 80, cost 1578.71\n",
      "step 80, change in cost 8.59814\n",
      "step 90, training accuracy 0.777286\n",
      "step 90, cost 1569.6\n",
      "step 90, change in cost 9.10254\n",
      "final accuracy on test set: 0.786\n"
     ]
    },
    {
     "data": {
      "image/png": "[encoded data removed]",
      "text/plain": [
       "<matplotlib.figure.Figure at 0x7f38c5cdae90>"
      ]
     },
     "metadata": {},
     "output_type": "display_data"
    }
   ],
   "source": [
    "vocab_size = vocab.size\n",
    "num_labels = 2\n",
    "\n",
    "numEpochs = 100\n",
    "learningRate = tf.train.exponential_decay(learning_rate=0.0008,\n",
    "                                          global_step= 1,\n",
    "                                          decay_steps=len(train_x),\n",
    "                                          decay_rate= 0.95,\n",
    "                                          staircase=True)\n",
    "\n",
    "\n",
    "####################\n",
    "### PLACEHOLDERS ###\n",
    "####################\n",
    "\n",
    "# X = feature-matrix\n",
    "X = tf.placeholder(tf.float32, [None, vocab_size], name=\"input\")\n",
    "# yGold = label-matrix. This will be our correct answers\n",
    "# matrix. Every row has either [1,0] for HELPFUL or [0,1] for NOT HELPFUL.\n",
    "yGold = tf.placeholder(tf.float32, [None, num_labels], name=\"y\")\n",
    "\n",
    "#################\n",
    "### VARIABLES ###\n",
    "#################\n",
    "\n",
    "# Values are randomly sampled from a Gaussian with a standard deviation of:\n",
    "#     sqrt(6 / (numInputNodes + numOutputNodes + 1))\n",
    "\n",
    "weights = tf.Variable(tf.random_normal([vocab_size,num_labels],\n",
    "                                       mean=0,\n",
    "                                       stddev=(np.sqrt(6/vocab_size+\n",
    "                                                         num_labels+1)),\n",
    "                                       name=\"weights\"), name=\"w\")\n",
    "\n",
    "bias = tf.Variable(tf.random_normal([1,num_labels],\n",
    "                                    mean=0,\n",
    "                                    stddev=(np.sqrt(6/vocab_size+num_labels+1)),\n",
    "                                    name=\"bias\"), name=\"b\")\n",
    "\n",
    "# INITIALIZE our weights and biases\n",
    "init_OP = tf.initialize_all_variables()\n",
    "\n",
    "# PREDICTION ALGORITHM i.e. LOGISTIC REGRESSION ALGORITHM\n",
    "apply_weights_OP = tf.matmul(X, weights, name=\"apply_weights\")\n",
    "add_bias_OP = tf.add(apply_weights_OP, bias, name=\"add_bias\") \n",
    "activation_OP = tf.nn.sigmoid(add_bias_OP, name=\"activation\")\n",
    "\n",
    "#####################\n",
    "### EVALUATION OP ###\n",
    "#####################\n",
    "\n",
    "# COST FUNCTION i.e. MEAN SQUARED ERROR\n",
    "cost_OP = tf.nn.l2_loss(activation_OP-yGold, name=\"squared_error_cost\")\n",
    "\n",
    "#######################\n",
    "### OPTIMIZATION OP ###\n",
    "#######################\n",
    "\n",
    "# OPTIMIZATION ALGORITHM i.e. GRADIENT DESCENT\n",
    "training_OP = tf.train.GradientDescentOptimizer(learningRate).minimize(cost_OP)\n",
    "\n",
    "###########################\n",
    "### GRAPH LIVE UPDATING ###\n",
    "###########################\n",
    "\n",
    "epoch_values=[]\n",
    "accuracy_values=[]\n",
    "cost_values=[]\n",
    "# Turn on interactive plotting\n",
    "plt.ion()\n",
    "# Create the main, super plot\n",
    "fig = plt.figure()\n",
    "# Create two subplots on their own axes and give titles\n",
    "ax1 = plt.subplot(\"211\")\n",
    "ax1.set_title(\"TRAINING ACCURACY\", fontsize=18)\n",
    "ax2 = plt.subplot(\"212\")\n",
    "ax2.set_title(\"TRAINING COST\", fontsize=18)\n",
    "plt.tight_layout()\n",
    "\n",
    "#####################\n",
    "### RUN THE GRAPH ###\n",
    "#####################\n",
    "\n",
    "# Create a tensorflow session\n",
    "sess = tf.Session()\n",
    "\n",
    "# Initialize all tensorflow variables\n",
    "sess.run(init_OP)\n",
    "\n",
    "## Ops for vizualization\n",
    "# argmax(activation_OP, 1) gives the label our model thought was most likely\n",
    "# argmax(yGold, 1) is the correct label\n",
    "predictions_OP = tf.argmax(activation_OP, 1)\n",
    "actual_OP = tf.argmax(yGold, 1)\n",
    "correct_predictions_OP = tf.equal(predictions_OP, actual_OP)\n",
    "# correct_predictions_OP = tf.equal(activation_OP,yGold)\n",
    "# False is 0 and True is 1, what was our average?\n",
    "accuracy_OP = tf.reduce_mean(tf.cast(correct_predictions_OP, \"float\"))\n",
    "# Precision\n",
    "precision_OP = tf.metrics.precision(predictions_OP, actual_OP)\n",
    "# Recall\n",
    "recall_OP = tf.metrics.recall(predictions_OP, actual_OP)\n",
    "# Summary op for regression output\n",
    "activation_summary_OP = tf.summary.histogram(\"output\", activation_OP)\n",
    "# Summary op for accuracy\n",
    "accuracy_summary_OP = tf.summary.scalar(\"accuracy\", accuracy_OP)\n",
    "# Summary op for cost\n",
    "cost_summary_OP = tf.summary.scalar(\"cost\", cost_OP)\n",
    "# Summary ops to check how variables (W, b) are updating after each iteration\n",
    "weightSummary = tf.summary.histogram(\"weights\", weights.eval(session=sess))\n",
    "biasSummary = tf.summary.histogram(\"biases\", bias.eval(session=sess))\n",
    "# Merge all summaries\n",
    "all_summary_OPS = tf.summary.merge([activation_summary_OP, accuracy_summary_OP, cost_summary_OP,\n",
    "                                   weightSummary, biasSummary])\n",
    "# Summary writer\n",
    "writer = tf.summary.FileWriter(\"summary_logs\", sess.graph)\n",
    "\n",
    "# Initialize reporting variables\n",
    "cost = 0\n",
    "diff = 1\n",
    "\n",
    "# Training epochs\n",
    "for i in range(numEpochs):\n",
    "    if i > 1 and diff < .0001:\n",
    "        print(\"change in cost %g; convergence.\"%diff)\n",
    "        break\n",
    "    else:\n",
    "        # Run training step\n",
    "        step = sess.run(training_OP, feed_dict={X: train_x, yGold: train_y_norm})\n",
    "        # Report occasional stats\n",
    "        if i % 10 == 0:\n",
    "            # Add epoch to epoch_values\n",
    "            epoch_values.append(i)\n",
    "            # Generate accuracy stats on test data\n",
    "            summary_results, train_accuracy, newCost = sess.run(\n",
    "                [all_summary_OPS, accuracy_OP, cost_OP], \n",
    "                feed_dict={X: train_x, yGold: train_y_norm}\n",
    "            )\n",
    "            # Add accuracy to live graphing variable\n",
    "            accuracy_values.append(train_accuracy)\n",
    "            # Add cost to live graphing variable\n",
    "            cost_values.append(newCost)\n",
    "            # Write summary stats to writer\n",
    "            writer.add_summary(summary_results, i)\n",
    "            # Re-assign values for variables\n",
    "            diff = abs(newCost - cost)\n",
    "            cost = newCost\n",
    "\n",
    "            #generate print statements\n",
    "            print(\"step %d, training accuracy %g\"%(i, train_accuracy))\n",
    "            print(\"step %d, cost %g\"%(i, newCost))\n",
    "            print(\"step %d, change in cost %g\"%(i, diff))\n",
    "\n",
    "            # Plot progress to our two subplots\n",
    "            accuracyLine, = ax1.plot(epoch_values, accuracy_values)\n",
    "            costLine, = ax2.plot(epoch_values, cost_values)\n",
    "            fig.canvas.draw()\n",
    "            time.sleep(1)\n",
    "\n",
    "\n",
    "# How well do we perform on held-out test data?\n",
    "accuracy, predictions = sess.run([accuracy_OP, predictions_OP], \n",
    "                                 feed_dict={X: test_x, \n",
    "                                            yGold: test_y_norm})\n",
    "print(\"final accuracy on test set: %s\" %str(accuracy))"
   ]
  },
  {
   "cell_type": "code",
   "execution_count": 38,
   "metadata": {
    "collapsed": false
   },
   "outputs": [
    {
     "name": "stdout",
     "output_type": "stream",
     "text": [
      "precision: 0.788010716678, recall: 0.996189669771, f1: 0.879955123411\n",
      "confusion_matrix\n",
      "[[   5  633]\n",
      " [   9 2353]]\n",
      "[ 0.          0.99216301  1.        ]\n",
      "[ 0.          0.99618967  1.        ]\n",
      "[2 1 0]\n"
     ]
    }
   ],
   "source": [
    "precision = metrics.precision_score(test_y_norm[:,0], 1-predictions)\n",
    "recall = metrics.recall_score(test_y_norm[:,0], 1-predictions)\n",
    "f1 = metrics.f1_score(test_y_norm[:,0], 1-predictions)\n",
    "print(\"precision: %s, recall: %s, f1: %s\" %(str(precision), str(recall), str(f1)))\n",
    "\n",
    "print \"confusion_matrix\"\n",
    "print metrics.confusion_matrix(test_y_norm[:,0], 1-predictions)\n",
    "fpr, tpr, thresholds = metrics.roc_curve(test_y_norm[:,0], 1-predictions)\n",
    "print fpr\n",
    "print tpr\n",
    "print thresholds"
   ]
  },
  {
   "cell_type": "code",
   "execution_count": 259,
   "metadata": {
    "collapsed": false
   },
   "outputs": [
    {
     "name": "stdout",
     "output_type": "stream",
     "text": [
      "[1 1 1 1 1 1 1 1 1 1]\n",
      "[ 0.  1.  1. ...,  0.  1.  1.]\n",
      "2993\n",
      "2373.0\n"
     ]
    }
   ],
   "source": [
    "print 1-predictions[0:10]\n",
    "print test_y_norm[:,0]\n",
    "print len(predictions) - sum(predictions)\n",
    "print np.sum(test_y_norm[:,0])"
   ]
  },
  {
   "cell_type": "markdown",
   "metadata": {},
   "source": [
    "#### Neural Network with TF"
   ]
  },
  {
   "cell_type": "code",
   "execution_count": 13,
   "metadata": {
    "collapsed": false
   },
   "outputs": [],
   "source": [
    "# Converts sentences to tokens.\n",
    "reload(utils)\n",
    "\n",
    "max_length = 100\n",
    "rnn_train_x = utils.pad_sents(utils.tokenize_sents(train_sents, vocab), max_length)\n",
    "rnn_test_x = utils.pad_sents(utils.tokenize_sents(test_sents, vocab), max_length)"
   ]
  },
  {
   "cell_type": "code",
   "execution_count": 17,
   "metadata": {
    "collapsed": false
   },
   "outputs": [
    {
     "name": "stdout",
     "output_type": "stream",
     "text": [
      "(7000, 100)\n",
      "(3000, 100)\n"
     ]
    }
   ],
   "source": [
    "print rnn_train_x.shape\n",
    "print rnn_test_x.shape"
   ]
  },
  {
   "cell_type": "code",
   "execution_count": 21,
   "metadata": {
    "collapsed": false
   },
   "outputs": [
    {
     "name": "stdout",
     "output_type": "stream",
     "text": [
      "7000\n",
      "3000\n"
     ]
    }
   ],
   "source": [
    "# Use normalized helpfulness as output.\n",
    "rnn_train_y = y_norm[:7000]\n",
    "rnn_test_y = y_norm[7000:10000]\n",
    "print len(rnn_train_y)\n",
    "print len(rnn_test_y)"
   ]
  },
  {
   "cell_type": "code",
   "execution_count": 56,
   "metadata": {
    "collapsed": false
   },
   "outputs": [],
   "source": [
    "tf.reset_default_graph()\n",
    "tf.set_random_seed(42)\n",
    "\n",
    "##\n",
    "# Hyperparameters\n",
    "# Vocab size\n",
    "V = 10000\n",
    "# Embedding size\n",
    "M = 30\n",
    "# Context window size\n",
    "N = 100\n",
    "# Hidden units\n",
    "H = 50\n",
    "\n",
    "# Inputs\n",
    "# Using \"None\" in place of batch size allows \n",
    "# it to be dynamically computed later.\n",
    "with tf.name_scope(\"Inputs\"):\n",
    "    ids_ = tf.placeholder(tf.int64, shape=[None, N], name=\"ids\")\n",
    "    y_ = tf.placeholder(tf.int64, shape=[None], name=\"y\")\n",
    "    \n",
    "with tf.name_scope(\"Embedding_Layer\"):\n",
    "    C_ = tf.Variable(tf.random_uniform([V, M], -1.0, 1.0), name=\"C\")\n",
    "    # embedding_lookup gives shape (batch_size, N, M)\n",
    "    x_ = tf.reshape(tf.nn.embedding_lookup(C_, ids_), \n",
    "                    [-1, N*M], name=\"x\")\n",
    "    \n",
    "with tf.name_scope(\"Hidden_Layer\"):\n",
    "    W1_ = tf.Variable(tf.random_normal([N*M,H]), name=\"W1\")\n",
    "    b1_ = tf.Variable(tf.zeros([H,], dtype=tf.float32), name=\"b1\")\n",
    "    h_ = tf.tanh(tf.matmul(x_, W1_) + b1_, name=\"h\")\n",
    "    \n",
    "with tf.name_scope(\"Output_Layer\"):\n",
    "    W2_ = tf.Variable(tf.random_normal([H,2]), name=\"W2\")\n",
    "    W3_ = tf.Variable(tf.random_normal([N*M,2]), name=\"W3\")\n",
    "    b3_ = tf.Variable(tf.zeros([2,], dtype=tf.float32), name=\"b3\")\n",
    "    # Concat [h x] and [W2 W3]\n",
    "    hx_ = tf.concat([h_, x_], 1, name=\"hx\")\n",
    "    W23_ = tf.concat([W2_, W3_], 0, name=\"W23\")\n",
    "    logits_ = tf.add(tf.matmul(hx_, W23_), b3_, name=\"logits\")"
   ]
  },
  {
   "cell_type": "code",
   "execution_count": 57,
   "metadata": {
    "collapsed": false
   },
   "outputs": [],
   "source": [
    "with tf.name_scope(\"Cost_Function\"):\n",
    "    # Sampled softmax loss, for training\n",
    "    per_example_train_loss_ = tf.nn.sparse_softmax_cross_entropy_with_logits(labels=y_, logits=logits_,\n",
    "                                             name=\"per_example_train_loss_\")\n",
    "    train_loss_ = tf.reduce_mean(per_example_train_loss_, name=\"loss\")"
   ]
  },
  {
   "cell_type": "code",
   "execution_count": 58,
   "metadata": {
    "collapsed": true
   },
   "outputs": [],
   "source": [
    "with tf.name_scope(\"Training\"):\n",
    "    alpha_ = tf.placeholder(tf.float32, name=\"learning_rate\")\n",
    "    optimizer_ = tf.train.AdagradOptimizer(alpha_)\n",
    "    train_step_ = optimizer_.minimize(train_loss_)\n",
    "    \n",
    "# Initializer step\n",
    "init_ = tf.global_variables_initializer()"
   ]
  },
  {
   "cell_type": "code",
   "execution_count": 59,
   "metadata": {
    "collapsed": true
   },
   "outputs": [],
   "source": [
    "with tf.name_scope(\"Prediction\"):\n",
    "    pred_proba_ = tf.nn.softmax(logits_, name=\"pred_proba\")\n",
    "    pred_max_ = tf.argmax(logits_, 1, name=\"pred_max\")"
   ]
  },
  {
   "cell_type": "code",
   "execution_count": 60,
   "metadata": {
    "collapsed": false
   },
   "outputs": [],
   "source": [
    "with tf.name_scope(\"Scoring\"):\n",
    "    correct_predictions_OP = tf.equal(pred_max_, y_)\n",
    "    accuracy_OP = tf.reduce_mean(tf.cast(correct_predictions_OP, \"float\"))"
   ]
  },
  {
   "cell_type": "code",
   "execution_count": 81,
   "metadata": {
    "collapsed": true
   },
   "outputs": [],
   "source": [
    "##\n",
    "# Helper functions for training\n",
    "def train_batch(session, batch, alpha):\n",
    "    # Feed last column as targets\n",
    "    feed_dict = {ids_:batch[0],\n",
    "                 y_:batch[1],\n",
    "                 alpha_:alpha}\n",
    "    c, _ = session.run([train_loss_, train_step_],\n",
    "                       feed_dict=feed_dict)\n",
    "    return c\n",
    "\n",
    "def batch_generator(data, labels, batch_size):\n",
    "    \"\"\"Generate minibatches from data.\"\"\"\n",
    "    for i in xrange(0, len(data), batch_size):\n",
    "        yield (data[i:i+batch_size], labels[i:i+batch_size].reshape(-1))"
   ]
  },
  {
   "cell_type": "code",
   "execution_count": 82,
   "metadata": {
    "collapsed": false
   },
   "outputs": [
    {
     "name": "stdout",
     "output_type": "stream",
     "text": [
      "\n",
      "[epoch 1] seen 0 minibatches\n",
      "[epoch 1] Completed 69 minibatches in 0:00:01\n",
      "[epoch 1] Average cost: 11.600\n",
      "\n",
      "[epoch 2] seen 0 minibatches\n",
      "[epoch 2] Completed 69 minibatches in 0:00:01\n",
      "[epoch 2] Average cost: 2.479\n",
      "\n",
      "[epoch 3] seen 0 minibatches\n",
      "[epoch 3] Completed 69 minibatches in 0:00:01\n",
      "[epoch 3] Average cost: 0.650\n"
     ]
    }
   ],
   "source": [
    "# One epoch = one pass through the training data\n",
    "num_epochs = 3\n",
    "batch_size = 100\n",
    "alpha = 0.5  # learning rate\n",
    "print_every = 1000\n",
    "\n",
    "np.random.seed(42)\n",
    "\n",
    "session = tf.Session()\n",
    "session.run(init_)\n",
    "\n",
    "t0 = time.time()\n",
    "for epoch in xrange(1,num_epochs+1):\n",
    "    t0_epoch = time.time()\n",
    "    epoch_cost = 0.0\n",
    "    total_batches = 0\n",
    "    print \"\"\n",
    "    for i, batch in enumerate(batch_generator(rnn_train_x, rnn_train_y, batch_size)):\n",
    "        if (i % print_every == 0):\n",
    "            print \"[epoch %d] seen %d minibatches\" % (epoch, i)\n",
    "        \n",
    "        epoch_cost += train_batch(session, batch, alpha)\n",
    "        total_batches = i + 1\n",
    "\n",
    "    avg_cost = epoch_cost / total_batches\n",
    "    print \"[epoch %d] Completed %d minibatches in %s\" % (epoch, i, utils.pretty_timedelta(since=t0_epoch))\n",
    "    print \"[epoch %d] Average cost: %.03f\" % (epoch, avg_cost,)"
   ]
  },
  {
   "cell_type": "code",
   "execution_count": 83,
   "metadata": {
    "collapsed": true
   },
   "outputs": [],
   "source": [
    "def score_batch(session, batch):\n",
    "    # Feed last column as targets\n",
    "    feed_dict = {ids_:batch[0],\n",
    "                 y_:batch[1]}\n",
    "    predictions, accuracy = session.run([pred_max_, accuracy_OP],\n",
    "                       feed_dict=feed_dict)\n",
    "    print predictions[:10]\n",
    "    print \"total 1s predicted: %g\" %sum(predictions)\n",
    "    print \"total 1s actual: %g\" %sum(rnn_train_y)\n",
    "    print \"total predictions: %g\" %len(predictions)\n",
    "    print \"accuracy: %f\" %accuracy"
   ]
  },
  {
   "cell_type": "code",
   "execution_count": 84,
   "metadata": {
    "collapsed": false
   },
   "outputs": [
    {
     "name": "stdout",
     "output_type": "stream",
     "text": [
      "[1 1 0 1 0 0 1 1 1 1]\n",
      "total 1s predicted: 5305\n",
      "total 1s actual: 5444\n",
      "total predictions: 7000\n",
      "accuracy: 0.956714\n"
     ]
    }
   ],
   "source": [
    "score_batch(session, (rnn_train_x, rnn_train_y.reshape(-1)))"
   ]
  },
  {
   "cell_type": "markdown",
   "metadata": {},
   "source": [
    "## Scratch Below"
   ]
  },
  {
   "cell_type": "code",
   "execution_count": null,
   "metadata": {
    "collapsed": true
   },
   "outputs": [],
   "source": [
    "print 1"
   ]
  },
  {
   "cell_type": "code",
   "execution_count": 62,
   "metadata": {
    "collapsed": false
   },
   "outputs": [
    {
     "name": "stdout",
     "output_type": "stream",
     "text": [
      "[nltk_data] Downloading package brown to /Users/legu/nltk_data...\n",
      "[nltk_data]   Unzipping corpora/brown.zip.\n"
     ]
    }
   ],
   "source": [
    "import nltk\n",
    "nltk.download('brown')\n",
    "\n",
    "corpus = nltk.corpus.brown"
   ]
  },
  {
   "cell_type": "code",
   "execution_count": 72,
   "metadata": {
    "collapsed": false
   },
   "outputs": [
    {
     "name": "stdout",
     "output_type": "stream",
     "text": [
      "Collecting vocabulary\n",
      "  Downloading Vocabulary-1.0.4.tar.gz\n",
      "Collecting requests==2.13.0 (from vocabulary)\n",
      "  Downloading requests-2.13.0-py2.py3-none-any.whl (584kB)\n",
      "\u001b[K    100% |████████████████████████████████| 593kB 408kB/s \n",
      "\u001b[?25hCollecting mock==2.0.0 (from vocabulary)\n",
      "  Downloading mock-2.0.0-py2.py3-none-any.whl (56kB)\n",
      "\u001b[K    100% |████████████████████████████████| 61kB 1.9MB/s \n",
      "\u001b[?25hRequirement already satisfied (use --upgrade to upgrade): funcsigs>=1; python_version < \"3.3\" in /Users/legu/anaconda/lib/python2.7/site-packages (from mock==2.0.0->vocabulary)\n",
      "Requirement already satisfied (use --upgrade to upgrade): six>=1.9 in /Users/legu/anaconda/lib/python2.7/site-packages (from mock==2.0.0->vocabulary)\n",
      "Collecting pbr>=0.11 (from mock==2.0.0->vocabulary)\n",
      "  Downloading pbr-3.1.1-py2.py3-none-any.whl (99kB)\n",
      "\u001b[K    100% |████████████████████████████████| 102kB 1.2MB/s \n",
      "\u001b[?25hBuilding wheels for collected packages: vocabulary\n",
      "  Running setup.py bdist_wheel for vocabulary ... \u001b[?25l-\b \b\\\b \bdone\n",
      "\u001b[?25h  Stored in directory: /Users/legu/Library/Caches/pip/wheels/36/6c/c0/92bb20f79402d055c3bce3e89d9f2cce5d6937bc2aadc0fb45\n",
      "Successfully built vocabulary\n",
      "Installing collected packages: requests, pbr, mock, vocabulary\n",
      "  Found existing installation: requests 2.11.1\n",
      "    Uninstalling requests-2.11.1:\n",
      "      Successfully uninstalled requests-2.11.1\n",
      "Successfully installed mock-2.0.0 pbr-3.1.1 requests-2.13.0 vocabulary-1.0.4\n",
      "\u001b[33mYou are using pip version 8.1.2, however version 9.0.1 is available.\n",
      "You should consider upgrading via the 'pip install --upgrade pip' command.\u001b[0m\n"
     ]
    }
   ],
   "source": [
    "!pip install vocabulary"
   ]
  },
  {
   "cell_type": "code",
   "execution_count": 73,
   "metadata": {
    "collapsed": false
   },
   "outputs": [
    {
     "ename": "AttributeError",
     "evalue": "'module' object has no attribute 'Vocabulary'",
     "output_type": "error",
     "traceback": [
      "\u001b[0;31m---------------------------------------------------------------------------\u001b[0m",
      "\u001b[0;31mAttributeError\u001b[0m                            Traceback (most recent call last)",
      "\u001b[0;32m<ipython-input-73-385fd0cf2b77>\u001b[0m in \u001b[0;36m<module>\u001b[0;34m()\u001b[0m\n\u001b[1;32m      2\u001b[0m \u001b[0;32mimport\u001b[0m \u001b[0mvocabulary\u001b[0m\u001b[0;34m\u001b[0m\u001b[0m\n\u001b[1;32m      3\u001b[0m \u001b[0;31m# train_sents, test_sents = utils.get_train_test_sents(corpus, split=0.8, shuffle=True)\u001b[0m\u001b[0;34m\u001b[0m\u001b[0;34m\u001b[0m\u001b[0m\n\u001b[0;32m----> 4\u001b[0;31m \u001b[0mvocab\u001b[0m \u001b[0;34m=\u001b[0m \u001b[0mvocabulary\u001b[0m\u001b[0;34m.\u001b[0m\u001b[0mVocabulary\u001b[0m\u001b[0;34m(\u001b[0m\u001b[0mutils\u001b[0m\u001b[0;34m.\u001b[0m\u001b[0mcanonicalize_word\u001b[0m\u001b[0;34m(\u001b[0m\u001b[0mw\u001b[0m\u001b[0;34m)\u001b[0m \u001b[0;32mfor\u001b[0m \u001b[0mw\u001b[0m \u001b[0;32min\u001b[0m \u001b[0mutils\u001b[0m\u001b[0;34m.\u001b[0m\u001b[0mflatten\u001b[0m\u001b[0;34m(\u001b[0m\u001b[0mcorpus\u001b[0m\u001b[0;34m)\u001b[0m\u001b[0;34m)\u001b[0m\u001b[0;34m\u001b[0m\u001b[0m\n\u001b[0m\u001b[1;32m      5\u001b[0m \u001b[0;32mprint\u001b[0m \u001b[0;34m\"Train set vocabulary: %d words\"\u001b[0m \u001b[0;34m%\u001b[0m \u001b[0mvocab\u001b[0m\u001b[0;34m.\u001b[0m\u001b[0msize\u001b[0m\u001b[0;34m\u001b[0m\u001b[0m\n",
      "\u001b[0;31mAttributeError\u001b[0m: 'module' object has no attribute 'Vocabulary'"
     ]
    }
   ],
   "source": [
    "import utils\n",
    "import vocabulary\n",
    "# train_sents, test_sents = utils.get_train_test_sents(corpus, split=0.8, shuffle=True)\n",
    "vocab = vocabulary.Vocabulary(utils.canonicalize_word(w) for w in utils.flatten(corpus))\n",
    "print \"Train set vocabulary: %d words\" % vocab.size"
   ]
  },
  {
   "cell_type": "code",
   "execution_count": null,
   "metadata": {
    "collapsed": true
   },
   "outputs": [],
   "source": []
  }
 ],
 "metadata": {
  "anaconda-cloud": {},
  "kernelspec": {
   "display_name": "Python 2",
   "language": "python",
   "name": "python2"
  },
  "language_info": {
   "codemirror_mode": {
    "name": "ipython",
    "version": 2
   },
   "file_extension": ".py",
   "mimetype": "text/x-python",
   "name": "python",
   "nbconvert_exporter": "python",
   "pygments_lexer": "ipython2",
   "version": "2.7.13"
  }
 },
 "nbformat": 4,
 "nbformat_minor": 1
}
