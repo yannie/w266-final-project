{
 "cells": [
  {
   "cell_type": "markdown",
   "metadata": {},
   "source": [
    "# W266 Final Project - Predicting Amazon Review Helpfulness"
   ]
  },
  {
   "cell_type": "markdown",
   "metadata": {},
   "source": [
    "Annie Lee, annie.y.lee@berkeley.edu\n",
    "\n",
    "Le Gu, legu@berkeley.edu "
   ]
  },
  {
   "cell_type": "markdown",
   "metadata": {},
   "source": [
    "# Overview"
   ]
  },
  {
   "cell_type": "markdown",
   "metadata": {},
   "source": [
    "In this notebook, we tested out several machine learning approaches for predicting the usefulness of customer reviews, specifically online product reviews. We work with the Amazon Product Review dataset and focus on applying NLP techniques and building deep learning models, such as RNN and LSTM, to improve the prediction accuracy. \n",
    "  \n"
   ]
  },
  {
   "cell_type": "markdown",
   "metadata": {},
   "source": [
    "We chose to focus on a subset of the <a href=\"http://jmcauley.ucsd.edu/data/amazon/\">Amazon Product Data</a>. Specifically, we use reviews for products from the Clothing, Shoes and Jewelry category, which consists of 278,677 Amazon reviews. Each review consists of 7 fields: reviewer id, product id, helpfulness rating, review text, star rating, summary of review, and review time. In this section, we cover a few of the interesting characteristics of our dataset."
   ]
  },
  {
   "cell_type": "markdown",
   "metadata": {},
   "source": [
    "# 1. Set up"
   ]
  },
  {
   "cell_type": "markdown",
   "metadata": {},
   "source": [
    "## 1.1 Environment"
   ]
  },
  {
   "cell_type": "code",
   "execution_count": 3,
   "metadata": {
    "collapsed": true
   },
   "outputs": [],
   "source": [
    "# Imports\n",
    "import pandas as pd\n",
    "import numpy as np\n",
    "import gzip\n",
    "import time\n",
    "import matplotlib.pyplot as plt\n",
    "import matplotlib\n",
    "matplotlib.style.use('ggplot')\n",
    "\n",
    "# Sklearn libraries.\n",
    "from sklearn import datasets, linear_model, ensemble, metrics\n",
    "from sklearn.feature_extraction.text import TfidfVectorizer, CountVectorizer\n",
    "\n",
    "import nltk\n",
    "from nltk.corpus import stopwords\n",
    "import string\n",
    "\n",
    "from collections import Counter\n",
    "#deep learning library\n",
    "\n",
    "import json, os, re, shutil, sys, time\n",
    "import collections, itertools\n",
    "import unittest\n",
    "from IPython.display import display, HTML\n",
    "\n",
    "# NLTK for NLP utils and corpora\n",
    "import nltk\n",
    "\n",
    "# NumPy and TensorFlow\n",
    "import numpy as np\n",
    "import tensorflow as tf\n",
    "assert(tf.__version__.startswith(\"1.\"))\n",
    "\n",
    "# utils.pretty_print_matrix uses Pandas. Configure float format here.\n",
    "import pandas as pd\n",
    "pd.set_option('float_format', lambda f: \"{0:.04f}\".format(f))\n",
    "\n",
    "# Helper libraries\n",
    "from shared_lib import utils, vocabulary, tf_embed_viz\n",
    "\n",
    "from random import randint\n",
    "from numpy import random\n",
    "from numpy.random import multinomial\n",
    "\n",
    "random.seed(10)\n",
    "import utils, vocabulary\n",
    "from itertools import product\n"
   ]
  },
  {
   "cell_type": "markdown",
   "metadata": {},
   "source": [
    "## 1.2 Read Data"
   ]
  },
  {
   "cell_type": "code",
   "execution_count": 4,
   "metadata": {
    "collapsed": true
   },
   "outputs": [],
   "source": [
    "# Unzip gz file.\n",
    "def parse(path):\n",
    "    g = gzip.open(path, 'rb')\n",
    "    for l in g:\n",
    "        yield eval(l)\n",
    "\n",
    "# Load JSON into dataframe.\n",
    "def getDF(path):\n",
    "    i = 0\n",
    "    df = {}\n",
    "    for d in parse(path):\n",
    "        df[i] = d\n",
    "        i += 1\n",
    "    return pd.DataFrame.from_dict(df, orient='index')"
   ]
  },
  {
   "cell_type": "code",
   "execution_count": 5,
   "metadata": {
    "collapsed": false
   },
   "outputs": [
    {
     "name": "stdout",
     "output_type": "stream",
     "text": [
      "Time Used 43.249688s\n"
     ]
    }
   ],
   "source": [
    "start = time.time()\n",
    "df = getDF('/home/legu/data/reviews_Clothing_Shoes_and_Jewelry_5.json.gz')\n",
    "end = time.time()\n",
    "print(\"Time Used %fs\" %(end - start))"
   ]
  },
  {
   "cell_type": "markdown",
   "metadata": {},
   "source": [
    "## 1.3 Data Wrangling"
   ]
  },
  {
   "cell_type": "markdown",
   "metadata": {},
   "source": [
    "### 1.3.1 Data transformation"
   ]
  },
  {
   "cell_type": "code",
   "execution_count": 6,
   "metadata": {
    "collapsed": true
   },
   "outputs": [],
   "source": [
    "helpfulness = []\n",
    "total_votes = []\n",
    "for i in df['helpful']:\n",
    "    if i[1] == 0:\n",
    "        helpfulness.append(np.nan)\n",
    "        total_votes.append(np.nan)\n",
    "    else:\n",
    "        helpfulness.append(float(i[0])/i[1])\n",
    "        total_votes.append(i[1])\n",
    "        \n",
    "# Convert to numpy array.\n",
    "helpfulness = np.array(helpfulness)\n",
    "total_votes = np.array(total_votes)"
   ]
  },
  {
   "cell_type": "markdown",
   "metadata": {},
   "source": [
    "### 1.3.2 Remove wrong/nan entries"
   ]
  },
  {
   "cell_type": "code",
   "execution_count": 7,
   "metadata": {
    "collapsed": false
   },
   "outputs": [
    {
     "name": "stdout",
     "output_type": "stream",
     "text": [
      "reviewerID                                           A353U0L2HAMSHV\n",
      "asin                                                     B000JD2614\n",
      "reviewerName                   Cricket \"Living life and loving it!\"\n",
      "helpful                                                      [4, 2]\n",
      "unixReviewTime                                           1234828800\n",
      "reviewText        I have been waiting for these to go on sale fo...\n",
      "overall                                                      5.0000\n",
      "reviewTime                                              02 17, 2009\n",
      "summary                                              A gift for me!\n",
      "Name: 30730, dtype: object\n"
     ]
    }
   ],
   "source": [
    "for i, row in df.iterrows():\n",
    "    helpful = row['helpful']\n",
    "    if helpful[0] > helpful[1]:\n",
    "        print(row)"
   ]
  },
  {
   "cell_type": "code",
   "execution_count": 8,
   "metadata": {
    "collapsed": true
   },
   "outputs": [],
   "source": [
    "#  remove the invalid entries\n",
    "helpfulness_clean = np.delete(helpfulness, 30730)\n",
    "doc = np.array(df['reviewText'])\n",
    "doc_clean = np.delete(doc, 30730)\n",
    "\n",
    "# remove the nan values\n",
    "nonnan_doc_clean = doc_clean[~np.isnan(helpfulness_clean)]\n",
    "nonnan_helpfulness_clean = helpfulness_clean[~np.isnan(helpfulness_clean)]\n",
    "y = np.reshape(nonnan_helpfulness_clean,(-1,1))\n",
    "\n",
    "#binarize\n",
    "\n",
    "y_norm2 = np.argmax(np.concatenate((1-y,y), axis = 1),1)\n",
    "y_norm = 1-np.argmax(np.concatenate((y,1-y), axis = 1),1)"
   ]
  },
  {
   "cell_type": "markdown",
   "metadata": {},
   "source": [
    "# 2. Data Exploration"
   ]
  },
  {
   "cell_type": "markdown",
   "metadata": {},
   "source": [
    "## 2.1 Overview"
   ]
  },
  {
   "cell_type": "code",
   "execution_count": 8,
   "metadata": {
    "collapsed": false
   },
   "outputs": [
    {
     "name": "stdout",
     "output_type": "stream",
     "text": [
      "Index([u'reviewerID', u'asin', u'reviewerName', u'helpful', u'unixReviewTime',\n",
      "       u'reviewText', u'overall', u'reviewTime', u'summary'],\n",
      "      dtype='object')\n",
      "This is a great tutu and at a really great price. It doesn't look cheap at all. I'm so glad I looked on Amazon and found such an affordable tutu that isn't made poorly. A++\n"
     ]
    },
    {
     "data": {
      "text/html": [
       "<div>\n",
       "<table border=\"1\" class=\"dataframe\">\n",
       "  <thead>\n",
       "    <tr style=\"text-align: right;\">\n",
       "      <th></th>\n",
       "      <th>reviewerID</th>\n",
       "      <th>asin</th>\n",
       "      <th>reviewerName</th>\n",
       "      <th>helpful</th>\n",
       "      <th>unixReviewTime</th>\n",
       "      <th>reviewText</th>\n",
       "      <th>overall</th>\n",
       "      <th>reviewTime</th>\n",
       "      <th>summary</th>\n",
       "    </tr>\n",
       "  </thead>\n",
       "  <tbody>\n",
       "    <tr>\n",
       "      <th>0</th>\n",
       "      <td>A1KLRMWW2FWPL4</td>\n",
       "      <td>0000031887</td>\n",
       "      <td>Amazon Customer \"cameramom\"</td>\n",
       "      <td>[0, 0]</td>\n",
       "      <td>1297468800</td>\n",
       "      <td>This is a great tutu and at a really great pri...</td>\n",
       "      <td>5.0000</td>\n",
       "      <td>02 12, 2011</td>\n",
       "      <td>Great tutu-  not cheaply made</td>\n",
       "    </tr>\n",
       "    <tr>\n",
       "      <th>1</th>\n",
       "      <td>A2G5TCU2WDFZ65</td>\n",
       "      <td>0000031887</td>\n",
       "      <td>Amazon Customer</td>\n",
       "      <td>[0, 0]</td>\n",
       "      <td>1358553600</td>\n",
       "      <td>I bought this for my 4 yr old daughter for dan...</td>\n",
       "      <td>5.0000</td>\n",
       "      <td>01 19, 2013</td>\n",
       "      <td>Very Cute!!</td>\n",
       "    </tr>\n",
       "    <tr>\n",
       "      <th>2</th>\n",
       "      <td>A1RLQXYNCMWRWN</td>\n",
       "      <td>0000031887</td>\n",
       "      <td>Carola</td>\n",
       "      <td>[0, 0]</td>\n",
       "      <td>1357257600</td>\n",
       "      <td>What can I say... my daughters have it in oran...</td>\n",
       "      <td>5.0000</td>\n",
       "      <td>01 4, 2013</td>\n",
       "      <td>I have buy more than one</td>\n",
       "    </tr>\n",
       "    <tr>\n",
       "      <th>3</th>\n",
       "      <td>A8U3FAMSJVHS5</td>\n",
       "      <td>0000031887</td>\n",
       "      <td>Caromcg</td>\n",
       "      <td>[0, 0]</td>\n",
       "      <td>1398556800</td>\n",
       "      <td>We bought several tutus at once, and they are ...</td>\n",
       "      <td>5.0000</td>\n",
       "      <td>04 27, 2014</td>\n",
       "      <td>Adorable, Sturdy</td>\n",
       "    </tr>\n",
       "    <tr>\n",
       "      <th>4</th>\n",
       "      <td>A3GEOILWLK86XM</td>\n",
       "      <td>0000031887</td>\n",
       "      <td>CJ</td>\n",
       "      <td>[0, 0]</td>\n",
       "      <td>1394841600</td>\n",
       "      <td>Thank you Halo Heaven great product for Little...</td>\n",
       "      <td>5.0000</td>\n",
       "      <td>03 15, 2014</td>\n",
       "      <td>Grammy's Angels Love it</td>\n",
       "    </tr>\n",
       "  </tbody>\n",
       "</table>\n",
       "</div>"
      ],
      "text/plain": [
       "       reviewerID        asin                 reviewerName helpful  \\\n",
       "0  A1KLRMWW2FWPL4  0000031887  Amazon Customer \"cameramom\"  [0, 0]   \n",
       "1  A2G5TCU2WDFZ65  0000031887              Amazon Customer  [0, 0]   \n",
       "2  A1RLQXYNCMWRWN  0000031887                       Carola  [0, 0]   \n",
       "3   A8U3FAMSJVHS5  0000031887                      Caromcg  [0, 0]   \n",
       "4  A3GEOILWLK86XM  0000031887                           CJ  [0, 0]   \n",
       "\n",
       "   unixReviewTime                                         reviewText  overall  \\\n",
       "0      1297468800  This is a great tutu and at a really great pri...   5.0000   \n",
       "1      1358553600  I bought this for my 4 yr old daughter for dan...   5.0000   \n",
       "2      1357257600  What can I say... my daughters have it in oran...   5.0000   \n",
       "3      1398556800  We bought several tutus at once, and they are ...   5.0000   \n",
       "4      1394841600  Thank you Halo Heaven great product for Little...   5.0000   \n",
       "\n",
       "    reviewTime                        summary  \n",
       "0  02 12, 2011  Great tutu-  not cheaply made  \n",
       "1  01 19, 2013                    Very Cute!!  \n",
       "2   01 4, 2013       I have buy more than one  \n",
       "3  04 27, 2014               Adorable, Sturdy  \n",
       "4  03 15, 2014        Grammy's Angels Love it  "
      ]
     },
     "execution_count": 8,
     "metadata": {},
     "output_type": "execute_result"
    }
   ],
   "source": [
    "print df.columns\n",
    "\n",
    "print df['reviewText'][0]\n",
    "\n",
    "df.head(5)"
   ]
  },
  {
   "cell_type": "markdown",
   "metadata": {},
   "source": [
    "## 2.2 Helpful Votes"
   ]
  },
  {
   "cell_type": "code",
   "execution_count": 16,
   "metadata": {
    "collapsed": false
   },
   "outputs": [
    {
     "name": "stdout",
     "output_type": "stream",
     "text": [
      "average # votes for reviews with votes: 4.305961\n",
      "min # votes for reviews with votes: 1\n",
      "max # votes for reviews with votes: 1267\n"
     ]
    }
   ],
   "source": [
    "print \"average # votes for reviews with votes: %f\" %np.nanmean(total_votes)\n",
    "print \"min # votes for reviews with votes: %i\" %np.nanmin(total_votes)\n",
    "print \"max # votes for reviews with votes: %i\" %np.nanmax(total_votes)"
   ]
  },
  {
   "cell_type": "code",
   "execution_count": 19,
   "metadata": {
    "collapsed": false
   },
   "outputs": [
    {
     "data": {
      "image/png": "[encoded data removed]",
      "text/plain": [
       "<matplotlib.figure.Figure at 0x7f9566e7d590>"
      ]
     },
     "metadata": {},
     "output_type": "display_data"
    },
    {
     "data": {
      "image/png": "[encoded data removed]",
      "text/plain": [
       "<matplotlib.figure.Figure at 0x7f95678fd5d0>"
      ]
     },
     "metadata": {},
     "output_type": "display_data"
    }
   ],
   "source": [
    "# Create array that contains total votes per review with >0 votes.\n",
    "non_zero_total_votes = total_votes[np.isfinite(total_votes)]\n",
    "\n",
    "# Remove outlier.\n",
    "non_zero_total_votes_minus_outliers = non_zero_total_votes[np.where(non_zero_total_votes < 1267)]\n",
    "\n",
    "# Plot boxplot.\n",
    "plt.figure()\n",
    "plt.boxplot(non_zero_total_votes_minus_outliers)\n",
    "plt.title('# of Votes Distribution')\n",
    "# Plot histogram using log(total votes) due to right skewed distribution.\n",
    "plt.figure()\n",
    "plt.hist(np.log(non_zero_total_votes_minus_outliers))\n",
    "plt.title('# of Votes Histogram')\n",
    "plt.show()"
   ]
  },
  {
   "cell_type": "markdown",
   "metadata": {},
   "source": [
    "## 2.3 Helpfulness Score"
   ]
  },
  {
   "cell_type": "code",
   "execution_count": 9,
   "metadata": {
    "collapsed": false
   },
   "outputs": [
    {
     "name": "stdout",
     "output_type": "stream",
     "text": [
      "average helpfulness 0.780014\n",
      "number of reviews with helpfulness score: 87021\n",
      "total reviews:  278677\n",
      "percent of reviews with helpfulness score:  0.312264736595\n"
     ]
    }
   ],
   "source": [
    "print \"average helpfulness %f\" %np.nanmean(helpfulness)\n",
    "print \"number of reviews with helpfulness score: %i\" %np.count_nonzero(~np.isnan(helpfulness))\n",
    "print \"total reviews: \", len(df)\n",
    "print \"percent of reviews with helpfulness score: \", (np.count_nonzero(~np.isnan(helpfulness)) / float(len(df)))"
   ]
  },
  {
   "cell_type": "code",
   "execution_count": 14,
   "metadata": {
    "collapsed": false
   },
   "outputs": [
    {
     "data": {
      "image/png": "[encoded data removed]",
      "text/plain": [
       "<matplotlib.figure.Figure at 0x7f956588a390>"
      ]
     },
     "metadata": {},
     "output_type": "display_data"
    },
    {
     "data": {
      "image/png": "[encoded data removed]",
      "text/plain": [
       "<matplotlib.figure.Figure at 0x7f95648ed950>"
      ]
     },
     "metadata": {},
     "output_type": "display_data"
    }
   ],
   "source": [
    "# Plot boxplot.\n",
    "# nonnan_helpfulness = helpfulness[~np.isnan(helpfulness)]\n",
    "\n",
    "plt.figure()\n",
    "plt.boxplot(nonnan_helpfulness_clean)\n",
    "plt.title('Score Distribution')\n",
    "\n",
    "# Plot histogram\n",
    "plt.figure()\n",
    "plt.hist(nonnan_helpfulness_clean)\n",
    "plt.title('Score Histogram')\n",
    "plt.show()"
   ]
  },
  {
   "cell_type": "markdown",
   "metadata": {},
   "source": [
    "## 2.4 Review Length"
   ]
  },
  {
   "cell_type": "code",
   "execution_count": 20,
   "metadata": {
    "collapsed": false
   },
   "outputs": [
    {
     "name": "stdout",
     "output_type": "stream",
     "text": [
      "[ 172  306  312 ...,  914 1126 1295]\n",
      "average review length: 315\n",
      "min review length: 0\n",
      "max review length: 22646\n"
     ]
    }
   ],
   "source": [
    "# Compute review lengths.\n",
    "review_lengths = np.array([len(x) for x in df['reviewText']])\n",
    "print review_lengths\n",
    "print \"average review length: %i\" %np.mean(review_lengths)\n",
    "print \"min review length: %i\" %np.min(review_lengths)\n",
    "print \"max review length: %i\" %np.max(review_lengths)"
   ]
  },
  {
   "cell_type": "code",
   "execution_count": 23,
   "metadata": {
    "collapsed": false
   },
   "outputs": [
    {
     "data": {
      "image/png": "[encoded data removed]",
      "text/plain": [
       "<matplotlib.figure.Figure at 0x7f956b358a50>"
      ]
     },
     "metadata": {},
     "output_type": "display_data"
    },
    {
     "data": {
      "image/png": "[encoded data removed]",
      "text/plain": [
       "<matplotlib.figure.Figure at 0x7f956bb01b90>"
      ]
     },
     "metadata": {},
     "output_type": "display_data"
    }
   ],
   "source": [
    "# Remove outliers.\n",
    "review_lengths_minus_outliers = review_lengths[np.where(np.logical_and(review_lengths > 0, review_lengths < 10000))]\n",
    "\n",
    "# Plot boxplot.\n",
    "plt.figure()\n",
    "plt.boxplot(review_lengths_minus_outliers)\n",
    "plt.title('Review Character Length Distribution')\n",
    "# # Plot histogram using log(review length) due to right skewed distribution.\n",
    "plt.figure()\n",
    "plt.hist(np.log(review_lengths_minus_outliers))\n",
    "plt.title('Review Character Length  Distribution')\n",
    "plt.show()"
   ]
  },
  {
   "cell_type": "code",
   "execution_count": 27,
   "metadata": {
    "collapsed": false
   },
   "outputs": [
    {
     "data": {
      "text/plain": [
       "<matplotlib.figure.Figure at 0x7f9568337610>"
      ]
     },
     "metadata": {},
     "output_type": "display_data"
    },
    {
     "data": {
      "image/png": "[encoded data removed]",
      "text/plain": [
       "<matplotlib.figure.Figure at 0x7f95756777d0>"
      ]
     },
     "metadata": {},
     "output_type": "display_data"
    }
   ],
   "source": [
    "# Remove invalid and nan values.\n",
    "helpfulness_clean = np.delete(helpfulness, 30730)\n",
    "review_lengths_clean = np.delete(review_lengths, 30730)\n",
    "nonnan_helpfulness_clean = helpfulness_clean[~np.isnan(helpfulness_clean)]\n",
    "nonnan_review_lengths_clean = review_lengths_clean[~np.isnan(helpfulness_clean)]\n",
    "\n",
    "plt.figure()\n",
    "plt.scatter(nonnan_review_lengths_clean, nonnan_helpfulness_clean)\n",
    "plt.title(\"Helpfulness score by review length\")\n",
    "plt.show()"
   ]
  },
  {
   "cell_type": "code",
   "execution_count": 28,
   "metadata": {
    "collapsed": false
   },
   "outputs": [
    {
     "data": {
      "text/plain": [
       "0.054565284474689578"
      ]
     },
     "execution_count": 28,
     "metadata": {},
     "output_type": "execute_result"
    }
   ],
   "source": [
    "# Compute correlation.\n",
    "np.corrcoef(nonnan_review_lengths_clean, nonnan_helpfulness_clean)[1,0]"
   ]
  },
  {
   "cell_type": "code",
   "execution_count": 32,
   "metadata": {
    "collapsed": false
   },
   "outputs": [
    {
     "name": "stdout",
     "output_type": "stream",
     "text": [
      "average review length: 68\n",
      "median review length: 47\n",
      "min review length: 0\n",
      "max review length: 4571\n",
      "95th percentile:  186.0\n",
      "90th percentile:  136.0\n"
     ]
    }
   ],
   "source": [
    "review_word_lengths = np.array([len(utils.tokenize(x)) for x in df['reviewText']])\n",
    "non_zero_review_word_lengths = review_word_lengths[np.where(review_word_lengths > 0)]\n",
    "print \"average review length: %i\" %np.mean(review_word_lengths)\n",
    "print \"median review length: %i\" %np.median(review_word_lengths)\n",
    "print \"min review length: %i\" %np.min(review_word_lengths)\n",
    "print \"max review length: %i\" %np.max(review_word_lengths)\n",
    "print \"95th percentile: \", np.percentile(review_word_lengths, 95)\n",
    "print \"90th percentile: \", np.percentile(review_word_lengths, 90)"
   ]
  },
  {
   "cell_type": "code",
   "execution_count": 33,
   "metadata": {
    "collapsed": false
   },
   "outputs": [
    {
     "data": {
      "image/png": "[encoded data removed]",
      "text/plain": [
       "<matplotlib.figure.Figure at 0x7f9561ae0710>"
      ]
     },
     "metadata": {},
     "output_type": "display_data"
    },
    {
     "data": {
      "image/png": "[encoded data removed]",
      "text/plain": [
       "<matplotlib.figure.Figure at 0x7f956b25b950>"
      ]
     },
     "metadata": {},
     "output_type": "display_data"
    }
   ],
   "source": [
    "# Plot boxplot.\n",
    "plt.figure()\n",
    "plt.boxplot(non_zero_review_word_lengths)\n",
    "\n",
    "# # Plot histogram using log(review length) due to right skewed distribution.\n",
    "plt.figure()\n",
    "# plt.hist(non_zero_review_word_lengths)\n",
    "\n",
    "plt.xlabel('log(num words)')\n",
    "plt.ylabel('frequency')\n",
    "plt.title('Histogram of word counts')\n",
    "plt.hist(np.log(non_zero_review_word_lengths))\n",
    "\n",
    "plt.show()"
   ]
  },
  {
   "cell_type": "markdown",
   "metadata": {},
   "source": [
    "## 2.5 Review Score"
   ]
  },
  {
   "cell_type": "code",
   "execution_count": 34,
   "metadata": {
    "collapsed": false
   },
   "outputs": [
    {
     "name": "stdout",
     "output_type": "stream",
     "text": [
      "average review score: 4\n",
      "min review score: 1\n",
      "max review score: 5\n"
     ]
    }
   ],
   "source": [
    "review_scores = np.array(df['overall'])\n",
    "print \"average review score: %i\" %np.mean(review_scores)\n",
    "print \"min review score: %i\" %np.min(review_scores)\n",
    "print \"max review score: %i\" %np.max(review_scores)"
   ]
  },
  {
   "cell_type": "code",
   "execution_count": 35,
   "metadata": {
    "collapsed": false
   },
   "outputs": [
    {
     "data": {
      "image/png": "[encoded data removed]",
      "text/plain": [
       "<matplotlib.figure.Figure at 0x7f956e0acd90>"
      ]
     },
     "metadata": {},
     "output_type": "display_data"
    },
    {
     "data": {
      "image/png": "[encoded data removed]",
      "text/plain": [
       "<matplotlib.figure.Figure at 0x7f956d323850>"
      ]
     },
     "metadata": {},
     "output_type": "display_data"
    }
   ],
   "source": [
    "# Plot boxplot.\n",
    "plt.figure()\n",
    "plt.boxplot(review_scores)\n",
    "\n",
    "# # Plot histogram.\n",
    "plt.figure()\n",
    "plt.hist(review_scores, bins=5)\n",
    "\n",
    "plt.show()"
   ]
  },
  {
   "cell_type": "code",
   "execution_count": 36,
   "metadata": {
    "collapsed": false
   },
   "outputs": [
    {
     "data": {
      "image/png": "[encoded data removed]",
      "text/plain": [
       "<matplotlib.figure.Figure at 0x7f956d312c90>"
      ]
     },
     "metadata": {},
     "output_type": "display_data"
    }
   ],
   "source": [
    "# Remove invalid and nan values.\n",
    "review_scores_clean = np.delete(review_scores, 30730)\n",
    "nonnan_review_scores_clean = review_scores_clean[~np.isnan(helpfulness_clean)]\n",
    "\n",
    "# Print scatterplot of review length to helpfulness score.\n",
    "plt.figure()\n",
    "plt.scatter(nonnan_review_scores_clean, nonnan_helpfulness_clean)\n",
    "plt.title(\"Helpfulness score by review length\")\n",
    "plt.show()"
   ]
  },
  {
   "cell_type": "markdown",
   "metadata": {},
   "source": [
    "# 3. Data Input and Configuration"
   ]
  },
  {
   "cell_type": "markdown",
   "metadata": {},
   "source": [
    "## 3.1 DataSet Prep"
   ]
  },
  {
   "cell_type": "markdown",
   "metadata": {},
   "source": [
    "### 3.1.1 Prepare Training, Dev, and Test"
   ]
  },
  {
   "cell_type": "code",
   "execution_count": 9,
   "metadata": {
    "collapsed": true
   },
   "outputs": [],
   "source": [
    "n_total_samples = len(nonnan_doc_clean)# or whatever it is\n",
    "\n",
    "indices = np.arange(n_total_samples)\n",
    "inds_split = multinomial(n=1,\n",
    "                         pvals=[0.8, 0.1, 0.1],\n",
    "                         size=n_total_samples).argmax(axis=1)\n",
    "\n",
    "train_inds = indices[inds_split==0]\n",
    "test_inds  = indices[inds_split==1]\n",
    "dev_inds   = indices[inds_split==2]\n",
    "\n",
    "x_train = nonnan_doc_clean[train_inds]\n",
    "y_train = y[train_inds]\n",
    "y_train_norm = y_norm[train_inds]\n",
    "x_test = nonnan_doc_clean[test_inds]\n",
    "y_test = y[test_inds]\n",
    "y_test_norm = y_norm[test_inds]\n",
    "x_dev = nonnan_doc_clean[dev_inds]\n",
    "y_dev = y[dev_inds]\n",
    "y_dev_norm = y_norm[dev_inds]"
   ]
  },
  {
   "cell_type": "markdown",
   "metadata": {},
   "source": [
    "### 3.1.3 Downsampling"
   ]
  },
  {
   "cell_type": "code",
   "execution_count": 10,
   "metadata": {
    "collapsed": true
   },
   "outputs": [],
   "source": [
    "ind_0 = np.where(y_train_norm == 0)[0]\n",
    "ind_1 = np.where(y_train_norm == 1)[0]\n",
    "ind_downsamp = np.random.choice(ind_1,size = len(ind_0),replace =0)\n",
    "x_train_res= np.concatenate( [x_train[ind_downsamp] ,x_train[ind_0]],axis=0)\n",
    "y_train_res= np.concatenate( [y_train[ind_downsamp] ,y_train[ind_0]],axis=0)\n",
    "y_train_norm_res= np.concatenate( [y_train_norm[ind_downsamp] ,y_train_norm[ind_0]],axis=0)"
   ]
  },
  {
   "cell_type": "markdown",
   "metadata": {},
   "source": [
    "### 3.1.2 Upsampling"
   ]
  },
  {
   "cell_type": "code",
   "execution_count": 11,
   "metadata": {
    "collapsed": true
   },
   "outputs": [],
   "source": [
    "ind_0 = np.where(y_train_norm == 0)[0]\n",
    "ind_1 = np.where(y_train_norm == 1)[0]\n",
    "ind_upsamp = np.random.choice(ind_0,size = len(ind_1),replace =1)\n",
    "x_train_res= np.concatenate( [x_train[ind_upsamp] ,x_train[ind_1]],axis=0)\n",
    "y_train_res= np.concatenate( [y_train[ind_upsamp] ,y_train[ind_1]],axis=0)\n",
    "y_train_norm_res= np.concatenate( [y_train_norm[ind_upsamp] ,y_train_norm[ind_1]],axis=0)"
   ]
  },
  {
   "cell_type": "code",
   "execution_count": 12,
   "metadata": {
    "collapsed": false
   },
   "outputs": [
    {
     "data": {
      "image/png": "[encoded data removed]",
      "text/plain": [
       "<matplotlib.figure.Figure at 0x7f56675f26d0>"
      ]
     },
     "metadata": {},
     "output_type": "display_data"
    },
    {
     "data": {
      "image/png": "[encoded data removed]",
      "text/plain": [
       "<matplotlib.figure.Figure at 0x7f5668c0ed50>"
      ]
     },
     "metadata": {},
     "output_type": "display_data"
    },
    {
     "name": "stdout",
     "output_type": "stream",
     "text": [
      "Training data set is of size 69646: there are 10195 0 lables, and 59451 1 labels. After upsampling, there are total 118902 samples\n"
     ]
    }
   ],
   "source": [
    "plt.figure(1, figsize=(10,5))\n",
    "\n",
    "plt.subplot(121)\n",
    "plt.hist(y_train_norm)\n",
    "plt.title('Original training data')\n",
    "plt.xlabel('helpfulness classification')\n",
    "plt.xticks(range(1, 2))\n",
    "\n",
    "plt.subplot(122)\n",
    "plt.hist(y_train_norm_res)\n",
    "plt.title('Upsampled training data')\n",
    "plt.xlabel('helpfulness classification')\n",
    "plt.xticks(range(1, 2))\n",
    "\n",
    "plt.figure(2)\n",
    "plt.subplot(121)\n",
    "plt.hist(y_dev_norm)\n",
    "plt.title('dev data')\n",
    "\n",
    "plt.subplot(122)\n",
    "plt.hist(y_test_norm)\n",
    "plt.title('test data')\n",
    "plt.show()\n",
    "\n",
    "\n",
    "\n",
    "print ('Training data set is of size %i: there are %i 0 lables, and %i 1 labels. After upsampling, there are total %i samples'\n",
    "       %(len(x_train),len(np.where(y_train_norm == 0)[0]),len(np.where(y_train_norm == 1)[0]),len(x_train_res)))\n"
   ]
  },
  {
   "cell_type": "markdown",
   "metadata": {},
   "source": [
    "## 3.2 Extract Features"
   ]
  },
  {
   "cell_type": "markdown",
   "metadata": {},
   "source": [
    "### 3.2.1 TF-IDF"
   ]
  },
  {
   "cell_type": "code",
   "execution_count": 46,
   "metadata": {
    "collapsed": true
   },
   "outputs": [],
   "source": [
    "token_dict_train = {}\n",
    "token_dict_dev = {}\n",
    "\n",
    "def tokenize(text):\n",
    "    tokens = nltk.word_tokenize(text)\n",
    "    return tokens\n",
    "\n",
    "for i, text in enumerate(x_train_res):\n",
    "    lowers = text.lower()\n",
    "    no_punctuation = lowers.translate(None, string.punctuation)\n",
    "    token_dict_train[i] = no_punctuation\n",
    "\n",
    "for i, text in enumerate(x_dev):\n",
    "    lowers = text.lower()\n",
    "    no_punctuation = lowers.translate(None, string.punctuation)\n",
    "    token_dict_dev[i] = no_punctuation\n",
    "    \n",
    "#this can take some time\n",
    "tfidf = TfidfVectorizer(tokenizer=tokenize, stop_words='english')\n",
    "tfs_train = tfidf.fit_transform(token_dict_train.values())\n",
    "tfs_dev = tfidf.transform(token_dict_dev.values())"
   ]
  },
  {
   "cell_type": "code",
   "execution_count": 47,
   "metadata": {
    "collapsed": false
   },
   "outputs": [
    {
     "name": "stdout",
     "output_type": "stream",
     "text": [
      "(118902, 93061)\n",
      "(8657, 93061)\n",
      "118902\n",
      "8657\n"
     ]
    }
   ],
   "source": [
    "print(tfs_train.shape)\n",
    "print(tfs_dev.shape)\n",
    "print(len(y_train_norm_res))\n",
    "print(len(y_dev))"
   ]
  },
  {
   "cell_type": "code",
   "execution_count": 52,
   "metadata": {
    "collapsed": false,
    "scrolled": true
   },
   "outputs": [
    {
     "name": "stdout",
     "output_type": "stream",
     "text": [
      "Shape of token_dict:  118902\n",
      "Shape of tfs:  (118902, 93061)\n",
      "  (0, 65541)\t0.200862892321\n",
      "  (0, 21853)\t0.196122149071\n",
      "  (0, 33296)\t0.252683901074\n",
      "  (0, 47963)\t0.157854073581\n",
      "  (0, 92727)\t0.333304607018\n",
      "  (0, 89299)\t0.245604132923\n",
      "  (0, 50079)\t0.267087611514\n",
      "  (0, 58683)\t0.381606246613\n",
      "  (0, 76944)\t0.409651492854\n",
      "  (0, 80658)\t0.30690278818\n",
      "  (0, 12721)\t0.310817716593\n",
      "  (0, 81527)\t0.29230009911\n",
      "these are really comfortable and they do feel like youre wearing nothing  they will make your package stick out but thats not a bad thing is it\n",
      "Items in vocab:  93061\n",
      "ID of tutu:  84885\n"
     ]
    }
   ],
   "source": [
    "print (\"Shape of token_dict: \", len(token_dict_train))\n",
    "print (\"Shape of tfs: \", tfs_train.shape)\n",
    "print (tfs_train[0,:] )#sparse matrix\n",
    "print (token_dict_train[0])\n",
    "print (\"Items in vocab: \", len(tfidf.vocabulary_))\n",
    "print (\"ID of tutu: \", tfidf.vocabulary_['tutu'])"
   ]
  },
  {
   "cell_type": "markdown",
   "metadata": {},
   "source": [
    "### 3.2.2 BOW"
   ]
  },
  {
   "cell_type": "code",
   "execution_count": 50,
   "metadata": {
    "collapsed": true
   },
   "outputs": [],
   "source": [
    "cv = CountVectorizer(tokenizer=tokenize, stop_words='english', dtype=np.float32, max_features=10000)\n",
    "cv_features_train = cv.fit_transform(token_dict_train.values())\n",
    "cv_features_dev = cv.transform(token_dict_dev.values())\n"
   ]
  },
  {
   "cell_type": "markdown",
   "metadata": {},
   "source": [
    "### 3.2.3 Word2Vec"
   ]
  },
  {
   "cell_type": "code",
   "execution_count": 15,
   "metadata": {
    "collapsed": false
   },
   "outputs": [],
   "source": [
    "class SimpleDataIterator():\n",
    "    def __init__(self, df):\n",
    "        self.df = df\n",
    "        self.size = len(self.df)\n",
    "        self.epochs = 0\n",
    "#         self.shuffle()\n",
    "        self.cursor = 0\n",
    "\n",
    "    def shuffle(self):\n",
    "        self.df = self.df.sample(frac=1).reset_index(drop=True)\n",
    "        self.cursor = 0\n",
    "\n",
    "    def next_batch(self, n):\n",
    "        if self.cursor+n-1 > self.size:\n",
    "            self.epochs += 1\n",
    "            self.shuffle()\n",
    "        res = self.df.ix[self.cursor:self.cursor+n-1]\n",
    "        self.cursor += n\n",
    "        return res['list_words'], res['label'] \n",
    "    \n"
   ]
  },
  {
   "cell_type": "code",
   "execution_count": 16,
   "metadata": {
    "collapsed": true
   },
   "outputs": [],
   "source": [
    "##this helps to make sure each sentence have the same length (max_len)\n",
    "class PaddedDataIterator(SimpleDataIterator):\n",
    "    def next_batch(self, n, max_len):\n",
    "        if self.cursor+n > self.size or self.cursor==0:\n",
    "            self.epochs += 1\n",
    "            self.shuffle()\n",
    "#             self.max_len = max_len\n",
    "        res = self.df.ix[self.cursor:self.cursor+n-1]\n",
    "        self.cursor += n\n",
    "\n",
    "        # Pad sequences with 0s so they are all the same length\n",
    "        maxlen = max_len\n",
    "        x = np.zeros([n, maxlen], dtype=np.int32)\n",
    "        for i, x_i in enumerate(x):\n",
    "            l=len(res['list_words'].values[i]) ##list length\n",
    "            if l>maxlen: \n",
    "                x_i[:maxlen] = res['list_words'].values[i][:max_len]\n",
    "            else:\n",
    "                x_i[:l] = res['list_words'].values[i][:l]\n",
    "\n",
    "        return x, np.asarray(res['label']) \n",
    "    def pad_sentences(self, max_len):\n",
    "        maxlen = max_len\n",
    "        x = np.zeros([len(self.df), maxlen], dtype=np.int32)\n",
    "        for i, x_i in enumerate(x):\n",
    "            l=len(self.df['list_words'].values[i]) ##list length\n",
    "            if l>maxlen: \n",
    "                x_i[:maxlen] = self.df['list_words'].values[i][:max_len]\n",
    "            else:\n",
    "                x_i[:l] = self.df['list_words'].values[i][:l]\n",
    "\n",
    "        return x, np.asarray(self.df['label'])"
   ]
  },
  {
   "cell_type": "markdown",
   "metadata": {},
   "source": [
    "#### 3.2.3.1 Simple Vector"
   ]
  },
  {
   "cell_type": "code",
   "execution_count": 17,
   "metadata": {
    "collapsed": true
   },
   "outputs": [],
   "source": [
    "def get_tokens(docs):\n",
    "    tokens =[]\n",
    "    for i in docs:\n",
    "        lowers = i.lower()\n",
    "        #remove the punctuation using the character deletion step of translate\n",
    "        no_punctuation = lowers.translate(None, string.punctuation)\n",
    "        token = nltk.word_tokenize(no_punctuation)\n",
    "        tokens.extend(token)\n",
    "    return tokens\n",
    "\n",
    "V = 10000\n",
    "def build_dataset(words):\n",
    "    \n",
    "    # Leave the last index for all other words.\n",
    "    count = collections.Counter(words).most_common(V-1)\n",
    "    dictionary = dict()\n",
    "    for word, _ in count:\n",
    "        dictionary[word] = len(dictionary)\n",
    "    reverse_dictionary = dict(zip(dictionary.values(), dictionary.keys()))\n",
    "    return dictionary, reverse_dictionary\n",
    "\n",
    "def transform_words_to_index(words, dictionary):\n",
    "    #build sample data\n",
    "    ids = []\n",
    "    for i in words:\n",
    "        lowers = i.lower()\n",
    "        #remove the punctuation using the character deletion step of translate\n",
    "        no_punctuation = lowers.translate(None, string.punctuation)\n",
    "        token = nltk.word_tokenize(no_punctuation)\n",
    "        j = []\n",
    "        for w in token:\n",
    "            if w in dictionary:\n",
    "                j.append(dictionary[w])\n",
    "            # Set token_id to vocab size - 1 if word not in top words\n",
    "            # since this is zero indexed.\n",
    "            else:\n",
    "                j.append(V-1)\n",
    "        ids.append(j)\n",
    "    return ids"
   ]
  },
  {
   "cell_type": "code",
   "execution_count": 18,
   "metadata": {
    "collapsed": false
   },
   "outputs": [],
   "source": [
    "tokens = get_tokens(x_train_res)\n",
    "dic, rev_dict = build_dataset(tokens)"
   ]
  },
  {
   "cell_type": "code",
   "execution_count": 19,
   "metadata": {
    "collapsed": true
   },
   "outputs": [],
   "source": [
    "x_train_res_ids = transform_words_to_index(x_train_res, dic)\n",
    "x_dev_ids = transform_words_to_index(x_dev, dic)\n",
    "x_test_ids = transform_words_to_index(x_test, dic)"
   ]
  },
  {
   "cell_type": "code",
   "execution_count": 20,
   "metadata": {
    "collapsed": true
   },
   "outputs": [],
   "source": [
    "#combine the list of words index and label into a dataframe\n",
    "train_df = pd.DataFrame(np.column_stack([x_train_res_ids,y_train_norm_res]), \n",
    "                        columns=['list_words', 'label'])\n",
    "train_df = train_df.astype(dtype={'list_words': 'object', 'label': 'int64'})\n",
    "#combine the list of words index and label into a dataframe\n",
    "dev_df = pd.DataFrame(np.column_stack([x_dev_ids,y_dev_norm]), \n",
    "                               columns=['list_words', 'label'])\n",
    "dev_df = dev_df.astype(dtype={'list_words': 'object', 'label': 'int64'})\n",
    "#combine the list of words index and label into a dataframe\n",
    "test_df = pd.DataFrame(np.column_stack([x_test_ids,y_test_norm]), \n",
    "                               columns=['list_words', 'label'])\n",
    "test_df = test_df.astype(dtype={'list_words': 'object', 'label': 'int64'})"
   ]
  },
  {
   "cell_type": "code",
   "execution_count": 21,
   "metadata": {
    "collapsed": false
   },
   "outputs": [
    {
     "data": {
      "text/html": [
       "<div>\n",
       "<table border=\"1\" class=\"dataframe\">\n",
       "  <thead>\n",
       "    <tr style=\"text-align: right;\">\n",
       "      <th></th>\n",
       "      <th>list_words</th>\n",
       "      <th>label</th>\n",
       "    </tr>\n",
       "  </thead>\n",
       "  <tbody>\n",
       "    <tr>\n",
       "      <th>0</th>\n",
       "      <td>[18, 14, 53, 55, 2, 12, 69, 115, 27, 339, 104,...</td>\n",
       "      <td>0</td>\n",
       "    </tr>\n",
       "    <tr>\n",
       "      <th>1</th>\n",
       "      <td>[1, 21, 26, 313, 20, 9, 291, 1, 21, 660, 94, 1...</td>\n",
       "      <td>0</td>\n",
       "    </tr>\n",
       "    <tr>\n",
       "      <th>2</th>\n",
       "      <td>[9999, 79, 3, 37, 150, 15, 2846, 25, 3, 1438, ...</td>\n",
       "      <td>0</td>\n",
       "    </tr>\n",
       "    <tr>\n",
       "      <th>3</th>\n",
       "      <td>[1, 187, 5, 21, 26, 631, 2, 76, 5, 7, 3, 597, ...</td>\n",
       "      <td>0</td>\n",
       "    </tr>\n",
       "    <tr>\n",
       "      <th>4</th>\n",
       "      <td>[1, 67, 0, 72, 7, 71, 3, 464, 124, 49, 0, 119,...</td>\n",
       "      <td>0</td>\n",
       "    </tr>\n",
       "  </tbody>\n",
       "</table>\n",
       "</div>"
      ],
      "text/plain": [
       "                                          list_words  label\n",
       "0  [18, 14, 53, 55, 2, 12, 69, 115, 27, 339, 104,...      0\n",
       "1  [1, 21, 26, 313, 20, 9, 291, 1, 21, 660, 94, 1...      0\n",
       "2  [9999, 79, 3, 37, 150, 15, 2846, 25, 3, 1438, ...      0\n",
       "3  [1, 187, 5, 21, 26, 631, 2, 76, 5, 7, 3, 597, ...      0\n",
       "4  [1, 67, 0, 72, 7, 71, 3, 464, 124, 49, 0, 119,...      0"
      ]
     },
     "execution_count": 21,
     "metadata": {},
     "output_type": "execute_result"
    }
   ],
   "source": [
    "train_df.head()"
   ]
  },
  {
   "cell_type": "markdown",
   "metadata": {},
   "source": [
    "#### 3.2.3.2 GloVe"
   ]
  },
  {
   "cell_type": "code",
   "execution_count": 26,
   "metadata": {
    "collapsed": false
   },
   "outputs": [
    {
     "name": "stdout",
     "output_type": "stream",
     "text": [
      "Loaded GloVe!\n"
     ]
    }
   ],
   "source": [
    "filename = '/home/legu/data/glove.6B.50d.txt'\n",
    "def loadGloVe(filename):\n",
    "    vocab = []\n",
    "    embd = []\n",
    "    vocab_dict = {}\n",
    "    file = open(filename,'r')\n",
    "    for line in file.readlines():\n",
    "        row = line.strip().split(' ')\n",
    "        vocab.append(row[0])\n",
    "        vocab_dict[row[0]] = len(vocab_dict)\n",
    "        embd.append(row[1:])\n",
    "    print('Loaded GloVe!')\n",
    "    file.close()\n",
    "    return vocab,embd,vocab_dict\n",
    "vocab,embd,dic_glove = loadGloVe(filename)\n",
    "vocab_size = len(vocab)\n",
    "embedding_dim = len(embd[0])\n",
    "embedding = np.asarray(embd)"
   ]
  },
  {
   "cell_type": "code",
   "execution_count": 27,
   "metadata": {
    "collapsed": true
   },
   "outputs": [],
   "source": [
    "def transform_words_to_index_glove(words, dictionary):\n",
    "    #build sample data\n",
    "    ids = []\n",
    "    for i in words:\n",
    "        lowers = i.lower()\n",
    "        #remove the punctuation using the character deletion step of translate\n",
    "        no_punctuation = lowers.translate(None, string.punctuation)\n",
    "        token = nltk.word_tokenize(no_punctuation)\n",
    "        j = []\n",
    "        for w in token:\n",
    "            if w in dictionary:\n",
    "                j.append(dictionary[w])\n",
    "            # Set token_id to vocab size - 1 if word not in top words\n",
    "            # since this is zero indexed.\n",
    "#             else:\n",
    "#                 j.append(V-1)\n",
    "        ids.append(j)\n",
    "    return ids"
   ]
  },
  {
   "cell_type": "code",
   "execution_count": 28,
   "metadata": {
    "collapsed": false
   },
   "outputs": [],
   "source": [
    "x_train_res_ids_glove = transform_words_to_index_glove(x_train_res, dic_glove)\n",
    "x_dev_ids_glove = transform_words_to_index_glove(x_dev, dic_glove)\n",
    "x_test_ids_glove = transform_words_to_index_glove(x_test, dic_glove)"
   ]
  },
  {
   "cell_type": "code",
   "execution_count": 29,
   "metadata": {
    "collapsed": true
   },
   "outputs": [],
   "source": [
    "#combine the list of words index and label into a dataframe\n",
    "train_df_glove = pd.DataFrame(np.column_stack([x_train_res,x_train_res_ids_glove,y_train_norm_res]), \n",
    "                        columns=['words','list_words', 'label'])\n",
    "train_df_glove = train_df_glove.astype(dtype={'words': 'object','list_words': 'object', 'label': 'int64'})\n",
    "#combine the list of words index and label into a dataframe\n",
    "dev_df_glove = pd.DataFrame(np.column_stack([x_dev, x_dev_ids_glove,y_dev_norm]), \n",
    "                             columns=['words','list_words', 'label'])\n",
    "dev_df_glove = dev_df_glove.astype(dtype={'words': 'object','list_words': 'object', 'label': 'int64'})\n",
    "#combine the list of words index and label into a dataframe\n",
    "test_df_glove = pd.DataFrame(np.column_stack([x_test,x_test_ids_glove,y_test_norm]), \n",
    "                               columns=['words','list_words', 'label'])\n",
    "test_df_glove = test_df_glove.astype(dtype={'words': 'object','list_words': 'object', 'label': 'int64'})"
   ]
  },
  {
   "cell_type": "markdown",
   "metadata": {},
   "source": [
    "# 4. Build Model"
   ]
  },
  {
   "cell_type": "markdown",
   "metadata": {},
   "source": [
    "## 4.1 Machine Learning Model"
   ]
  },
  {
   "cell_type": "markdown",
   "metadata": {},
   "source": [
    "### 4.1.1 Logistic Regression"
   ]
  },
  {
   "cell_type": "markdown",
   "metadata": {},
   "source": [
    "##### TF-IDF Features"
   ]
  },
  {
   "cell_type": "code",
   "execution_count": 48,
   "metadata": {
    "collapsed": false
   },
   "outputs": [
    {
     "name": "stdout",
     "output_type": "stream",
     "text": [
      "Coefficients: [[-0.30477808 -0.2946582  -0.12618387 ...,  0.07476122 -0.60590482\n",
      "   0.16658943]]\n",
      "             precision    recall  f1-score   support\n",
      "\n",
      "          0       0.22      0.43      0.29      1284\n",
      "          1       0.88      0.73      0.80      7373\n",
      "\n",
      "avg / total       0.78      0.69      0.73      8657\n",
      "\n"
     ]
    }
   ],
   "source": [
    "regr2 = linear_model.LogisticRegression()\n",
    "\n",
    "# Train the model using the training sets\n",
    "regr2.fit(tfs_train, y_train_norm_res)\n",
    "\n",
    "# make predictions\n",
    "predicted2 = regr2.predict(tfs_dev)\n",
    "\n",
    "# The coefficients\n",
    "print'Coefficients:',\n",
    "print regr2.coef_\n",
    "# The mean squared error\n",
    "# print(\"Mean squared error: %.2f\"\n",
    "#       % np.mean((predicted2 - y_dev) ** 2))\n",
    "# Explained variance score: 1 is perfect prediction\n",
    "# print('Variance score: %.2f' % regr2.score(X_test, y_test_norm))\n",
    "print(metrics.classification_report(y_dev_norm, predicted2))"
   ]
  },
  {
   "cell_type": "markdown",
   "metadata": {},
   "source": [
    "##### Word Count Vector"
   ]
  },
  {
   "cell_type": "code",
   "execution_count": 53,
   "metadata": {
    "collapsed": false
   },
   "outputs": [
    {
     "name": "stdout",
     "output_type": "stream",
     "text": [
      "Coefficients:\n",
      "[[-0.01055903  0.14219806 -1.5598744  ...,  0.69521415 -0.22971256\n",
      "   0.75078171]]\n",
      "Mean squared error: 0.35\n",
      "             precision    recall  f1-score   support\n",
      "\n",
      "          0       0.20      0.47      0.29      1284\n",
      "          1       0.88      0.68      0.77      7373\n",
      "\n",
      "avg / total       0.78      0.65      0.70      8657\n",
      "\n"
     ]
    }
   ],
   "source": [
    "cv_regr = linear_model.LogisticRegression()\n",
    "\n",
    "# Train the model using the training sets\n",
    "cv_regr.fit(cv_features_train, y_train_norm_res)\n",
    "# make predictions\n",
    "cv_predicted = cv_regr.predict(cv_features_dev)\n",
    "\n",
    "# The coefficients\n",
    "print('Coefficients:')\n",
    "print (cv_regr.coef_)\n",
    "# The mean squared error\n",
    "print(\"Mean squared error: %.2f\"\n",
    "      % np.mean((cv_predicted - y_dev_norm) ** 2))\n",
    "print(metrics.classification_report(y_dev_norm, cv_predicted))"
   ]
  },
  {
   "cell_type": "markdown",
   "metadata": {},
   "source": [
    "### 4.1.2 Random Forest"
   ]
  },
  {
   "cell_type": "code",
   "execution_count": 53,
   "metadata": {
    "collapsed": false
   },
   "outputs": [
    {
     "name": "stdout",
     "output_type": "stream",
     "text": [
      "RandomForestClassifier(bootstrap=True, class_weight=None, criterion='gini',\n",
      "            max_depth=None, max_features='auto', max_leaf_nodes=None,\n",
      "            min_impurity_split=1e-07, min_samples_leaf=1,\n",
      "            min_samples_split=2, min_weight_fraction_leaf=0.0,\n",
      "            n_estimators=100, n_jobs=1, oob_score=False, random_state=None,\n",
      "            verbose=0, warm_start=False)\n",
      "             precision    recall  f1-score   support\n",
      "\n",
      "          0       0.48      0.03      0.05      1284\n",
      "          1       0.85      0.99      0.92      7373\n",
      "\n",
      "avg / total       0.80      0.85      0.79      8657\n",
      "\n"
     ]
    }
   ],
   "source": [
    "rf = ensemble.RandomForestClassifier(n_estimators = 100)\n",
    "\n",
    "# Train the model using the training sets\n",
    "rf.fit(tfs_train, y_train_norm_res)\n",
    "print(rf)\n",
    "# make predictions\n",
    "predicted_rf = rf.predict(tfs_dev)\n",
    "\n",
    "# The mean squared error\n",
    "# print(\"Mean squared error: %.2f\"\n",
    "#       % np.mean((predicted_rf - y_dev_norm) ** 2))\n",
    "# Explained variance score: 1 is perfect prediction\n",
    "# print('Variance score: %.2f' % regr2.score(X_test, y_test_norm)\n",
    "print(metrics.classification_report(y_dev_norm, predicted_rf))"
   ]
  },
  {
   "cell_type": "markdown",
   "metadata": {},
   "source": [
    "## 4.2 Deep Learning"
   ]
  },
  {
   "cell_type": "code",
   "execution_count": 22,
   "metadata": {
    "collapsed": true
   },
   "outputs": [],
   "source": [
    "\"\"\"\n",
    "Simple demo of a scatter plot.\n",
    "\"\"\"\n",
    "import numpy as np\n",
    "import matplotlib.pyplot as plt\n",
    "\n",
    "def visualizeTraining(iters, costs, accs):\n",
    "\n",
    "    x = iters\n",
    "    y = costs\n",
    "    z = accs\n",
    "\n",
    "    plt.scatter(x, y )\n",
    "    plt.xlabel('iterations')\n",
    "    plt.ylabel('cost')\n",
    "    plt.show()\n",
    "\n",
    "    plt.scatter(x, z)\n",
    "    plt.xlabel('iterations')\n",
    "    plt.ylabel('accuracy')\n",
    "    plt.show()"
   ]
  },
  {
   "cell_type": "markdown",
   "metadata": {},
   "source": [
    "### 4.2.1 Simple NN"
   ]
  },
  {
   "cell_type": "markdown",
   "metadata": {},
   "source": [
    "##### Trained Embeddings"
   ]
  },
  {
   "cell_type": "code",
   "execution_count": 23,
   "metadata": {
    "collapsed": false
   },
   "outputs": [
    {
     "name": "stdout",
     "output_type": "stream",
     "text": [
      "(?, 5000)\n"
     ]
    }
   ],
   "source": [
    "'''\n",
    "Simple Model\n",
    "'''\n",
    "\n",
    "from __future__ import print_function\n",
    "\n",
    "import tensorflow as tf\n",
    "import sklearn as sk\n",
    "from tensorflow.contrib import rnn\n",
    "\n",
    "# Reset defaul graph.\n",
    "tf.reset_default_graph()\n",
    "tf.set_random_seed(42)\n",
    "\n",
    "######################## \n",
    "### MODEL PARAMETERS ###\n",
    "######################## \n",
    "\n",
    "# Network Parameters\n",
    "# Context window size (sentence length)\n",
    "N = 100\n",
    "# Embedding size\n",
    "M = 50\n",
    "# Hidden units\n",
    "H = 50 # hidden layer num of features\n",
    "n_classes = 2  \n",
    "V = 8000\n",
    "\n",
    "\n",
    "#################################\n",
    "### PLACEHOLDER AND GRAPH ###\n",
    "#################################\n",
    "\n",
    "with tf.name_scope(\"Inputs\"):\n",
    "    ids_ = tf.placeholder(tf.int64, [None, N], name=\"ids\")\n",
    "    y_ = tf.placeholder(tf.int64, [None], name=\"y\")\n",
    "\n",
    "with tf.name_scope(\"Embedding_Layer\"):\n",
    "    C_ = tf.Variable(tf.random_uniform([V, M],\n",
    "                                       -1.0, 1.0), name=\"C\")\n",
    "    # embedding_lookup gives shape (batch_size, N, M)\n",
    "    x_ = tf.reshape(tf.nn.embedding_lookup(C_, ids_), \n",
    "                    [-1, N*M], name=\"x\")\n",
    "    print(x_.shape)\n",
    "\n",
    "with tf.name_scope(\"Hidden_Layer\"):\n",
    "    W1_ = tf.Variable(tf.random_normal([N*M,H]), name=\"W1\")\n",
    "    b1_ = tf.Variable(tf.zeros([H,], dtype=tf.float32), name=\"b1\")\n",
    "    h_ = tf.tanh(tf.matmul(x_, W1_) + b1_, name=\"h\")\n",
    "\n",
    "with tf.name_scope(\"Output_Layer\"):\n",
    "    W2_ = tf.Variable(tf.random_normal([H,2]), name=\"W2\")\n",
    "    W3_ = tf.Variable(tf.random_normal([N*M,2]), name=\"W3\")\n",
    "    b3_ = tf.Variable(tf.zeros([2,], dtype=tf.float32), name=\"b3\")\n",
    "    # Concat [h x] and [W2 W3]\n",
    "    hx_ = tf.concat([h_, x_], 1, name=\"hx\")\n",
    "    W23_ = tf.concat([W2_, W3_], 0, name=\"W23\")\n",
    "    logits_ = tf.add(tf.matmul(hx_, W23_), b3_, name=\"logits\")\n",
    "\n",
    "\n",
    "#############################\n",
    "### LOSS AND OPTIMIZATION ###\n",
    "#############################\n",
    "\n",
    "with tf.name_scope(\"Cost_Function\"):\n",
    "    # Sampled softmax loss, for training\n",
    "    per_example_train_loss_ = tf.nn.sparse_softmax_cross_entropy_with_logits(labels=y_, logits=logits_,\n",
    "                                             name=\"per_example_train_loss_\")\n",
    "    train_loss_ = tf.reduce_mean(per_example_train_loss_, name=\"loss\")\n",
    "\n",
    "with tf.name_scope(\"Training\"):\n",
    "    alpha_ = tf.placeholder(tf.float32, name=\"learning_rate\")\n",
    "    optimizer_ = tf.train.AdamOptimizer(alpha_)\n",
    "    train_step_ = optimizer_.minimize(train_loss_)\n",
    "    \n",
    "##################\n",
    "### EVALUATION ###\n",
    "################## \n",
    "with tf.name_scope(\"Prediction\"):\n",
    "    pred_max_ = tf.argmax(logits_, 1, name=\"pred_max\")\n",
    "with tf.name_scope(\"Scoring\"):\n",
    "    correct_predictions_OP = tf.equal(pred_max_, y_)\n",
    "    accuracy_OP = tf.reduce_mean(tf.cast(correct_predictions_OP, \"float\"))\n",
    "\n",
    "# Initializing the variables\n",
    "init = tf.global_variables_initializer()"
   ]
  },
  {
   "cell_type": "code",
   "execution_count": 24,
   "metadata": {
    "collapsed": true
   },
   "outputs": [],
   "source": [
    "from tensorflow.contrib.tensorboard.plugins import projector\n",
    "\n",
    "def runSimpleNN(training_iters, batch_size, display_step, learning_rate):\n",
    "    LOG_DIR = 'logs'\n",
    "    \n",
    "    with tf.Session() as sess:\n",
    "#         saver = tf.train.Saver([C_])\n",
    "        sess.run(init)\n",
    "        step = 1\n",
    "        iters=[]\n",
    "        costs=[]\n",
    "        accs=[]\n",
    "        f1s=[]\n",
    "        precisions=[]\n",
    "        recalls=[]\n",
    "        iterator = PaddedDataIterator(train_df)\n",
    "\n",
    "        # Keep training until reach max iterations\n",
    "        while step * batch_size <= training_iters:\n",
    "\n",
    "            ##########################\n",
    "            ### GENERATE BATCH X,Y ###\n",
    "            ##########################\n",
    "            batch_x, batch_y = iterator.next_batch(batch_size,N)\n",
    "\n",
    "            ################\n",
    "            ### TRAINING ###\n",
    "            ################\n",
    "            cost, _, accuracy = sess.run([train_loss_, train_step_, accuracy_OP],\n",
    "                               feed_dict={ids_: batch_x, y_: batch_y,\n",
    "                                          alpha_: learning_rate})\n",
    "\n",
    "            #################\n",
    "            ### REPORTING ###\n",
    "            #################\n",
    "\n",
    "            if step % display_step == 0:\n",
    "                epoch = iterator.epochs\n",
    "                iters.append(step*batch_size)\n",
    "                costs.append(cost)\n",
    "                accs.append(accuracy)\n",
    "                print(\"[Epoch {:d}] \".format(epoch) + \\\n",
    "                      \"Iter \" + str(step*batch_size) + \", Minibatch Loss= \" + \\\n",
    "                      \"{:.6f}\".format(cost) + \", Accuracy= \" + \\\n",
    "                      \"{:.5f}\".format(accuracy))\n",
    "#                 saver.save(sess, os.path.join(LOG_DIR, 'embeddings.ckpt'), step)\n",
    "            step += 1\n",
    "        print(\"Optimization Finished!\")\n",
    "        \n",
    "##### For visualizing the embeddings. Commented out for now since it is causing the kernel to crash.\n",
    "#         # Format: tensorflow/tensorboard/plugins/projector/projector_config.proto\n",
    "#         config = projector.ProjectorConfig()\n",
    "\n",
    "#         # You can add multiple embeddings. Here we add only one.\n",
    "#         embedding = config.embeddings.add()\n",
    "#         embedding.tensor_name = C_.name\n",
    "#         # Link this tensor to its metadata file (e.g. labels).\n",
    "#         embedding.metadata_path = os.path.join(LOG_DIR, 'metadata.tsv')\n",
    "\n",
    "#         # Use the same LOG_DIR where you stored your checkpoint.\n",
    "#         summary_writer = tf.summary.FileWriter(LOG_DIR)\n",
    "\n",
    "#         # The next line writes a projector_config.pbtxt in the LOG_DIR. TensorBoard will\n",
    "#         # read this file during startup.\n",
    "#         projector.visualize_embeddings(summary_writer, config)\n",
    "\n",
    "        ##########################\n",
    "        ### EVALUATE WITH DEV DATA ###\n",
    "        ##########################    \n",
    "\n",
    "        batch_x_dev, batch_y_dev = PaddedDataIterator(dev_df).pad_sentences(N)\n",
    "        dev_pred, dev_acc, dev_cost,logits = sess.run(\n",
    "            [pred_max_,accuracy_OP, train_loss_,logits_],\n",
    "            feed_dict={ids_: batch_x_dev, y_: batch_y_dev})\n",
    "        print(sk.metrics.classification_report(batch_y_dev, dev_pred))\n",
    "        print (\"Dev Accuracy:\",dev_acc)\n",
    "        print(\"Dev cost:\",dev_cost)  \n",
    "\n",
    "        batch_x_test, batch_y_test = PaddedDataIterator(\n",
    "            test_df).pad_sentences(N)\n",
    "        test_pred,test_acc, test_cost, logits = sess.run(\n",
    "            [pred_max_, accuracy_OP, train_loss_,logits_],\n",
    "            feed_dict={ids_: batch_x_test, y_: batch_y_test})\n",
    "        print(sk.metrics.classification_report(batch_y_test, test_pred))\n",
    "        print (\"Test Accuracy:\",test_acc)\n",
    "        print(\"Test cost:\",test_cost)\n",
    "        \n",
    "        # Plot graphs.\n",
    "        plt.hist(dev_pred)\n",
    "        plt.title('dev pred data')\n",
    "        plt.show()\n",
    "\n",
    "        plt.hist(batch_y_dev)\n",
    "        plt.title('dev true data')\n",
    "        plt.show()\n",
    "\n",
    "\n",
    "        plt.scatter(logits[:,0],logits[:,1])\n",
    "        plt.title('dev logits data')\n",
    "        plt.show()\n",
    "\n",
    "        visualizeTraining(iters, costs, accs)\n",
    "        \n",
    "        return dev_pred, batch_y_dev"
   ]
  },
  {
   "cell_type": "code",
   "execution_count": 25,
   "metadata": {
    "collapsed": false
   },
   "outputs": [
    {
     "ename": "InvalidArgumentError",
     "evalue": "indices[0,51] = 9999 is not in [0, 8000)\n\t [[Node: Embedding_Layer/embedding_lookup = Gather[Tindices=DT_INT64, Tparams=DT_FLOAT, _class=[\"loc:@Embedding_Layer/C\"], validate_indices=true, _device=\"/job:localhost/replica:0/task:0/cpu:0\"](Embedding_Layer/C/read, _recv_Inputs/ids_0)]]\n\nCaused by op u'Embedding_Layer/embedding_lookup', defined at:\n  File \"/home/legu/anaconda2/lib/python2.7/runpy.py\", line 174, in _run_module_as_main\n    \"__main__\", fname, loader, pkg_name)\n  File \"/home/legu/anaconda2/lib/python2.7/runpy.py\", line 72, in _run_code\n    exec code in run_globals\n  File \"/home/legu/anaconda2/lib/python2.7/site-packages/ipykernel/__main__.py\", line 3, in <module>\n    app.launch_new_instance()\n  File \"/home/legu/anaconda2/lib/python2.7/site-packages/traitlets/config/application.py\", line 658, in launch_instance\n    app.start()\n  File \"/home/legu/anaconda2/lib/python2.7/site-packages/ipykernel/kernelapp.py\", line 474, in start\n    ioloop.IOLoop.instance().start()\n  File \"/home/legu/anaconda2/lib/python2.7/site-packages/zmq/eventloop/ioloop.py\", line 177, in start\n    super(ZMQIOLoop, self).start()\n  File \"/home/legu/anaconda2/lib/python2.7/site-packages/tornado/ioloop.py\", line 887, in start\n    handler_func(fd_obj, events)\n  File \"/home/legu/anaconda2/lib/python2.7/site-packages/tornado/stack_context.py\", line 275, in null_wrapper\n    return fn(*args, **kwargs)\n  File \"/home/legu/anaconda2/lib/python2.7/site-packages/zmq/eventloop/zmqstream.py\", line 440, in _handle_events\n    self._handle_recv()\n  File \"/home/legu/anaconda2/lib/python2.7/site-packages/zmq/eventloop/zmqstream.py\", line 472, in _handle_recv\n    self._run_callback(callback, msg)\n  File \"/home/legu/anaconda2/lib/python2.7/site-packages/zmq/eventloop/zmqstream.py\", line 414, in _run_callback\n    callback(*args, **kwargs)\n  File \"/home/legu/anaconda2/lib/python2.7/site-packages/tornado/stack_context.py\", line 275, in null_wrapper\n    return fn(*args, **kwargs)\n  File \"/home/legu/anaconda2/lib/python2.7/site-packages/ipykernel/kernelbase.py\", line 276, in dispatcher\n    return self.dispatch_shell(stream, msg)\n  File \"/home/legu/anaconda2/lib/python2.7/site-packages/ipykernel/kernelbase.py\", line 228, in dispatch_shell\n    handler(stream, idents, msg)\n  File \"/home/legu/anaconda2/lib/python2.7/site-packages/ipykernel/kernelbase.py\", line 390, in execute_request\n    user_expressions, allow_stdin)\n  File \"/home/legu/anaconda2/lib/python2.7/site-packages/ipykernel/ipkernel.py\", line 196, in do_execute\n    res = shell.run_cell(code, store_history=store_history, silent=silent)\n  File \"/home/legu/anaconda2/lib/python2.7/site-packages/ipykernel/zmqshell.py\", line 501, in run_cell\n    return super(ZMQInteractiveShell, self).run_cell(*args, **kwargs)\n  File \"/home/legu/anaconda2/lib/python2.7/site-packages/IPython/core/interactiveshell.py\", line 2717, in run_cell\n    interactivity=interactivity, compiler=compiler, result=result)\n  File \"/home/legu/anaconda2/lib/python2.7/site-packages/IPython/core/interactiveshell.py\", line 2821, in run_ast_nodes\n    if self.run_code(code, result):\n  File \"/home/legu/anaconda2/lib/python2.7/site-packages/IPython/core/interactiveshell.py\", line 2881, in run_code\n    exec(code_obj, self.user_global_ns, self.user_ns)\n  File \"<ipython-input-23-a4ec26260b2e>\", line 42, in <module>\n    x_ = tf.reshape(tf.nn.embedding_lookup(C_, ids_),\n  File \"/home/legu/anaconda2/lib/python2.7/site-packages/tensorflow/python/ops/embedding_ops.py\", line 119, in embedding_lookup\n    params[0], ids, validate_indices=validate_indices, name=name))\n  File \"/home/legu/anaconda2/lib/python2.7/site-packages/tensorflow/python/ops/embedding_ops.py\", line 41, in _do_gather\n    params, ids, name=name, validate_indices=validate_indices)\n  File \"/home/legu/anaconda2/lib/python2.7/site-packages/tensorflow/python/ops/gen_array_ops.py\", line 1207, in gather\n    validate_indices=validate_indices, name=name)\n  File \"/home/legu/anaconda2/lib/python2.7/site-packages/tensorflow/python/framework/op_def_library.py\", line 768, in apply_op\n    op_def=op_def)\n  File \"/home/legu/anaconda2/lib/python2.7/site-packages/tensorflow/python/framework/ops.py\", line 2336, in create_op\n    original_op=self._default_original_op, op_def=op_def)\n  File \"/home/legu/anaconda2/lib/python2.7/site-packages/tensorflow/python/framework/ops.py\", line 1228, in __init__\n    self._traceback = _extract_stack()\n\nInvalidArgumentError (see above for traceback): indices[0,51] = 9999 is not in [0, 8000)\n\t [[Node: Embedding_Layer/embedding_lookup = Gather[Tindices=DT_INT64, Tparams=DT_FLOAT, _class=[\"loc:@Embedding_Layer/C\"], validate_indices=true, _device=\"/job:localhost/replica:0/task:0/cpu:0\"](Embedding_Layer/C/read, _recv_Inputs/ids_0)]]\n",
     "output_type": "error",
     "traceback": [
      "\u001b[0;31m---------------------------------------------------------------------------\u001b[0m",
      "\u001b[0;31mInvalidArgumentError\u001b[0m                      Traceback (most recent call last)",
      "\u001b[0;32m<ipython-input-25-c8553c60a1ec>\u001b[0m in \u001b[0;36m<module>\u001b[0;34m()\u001b[0m\n\u001b[1;32m      3\u001b[0m \u001b[0mdisplay_step\u001b[0m \u001b[0;34m=\u001b[0m \u001b[0;36m2\u001b[0m\u001b[0;34m\u001b[0m\u001b[0m\n\u001b[1;32m      4\u001b[0m \u001b[0mlearning_rate\u001b[0m \u001b[0;34m=\u001b[0m \u001b[0;36m0.1\u001b[0m\u001b[0;34m\u001b[0m\u001b[0m\n\u001b[0;32m----> 5\u001b[0;31m \u001b[0mdev_pred\u001b[0m\u001b[0;34m,\u001b[0m \u001b[0mbatch_y_dev\u001b[0m \u001b[0;34m=\u001b[0m \u001b[0mrunSimpleNN\u001b[0m\u001b[0;34m(\u001b[0m\u001b[0mtraining_iters\u001b[0m\u001b[0;34m,\u001b[0m \u001b[0mbatch_size\u001b[0m\u001b[0;34m,\u001b[0m \u001b[0mdisplay_step\u001b[0m\u001b[0;34m,\u001b[0m \u001b[0mlearning_rate\u001b[0m\u001b[0;34m)\u001b[0m\u001b[0;34m\u001b[0m\u001b[0m\n\u001b[0m",
      "\u001b[0;32m<ipython-input-24-d59bcf0123ac>\u001b[0m in \u001b[0;36mrunSimpleNN\u001b[0;34m(training_iters, batch_size, display_step, learning_rate)\u001b[0m\n\u001b[1;32m     29\u001b[0m             cost, _, accuracy = sess.run([train_loss_, train_step_, accuracy_OP],\n\u001b[1;32m     30\u001b[0m                                feed_dict={ids_: batch_x, y_: batch_y,\n\u001b[0;32m---> 31\u001b[0;31m                                           alpha_: learning_rate})\n\u001b[0m\u001b[1;32m     32\u001b[0m \u001b[0;34m\u001b[0m\u001b[0m\n\u001b[1;32m     33\u001b[0m             \u001b[0;31m#################\u001b[0m\u001b[0;34m\u001b[0m\u001b[0;34m\u001b[0m\u001b[0m\n",
      "\u001b[0;32m/home/legu/anaconda2/lib/python2.7/site-packages/tensorflow/python/client/session.pyc\u001b[0m in \u001b[0;36mrun\u001b[0;34m(self, fetches, feed_dict, options, run_metadata)\u001b[0m\n\u001b[1;32m    776\u001b[0m     \u001b[0;32mtry\u001b[0m\u001b[0;34m:\u001b[0m\u001b[0;34m\u001b[0m\u001b[0m\n\u001b[1;32m    777\u001b[0m       result = self._run(None, fetches, feed_dict, options_ptr,\n\u001b[0;32m--> 778\u001b[0;31m                          run_metadata_ptr)\n\u001b[0m\u001b[1;32m    779\u001b[0m       \u001b[0;32mif\u001b[0m \u001b[0mrun_metadata\u001b[0m\u001b[0;34m:\u001b[0m\u001b[0;34m\u001b[0m\u001b[0m\n\u001b[1;32m    780\u001b[0m         \u001b[0mproto_data\u001b[0m \u001b[0;34m=\u001b[0m \u001b[0mtf_session\u001b[0m\u001b[0;34m.\u001b[0m\u001b[0mTF_GetBuffer\u001b[0m\u001b[0;34m(\u001b[0m\u001b[0mrun_metadata_ptr\u001b[0m\u001b[0;34m)\u001b[0m\u001b[0;34m\u001b[0m\u001b[0m\n",
      "\u001b[0;32m/home/legu/anaconda2/lib/python2.7/site-packages/tensorflow/python/client/session.pyc\u001b[0m in \u001b[0;36m_run\u001b[0;34m(self, handle, fetches, feed_dict, options, run_metadata)\u001b[0m\n\u001b[1;32m    980\u001b[0m     \u001b[0;32mif\u001b[0m \u001b[0mfinal_fetches\u001b[0m \u001b[0;32mor\u001b[0m \u001b[0mfinal_targets\u001b[0m\u001b[0;34m:\u001b[0m\u001b[0;34m\u001b[0m\u001b[0m\n\u001b[1;32m    981\u001b[0m       results = self._do_run(handle, final_targets, final_fetches,\n\u001b[0;32m--> 982\u001b[0;31m                              feed_dict_string, options, run_metadata)\n\u001b[0m\u001b[1;32m    983\u001b[0m     \u001b[0;32melse\u001b[0m\u001b[0;34m:\u001b[0m\u001b[0;34m\u001b[0m\u001b[0m\n\u001b[1;32m    984\u001b[0m       \u001b[0mresults\u001b[0m \u001b[0;34m=\u001b[0m \u001b[0;34m[\u001b[0m\u001b[0;34m]\u001b[0m\u001b[0;34m\u001b[0m\u001b[0m\n",
      "\u001b[0;32m/home/legu/anaconda2/lib/python2.7/site-packages/tensorflow/python/client/session.pyc\u001b[0m in \u001b[0;36m_do_run\u001b[0;34m(self, handle, target_list, fetch_list, feed_dict, options, run_metadata)\u001b[0m\n\u001b[1;32m   1030\u001b[0m     \u001b[0;32mif\u001b[0m \u001b[0mhandle\u001b[0m \u001b[0;32mis\u001b[0m \u001b[0mNone\u001b[0m\u001b[0;34m:\u001b[0m\u001b[0;34m\u001b[0m\u001b[0m\n\u001b[1;32m   1031\u001b[0m       return self._do_call(_run_fn, self._session, feed_dict, fetch_list,\n\u001b[0;32m-> 1032\u001b[0;31m                            target_list, options, run_metadata)\n\u001b[0m\u001b[1;32m   1033\u001b[0m     \u001b[0;32melse\u001b[0m\u001b[0;34m:\u001b[0m\u001b[0;34m\u001b[0m\u001b[0m\n\u001b[1;32m   1034\u001b[0m       return self._do_call(_prun_fn, self._session, handle, feed_dict,\n",
      "\u001b[0;32m/home/legu/anaconda2/lib/python2.7/site-packages/tensorflow/python/client/session.pyc\u001b[0m in \u001b[0;36m_do_call\u001b[0;34m(self, fn, *args)\u001b[0m\n\u001b[1;32m   1050\u001b[0m         \u001b[0;32mexcept\u001b[0m \u001b[0mKeyError\u001b[0m\u001b[0;34m:\u001b[0m\u001b[0;34m\u001b[0m\u001b[0m\n\u001b[1;32m   1051\u001b[0m           \u001b[0;32mpass\u001b[0m\u001b[0;34m\u001b[0m\u001b[0m\n\u001b[0;32m-> 1052\u001b[0;31m       \u001b[0;32mraise\u001b[0m \u001b[0mtype\u001b[0m\u001b[0;34m(\u001b[0m\u001b[0me\u001b[0m\u001b[0;34m)\u001b[0m\u001b[0;34m(\u001b[0m\u001b[0mnode_def\u001b[0m\u001b[0;34m,\u001b[0m \u001b[0mop\u001b[0m\u001b[0;34m,\u001b[0m \u001b[0mmessage\u001b[0m\u001b[0;34m)\u001b[0m\u001b[0;34m\u001b[0m\u001b[0m\n\u001b[0m\u001b[1;32m   1053\u001b[0m \u001b[0;34m\u001b[0m\u001b[0m\n\u001b[1;32m   1054\u001b[0m   \u001b[0;32mdef\u001b[0m \u001b[0m_extend_graph\u001b[0m\u001b[0;34m(\u001b[0m\u001b[0mself\u001b[0m\u001b[0;34m)\u001b[0m\u001b[0;34m:\u001b[0m\u001b[0;34m\u001b[0m\u001b[0m\n",
      "\u001b[0;31mInvalidArgumentError\u001b[0m: indices[0,51] = 9999 is not in [0, 8000)\n\t [[Node: Embedding_Layer/embedding_lookup = Gather[Tindices=DT_INT64, Tparams=DT_FLOAT, _class=[\"loc:@Embedding_Layer/C\"], validate_indices=true, _device=\"/job:localhost/replica:0/task:0/cpu:0\"](Embedding_Layer/C/read, _recv_Inputs/ids_0)]]\n\nCaused by op u'Embedding_Layer/embedding_lookup', defined at:\n  File \"/home/legu/anaconda2/lib/python2.7/runpy.py\", line 174, in _run_module_as_main\n    \"__main__\", fname, loader, pkg_name)\n  File \"/home/legu/anaconda2/lib/python2.7/runpy.py\", line 72, in _run_code\n    exec code in run_globals\n  File \"/home/legu/anaconda2/lib/python2.7/site-packages/ipykernel/__main__.py\", line 3, in <module>\n    app.launch_new_instance()\n  File \"/home/legu/anaconda2/lib/python2.7/site-packages/traitlets/config/application.py\", line 658, in launch_instance\n    app.start()\n  File \"/home/legu/anaconda2/lib/python2.7/site-packages/ipykernel/kernelapp.py\", line 474, in start\n    ioloop.IOLoop.instance().start()\n  File \"/home/legu/anaconda2/lib/python2.7/site-packages/zmq/eventloop/ioloop.py\", line 177, in start\n    super(ZMQIOLoop, self).start()\n  File \"/home/legu/anaconda2/lib/python2.7/site-packages/tornado/ioloop.py\", line 887, in start\n    handler_func(fd_obj, events)\n  File \"/home/legu/anaconda2/lib/python2.7/site-packages/tornado/stack_context.py\", line 275, in null_wrapper\n    return fn(*args, **kwargs)\n  File \"/home/legu/anaconda2/lib/python2.7/site-packages/zmq/eventloop/zmqstream.py\", line 440, in _handle_events\n    self._handle_recv()\n  File \"/home/legu/anaconda2/lib/python2.7/site-packages/zmq/eventloop/zmqstream.py\", line 472, in _handle_recv\n    self._run_callback(callback, msg)\n  File \"/home/legu/anaconda2/lib/python2.7/site-packages/zmq/eventloop/zmqstream.py\", line 414, in _run_callback\n    callback(*args, **kwargs)\n  File \"/home/legu/anaconda2/lib/python2.7/site-packages/tornado/stack_context.py\", line 275, in null_wrapper\n    return fn(*args, **kwargs)\n  File \"/home/legu/anaconda2/lib/python2.7/site-packages/ipykernel/kernelbase.py\", line 276, in dispatcher\n    return self.dispatch_shell(stream, msg)\n  File \"/home/legu/anaconda2/lib/python2.7/site-packages/ipykernel/kernelbase.py\", line 228, in dispatch_shell\n    handler(stream, idents, msg)\n  File \"/home/legu/anaconda2/lib/python2.7/site-packages/ipykernel/kernelbase.py\", line 390, in execute_request\n    user_expressions, allow_stdin)\n  File \"/home/legu/anaconda2/lib/python2.7/site-packages/ipykernel/ipkernel.py\", line 196, in do_execute\n    res = shell.run_cell(code, store_history=store_history, silent=silent)\n  File \"/home/legu/anaconda2/lib/python2.7/site-packages/ipykernel/zmqshell.py\", line 501, in run_cell\n    return super(ZMQInteractiveShell, self).run_cell(*args, **kwargs)\n  File \"/home/legu/anaconda2/lib/python2.7/site-packages/IPython/core/interactiveshell.py\", line 2717, in run_cell\n    interactivity=interactivity, compiler=compiler, result=result)\n  File \"/home/legu/anaconda2/lib/python2.7/site-packages/IPython/core/interactiveshell.py\", line 2821, in run_ast_nodes\n    if self.run_code(code, result):\n  File \"/home/legu/anaconda2/lib/python2.7/site-packages/IPython/core/interactiveshell.py\", line 2881, in run_code\n    exec(code_obj, self.user_global_ns, self.user_ns)\n  File \"<ipython-input-23-a4ec26260b2e>\", line 42, in <module>\n    x_ = tf.reshape(tf.nn.embedding_lookup(C_, ids_),\n  File \"/home/legu/anaconda2/lib/python2.7/site-packages/tensorflow/python/ops/embedding_ops.py\", line 119, in embedding_lookup\n    params[0], ids, validate_indices=validate_indices, name=name))\n  File \"/home/legu/anaconda2/lib/python2.7/site-packages/tensorflow/python/ops/embedding_ops.py\", line 41, in _do_gather\n    params, ids, name=name, validate_indices=validate_indices)\n  File \"/home/legu/anaconda2/lib/python2.7/site-packages/tensorflow/python/ops/gen_array_ops.py\", line 1207, in gather\n    validate_indices=validate_indices, name=name)\n  File \"/home/legu/anaconda2/lib/python2.7/site-packages/tensorflow/python/framework/op_def_library.py\", line 768, in apply_op\n    op_def=op_def)\n  File \"/home/legu/anaconda2/lib/python2.7/site-packages/tensorflow/python/framework/ops.py\", line 2336, in create_op\n    original_op=self._default_original_op, op_def=op_def)\n  File \"/home/legu/anaconda2/lib/python2.7/site-packages/tensorflow/python/framework/ops.py\", line 1228, in __init__\n    self._traceback = _extract_stack()\n\nInvalidArgumentError (see above for traceback): indices[0,51] = 9999 is not in [0, 8000)\n\t [[Node: Embedding_Layer/embedding_lookup = Gather[Tindices=DT_INT64, Tparams=DT_FLOAT, _class=[\"loc:@Embedding_Layer/C\"], validate_indices=true, _device=\"/job:localhost/replica:0/task:0/cpu:0\"](Embedding_Layer/C/read, _recv_Inputs/ids_0)]]\n"
     ]
    }
   ],
   "source": [
    "training_iters = 236000\n",
    "batch_size = 1000\n",
    "display_step = 2\n",
    "learning_rate = 0.1\n",
    "dev_pred, batch_y_dev = runSimpleNN(training_iters, batch_size, display_step, learning_rate)"
   ]
  },
  {
   "cell_type": "code",
   "execution_count": null,
   "metadata": {
    "collapsed": true
   },
   "outputs": [],
   "source": []
  },
  {
   "cell_type": "code",
   "execution_count": null,
   "metadata": {
    "collapsed": true
   },
   "outputs": [],
   "source": []
  },
  {
   "cell_type": "code",
   "execution_count": null,
   "metadata": {
    "collapsed": true
   },
   "outputs": [],
   "source": []
  },
  {
   "cell_type": "markdown",
   "metadata": {},
   "source": [
    "##### GloVe Embeddings"
   ]
  },
  {
   "cell_type": "code",
   "execution_count": 34,
   "metadata": {
    "collapsed": true
   },
   "outputs": [],
   "source": [
    "'''\n",
    "Simple Model with GloVe Embedding\n",
    "'''\n",
    "\n",
    "from __future__ import print_function\n",
    "\n",
    "import tensorflow as tf\n",
    "import sklearn as sk\n",
    "from tensorflow.contrib import rnn\n",
    "\n",
    "# Reset defaul graph.\n",
    "tf.reset_default_graph()\n",
    "tf.set_random_seed(42)\n",
    "\n",
    "######################## \n",
    "### MODEL PARAMETERS ###\n",
    "######################## \n",
    "\n",
    "# Network Parameters\n",
    "# Context window size (sentence length)\n",
    "N = 50 #changed to the above max_document_length: 60\n",
    "# Embedding size\n",
    "M = embedding_dim ##changed to the glove dimension:50\n",
    "# Hidden units\n",
    "H = 50 # hidden layer num of features\n",
    "n_classes = 2  \n",
    "V = 10000\n",
    "\n",
    "\n",
    "#################################\n",
    "### PLACEHOLDER AND GRAPH ###\n",
    "#################################\n",
    "\n",
    "with tf.name_scope(\"Inputs\"):\n",
    "    ids_ = tf.placeholder(tf.int64, [None, N], name=\"ids\")\n",
    "    y_ = tf.placeholder(tf.int64, [None], name=\"y\")\n",
    "\n",
    "with tf.name_scope(\"Embedding_Layer\"):\n",
    "#     C_ = tf.Variable(tf.random_uniform([V, M],\n",
    "#                                        -1.0, 1.0), name=\"C\")\n",
    "    # embedding_lookup gives shape (batch_size, N, M)\n",
    "    W = tf.Variable(tf.constant(0.0, shape=[vocab_size, embedding_dim]),\n",
    "                trainable=False, name=\"W\")\n",
    "    embedding_placeholder = tf.placeholder(tf.float32, [vocab_size, embedding_dim])\n",
    "    embedding_init = W.assign(embedding_placeholder)\n",
    "\n",
    "    x_ = tf.reshape(tf.nn.embedding_lookup(W, ids_), \n",
    "                    [-1, N*M], name=\"x\")\n",
    "#     print(W[0])\n",
    "\n",
    "with tf.name_scope(\"Hidden_Layer\"):\n",
    "    W1_ = tf.Variable(tf.random_normal([N*M,H]), name=\"W1\")\n",
    "    b1_ = tf.Variable(tf.zeros([H,], dtype=tf.float32), name=\"b1\")\n",
    "    h_ = tf.tanh(tf.matmul(x_, W1_) + b1_, name=\"h\")\n",
    "\n",
    "with tf.name_scope(\"Output_Layer\"):\n",
    "    W2_ = tf.Variable(tf.random_normal([H,2]), name=\"W2\")\n",
    "    W3_ = tf.Variable(tf.random_normal([N*M,2]), name=\"W3\")\n",
    "    b3_ = tf.Variable(tf.zeros([2,], dtype=tf.float32), name=\"b3\")\n",
    "    # Concat [h x] and [W2 W3]\n",
    "    hx_ = tf.concat([h_, x_], 1, name=\"hx\")\n",
    "    W23_ = tf.concat([W2_, W3_], 0, name=\"W23\")\n",
    "    logits_ = tf.add(tf.matmul(hx_, W23_), b3_, name=\"logits\")\n",
    "\n",
    "\n",
    "#############################\n",
    "### LOSS AND OPTIMIZATION ###\n",
    "#############################\n",
    "\n",
    "with tf.name_scope(\"Cost_Function\"):\n",
    "    # Sampled softmax loss, for training\n",
    "    per_example_train_loss_ = tf.nn.sparse_softmax_cross_entropy_with_logits(labels=y_, logits=logits_,\n",
    "                                             name=\"per_example_train_loss_\")\n",
    "    train_loss_ = tf.reduce_mean(per_example_train_loss_, name=\"loss\")\n",
    "\n",
    "with tf.name_scope(\"Training\"):\n",
    "    alpha_ = tf.placeholder(tf.float32, name=\"learning_rate\")\n",
    "    optimizer_ = tf.train.AdamOptimizer(alpha_)\n",
    "    train_step_ = optimizer_.minimize(train_loss_)\n",
    "    \n",
    "##################\n",
    "### EVALUATION ###\n",
    "################## \n",
    "with tf.name_scope(\"Prediction\"):\n",
    "    pred_max_ = tf.argmax(logits_, 1, name=\"pred_max\")\n",
    "with tf.name_scope(\"Scoring\"):\n",
    "    correct_predictions_OP = tf.equal(pred_max_, y_)\n",
    "    accuracy_OP = tf.reduce_mean(tf.cast(correct_predictions_OP, \"float\"))\n",
    "\n",
    "# Initializing the variables\n",
    "init = tf.global_variables_initializer()"
   ]
  },
  {
   "cell_type": "code",
   "execution_count": 35,
   "metadata": {
    "collapsed": true
   },
   "outputs": [],
   "source": [
    "from tensorflow.contrib.tensorboard.plugins import projector\n",
    "\n",
    "def runSimpleNN(training_iters, batch_size, display_step, learning_rate):\n",
    "    LOG_DIR = 'logs'\n",
    "    \n",
    "    with tf.Session() as sess:\n",
    "#         saver = tf.train.Saver([C_])\n",
    "        sess.run(init)\n",
    "        step = 1\n",
    "        iters=[]\n",
    "        costs=[]\n",
    "        accs=[]\n",
    "        f1s=[]\n",
    "        precisions=[]\n",
    "        recalls=[]\n",
    "        iterator = PaddedDataIterator(train_df_glove)\n",
    "\n",
    "        # Keep training until reach max iterations\n",
    "        while step * batch_size <= training_iters:\n",
    "\n",
    "            ##########################\n",
    "            ### GENERATE BATCH X,Y ###\n",
    "            ##########################\n",
    "            batch_x, batch_y = iterator.next_batch(batch_size,N)\n",
    "\n",
    "            ################\n",
    "            ### TRAINING ###\n",
    "            ################\n",
    "            sess.run(embedding_init, feed_dict={embedding_placeholder: embedding})##added\n",
    "#             print (sess.run(W)[0])\n",
    "            cost, _, accuracy = sess.run([train_loss_, train_step_, accuracy_OP],\n",
    "                               feed_dict={ids_: batch_x, y_: batch_y,\n",
    "                                          alpha_: learning_rate})\n",
    "\n",
    "            #################\n",
    "            ### REPORTING ###\n",
    "            #################\n",
    "\n",
    "            if step % display_step == 0:\n",
    "                epoch = iterator.epochs\n",
    "                iters.append(step*batch_size)\n",
    "                costs.append(cost)\n",
    "                accs.append(accuracy)\n",
    "                print(\"[Epoch {:d}] \".format(epoch) + \\\n",
    "                      \"Iter \" + str(step*batch_size) + \", Minibatch Loss= \" + \\\n",
    "                      \"{:.6f}\".format(cost) + \", Accuracy= \" + \\\n",
    "                      \"{:.5f}\".format(accuracy))\n",
    "#                 saver.save(sess, os.path.join(LOG_DIR, 'embeddings.ckpt'), step)\n",
    "            step += 1\n",
    "        print(\"Optimization Finished!\")\n",
    "        \n",
    "##### For visualizing the embeddings. Commented out for now since it is causing the kernel to crash.\n",
    "#         # Format: tensorflow/tensorboard/plugins/projector/projector_config.proto\n",
    "#         config = projector.ProjectorConfig()\n",
    "\n",
    "#         # You can add multiple embeddings. Here we add only one.\n",
    "#         embedding = config.embeddings.add()\n",
    "#         embedding.tensor_name = C_.name\n",
    "#         # Link this tensor to its metadata file (e.g. labels).\n",
    "#         embedding.metadata_path = os.path.join(LOG_DIR, 'metadata.tsv')\n",
    "\n",
    "#         # Use the same LOG_DIR where you stored your checkpoint.\n",
    "#         summary_writer = tf.summary.FileWriter(LOG_DIR)\n",
    "\n",
    "#         # The next line writes a projector_config.pbtxt in the LOG_DIR. TensorBoard will\n",
    "#         # read this file during startup.\n",
    "#         projector.visualize_embeddings(summary_writer, config)\n",
    "\n",
    "        ##########################\n",
    "        ### EVALUATE WITH DEV DATA ###\n",
    "        ##########################    \n",
    "\n",
    "        batch_x_dev, batch_y_dev = PaddedDataIterator(dev_df_glove).next_batch(len(dev_df_glove),N)\n",
    "        dev_pred, dev_acc, dev_cost,logits = sess.run(\n",
    "            [pred_max_,accuracy_OP, train_loss_,logits_],\n",
    "            feed_dict={ids_: batch_x_dev, y_: batch_y_dev})\n",
    "        print(sk.metrics.classification_report(batch_y_dev, dev_pred))\n",
    "        print (\"Dev Accuracy:\",dev_acc)\n",
    "        print(\"Dev cost:\",dev_cost)  \n",
    "\n",
    "        batch_x_test, batch_y_test = PaddedDataIterator(\n",
    "            test_df_glove).next_batch(len(test_df_glove),N)\n",
    "        test_pred,test_acc, test_cost, logits = sess.run(\n",
    "            [pred_max_, accuracy_OP, train_loss_,logits_],\n",
    "            feed_dict={ids_: batch_x_test, y_: batch_y_test})\n",
    "        print(sk.metrics.classification_report(batch_y_test, test_pred))\n",
    "        print (\"Test Accuracy:\",test_acc)\n",
    "        print(\"Test cost:\",test_cost)\n",
    "\n",
    "        # Plot graphs.\n",
    "        plt.hist(dev_pred)\n",
    "        plt.title('dev pred data')\n",
    "        plt.show()\n",
    "\n",
    "        plt.hist(batch_y_dev)\n",
    "        plt.title('dev true data')\n",
    "        plt.show()\n",
    "\n",
    "\n",
    "        plt.scatter(logits[:,0],logits[:,1])\n",
    "        plt.title('dev logits data')\n",
    "        plt.show()\n",
    "\n",
    "        visualizeTraining(iters, costs, accs)\n",
    "        return dev_pred, batch_y_dev"
   ]
  },
  {
   "cell_type": "code",
   "execution_count": 36,
   "metadata": {
    "collapsed": false,
    "scrolled": true
   },
   "outputs": [
    {
     "name": "stdout",
     "output_type": "stream",
     "text": [
      "[Epoch 1] Iter 2000, Minibatch Loss= 13.276182, Accuracy= 0.52000\n",
      "[Epoch 1] Iter 4000, Minibatch Loss= 14.223471, Accuracy= 0.51100\n",
      "[Epoch 1] Iter 6000, Minibatch Loss= 13.072352, Accuracy= 0.51300\n",
      "[Epoch 1] Iter 8000, Minibatch Loss= 11.804300, Accuracy= 0.50800\n",
      "[Epoch 1] Iter 10000, Minibatch Loss= 14.151869, Accuracy= 0.45500\n",
      "[Epoch 1] Iter 12000, Minibatch Loss= 12.327509, Accuracy= 0.49200\n",
      "[Epoch 1] Iter 14000, Minibatch Loss= 12.840274, Accuracy= 0.47200\n",
      "[Epoch 1] Iter 16000, Minibatch Loss= 12.698818, Accuracy= 0.51200\n",
      "[Epoch 1] Iter 18000, Minibatch Loss= 12.293166, Accuracy= 0.49500\n",
      "[Epoch 1] Iter 20000, Minibatch Loss= 10.737288, Accuracy= 0.51500\n",
      "[Epoch 1] Iter 22000, Minibatch Loss= 11.261909, Accuracy= 0.51000\n",
      "[Epoch 1] Iter 24000, Minibatch Loss= 10.564176, Accuracy= 0.50600\n",
      "[Epoch 1] Iter 26000, Minibatch Loss= 10.414536, Accuracy= 0.51800\n",
      "[Epoch 1] Iter 28000, Minibatch Loss= 11.238698, Accuracy= 0.50900\n",
      "[Epoch 1] Iter 30000, Minibatch Loss= 10.910037, Accuracy= 0.51900\n",
      "[Epoch 1] Iter 32000, Minibatch Loss= 10.493246, Accuracy= 0.51800\n",
      "[Epoch 1] Iter 34000, Minibatch Loss= 11.106719, Accuracy= 0.49800\n",
      "[Epoch 1] Iter 36000, Minibatch Loss= 9.573151, Accuracy= 0.51000\n",
      "[Epoch 1] Iter 38000, Minibatch Loss= 9.538058, Accuracy= 0.51800\n",
      "[Epoch 1] Iter 40000, Minibatch Loss= 10.613963, Accuracy= 0.51100\n",
      "[Epoch 1] Iter 42000, Minibatch Loss= 9.407080, Accuracy= 0.51700\n",
      "[Epoch 1] Iter 44000, Minibatch Loss= 9.076716, Accuracy= 0.50500\n",
      "[Epoch 1] Iter 46000, Minibatch Loss= 10.046151, Accuracy= 0.48200\n",
      "[Epoch 1] Iter 48000, Minibatch Loss= 9.059537, Accuracy= 0.52700\n",
      "[Epoch 1] Iter 50000, Minibatch Loss= 8.975070, Accuracy= 0.54800\n",
      "[Epoch 1] Iter 52000, Minibatch Loss= 8.746614, Accuracy= 0.53100\n",
      "[Epoch 1] Iter 54000, Minibatch Loss= 9.528779, Accuracy= 0.48900\n",
      "[Epoch 1] Iter 56000, Minibatch Loss= 8.771721, Accuracy= 0.52200\n",
      "[Epoch 1] Iter 58000, Minibatch Loss= 9.284737, Accuracy= 0.50600\n",
      "[Epoch 1] Iter 60000, Minibatch Loss= 9.270078, Accuracy= 0.49900\n",
      "[Epoch 1] Iter 62000, Minibatch Loss= 8.257221, Accuracy= 0.52700\n",
      "[Epoch 1] Iter 64000, Minibatch Loss= 8.774443, Accuracy= 0.51300\n",
      "[Epoch 1] Iter 66000, Minibatch Loss= 8.461373, Accuracy= 0.52800\n",
      "[Epoch 1] Iter 68000, Minibatch Loss= 8.124922, Accuracy= 0.52800\n",
      "[Epoch 1] Iter 70000, Minibatch Loss= 7.743530, Accuracy= 0.52800\n",
      "[Epoch 1] Iter 72000, Minibatch Loss= 8.046001, Accuracy= 0.54000\n",
      "[Epoch 1] Iter 74000, Minibatch Loss= 7.452211, Accuracy= 0.53900\n",
      "[Epoch 1] Iter 76000, Minibatch Loss= 7.570429, Accuracy= 0.53300\n",
      "[Epoch 1] Iter 78000, Minibatch Loss= 7.648005, Accuracy= 0.53200\n",
      "[Epoch 1] Iter 80000, Minibatch Loss= 7.314803, Accuracy= 0.53000\n",
      "[Epoch 1] Iter 82000, Minibatch Loss= 8.013136, Accuracy= 0.51700\n",
      "[Epoch 1] Iter 84000, Minibatch Loss= 7.365504, Accuracy= 0.52200\n",
      "[Epoch 1] Iter 86000, Minibatch Loss= 7.510360, Accuracy= 0.53500\n",
      "[Epoch 1] Iter 88000, Minibatch Loss= 6.845173, Accuracy= 0.53500\n",
      "[Epoch 1] Iter 90000, Minibatch Loss= 7.444929, Accuracy= 0.53100\n",
      "[Epoch 1] Iter 92000, Minibatch Loss= 6.891786, Accuracy= 0.51300\n",
      "[Epoch 1] Iter 94000, Minibatch Loss= 6.929656, Accuracy= 0.53900\n",
      "[Epoch 1] Iter 96000, Minibatch Loss= 6.502530, Accuracy= 0.55700\n",
      "[Epoch 1] Iter 98000, Minibatch Loss= 6.782747, Accuracy= 0.52900\n",
      "[Epoch 1] Iter 100000, Minibatch Loss= 6.553692, Accuracy= 0.53700\n",
      "[Epoch 1] Iter 102000, Minibatch Loss= 6.794432, Accuracy= 0.52700\n",
      "[Epoch 1] Iter 104000, Minibatch Loss= 6.520526, Accuracy= 0.54500\n",
      "[Epoch 1] Iter 106000, Minibatch Loss= 6.550494, Accuracy= 0.54000\n",
      "[Epoch 1] Iter 108000, Minibatch Loss= 5.763155, Accuracy= 0.55800\n",
      "[Epoch 1] Iter 110000, Minibatch Loss= 6.017623, Accuracy= 0.54600\n",
      "[Epoch 1] Iter 112000, Minibatch Loss= 6.225996, Accuracy= 0.54300\n",
      "[Epoch 1] Iter 114000, Minibatch Loss= 5.853821, Accuracy= 0.55100\n",
      "[Epoch 1] Iter 116000, Minibatch Loss= 5.524757, Accuracy= 0.56400\n",
      "[Epoch 1] Iter 118000, Minibatch Loss= 6.217022, Accuracy= 0.54900\n",
      "[Epoch 2] Iter 120000, Minibatch Loss= 5.891461, Accuracy= 0.52400\n",
      "[Epoch 2] Iter 122000, Minibatch Loss= 5.269813, Accuracy= 0.56700\n",
      "[Epoch 2] Iter 124000, Minibatch Loss= 5.970315, Accuracy= 0.55200\n",
      "[Epoch 2] Iter 126000, Minibatch Loss= 5.922606, Accuracy= 0.52800\n",
      "[Epoch 2] Iter 128000, Minibatch Loss= 5.802598, Accuracy= 0.54700\n",
      "[Epoch 2] Iter 130000, Minibatch Loss= 5.340440, Accuracy= 0.57800\n",
      "[Epoch 2] Iter 132000, Minibatch Loss= 5.875504, Accuracy= 0.53700\n",
      "[Epoch 2] Iter 134000, Minibatch Loss= 5.298249, Accuracy= 0.56600\n",
      "[Epoch 2] Iter 136000, Minibatch Loss= 5.620775, Accuracy= 0.56700\n",
      "[Epoch 2] Iter 138000, Minibatch Loss= 5.540667, Accuracy= 0.51900\n",
      "[Epoch 2] Iter 140000, Minibatch Loss= 5.076967, Accuracy= 0.55700\n",
      "[Epoch 2] Iter 142000, Minibatch Loss= 5.003019, Accuracy= 0.56600\n",
      "[Epoch 2] Iter 144000, Minibatch Loss= 5.101117, Accuracy= 0.55100\n",
      "[Epoch 2] Iter 146000, Minibatch Loss= 4.718057, Accuracy= 0.57600\n",
      "[Epoch 2] Iter 148000, Minibatch Loss= 5.025579, Accuracy= 0.56800\n",
      "[Epoch 2] Iter 150000, Minibatch Loss= 5.154626, Accuracy= 0.55600\n",
      "[Epoch 2] Iter 152000, Minibatch Loss= 4.569525, Accuracy= 0.58500\n",
      "[Epoch 2] Iter 154000, Minibatch Loss= 4.594867, Accuracy= 0.56500\n",
      "[Epoch 2] Iter 156000, Minibatch Loss= 5.010484, Accuracy= 0.53900\n",
      "[Epoch 2] Iter 158000, Minibatch Loss= 4.946090, Accuracy= 0.56100\n",
      "[Epoch 2] Iter 160000, Minibatch Loss= 4.490297, Accuracy= 0.56200\n",
      "[Epoch 2] Iter 162000, Minibatch Loss= 4.455773, Accuracy= 0.56700\n",
      "[Epoch 2] Iter 164000, Minibatch Loss= 4.692459, Accuracy= 0.56300\n",
      "[Epoch 2] Iter 166000, Minibatch Loss= 4.655536, Accuracy= 0.59700\n",
      "[Epoch 2] Iter 168000, Minibatch Loss= 4.834378, Accuracy= 0.53200\n",
      "[Epoch 2] Iter 170000, Minibatch Loss= 5.005410, Accuracy= 0.53800\n",
      "[Epoch 2] Iter 172000, Minibatch Loss= 4.341256, Accuracy= 0.57200\n",
      "[Epoch 2] Iter 174000, Minibatch Loss= 4.273206, Accuracy= 0.59000\n",
      "[Epoch 2] Iter 176000, Minibatch Loss= 4.232423, Accuracy= 0.57300\n",
      "[Epoch 2] Iter 178000, Minibatch Loss= 4.095950, Accuracy= 0.56800\n",
      "[Epoch 2] Iter 180000, Minibatch Loss= 4.797699, Accuracy= 0.55000\n",
      "[Epoch 2] Iter 182000, Minibatch Loss= 4.354236, Accuracy= 0.57600\n",
      "[Epoch 2] Iter 184000, Minibatch Loss= 4.355286, Accuracy= 0.54700\n",
      "[Epoch 2] Iter 186000, Minibatch Loss= 3.779002, Accuracy= 0.59200\n",
      "[Epoch 2] Iter 188000, Minibatch Loss= 4.242718, Accuracy= 0.56600\n",
      "[Epoch 2] Iter 190000, Minibatch Loss= 4.102060, Accuracy= 0.56700\n",
      "[Epoch 2] Iter 192000, Minibatch Loss= 3.664152, Accuracy= 0.60100\n",
      "[Epoch 2] Iter 194000, Minibatch Loss= 3.790186, Accuracy= 0.56500\n",
      "[Epoch 2] Iter 196000, Minibatch Loss= 4.339282, Accuracy= 0.56500\n",
      "[Epoch 2] Iter 198000, Minibatch Loss= 3.842111, Accuracy= 0.58100\n",
      "[Epoch 2] Iter 200000, Minibatch Loss= 3.820370, Accuracy= 0.58800\n",
      "[Epoch 2] Iter 202000, Minibatch Loss= 3.913273, Accuracy= 0.58200\n",
      "[Epoch 2] Iter 204000, Minibatch Loss= 3.739591, Accuracy= 0.56800\n",
      "[Epoch 2] Iter 206000, Minibatch Loss= 4.002728, Accuracy= 0.57500\n",
      "[Epoch 2] Iter 208000, Minibatch Loss= 3.384163, Accuracy= 0.61500\n",
      "[Epoch 2] Iter 210000, Minibatch Loss= 3.806741, Accuracy= 0.56800\n",
      "[Epoch 2] Iter 212000, Minibatch Loss= 3.618502, Accuracy= 0.59700\n",
      "[Epoch 2] Iter 214000, Minibatch Loss= 3.604903, Accuracy= 0.57100\n",
      "[Epoch 2] Iter 216000, Minibatch Loss= 3.497053, Accuracy= 0.59000\n",
      "[Epoch 2] Iter 218000, Minibatch Loss= 3.922131, Accuracy= 0.55900\n",
      "[Epoch 2] Iter 220000, Minibatch Loss= 3.664679, Accuracy= 0.57300\n",
      "[Epoch 2] Iter 222000, Minibatch Loss= 3.595619, Accuracy= 0.57100\n",
      "[Epoch 2] Iter 224000, Minibatch Loss= 3.419888, Accuracy= 0.58400\n",
      "[Epoch 2] Iter 226000, Minibatch Loss= 3.749189, Accuracy= 0.56200\n",
      "[Epoch 2] Iter 228000, Minibatch Loss= 3.616383, Accuracy= 0.55700\n",
      "[Epoch 2] Iter 230000, Minibatch Loss= 3.220929, Accuracy= 0.61900\n",
      "[Epoch 2] Iter 232000, Minibatch Loss= 3.245960, Accuracy= 0.58400\n",
      "[Epoch 2] Iter 234000, Minibatch Loss= 3.586671, Accuracy= 0.57000\n",
      "[Epoch 2] Iter 236000, Minibatch Loss= 3.484809, Accuracy= 0.57100\n",
      "Optimization Finished!\n",
      "             precision    recall  f1-score   support\n",
      "\n",
      "          0       0.17      0.53      0.25      1284\n",
      "          1       0.87      0.54      0.67      7373\n",
      "\n",
      "avg / total       0.76      0.54      0.60      8657\n",
      "\n",
      "Dev Accuracy: 0.538408\n",
      "Dev cost: 4.3269\n",
      "             precision    recall  f1-score   support\n",
      "\n",
      "          0       0.16      0.50      0.24      1298\n",
      "          1       0.86      0.53      0.66      7419\n",
      "\n",
      "avg / total       0.76      0.53      0.60      8717\n",
      "\n",
      "Test Accuracy: 0.529655\n",
      "Test cost: 4.49482\n"
     ]
    },
    {
     "data": {
      "image/png": "[encoded data removed]",
      "text/plain": [
       "<matplotlib.figure.Figure at 0x7f5659d57990>"
      ]
     },
     "metadata": {},
     "output_type": "display_data"
    },
    {
     "data": {
      "image/png": "[encoded data removed]",
      "text/plain": [
       "<matplotlib.figure.Figure at 0x7f5664b2e650>"
      ]
     },
     "metadata": {},
     "output_type": "display_data"
    },
    {
     "data": {
      "image/png": "[encoded data removed]",
      "text/plain": [
       "<matplotlib.figure.Figure at 0x7f5663c67650>"
      ]
     },
     "metadata": {},
     "output_type": "display_data"
    },
    {
     "data": {
      "image/png": "[encoded data removed]",
      "text/plain": [
       "<matplotlib.figure.Figure at 0x7f5659b71f90>"
      ]
     },
     "metadata": {},
     "output_type": "display_data"
    },
    {
     "data": {
      "image/png": "[encoded data removed]",
      "text/plain": [
       "<matplotlib.figure.Figure at 0x7f5659ac4ad0>"
      ]
     },
     "metadata": {},
     "output_type": "display_data"
    }
   ],
   "source": [
    "training_iters = 236000\n",
    "batch_size = 1000\n",
    "display_step = 2\n",
    "learning_rate = 0.01\n",
    "a=runSimpleNN(training_iters, batch_size, display_step, learning_rate)"
   ]
  },
  {
   "cell_type": "code",
   "execution_count": null,
   "metadata": {
    "collapsed": true
   },
   "outputs": [],
   "source": []
  },
  {
   "cell_type": "markdown",
   "metadata": {},
   "source": [
    "### 4.2.2 LSTM"
   ]
  },
  {
   "cell_type": "code",
   "execution_count": 41,
   "metadata": {
    "collapsed": false
   },
   "outputs": [],
   "source": [
    "'''\n",
    "A Recurrent Neural Network (LSTM) implementation example using TensorFlow library.\n",
    "This example is using the MNIST database of handwritten digits (http://yann.lecun.com/exdb/mnist/)\n",
    "Long Short Term Memory paper: http://deeplearning.cs.cmu.edu/pdfs/Hochreiter97_lstm.pdf\n",
    "Author: Aymeric Damien\n",
    "Project: https://github.com/aymericdamien/TensorFlow-Examples/\n",
    "'''\n",
    "\n",
    "from __future__ import print_function\n",
    "\n",
    "def run_LSTM(learning_rate_v ,training_iters_v ,batch_size_v ,sentence_size_v ,n_hidden_v, n_layer_v):\n",
    "    import tensorflow as tf\n",
    "    import sklearn as sk\n",
    "    from tensorflow.contrib import rnn\n",
    "\n",
    "    # Import MNIST data\n",
    "\n",
    "\n",
    "    '''\n",
    "    To classify images using a recurrent neural network, we consider every image\n",
    "    row as a sequence of pixels. Because MNIST image shape is 28*28px, we will then\n",
    "    handle 28 sequences of 28 steps for every sample.\n",
    "    '''\n",
    "    # Reset defaul graph.\n",
    "    tf.reset_default_graph()\n",
    "    tf.set_random_seed(42)\n",
    "\n",
    "    ######################## \n",
    "    ### MODEL PARAMETERS ###\n",
    "    ######################## \n",
    "\n",
    "    # 0.01 learning rate\n",
    "    # 200k iterations\n",
    "    # 1000 batch size\n",
    "    # 10 context window\n",
    "    # 50 hidden\n",
    "    ## 70 sentence length\n",
    "\n",
    "\n",
    "    # Parameters\n",
    "    learning_rate = learning_rate_v\n",
    "    training_iters = training_iters_v\n",
    "    batch_size = batch_size_v\n",
    "    display_step = 2\n",
    "    sentence_size = sentence_size_v\n",
    "\n",
    "    # Network Parameters\n",
    "    n_input = 1  \n",
    "    n_steps = sentence_size/n_input # timesteps\n",
    "    n_hidden = n_hidden_v # hidden layer num of features\n",
    "    n_classes = 2  \n",
    "    vocab_size = 10000\n",
    "    n_layer = n_layer_v\n",
    "\n",
    "\n",
    "    #################################\n",
    "    ### PLACEHOLDER AND VARIABLE ###\n",
    "    #################################\n",
    "\n",
    "    # tf Graph input\n",
    "    ids_ = tf.placeholder(tf.int32, [None, n_steps, n_input], name=\"ids\")\n",
    "    y = tf.placeholder(tf.int32, [None, n_classes], name=\"y\")\n",
    "\n",
    "    # Define weights\n",
    "    weights = {\n",
    "        'out': tf.Variable(tf.random_normal([n_hidden, n_classes]), name=\"W\")\n",
    "    }\n",
    "    biases = {\n",
    "        'out': tf.Variable(tf.zeros([n_classes], dtype=tf.float32), name=\"b\")\n",
    "    }\n",
    "\n",
    "\n",
    "    ######################## \n",
    "    ### DEFINE RNN MODEL ###\n",
    "    ######################## \n",
    "    def MakeFancyRNNCell(H, keep_prob, num_layers=1):\n",
    "        \"\"\"Make a fancy RNN cell.\n",
    "        Use tf.nn.rnn_cell functions to construct an LSTM cell.\n",
    "        Initialize forget_bias=0.0 for better training.\n",
    "        Args:\n",
    "          H: hidden state size\n",
    "          keep_prob: dropout keep prob (same for input and output)\n",
    "          num_layers: number of cell layers\n",
    "        Returns:\n",
    "          (tf.nn.rnn_cell.RNNCell) multi-layer LSTM cell with dropout\n",
    "        \"\"\"\n",
    "        cells = []\n",
    "        for _ in xrange(num_layers):\n",
    "            cell = tf.contrib.rnn.BasicLSTMCell(H, forget_bias=0.0)\n",
    "            cell = tf.contrib.rnn.DropoutWrapper(\n",
    "              cell, input_keep_prob=keep_prob, output_keep_prob=keep_prob)\n",
    "            cells.append(cell)\n",
    "        return tf.contrib.rnn.MultiRNNCell(cells)\n",
    "\n",
    "\n",
    "    # def RNN(x, weights, biases):\n",
    "\n",
    "    with tf.name_scope(\"Embedding_Layer\"):\n",
    "        C_ = tf.Variable(tf.random_uniform([vocab_size, n_hidden],\n",
    "                                           -1.0, 1.0), name=\"C\")\n",
    "        # embedding_lookup gives shape (batch_size, N, M)\n",
    "        x_ = tf.reshape(tf.nn.embedding_lookup(C_, ids_), \n",
    "                        [-1, n_steps, n_input*n_hidden], name=\"x\")\n",
    "\n",
    "\n",
    "    #     with tf.variable_scope(\"first_lstm\"+str(randint(0, 1000))):\n",
    "    with tf.name_scope(\"Recurrent_Layer\"):\n",
    "        # Define a lstm cell with tensorflow\n",
    "    #         lstm_cell = tf.contrib.rnn.LSTMCell(n_hidden, state_is_tuple=True)\n",
    "            lstm_cell = MakeFancyRNNCell(n_hidden, keep_prob = 1.0, num_layers=n_layer)\n",
    "        # Get lstm cell output\n",
    "            outputs, states = tf.nn.dynamic_rnn(lstm_cell, x_, dtype=tf.float32)\n",
    "\n",
    "    # Linear activation, using rnn inner loop last output\n",
    "    with tf.name_scope(\"Output_Layer\"):\n",
    "        outputs=tf.transpose(outputs,[1,0,2])\n",
    "\n",
    "        last_output = tf.gather(outputs,int(outputs.shape[0])-1)\n",
    "        logits_ = tf.nn.softmax(tf.matmul(outputs[-1], weights['out']) + biases['out'])\n",
    "\n",
    "\n",
    "    #############################\n",
    "    ### LOSS AND OPTIMIZATION ###\n",
    "    #############################\n",
    "\n",
    "    with tf.name_scope(\"Cost_Function\"):\n",
    "        per_example_train_loss_ = tf.nn.softmax_cross_entropy_with_logits(\n",
    "            logits=logits_, labels=y, name=\"per_example_train_loss\")\n",
    "        cost = tf.reduce_mean(per_example_train_loss_, name=\"loss\")\n",
    "    with tf.name_scope(\"Training\"):\n",
    "        optimizer = tf.train.AdamOptimizer(learning_rate=learning_rate).minimize(cost)\n",
    "\n",
    "\n",
    "    ##################\n",
    "    ### EVALUATION ###\n",
    "    ################## \n",
    "    with tf.name_scope(\"Prediction\"):\n",
    "        pred_ = 1-tf.argmax(logits_,1)\n",
    "        actual_labels_ = 1-tf.argmax(y,1)\n",
    "        correct_pred_ = tf.equal(pred_, actual_labels_)\n",
    "    with tf.name_scope(\"Scoring\"):\n",
    "        accuracy_ = tf.reduce_mean(tf.cast(correct_pred_, tf.float32))\n",
    "\n",
    "\n",
    "\n",
    "    #################\n",
    "    ### RUN GRAPH ###\n",
    "    #################\n",
    "\n",
    "    # Initializing the variables\n",
    "    init = tf.global_variables_initializer()\n",
    "    \n",
    "    \n",
    "    with tf.Session() as sess:\n",
    "        sess.run(init)\n",
    "        step = 1\n",
    "        iters=[]\n",
    "        costs=[]\n",
    "        accs=[]\n",
    "        f1s=[]\n",
    "        precisions=[]\n",
    "        recalls=[]\n",
    "        iterator = PaddedDataIterator(train_df)\n",
    "\n",
    "        # Keep training until reach max iterations\n",
    "        while step * batch_size < training_iters:\n",
    "\n",
    "            ##########################\n",
    "            ### GENERATE BATCH X,Y ###\n",
    "            ##########################\n",
    "            batch_x, batch_y_1 = iterator.next_batch(batch_size,sentence_size)\n",
    "            batch_y = np.concatenate((batch_y_1.reshape([-1,1]), 1-batch_y_1.reshape([-1,1])), axis=1)\n",
    "            batch_x = batch_x.reshape((batch_size, n_steps, n_input))\n",
    "\n",
    "\n",
    "            ################\n",
    "            ### TRAINING ###\n",
    "            ################\n",
    "            out = sess.run(outputs,feed_dict={ids_: batch_x})\n",
    "\n",
    "            sess.run(optimizer, feed_dict={ids_: batch_x, y: batch_y})\n",
    "\n",
    "            #################\n",
    "            ### REPORTING ###\n",
    "            #################\n",
    "\n",
    "            if step % display_step == 0:\n",
    "                # Calculate batch accuracy, loss\n",
    "                acc,loss = sess.run([accuracy_,cost], feed_dict={ids_: batch_x, y: batch_y})\n",
    "                iters.append(step*batch_size)\n",
    "                costs.append(loss)\n",
    "                accs.append(acc)\n",
    "\n",
    "\n",
    "            step += 1\n",
    "        print(\"Optimization Finished!\")\n",
    "\n",
    "        ##########################\n",
    "        ### EVALUATE WITH DEV DATA ###\n",
    "        ##########################    \n",
    "\n",
    "        batch_x_dev_1, batch_y_1_dev = PaddedDataIterator(dev_df).next_batch(len(dev_df),sentence_size)\n",
    "        batch_x_dev = batch_x_dev_1.reshape([-1,n_steps, n_input])\n",
    "        batch_y_dev = np.concatenate((batch_y_1_dev.reshape([-1,1]), 1-batch_y_1_dev.reshape([-1,1])), axis=1)\n",
    "\n",
    "        dev_pred,dev_acc_labels,dev_acc, dev_cost,logits = sess.run(\n",
    "            [pred_,actual_labels_,accuracy_, cost,logits_],\n",
    "            feed_dict={ids_: batch_x_dev, y: batch_y_dev})\n",
    "        precision = sk.metrics.precision_score(dev_acc_labels, dev_pred)\n",
    "        recall = sk.metrics.recall_score(dev_acc_labels, dev_pred)\n",
    "        f1 = sk.metrics.f1_score(dev_acc_labels, dev_pred)\n",
    "\n",
    "        return (learning_rate ,training_iters ,batch_size ,sentence_size  ,n_hidden,n_layer),\\\n",
    "                (dev_acc,dev_cost,f1,precision,recall)"
   ]
  },
  {
   "cell_type": "code",
   "execution_count": 43,
   "metadata": {
    "collapsed": false
   },
   "outputs": [
    {
     "name": "stdout",
     "output_type": "stream",
     "text": [
      "Optimization Finished!\n"
     ]
    }
   ],
   "source": [
    "from itertools import product\n",
    "\n",
    "learning_rate = [0.01, 0.01]\n",
    "training_iters = [100000,200000]\n",
    "batch_size = [100] \n",
    "sentence_size =[30,50,100]\n",
    "n_hidden = [20,50]\n",
    "n_layer = [1,2,3]\n",
    "dic= {}\n",
    "for learning_rate_v, training_iters_v,batch_size_v,sentence_size_v,n_hidden_v,n_layer_v \\\n",
    "    in product(learning_rate, training_iters ,batch_size,sentence_size,n_hidden,n_layer):\n",
    "    a,b = run_LSTM(learning_rate_v, training_iters_v,batch_size_v,sentence_size_v,n_hidden_v,n_layer_v)\n",
    "    dic[a]=b"
   ]
  },
  {
   "cell_type": "code",
   "execution_count": null,
   "metadata": {
    "collapsed": true
   },
   "outputs": [],
   "source": []
  }
 ],
 "metadata": {
  "kernelspec": {
   "display_name": "Python 2",
   "language": "python",
   "name": "python2"
  },
  "language_info": {
   "codemirror_mode": {
    "name": "ipython",
    "version": 2
   },
   "file_extension": ".py",
   "mimetype": "text/x-python",
   "name": "python",
   "nbconvert_exporter": "python",
   "pygments_lexer": "ipython2",
   "version": "2.7.13"
  }
 },
 "nbformat": 4,
 "nbformat_minor": 2
}
