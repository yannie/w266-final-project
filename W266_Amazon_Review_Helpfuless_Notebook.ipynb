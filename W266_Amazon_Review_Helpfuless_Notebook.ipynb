{
 "cells": [
  {
   "cell_type": "markdown",
   "metadata": {},
   "source": [
    "# W266 Final Project - Predicting Amazon Review Helpfulness"
   ]
  },
  {
   "cell_type": "markdown",
   "metadata": {},
   "source": [
    "Annie Lee, annie.y.lee@berkeley.edu\n",
    "\n",
    "Le Gu, legu@berkeley.edu "
   ]
  },
  {
   "cell_type": "markdown",
   "metadata": {},
   "source": [
    "# Overview"
   ]
  },
  {
   "cell_type": "markdown",
   "metadata": {},
   "source": [
    "In this notebook, we tested out several machine learning approaches for predicting the usefulness of customer reviews, specifically online product reviews. We work with the Amazon Product Review dataset and focus on applying NLP techniques and building deep learning models, such as RNN and LSTM, to improve the prediction accuracy. \n",
    "  \n"
   ]
  },
  {
   "cell_type": "markdown",
   "metadata": {},
   "source": [
    "We chose to focus on a subset of the <a href=\"http://jmcauley.ucsd.edu/data/amazon/\">Amazon Product Data</a>. Specifically, we use reviews for products from the Clothing, Shoes and Jewelry category, which consists of 278,677 Amazon reviews. Each review consists of 7 fields: reviewer id, product id, helpfulness rating, review text, star rating, summary of review, and review time. In this section, we cover a few of the interesting characteristics of our dataset."
   ]
  },
  {
   "cell_type": "markdown",
   "metadata": {},
   "source": [
    "# 1. Set up"
   ]
  },
  {
   "cell_type": "markdown",
   "metadata": {},
   "source": [
    "## 1.1 Environment"
   ]
  },
  {
   "cell_type": "code",
   "execution_count": 57,
   "metadata": {
    "collapsed": true
   },
   "outputs": [],
   "source": [
    "# Imports\n",
    "import pandas as pd\n",
    "import numpy as np\n",
    "import gzip\n",
    "import time\n",
    "import matplotlib.pyplot as plt\n",
    "import matplotlib\n",
    "matplotlib.style.use('ggplot')\n",
    "\n",
    "# Sklearn libraries.\n",
    "from sklearn import datasets, linear_model, ensemble, metrics\n",
    "from sklearn.feature_extraction.text import TfidfVectorizer, CountVectorizer\n",
    "\n",
    "import nltk\n",
    "from nltk.corpus import stopwords\n",
    "import string\n",
    "\n",
    "from collections import Counter\n",
    "#deep learning library\n",
    "\n",
    "import json, os, re, shutil, sys, time\n",
    "import collections, itertools\n",
    "import unittest\n",
    "from IPython.display import display, HTML\n",
    "\n",
    "# NLTK for NLP utils and corpora\n",
    "import nltk\n",
    "\n",
    "# NumPy and TensorFlow\n",
    "import numpy as np\n",
    "import tensorflow as tf\n",
    "assert(tf.__version__.startswith(\"1.\"))\n",
    "\n",
    "# utils.pretty_print_matrix uses Pandas. Configure float format here.\n",
    "import pandas as pd\n",
    "pd.set_option('float_format', lambda f: \"{0:.04f}\".format(f))\n",
    "\n",
    "# Helper libraries\n",
    "from shared_lib import utils, vocabulary, tf_embed_viz\n",
    "\n",
    "from random import randint\n",
    "from numpy import random\n",
    "from numpy.random import multinomial\n",
    "\n",
    "random.seed(10)\n",
    "import utils, vocabulary\n",
    "from itertools import product\n"
   ]
  },
  {
   "cell_type": "markdown",
   "metadata": {},
   "source": [
    "## 1.2 Read Data"
   ]
  },
  {
   "cell_type": "code",
   "execution_count": 58,
   "metadata": {
    "collapsed": true
   },
   "outputs": [],
   "source": [
    "# Unzip gz file.\n",
    "def parse(path):\n",
    "    g = gzip.open(path, 'rb')\n",
    "    for l in g:\n",
    "        yield eval(l)\n",
    "\n",
    "# Load JSON into dataframe.\n",
    "def getDF(path):\n",
    "    i = 0\n",
    "    df = {}\n",
    "    for d in parse(path):\n",
    "        df[i] = d\n",
    "        i += 1\n",
    "    return pd.DataFrame.from_dict(df, orient='index')"
   ]
  },
  {
   "cell_type": "code",
   "execution_count": 59,
   "metadata": {
    "collapsed": false
   },
   "outputs": [
    {
     "name": "stdout",
     "output_type": "stream",
     "text": [
      "Time Used 43.671832s\n"
     ]
    }
   ],
   "source": [
    "start = time.time()\n",
    "df = getDF('/home/legu/data/reviews_Clothing_Shoes_and_Jewelry_5.json.gz')\n",
    "end = time.time()\n",
    "print(\"Time Used %fs\" %(end - start))"
   ]
  },
  {
   "cell_type": "code",
   "execution_count": 66,
   "metadata": {
    "collapsed": true
   },
   "outputs": [],
   "source": [
    "df['index_col'] = df.index"
   ]
  },
  {
   "cell_type": "markdown",
   "metadata": {},
   "source": [
    "## 1.3 Data Wrangling"
   ]
  },
  {
   "cell_type": "markdown",
   "metadata": {},
   "source": [
    "### 1.3.1 Data transformation"
   ]
  },
  {
   "cell_type": "code",
   "execution_count": 60,
   "metadata": {
    "collapsed": true
   },
   "outputs": [],
   "source": [
    "helpfulness = []\n",
    "total_votes = []\n",
    "for i in df['helpful']:\n",
    "    if i[1] == 0:\n",
    "        helpfulness.append(np.nan)\n",
    "        total_votes.append(np.nan)\n",
    "    else:\n",
    "        helpfulness.append(float(i[0])/i[1])\n",
    "        total_votes.append(i[1])\n",
    "        \n",
    "# Convert to numpy array.\n",
    "helpfulness = np.array(helpfulness)\n",
    "total_votes = np.array(total_votes)"
   ]
  },
  {
   "cell_type": "markdown",
   "metadata": {},
   "source": [
    "### 1.3.2 Remove wrong/nan entries"
   ]
  },
  {
   "cell_type": "code",
   "execution_count": 61,
   "metadata": {
    "collapsed": false
   },
   "outputs": [
    {
     "name": "stdout",
     "output_type": "stream",
     "text": [
      "reviewerID                                           A353U0L2HAMSHV\n",
      "asin                                                     B000JD2614\n",
      "reviewerName                   Cricket \"Living life and loving it!\"\n",
      "helpful                                                      [4, 2]\n",
      "unixReviewTime                                           1234828800\n",
      "reviewText        I have been waiting for these to go on sale fo...\n",
      "overall                                                      5.0000\n",
      "reviewTime                                              02 17, 2009\n",
      "summary                                              A gift for me!\n",
      "Name: 30730, dtype: object\n"
     ]
    }
   ],
   "source": [
    "for i, row in df.iterrows():\n",
    "    helpful = row['helpful']\n",
    "    if helpful[0] > helpful[1]:\n",
    "        print(row)"
   ]
  },
  {
   "cell_type": "code",
   "execution_count": 65,
   "metadata": {
    "collapsed": false
   },
   "outputs": [
    {
     "data": {
      "text/html": [
       "<div>\n",
       "<table border=\"1\" class=\"dataframe\">\n",
       "  <thead>\n",
       "    <tr style=\"text-align: right;\">\n",
       "      <th></th>\n",
       "      <th>reviewerID</th>\n",
       "      <th>asin</th>\n",
       "      <th>reviewerName</th>\n",
       "      <th>helpful</th>\n",
       "      <th>unixReviewTime</th>\n",
       "      <th>reviewText</th>\n",
       "      <th>overall</th>\n",
       "      <th>reviewTime</th>\n",
       "      <th>summary</th>\n",
       "    </tr>\n",
       "  </thead>\n",
       "  <tbody>\n",
       "    <tr>\n",
       "      <th>0</th>\n",
       "      <td>A1KLRMWW2FWPL4</td>\n",
       "      <td>0000031887</td>\n",
       "      <td>Amazon Customer \"cameramom\"</td>\n",
       "      <td>[0, 0]</td>\n",
       "      <td>1297468800</td>\n",
       "      <td>This is a great tutu and at a really great pri...</td>\n",
       "      <td>5.0000</td>\n",
       "      <td>02 12, 2011</td>\n",
       "      <td>Great tutu-  not cheaply made</td>\n",
       "    </tr>\n",
       "    <tr>\n",
       "      <th>1</th>\n",
       "      <td>A2G5TCU2WDFZ65</td>\n",
       "      <td>0000031887</td>\n",
       "      <td>Amazon Customer</td>\n",
       "      <td>[0, 0]</td>\n",
       "      <td>1358553600</td>\n",
       "      <td>I bought this for my 4 yr old daughter for dan...</td>\n",
       "      <td>5.0000</td>\n",
       "      <td>01 19, 2013</td>\n",
       "      <td>Very Cute!!</td>\n",
       "    </tr>\n",
       "    <tr>\n",
       "      <th>2</th>\n",
       "      <td>A1RLQXYNCMWRWN</td>\n",
       "      <td>0000031887</td>\n",
       "      <td>Carola</td>\n",
       "      <td>[0, 0]</td>\n",
       "      <td>1357257600</td>\n",
       "      <td>What can I say... my daughters have it in oran...</td>\n",
       "      <td>5.0000</td>\n",
       "      <td>01 4, 2013</td>\n",
       "      <td>I have buy more than one</td>\n",
       "    </tr>\n",
       "    <tr>\n",
       "      <th>3</th>\n",
       "      <td>A8U3FAMSJVHS5</td>\n",
       "      <td>0000031887</td>\n",
       "      <td>Caromcg</td>\n",
       "      <td>[0, 0]</td>\n",
       "      <td>1398556800</td>\n",
       "      <td>We bought several tutus at once, and they are ...</td>\n",
       "      <td>5.0000</td>\n",
       "      <td>04 27, 2014</td>\n",
       "      <td>Adorable, Sturdy</td>\n",
       "    </tr>\n",
       "    <tr>\n",
       "      <th>4</th>\n",
       "      <td>A3GEOILWLK86XM</td>\n",
       "      <td>0000031887</td>\n",
       "      <td>CJ</td>\n",
       "      <td>[0, 0]</td>\n",
       "      <td>1394841600</td>\n",
       "      <td>Thank you Halo Heaven great product for Little...</td>\n",
       "      <td>5.0000</td>\n",
       "      <td>03 15, 2014</td>\n",
       "      <td>Grammy's Angels Love it</td>\n",
       "    </tr>\n",
       "  </tbody>\n",
       "</table>\n",
       "</div>"
      ],
      "text/plain": [
       "       reviewerID        asin                 reviewerName helpful  \\\n",
       "0  A1KLRMWW2FWPL4  0000031887  Amazon Customer \"cameramom\"  [0, 0]   \n",
       "1  A2G5TCU2WDFZ65  0000031887              Amazon Customer  [0, 0]   \n",
       "2  A1RLQXYNCMWRWN  0000031887                       Carola  [0, 0]   \n",
       "3   A8U3FAMSJVHS5  0000031887                      Caromcg  [0, 0]   \n",
       "4  A3GEOILWLK86XM  0000031887                           CJ  [0, 0]   \n",
       "\n",
       "   unixReviewTime                                         reviewText  overall  \\\n",
       "0      1297468800  This is a great tutu and at a really great pri...   5.0000   \n",
       "1      1358553600  I bought this for my 4 yr old daughter for dan...   5.0000   \n",
       "2      1357257600  What can I say... my daughters have it in oran...   5.0000   \n",
       "3      1398556800  We bought several tutus at once, and they are ...   5.0000   \n",
       "4      1394841600  Thank you Halo Heaven great product for Little...   5.0000   \n",
       "\n",
       "    reviewTime                        summary  \n",
       "0  02 12, 2011  Great tutu-  not cheaply made  \n",
       "1  01 19, 2013                    Very Cute!!  \n",
       "2   01 4, 2013       I have buy more than one  \n",
       "3  04 27, 2014               Adorable, Sturdy  \n",
       "4  03 15, 2014        Grammy's Angels Love it  "
      ]
     },
     "execution_count": 65,
     "metadata": {},
     "output_type": "execute_result"
    }
   ],
   "source": [
    "df.head()"
   ]
  },
  {
   "cell_type": "code",
   "execution_count": 67,
   "metadata": {
    "collapsed": false,
    "scrolled": true
   },
   "outputs": [],
   "source": [
    "#  remove the invalid entries\n",
    "helpfulness_clean = np.delete(helpfulness, 30730)\n",
    "doc = np.array(df['reviewText'])\n",
    "doc_clean = np.delete(doc, 30730)\n",
    "review_id = np.array(df['index_col'])\n",
    "review_id_clean = np.delete(review_id, 30730)\n",
    "# remove the nan values\n",
    "nonnan_doc_clean = doc_clean[~np.isnan(helpfulness_clean)]\n",
    "nonnan_helpfulness_clean = helpfulness_clean[~np.isnan(helpfulness_clean)]\n",
    "nonnan_review_id_clean = review_id_clean[~np.isnan(helpfulness_clean)]\n",
    "y = np.reshape(nonnan_helpfulness_clean,(-1,1))\n",
    "\n",
    "#binarize\n",
    "\n",
    "y_norm2 = np.argmax(np.concatenate((1-y,y), axis = 1),1)\n",
    "y_norm = 1-np.argmax(np.concatenate((y,1-y), axis = 1),1)"
   ]
  },
  {
   "cell_type": "markdown",
   "metadata": {},
   "source": [
    "# 2. Data Exploration"
   ]
  },
  {
   "cell_type": "markdown",
   "metadata": {},
   "source": [
    "## 2.1 Overview"
   ]
  },
  {
   "cell_type": "code",
   "execution_count": 8,
   "metadata": {
    "collapsed": false
   },
   "outputs": [
    {
     "name": "stdout",
     "output_type": "stream",
     "text": [
      "Index([u'reviewerID', u'asin', u'reviewerName', u'helpful', u'unixReviewTime',\n",
      "       u'reviewText', u'overall', u'reviewTime', u'summary'],\n",
      "      dtype='object')\n",
      "This is a great tutu and at a really great price. It doesn't look cheap at all. I'm so glad I looked on Amazon and found such an affordable tutu that isn't made poorly. A++\n"
     ]
    },
    {
     "data": {
      "text/html": [
       "<div>\n",
       "<table border=\"1\" class=\"dataframe\">\n",
       "  <thead>\n",
       "    <tr style=\"text-align: right;\">\n",
       "      <th></th>\n",
       "      <th>reviewerID</th>\n",
       "      <th>asin</th>\n",
       "      <th>reviewerName</th>\n",
       "      <th>helpful</th>\n",
       "      <th>unixReviewTime</th>\n",
       "      <th>reviewText</th>\n",
       "      <th>overall</th>\n",
       "      <th>reviewTime</th>\n",
       "      <th>summary</th>\n",
       "    </tr>\n",
       "  </thead>\n",
       "  <tbody>\n",
       "    <tr>\n",
       "      <th>0</th>\n",
       "      <td>A1KLRMWW2FWPL4</td>\n",
       "      <td>0000031887</td>\n",
       "      <td>Amazon Customer \"cameramom\"</td>\n",
       "      <td>[0, 0]</td>\n",
       "      <td>1297468800</td>\n",
       "      <td>This is a great tutu and at a really great pri...</td>\n",
       "      <td>5.0000</td>\n",
       "      <td>02 12, 2011</td>\n",
       "      <td>Great tutu-  not cheaply made</td>\n",
       "    </tr>\n",
       "    <tr>\n",
       "      <th>1</th>\n",
       "      <td>A2G5TCU2WDFZ65</td>\n",
       "      <td>0000031887</td>\n",
       "      <td>Amazon Customer</td>\n",
       "      <td>[0, 0]</td>\n",
       "      <td>1358553600</td>\n",
       "      <td>I bought this for my 4 yr old daughter for dan...</td>\n",
       "      <td>5.0000</td>\n",
       "      <td>01 19, 2013</td>\n",
       "      <td>Very Cute!!</td>\n",
       "    </tr>\n",
       "    <tr>\n",
       "      <th>2</th>\n",
       "      <td>A1RLQXYNCMWRWN</td>\n",
       "      <td>0000031887</td>\n",
       "      <td>Carola</td>\n",
       "      <td>[0, 0]</td>\n",
       "      <td>1357257600</td>\n",
       "      <td>What can I say... my daughters have it in oran...</td>\n",
       "      <td>5.0000</td>\n",
       "      <td>01 4, 2013</td>\n",
       "      <td>I have buy more than one</td>\n",
       "    </tr>\n",
       "    <tr>\n",
       "      <th>3</th>\n",
       "      <td>A8U3FAMSJVHS5</td>\n",
       "      <td>0000031887</td>\n",
       "      <td>Caromcg</td>\n",
       "      <td>[0, 0]</td>\n",
       "      <td>1398556800</td>\n",
       "      <td>We bought several tutus at once, and they are ...</td>\n",
       "      <td>5.0000</td>\n",
       "      <td>04 27, 2014</td>\n",
       "      <td>Adorable, Sturdy</td>\n",
       "    </tr>\n",
       "    <tr>\n",
       "      <th>4</th>\n",
       "      <td>A3GEOILWLK86XM</td>\n",
       "      <td>0000031887</td>\n",
       "      <td>CJ</td>\n",
       "      <td>[0, 0]</td>\n",
       "      <td>1394841600</td>\n",
       "      <td>Thank you Halo Heaven great product for Little...</td>\n",
       "      <td>5.0000</td>\n",
       "      <td>03 15, 2014</td>\n",
       "      <td>Grammy's Angels Love it</td>\n",
       "    </tr>\n",
       "  </tbody>\n",
       "</table>\n",
       "</div>"
      ],
      "text/plain": [
       "       reviewerID        asin                 reviewerName helpful  \\\n",
       "0  A1KLRMWW2FWPL4  0000031887  Amazon Customer \"cameramom\"  [0, 0]   \n",
       "1  A2G5TCU2WDFZ65  0000031887              Amazon Customer  [0, 0]   \n",
       "2  A1RLQXYNCMWRWN  0000031887                       Carola  [0, 0]   \n",
       "3   A8U3FAMSJVHS5  0000031887                      Caromcg  [0, 0]   \n",
       "4  A3GEOILWLK86XM  0000031887                           CJ  [0, 0]   \n",
       "\n",
       "   unixReviewTime                                         reviewText  overall  \\\n",
       "0      1297468800  This is a great tutu and at a really great pri...   5.0000   \n",
       "1      1358553600  I bought this for my 4 yr old daughter for dan...   5.0000   \n",
       "2      1357257600  What can I say... my daughters have it in oran...   5.0000   \n",
       "3      1398556800  We bought several tutus at once, and they are ...   5.0000   \n",
       "4      1394841600  Thank you Halo Heaven great product for Little...   5.0000   \n",
       "\n",
       "    reviewTime                        summary  \n",
       "0  02 12, 2011  Great tutu-  not cheaply made  \n",
       "1  01 19, 2013                    Very Cute!!  \n",
       "2   01 4, 2013       I have buy more than one  \n",
       "3  04 27, 2014               Adorable, Sturdy  \n",
       "4  03 15, 2014        Grammy's Angels Love it  "
      ]
     },
     "execution_count": 8,
     "metadata": {},
     "output_type": "execute_result"
    }
   ],
   "source": [
    "print df.columns\n",
    "\n",
    "print df['reviewText'][0]\n",
    "\n",
    "df.head(5)"
   ]
  },
  {
   "cell_type": "markdown",
   "metadata": {},
   "source": [
    "## 2.2 Helpful Votes"
   ]
  },
  {
   "cell_type": "code",
   "execution_count": 16,
   "metadata": {
    "collapsed": false
   },
   "outputs": [
    {
     "name": "stdout",
     "output_type": "stream",
     "text": [
      "average # votes for reviews with votes: 4.305961\n",
      "min # votes for reviews with votes: 1\n",
      "max # votes for reviews with votes: 1267\n"
     ]
    }
   ],
   "source": [
    "print \"average # votes for reviews with votes: %f\" %np.nanmean(total_votes)\n",
    "print \"min # votes for reviews with votes: %i\" %np.nanmin(total_votes)\n",
    "print \"max # votes for reviews with votes: %i\" %np.nanmax(total_votes)"
   ]
  },
  {
   "cell_type": "code",
   "execution_count": 19,
   "metadata": {
    "collapsed": false
   },
   "outputs": [
    {
     "data": {
      "image/png": "[encoded data removed]",
      "text/plain": [
       "<matplotlib.figure.Figure at 0x7f9566e7d590>"
      ]
     },
     "metadata": {},
     "output_type": "display_data"
    },
    {
     "data": {
      "image/png": "[encoded data removed]",
      "text/plain": [
       "<matplotlib.figure.Figure at 0x7f95678fd5d0>"
      ]
     },
     "metadata": {},
     "output_type": "display_data"
    }
   ],
   "source": [
    "# Create array that contains total votes per review with >0 votes.\n",
    "non_zero_total_votes = total_votes[np.isfinite(total_votes)]\n",
    "\n",
    "# Remove outlier.\n",
    "non_zero_total_votes_minus_outliers = non_zero_total_votes[np.where(non_zero_total_votes < 1267)]\n",
    "\n",
    "# Plot boxplot.\n",
    "plt.figure()\n",
    "plt.boxplot(non_zero_total_votes_minus_outliers)\n",
    "plt.title('# of Votes Distribution')\n",
    "# Plot histogram using log(total votes) due to right skewed distribution.\n",
    "plt.figure()\n",
    "plt.hist(np.log(non_zero_total_votes_minus_outliers))\n",
    "plt.title('# of Votes Histogram')\n",
    "plt.show()"
   ]
  },
  {
   "cell_type": "markdown",
   "metadata": {},
   "source": [
    "## 2.3 Helpfulness Score"
   ]
  },
  {
   "cell_type": "code",
   "execution_count": 9,
   "metadata": {
    "collapsed": false
   },
   "outputs": [
    {
     "name": "stdout",
     "output_type": "stream",
     "text": [
      "average helpfulness 0.780014\n",
      "number of reviews with helpfulness score: 87021\n",
      "total reviews:  278677\n",
      "percent of reviews with helpfulness score:  0.312264736595\n"
     ]
    }
   ],
   "source": [
    "print \"average helpfulness %f\" %np.nanmean(helpfulness)\n",
    "print \"number of reviews with helpfulness score: %i\" %np.count_nonzero(~np.isnan(helpfulness))\n",
    "print \"total reviews: \", len(df)\n",
    "print \"percent of reviews with helpfulness score: \", (np.count_nonzero(~np.isnan(helpfulness)) / float(len(df)))"
   ]
  },
  {
   "cell_type": "code",
   "execution_count": 14,
   "metadata": {
    "collapsed": false
   },
   "outputs": [
    {
     "data": {
      "image/png": "[encoded data removed]",
      "text/plain": [
       "<matplotlib.figure.Figure at 0x7f956588a390>"
      ]
     },
     "metadata": {},
     "output_type": "display_data"
    },
    {
     "data": {
      "image/png": "[encoded data removed]",
      "text/plain": [
       "<matplotlib.figure.Figure at 0x7f95648ed950>"
      ]
     },
     "metadata": {},
     "output_type": "display_data"
    }
   ],
   "source": [
    "# Plot boxplot.\n",
    "# nonnan_helpfulness = helpfulness[~np.isnan(helpfulness)]\n",
    "\n",
    "plt.figure()\n",
    "plt.boxplot(nonnan_helpfulness_clean)\n",
    "plt.title('Score Distribution')\n",
    "\n",
    "# Plot histogram\n",
    "plt.figure()\n",
    "plt.hist(nonnan_helpfulness_clean)\n",
    "plt.title('Score Histogram')\n",
    "plt.show()"
   ]
  },
  {
   "cell_type": "markdown",
   "metadata": {},
   "source": [
    "## 2.4 Review Length"
   ]
  },
  {
   "cell_type": "code",
   "execution_count": 20,
   "metadata": {
    "collapsed": false
   },
   "outputs": [
    {
     "name": "stdout",
     "output_type": "stream",
     "text": [
      "[ 172  306  312 ...,  914 1126 1295]\n",
      "average review length: 315\n",
      "min review length: 0\n",
      "max review length: 22646\n"
     ]
    }
   ],
   "source": [
    "# Compute review lengths.\n",
    "review_lengths = np.array([len(x) for x in df['reviewText']])\n",
    "print review_lengths\n",
    "print \"average review length: %i\" %np.mean(review_lengths)\n",
    "print \"min review length: %i\" %np.min(review_lengths)\n",
    "print \"max review length: %i\" %np.max(review_lengths)"
   ]
  },
  {
   "cell_type": "code",
   "execution_count": 23,
   "metadata": {
    "collapsed": false
   },
   "outputs": [
    {
     "data": {
      "image/png": "[encoded data removed]",
      "text/plain": [
       "<matplotlib.figure.Figure at 0x7f956b358a50>"
      ]
     },
     "metadata": {},
     "output_type": "display_data"
    },
    {
     "data": {
      "image/png": "[encoded data removed]",
      "text/plain": [
       "<matplotlib.figure.Figure at 0x7f956bb01b90>"
      ]
     },
     "metadata": {},
     "output_type": "display_data"
    }
   ],
   "source": [
    "# Remove outliers.\n",
    "review_lengths_minus_outliers = review_lengths[np.where(np.logical_and(review_lengths > 0, review_lengths < 10000))]\n",
    "\n",
    "# Plot boxplot.\n",
    "plt.figure()\n",
    "plt.boxplot(review_lengths_minus_outliers)\n",
    "plt.title('Review Character Length Distribution')\n",
    "# # Plot histogram using log(review length) due to right skewed distribution.\n",
    "plt.figure()\n",
    "plt.hist(np.log(review_lengths_minus_outliers))\n",
    "plt.title('Review Character Length  Distribution')\n",
    "plt.show()"
   ]
  },
  {
   "cell_type": "code",
   "execution_count": 27,
   "metadata": {
    "collapsed": false
   },
   "outputs": [
    {
     "data": {
      "text/plain": [
       "<matplotlib.figure.Figure at 0x7f9568337610>"
      ]
     },
     "metadata": {},
     "output_type": "display_data"
    },
    {
     "data": {
      "image/png": "[encoded data removed]",
      "text/plain": [
       "<matplotlib.figure.Figure at 0x7f95756777d0>"
      ]
     },
     "metadata": {},
     "output_type": "display_data"
    }
   ],
   "source": [
    "# Remove invalid and nan values.\n",
    "helpfulness_clean = np.delete(helpfulness, 30730)\n",
    "review_lengths_clean = np.delete(review_lengths, 30730)\n",
    "nonnan_helpfulness_clean = helpfulness_clean[~np.isnan(helpfulness_clean)]\n",
    "nonnan_review_lengths_clean = review_lengths_clean[~np.isnan(helpfulness_clean)]\n",
    "\n",
    "plt.figure()\n",
    "plt.scatter(nonnan_review_lengths_clean, nonnan_helpfulness_clean)\n",
    "plt.title(\"Helpfulness score by review length\")\n",
    "plt.show()"
   ]
  },
  {
   "cell_type": "code",
   "execution_count": 28,
   "metadata": {
    "collapsed": false
   },
   "outputs": [
    {
     "data": {
      "text/plain": [
       "0.054565284474689578"
      ]
     },
     "execution_count": 28,
     "metadata": {},
     "output_type": "execute_result"
    }
   ],
   "source": [
    "# Compute correlation.\n",
    "np.corrcoef(nonnan_review_lengths_clean, nonnan_helpfulness_clean)[1,0]"
   ]
  },
  {
   "cell_type": "code",
   "execution_count": 32,
   "metadata": {
    "collapsed": false
   },
   "outputs": [
    {
     "name": "stdout",
     "output_type": "stream",
     "text": [
      "average review length: 68\n",
      "median review length: 47\n",
      "min review length: 0\n",
      "max review length: 4571\n",
      "95th percentile:  186.0\n",
      "90th percentile:  136.0\n"
     ]
    }
   ],
   "source": [
    "review_word_lengths = np.array([len(utils.tokenize(x)) for x in df['reviewText']])\n",
    "non_zero_review_word_lengths = review_word_lengths[np.where(review_word_lengths > 0)]\n",
    "print \"average review length: %i\" %np.mean(review_word_lengths)\n",
    "print \"median review length: %i\" %np.median(review_word_lengths)\n",
    "print \"min review length: %i\" %np.min(review_word_lengths)\n",
    "print \"max review length: %i\" %np.max(review_word_lengths)\n",
    "print \"95th percentile: \", np.percentile(review_word_lengths, 95)\n",
    "print \"90th percentile: \", np.percentile(review_word_lengths, 90)"
   ]
  },
  {
   "cell_type": "code",
   "execution_count": 33,
   "metadata": {
    "collapsed": false
   },
   "outputs": [
    {
     "data": {
      "image/png": "[encoded data removed]",
      "text/plain": [
       "<matplotlib.figure.Figure at 0x7f9561ae0710>"
      ]
     },
     "metadata": {},
     "output_type": "display_data"
    },
    {
     "data": {
      "image/png": "[encoded data removed]",
      "text/plain": [
       "<matplotlib.figure.Figure at 0x7f956b25b950>"
      ]
     },
     "metadata": {},
     "output_type": "display_data"
    }
   ],
   "source": [
    "# Plot boxplot.\n",
    "plt.figure()\n",
    "plt.boxplot(non_zero_review_word_lengths)\n",
    "\n",
    "# # Plot histogram using log(review length) due to right skewed distribution.\n",
    "plt.figure()\n",
    "# plt.hist(non_zero_review_word_lengths)\n",
    "\n",
    "plt.xlabel('log(num words)')\n",
    "plt.ylabel('frequency')\n",
    "plt.title('Histogram of word counts')\n",
    "plt.hist(np.log(non_zero_review_word_lengths))\n",
    "\n",
    "plt.show()"
   ]
  },
  {
   "cell_type": "markdown",
   "metadata": {},
   "source": [
    "## 2.5 Review Score"
   ]
  },
  {
   "cell_type": "code",
   "execution_count": 71,
   "metadata": {
    "collapsed": false
   },
   "outputs": [
    {
     "name": "stdout",
     "output_type": "stream",
     "text": [
      "average review score: 4\n",
      "min review score: 1\n",
      "max review score: 5\n"
     ]
    }
   ],
   "source": [
    "review_scores = np.array(df['overall'])\n",
    "print (\"average review score: %i\" %np.mean(review_scores))\n",
    "print (\"min review score: %i\" %np.min(review_scores))\n",
    "print (\"max review score: %i\" %np.max(review_scores))"
   ]
  },
  {
   "cell_type": "code",
   "execution_count": 72,
   "metadata": {
    "collapsed": false
   },
   "outputs": [
    {
     "data": {
      "text/plain": [
       "<matplotlib.figure.Figure at 0x7f5b1c4ead10>"
      ]
     },
     "metadata": {},
     "output_type": "display_data"
    },
    {
     "data": {
      "text/plain": [
       "<matplotlib.figure.Figure at 0x7f5b1eb9b3d0>"
      ]
     },
     "metadata": {},
     "output_type": "display_data"
    },
    {
     "data": {
      "image/png": "[encoded data removed]",
      "text/plain": [
       "<matplotlib.figure.Figure at 0x7f5b1bb32310>"
      ]
     },
     "metadata": {},
     "output_type": "display_data"
    },
    {
     "data": {
      "image/png": "[encoded data removed]",
      "text/plain": [
       "<matplotlib.figure.Figure at 0x7f5b01c6df90>"
      ]
     },
     "metadata": {},
     "output_type": "display_data"
    }
   ],
   "source": [
    "# Plot boxplot.\n",
    "plt.figure()\n",
    "plt.boxplot(review_scores)\n",
    "\n",
    "# # Plot histogram.\n",
    "plt.figure()\n",
    "plt.hist(review_scores, bins=5)\n",
    "\n",
    "plt.show()"
   ]
  },
  {
   "cell_type": "code",
   "execution_count": 73,
   "metadata": {
    "collapsed": false
   },
   "outputs": [
    {
     "data": {
      "image/png": "[encoded data removed]",
      "text/plain": [
       "<matplotlib.figure.Figure at 0x7f5b1b7565d0>"
      ]
     },
     "metadata": {},
     "output_type": "display_data"
    }
   ],
   "source": [
    "# Remove invalid and nan values.\n",
    "review_scores_clean = np.delete(review_scores, 30730)\n",
    "nonnan_review_scores_clean = review_scores_clean[~np.isnan(helpfulness_clean)]\n",
    "\n",
    "# Print scatterplot of review length to helpfulness score.\n",
    "plt.figure()\n",
    "plt.scatter(nonnan_review_scores_clean, nonnan_helpfulness_clean)\n",
    "plt.title(\"Helpfulness score by review length\")\n",
    "plt.show()"
   ]
  },
  {
   "cell_type": "markdown",
   "metadata": {},
   "source": [
    "# 3. Data Input and Configuration"
   ]
  },
  {
   "cell_type": "markdown",
   "metadata": {},
   "source": [
    "## 3.1 DataSet Prep"
   ]
  },
  {
   "cell_type": "markdown",
   "metadata": {},
   "source": [
    "### 3.1.1 Prepare Training, Dev, and Test"
   ]
  },
  {
   "cell_type": "code",
   "execution_count": 74,
   "metadata": {
    "collapsed": true
   },
   "outputs": [],
   "source": [
    "n_total_samples = len(nonnan_doc_clean)# or whatever it is\n",
    "\n",
    "indices = np.arange(n_total_samples)\n",
    "inds_split = multinomial(n=1,\n",
    "                         pvals=[0.8, 0.1, 0.1],\n",
    "                         size=n_total_samples).argmax(axis=1)\n",
    "\n",
    "train_inds = indices[inds_split==0]\n",
    "test_inds  = indices[inds_split==1]\n",
    "dev_inds   = indices[inds_split==2]\n",
    "\n",
    "x_train = nonnan_doc_clean[train_inds]\n",
    "x_train_review_ids = nonnan_review_id_clean[train_inds]\n",
    "y_train = y[train_inds]\n",
    "y_train_norm = y_norm[train_inds]\n",
    "x_test = nonnan_doc_clean[test_inds]\n",
    "x_test_review_ids = nonnan_review_id_clean[test_inds]\n",
    "y_test = y[test_inds]\n",
    "y_test_norm = y_norm[test_inds]\n",
    "x_dev = nonnan_doc_clean[dev_inds]\n",
    "x_dev_review_ids = nonnan_review_id_clean[dev_inds]\n",
    "y_dev = y[dev_inds]\n",
    "y_dev_norm = y_norm[dev_inds]"
   ]
  },
  {
   "cell_type": "markdown",
   "metadata": {},
   "source": [
    "### 3.1.2 Downsampling"
   ]
  },
  {
   "cell_type": "code",
   "execution_count": 75,
   "metadata": {
    "collapsed": true
   },
   "outputs": [],
   "source": [
    "ind_0 = np.where(y_train_norm == 0)[0]\n",
    "ind_1 = np.where(y_train_norm == 1)[0]\n",
    "ind_downsamp = np.random.choice(ind_1,size = len(ind_0),replace =0)\n",
    "x_train_res= np.concatenate( [x_train[ind_downsamp] ,x_train[ind_0]],axis=0)\n",
    "y_train_res= np.concatenate( [y_train[ind_downsamp] ,y_train[ind_0]],axis=0)\n",
    "y_train_norm_res= np.concatenate( [y_train_norm[ind_downsamp] ,y_train_norm[ind_0]],axis=0)"
   ]
  },
  {
   "cell_type": "markdown",
   "metadata": {},
   "source": [
    "### 3.1.3 Upsampling"
   ]
  },
  {
   "cell_type": "code",
   "execution_count": 76,
   "metadata": {
    "collapsed": true
   },
   "outputs": [],
   "source": [
    "ind_0 = np.where(y_train_norm == 0)[0]\n",
    "ind_1 = np.where(y_train_norm == 1)[0]\n",
    "ind_upsamp = np.random.choice(ind_0,size = len(ind_1),replace =1)\n",
    "x_train_res= np.concatenate( [x_train[ind_upsamp] ,x_train[ind_1]],axis=0)\n",
    "y_train_res= np.concatenate( [y_train[ind_upsamp] ,y_train[ind_1]],axis=0)\n",
    "y_train_norm_res= np.concatenate( [y_train_norm[ind_upsamp] ,y_train_norm[ind_1]],axis=0)"
   ]
  },
  {
   "cell_type": "code",
   "execution_count": 77,
   "metadata": {
    "collapsed": false
   },
   "outputs": [
    {
     "data": {
      "image/png": "[encoded data removed]",
      "text/plain": [
       "<matplotlib.figure.Figure at 0x7f5ae2585c50>"
      ]
     },
     "metadata": {},
     "output_type": "display_data"
    },
    {
     "data": {
      "image/png": "[encoded data removed]",
      "text/plain": [
       "<matplotlib.figure.Figure at 0x7f5ae2b0bd10>"
      ]
     },
     "metadata": {},
     "output_type": "display_data"
    },
    {
     "name": "stdout",
     "output_type": "stream",
     "text": [
      "Training data set is of size 69646: there are 10195 0 lables, and 59451 1 labels. After upsampling, there are total 118902 samples\n"
     ]
    }
   ],
   "source": [
    "plt.figure(1, figsize=(10,5))\n",
    "\n",
    "plt.subplot(121)\n",
    "plt.hist(y_train_norm)\n",
    "plt.title('Original training data')\n",
    "plt.xlabel('helpfulness classification')\n",
    "plt.xticks(range(1, 2))\n",
    "\n",
    "plt.subplot(122)\n",
    "plt.hist(y_train_norm_res)\n",
    "plt.title('Upsampled training data')\n",
    "plt.xlabel('helpfulness classification')\n",
    "plt.xticks(range(1, 2))\n",
    "\n",
    "plt.figure(2)\n",
    "plt.subplot(121)\n",
    "plt.hist(y_dev_norm)\n",
    "plt.title('dev data')\n",
    "\n",
    "plt.subplot(122)\n",
    "plt.hist(y_test_norm)\n",
    "plt.title('test data')\n",
    "plt.show()\n",
    "\n",
    "\n",
    "\n",
    "print ('Training data set is of size %i: there are %i 0 lables, and %i 1 labels. After upsampling, there are total %i samples'\n",
    "       %(len(x_train),len(np.where(y_train_norm == 0)[0]),len(np.where(y_train_norm == 1)[0]),len(x_train_res)))\n"
   ]
  },
  {
   "cell_type": "markdown",
   "metadata": {},
   "source": [
    "## 3.2 Extract Features"
   ]
  },
  {
   "cell_type": "markdown",
   "metadata": {},
   "source": [
    "### 3.2.1 TF-IDF"
   ]
  },
  {
   "cell_type": "code",
   "execution_count": 32,
   "metadata": {
    "collapsed": false
   },
   "outputs": [],
   "source": [
    "token_dict_train = {}\n",
    "token_dict_test = {}\n",
    "\n",
    "def tokenize(text):\n",
    "    tokens = nltk.word_tokenize(text)\n",
    "    return tokens\n",
    "\n",
    "for i, text in enumerate(x_train_res):\n",
    "    lowers = text.lower()\n",
    "    no_punctuation = lowers.translate(None, string.punctuation)\n",
    "    token_dict_train[i] = no_punctuation\n",
    "\n",
    "for i, text in enumerate(x_test):\n",
    "    lowers = text.lower()\n",
    "    no_punctuation = lowers.translate(None, string.punctuation)\n",
    "    token_dict_test[i] = no_punctuation\n",
    "    \n",
    "#this can take some time\n",
    "tfidf = TfidfVectorizer(tokenizer=tokenize, stop_words='english')\n",
    "tfs_train = tfidf.fit_transform(token_dict_train.values())\n",
    "tfs_test = tfidf.transform(token_dict_test.values())\n"
   ]
  },
  {
   "cell_type": "code",
   "execution_count": 33,
   "metadata": {
    "collapsed": false
   },
   "outputs": [
    {
     "name": "stdout",
     "output_type": "stream",
     "text": [
      "(118902, 93061)\n",
      "(8717, 93061)\n",
      "118902\n",
      "8717\n"
     ]
    }
   ],
   "source": [
    "print(tfs_train.shape)\n",
    "print(tfs_test.shape)\n",
    "print(len(y_train_norm_res))\n",
    "print(len(y_test_norm))"
   ]
  },
  {
   "cell_type": "code",
   "execution_count": 34,
   "metadata": {
    "collapsed": false,
    "scrolled": true
   },
   "outputs": [
    {
     "name": "stdout",
     "output_type": "stream",
     "text": [
      "Shape of token_dict:  118902\n",
      "Shape of tfs:  (118902, 93061)\n",
      "  (0, 65541)\t0.200862892321\n",
      "  (0, 21853)\t0.196122149071\n",
      "  (0, 33296)\t0.252683901074\n",
      "  (0, 47963)\t0.157854073581\n",
      "  (0, 92727)\t0.333304607018\n",
      "  (0, 89299)\t0.245604132923\n",
      "  (0, 50079)\t0.267087611514\n",
      "  (0, 58683)\t0.381606246613\n",
      "  (0, 76944)\t0.409651492854\n",
      "  (0, 80658)\t0.30690278818\n",
      "  (0, 12721)\t0.310817716593\n",
      "  (0, 81527)\t0.29230009911\n",
      "these are really comfortable and they do feel like youre wearing nothing  they will make your package stick out but thats not a bad thing is it\n",
      "Items in vocab:  93061\n",
      "ID of tutu:  84885\n"
     ]
    }
   ],
   "source": [
    "print (\"Shape of token_dict: \", len(token_dict_train))\n",
    "print (\"Shape of tfs: \", tfs_train.shape)\n",
    "print (tfs_train[0,:] )#sparse matrix\n",
    "print (token_dict_train[0])\n",
    "print (\"Items in vocab: \", len(tfidf.vocabulary_))\n",
    "print (\"ID of tutu: \", tfidf.vocabulary_['tutu'])"
   ]
  },
  {
   "cell_type": "markdown",
   "metadata": {},
   "source": [
    "### 3.2.2 BOW"
   ]
  },
  {
   "cell_type": "code",
   "execution_count": 39,
   "metadata": {
    "collapsed": true
   },
   "outputs": [],
   "source": [
    "cv = CountVectorizer(tokenizer=tokenize, stop_words='english', dtype=np.float32, max_features=10000)\n",
    "cv_features_train = cv.fit_transform(token_dict_train.values())\n",
    "cv_features_test = cv.transform(token_dict_test.values())\n"
   ]
  },
  {
   "cell_type": "markdown",
   "metadata": {},
   "source": [
    "### 3.2.3 Word2Vec"
   ]
  },
  {
   "cell_type": "code",
   "execution_count": 78,
   "metadata": {
    "collapsed": false
   },
   "outputs": [],
   "source": [
    "class SimpleDataIterator():\n",
    "    def __init__(self, df):\n",
    "        self.df = df\n",
    "        self.size = len(self.df)\n",
    "        self.epochs = 0\n",
    "#         self.shuffle()\n",
    "        self.cursor = 0\n",
    "\n",
    "    def shuffle(self):\n",
    "        self.df = self.df.sample(frac=1).reset_index(drop=True)\n",
    "        self.cursor = 0\n",
    "\n",
    "    def next_batch(self, n):\n",
    "        if self.cursor+n-1 > self.size:\n",
    "            self.epochs += 1\n",
    "            self.shuffle()\n",
    "        res = self.df.ix[self.cursor:self.cursor+n-1]\n",
    "        self.cursor += n\n",
    "        return res['list_words'], res['label'] \n",
    "    \n"
   ]
  },
  {
   "cell_type": "code",
   "execution_count": 79,
   "metadata": {
    "collapsed": true
   },
   "outputs": [],
   "source": [
    "##this helps to make sure each sentence have the same length (max_len)\n",
    "class PaddedDataIterator(SimpleDataIterator):\n",
    "    def next_batch(self, n, max_len):\n",
    "        if self.cursor+n > self.size or self.cursor==0:\n",
    "            self.epochs += 1\n",
    "            self.shuffle()\n",
    "#             self.max_len = max_len\n",
    "        res = self.df.ix[self.cursor:self.cursor+n-1]\n",
    "        self.cursor += n\n",
    "\n",
    "        # Pad sequences with 0s so they are all the same length\n",
    "        maxlen = max_len\n",
    "        x = np.zeros([n, maxlen], dtype=np.int32)\n",
    "        for i, x_i in enumerate(x):\n",
    "            l=len(res['list_words'].values[i]) ##list length\n",
    "            if l>maxlen: \n",
    "                x_i[:maxlen] = res['list_words'].values[i][:max_len]\n",
    "            else:\n",
    "                x_i[:l] = res['list_words'].values[i][:l]\n",
    "\n",
    "        return x, np.asarray(res['label']) \n",
    "    def pad_sentences(self, max_len):\n",
    "        maxlen = max_len\n",
    "        x = np.zeros([len(self.df), maxlen], dtype=np.int32)\n",
    "        for i, x_i in enumerate(x):\n",
    "            l=len(self.df['list_words'].values[i]) ##list length\n",
    "            if l>maxlen: \n",
    "                x_i[:maxlen] = self.df['list_words'].values[i][:max_len]\n",
    "            else:\n",
    "                x_i[:l] = self.df['list_words'].values[i][:l]\n",
    "\n",
    "        return x, np.asarray(self.df['label'])"
   ]
  },
  {
   "cell_type": "markdown",
   "metadata": {},
   "source": [
    "#### 3.2.3.1 Simple Vector"
   ]
  },
  {
   "cell_type": "code",
   "execution_count": 80,
   "metadata": {
    "collapsed": true
   },
   "outputs": [],
   "source": [
    "def get_tokens(docs):\n",
    "    tokens =[]\n",
    "    for i in docs:\n",
    "        lowers = i.lower()\n",
    "        #remove the punctuation using the character deletion step of translate\n",
    "        no_punctuation = lowers.translate(None, string.punctuation)\n",
    "        token = nltk.word_tokenize(no_punctuation)\n",
    "        tokens.extend(token)\n",
    "    return tokens\n",
    "\n",
    "V = 10000\n",
    "def build_dataset(words):\n",
    "    \n",
    "    # Leave the last index for all other words.\n",
    "    count = collections.Counter(words).most_common(V-1)\n",
    "    dictionary = dict()\n",
    "    for word, _ in count:\n",
    "        dictionary[word] = len(dictionary)\n",
    "    reverse_dictionary = dict(zip(dictionary.values(), dictionary.keys()))\n",
    "    return dictionary, reverse_dictionary\n",
    "\n",
    "def transform_words_to_index(words, dictionary):\n",
    "    #build sample data\n",
    "    ids = []\n",
    "    for i in words:\n",
    "        lowers = i.lower()\n",
    "        #remove the punctuation using the character deletion step of translate\n",
    "        no_punctuation = lowers.translate(None, string.punctuation)\n",
    "        token = nltk.word_tokenize(no_punctuation)\n",
    "        j = []\n",
    "        for w in token:\n",
    "            if w in dictionary:\n",
    "                j.append(dictionary[w])\n",
    "            # Set token_id to vocab size - 1 if word not in top words\n",
    "            # since this is zero indexed.\n",
    "            else:\n",
    "                j.append(V-1)\n",
    "        ids.append(j)\n",
    "    return ids"
   ]
  },
  {
   "cell_type": "code",
   "execution_count": 81,
   "metadata": {
    "collapsed": false
   },
   "outputs": [],
   "source": [
    "tokens = get_tokens(x_train_res)\n",
    "dic, rev_dict = build_dataset(tokens)"
   ]
  },
  {
   "cell_type": "code",
   "execution_count": 82,
   "metadata": {
    "collapsed": true
   },
   "outputs": [],
   "source": [
    "x_train_res_ids = transform_words_to_index(x_train_res, dic)\n",
    "x_dev_ids = transform_words_to_index(x_dev, dic)\n",
    "x_test_ids = transform_words_to_index(x_test, dic)"
   ]
  },
  {
   "cell_type": "code",
   "execution_count": 83,
   "metadata": {
    "collapsed": true
   },
   "outputs": [],
   "source": [
    "#combine the list of words index and label into a dataframe\n",
    "train_df = pd.DataFrame(np.column_stack([x_train_res_ids,y_train_norm_res]), \n",
    "                        columns=['list_words', 'label'])\n",
    "train_df = train_df.astype(dtype={'list_words': 'object', 'label': 'int64'})\n",
    "#combine the list of words index and label into a dataframe\n",
    "dev_df = pd.DataFrame(np.column_stack([x_dev_ids,y_dev_norm]), \n",
    "                               columns=['list_words', 'label'])\n",
    "dev_df = dev_df.astype(dtype={'list_words': 'object', 'label': 'int64'})\n",
    "#combine the list of words index and label into a dataframe\n",
    "test_df = pd.DataFrame(np.column_stack([x_test_ids,y_test_norm]), \n",
    "                               columns=['list_words', 'label'])\n",
    "test_df = test_df.astype(dtype={'list_words': 'object', 'label': 'int64'})"
   ]
  },
  {
   "cell_type": "code",
   "execution_count": 84,
   "metadata": {
    "collapsed": false
   },
   "outputs": [
    {
     "data": {
      "text/html": [
       "<div>\n",
       "<table border=\"1\" class=\"dataframe\">\n",
       "  <thead>\n",
       "    <tr style=\"text-align: right;\">\n",
       "      <th></th>\n",
       "      <th>list_words</th>\n",
       "      <th>label</th>\n",
       "    </tr>\n",
       "  </thead>\n",
       "  <tbody>\n",
       "    <tr>\n",
       "      <th>0</th>\n",
       "      <td>[18, 14, 53, 55, 2, 12, 69, 115, 27, 339, 104,...</td>\n",
       "      <td>0</td>\n",
       "    </tr>\n",
       "    <tr>\n",
       "      <th>1</th>\n",
       "      <td>[1, 21, 26, 313, 20, 9, 291, 1, 21, 660, 94, 1...</td>\n",
       "      <td>0</td>\n",
       "    </tr>\n",
       "    <tr>\n",
       "      <th>2</th>\n",
       "      <td>[9999, 79, 3, 37, 150, 15, 2846, 25, 3, 1438, ...</td>\n",
       "      <td>0</td>\n",
       "    </tr>\n",
       "    <tr>\n",
       "      <th>3</th>\n",
       "      <td>[1, 187, 5, 21, 26, 631, 2, 76, 5, 7, 3, 597, ...</td>\n",
       "      <td>0</td>\n",
       "    </tr>\n",
       "    <tr>\n",
       "      <th>4</th>\n",
       "      <td>[1, 67, 0, 72, 7, 71, 3, 464, 124, 49, 0, 119,...</td>\n",
       "      <td>0</td>\n",
       "    </tr>\n",
       "  </tbody>\n",
       "</table>\n",
       "</div>"
      ],
      "text/plain": [
       "                                          list_words  label\n",
       "0  [18, 14, 53, 55, 2, 12, 69, 115, 27, 339, 104,...      0\n",
       "1  [1, 21, 26, 313, 20, 9, 291, 1, 21, 660, 94, 1...      0\n",
       "2  [9999, 79, 3, 37, 150, 15, 2846, 25, 3, 1438, ...      0\n",
       "3  [1, 187, 5, 21, 26, 631, 2, 76, 5, 7, 3, 597, ...      0\n",
       "4  [1, 67, 0, 72, 7, 71, 3, 464, 124, 49, 0, 119,...      0"
      ]
     },
     "execution_count": 84,
     "metadata": {},
     "output_type": "execute_result"
    }
   ],
   "source": [
    "train_df.head()"
   ]
  },
  {
   "cell_type": "markdown",
   "metadata": {},
   "source": [
    "#### 3.2.3.2 GloVe"
   ]
  },
  {
   "cell_type": "code",
   "execution_count": 26,
   "metadata": {
    "collapsed": false
   },
   "outputs": [
    {
     "name": "stdout",
     "output_type": "stream",
     "text": [
      "Loaded GloVe!\n"
     ]
    }
   ],
   "source": [
    "filename = '/home/legu/data/glove.6B.50d.txt'\n",
    "def loadGloVe(filename):\n",
    "    vocab = []\n",
    "    embd = []\n",
    "    vocab_dict = {}\n",
    "    file = open(filename,'r')\n",
    "    for line in file.readlines():\n",
    "        row = line.strip().split(' ')\n",
    "        vocab.append(row[0])\n",
    "        vocab_dict[row[0]] = len(vocab_dict)\n",
    "        embd.append(row[1:])\n",
    "    print('Loaded GloVe!')\n",
    "    file.close()\n",
    "    return vocab,embd,vocab_dict\n",
    "vocab,embd,dic_glove = loadGloVe(filename)\n",
    "vocab_size = len(vocab)\n",
    "embedding_dim = len(embd[0])\n",
    "embedding = np.asarray(embd)"
   ]
  },
  {
   "cell_type": "code",
   "execution_count": 27,
   "metadata": {
    "collapsed": true
   },
   "outputs": [],
   "source": [
    "def transform_words_to_index_glove(words, dictionary):\n",
    "    #build sample data\n",
    "    ids = []\n",
    "    for i in words:\n",
    "        lowers = i.lower()\n",
    "        #remove the punctuation using the character deletion step of translate\n",
    "        no_punctuation = lowers.translate(None, string.punctuation)\n",
    "        token = nltk.word_tokenize(no_punctuation)\n",
    "        j = []\n",
    "        for w in token:\n",
    "            if w in dictionary:\n",
    "                j.append(dictionary[w])\n",
    "            # Set token_id to vocab size - 1 if word not in top words\n",
    "            # since this is zero indexed.\n",
    "#             else:\n",
    "#                 j.append(V-1)\n",
    "        ids.append(j)\n",
    "    return ids"
   ]
  },
  {
   "cell_type": "code",
   "execution_count": 28,
   "metadata": {
    "collapsed": false
   },
   "outputs": [],
   "source": [
    "x_train_res_ids_glove = transform_words_to_index_glove(x_train_res, dic_glove)\n",
    "x_dev_ids_glove = transform_words_to_index_glove(x_dev, dic_glove)\n",
    "x_test_ids_glove = transform_words_to_index_glove(x_test, dic_glove)"
   ]
  },
  {
   "cell_type": "code",
   "execution_count": 29,
   "metadata": {
    "collapsed": true
   },
   "outputs": [],
   "source": [
    "#combine the list of words index and label into a dataframe\n",
    "train_df_glove = pd.DataFrame(np.column_stack([x_train_res,x_train_res_ids_glove,y_train_norm_res]), \n",
    "                        columns=['words','list_words', 'label'])\n",
    "train_df_glove = train_df_glove.astype(dtype={'words': 'object','list_words': 'object', 'label': 'int64'})\n",
    "#combine the list of words index and label into a dataframe\n",
    "dev_df_glove = pd.DataFrame(np.column_stack([x_dev, x_dev_ids_glove,y_dev_norm]), \n",
    "                             columns=['words','list_words', 'label'])\n",
    "dev_df_glove = dev_df_glove.astype(dtype={'words': 'object','list_words': 'object', 'label': 'int64'})\n",
    "#combine the list of words index and label into a dataframe\n",
    "test_df_glove = pd.DataFrame(np.column_stack([x_test,x_test_ids_glove,y_test_norm]), \n",
    "                               columns=['words','list_words', 'label'])\n",
    "test_df_glove = test_df_glove.astype(dtype={'words': 'object','list_words': 'object', 'label': 'int64'})"
   ]
  },
  {
   "cell_type": "markdown",
   "metadata": {},
   "source": [
    "# 4. Build Model"
   ]
  },
  {
   "cell_type": "markdown",
   "metadata": {},
   "source": [
    "## 4.1 Machine Learning Model"
   ]
  },
  {
   "cell_type": "markdown",
   "metadata": {},
   "source": [
    "### 4.1.1 Logistic Regression"
   ]
  },
  {
   "cell_type": "markdown",
   "metadata": {},
   "source": [
    "##### TF-IDF Features"
   ]
  },
  {
   "cell_type": "code",
   "execution_count": 37,
   "metadata": {
    "collapsed": false
   },
   "outputs": [
    {
     "name": "stdout",
     "output_type": "stream",
     "text": [
      "Coefficients:\n",
      "[[-0.30477808 -0.2946582  -0.12618387 ...,  0.07476122 -0.60590482\n",
      "   0.16658943]]\n",
      "             precision    recall  f1-score   support\n",
      "\n",
      "          0       0.22      0.45      0.30      1298\n",
      "          1       0.88      0.72      0.80      7419\n",
      "\n",
      "avg / total       0.79      0.68      0.72      8717\n",
      "\n"
     ]
    }
   ],
   "source": [
    "regr2 = linear_model.LogisticRegression()\n",
    "\n",
    "# Train the model using the training sets\n",
    "regr2.fit(tfs_train, y_train_norm_res)\n",
    "\n",
    "# make predictions\n",
    "predicted2 = regr2.predict(tfs_test)\n",
    "\n",
    "# The coefficients\n",
    "print ('Coefficients:',)\n",
    "print (regr2.coef_)\n",
    "# The mean squared error\n",
    "# print(\"Mean squared error: %.2f\"\n",
    "#       % np.mean((predicted2 - y_dev) ** 2))\n",
    "# Explained variance score: 1 is perfect prediction\n",
    "# print('Variance score: %.2f' % regr2.score(X_test, y_test_norm))\n",
    "print(metrics.classification_report(y_test_norm, predicted2))"
   ]
  },
  {
   "cell_type": "markdown",
   "metadata": {},
   "source": [
    "##### Word Count Vector"
   ]
  },
  {
   "cell_type": "code",
   "execution_count": 41,
   "metadata": {
    "collapsed": false
   },
   "outputs": [
    {
     "name": "stdout",
     "output_type": "stream",
     "text": [
      "Coefficients:\n",
      "[[-0.01055903  0.14219806 -1.5598744  ...,  0.69521415 -0.22971256\n",
      "   0.75078171]]\n",
      "Mean squared error: 0.36\n",
      "             precision    recall  f1-score   support\n",
      "\n",
      "          0       0.21      0.49      0.29      1298\n",
      "          1       0.88      0.67      0.76      7419\n",
      "\n",
      "avg / total       0.78      0.64      0.69      8717\n",
      "\n"
     ]
    }
   ],
   "source": [
    "cv_regr = linear_model.LogisticRegression()\n",
    "\n",
    "# Train the model using the training sets\n",
    "cv_regr.fit(cv_features_train, y_train_norm_res)\n",
    "# make predictions\n",
    "cv_predicted = cv_regr.predict(cv_features_test)\n",
    "\n",
    "# The coefficients\n",
    "print('Coefficients:')\n",
    "print (cv_regr.coef_)\n",
    "# The mean squared error\n",
    "print(\"Mean squared error: %.2f\"\n",
    "      % np.mean((cv_predicted - y_test_norm) ** 2))\n",
    "print(metrics.classification_report(y_test_norm, cv_predicted))"
   ]
  },
  {
   "cell_type": "markdown",
   "metadata": {},
   "source": [
    "## 4.2 Deep Learning"
   ]
  },
  {
   "cell_type": "code",
   "execution_count": 85,
   "metadata": {
    "collapsed": true
   },
   "outputs": [],
   "source": [
    "\"\"\"\n",
    "Simple demo of a scatter plot.\n",
    "\"\"\"\n",
    "import numpy as np\n",
    "import matplotlib.pyplot as plt\n",
    "\n",
    "def visualizeTraining(iters, costs, accs):\n",
    "\n",
    "    x = iters\n",
    "    y = costs\n",
    "    z = accs\n",
    "\n",
    "    plt.scatter(x, y )\n",
    "    plt.xlabel('iterations')\n",
    "    plt.ylabel('cost')\n",
    "    plt.show()\n",
    "\n",
    "    plt.scatter(x, z)\n",
    "    plt.xlabel('iterations')\n",
    "    plt.ylabel('accuracy')\n",
    "    plt.show()"
   ]
  },
  {
   "cell_type": "markdown",
   "metadata": {},
   "source": [
    "### 4.2.1 Simple NN"
   ]
  },
  {
   "cell_type": "markdown",
   "metadata": {},
   "source": [
    "##### Trained Embeddings"
   ]
  },
  {
   "cell_type": "code",
   "execution_count": 86,
   "metadata": {
    "collapsed": false
   },
   "outputs": [
    {
     "name": "stdout",
     "output_type": "stream",
     "text": [
      "(?, 5000)\n"
     ]
    }
   ],
   "source": [
    "'''\n",
    "Simple Model\n",
    "'''\n",
    "\n",
    "from __future__ import print_function\n",
    "\n",
    "import tensorflow as tf\n",
    "import sklearn as sk\n",
    "from tensorflow.contrib import rnn\n",
    "\n",
    "# Reset defaul graph.\n",
    "tf.reset_default_graph()\n",
    "tf.set_random_seed(42)\n",
    "\n",
    "######################## \n",
    "### MODEL PARAMETERS ###\n",
    "######################## \n",
    "\n",
    "# Network Parameters\n",
    "# Context window size (sentence length)\n",
    "N = 100\n",
    "# Embedding size\n",
    "M = 50\n",
    "# Hidden units\n",
    "H = 50 # hidden layer num of features\n",
    "n_classes = 2  \n",
    "V = 10000\n",
    "\n",
    "\n",
    "#################################\n",
    "### PLACEHOLDER AND GRAPH ###\n",
    "#################################\n",
    "\n",
    "with tf.name_scope(\"Inputs\"):\n",
    "    ids_ = tf.placeholder(tf.int64, [None, N], name=\"ids\")\n",
    "    y_ = tf.placeholder(tf.int64, [None], name=\"y\")\n",
    "\n",
    "with tf.name_scope(\"Embedding_Layer\"):\n",
    "    C_ = tf.Variable(tf.random_uniform([V, M],\n",
    "                                       -1.0, 1.0), name=\"C\")\n",
    "    # embedding_lookup gives shape (batch_size, N, M)\n",
    "    x_ = tf.reshape(tf.nn.embedding_lookup(C_, ids_), \n",
    "                    [-1, N*M], name=\"x\")\n",
    "    print(x_.shape)\n",
    "\n",
    "with tf.name_scope(\"Hidden_Layer\"):\n",
    "    W1_ = tf.Variable(tf.random_normal([N*M,H]), name=\"W1\")\n",
    "    b1_ = tf.Variable(tf.zeros([H,], dtype=tf.float32), name=\"b1\")\n",
    "    h_ = tf.tanh(tf.matmul(x_, W1_) + b1_, name=\"h\")\n",
    "\n",
    "with tf.name_scope(\"Output_Layer\"):\n",
    "    W2_ = tf.Variable(tf.random_normal([H,2]), name=\"W2\")\n",
    "    W3_ = tf.Variable(tf.random_normal([N*M,2]), name=\"W3\")\n",
    "    b3_ = tf.Variable(tf.zeros([2,], dtype=tf.float32), name=\"b3\")\n",
    "    # Concat [h x] and [W2 W3]\n",
    "    hx_ = tf.concat([h_, x_], 1, name=\"hx\")\n",
    "    W23_ = tf.concat([W2_, W3_], 0, name=\"W23\")\n",
    "    logits_ = tf.add(tf.matmul(hx_, W23_), b3_, name=\"logits\")\n",
    "\n",
    "\n",
    "#############################\n",
    "### LOSS AND OPTIMIZATION ###\n",
    "#############################\n",
    "\n",
    "with tf.name_scope(\"Cost_Function\"):\n",
    "    # Sampled softmax loss, for training\n",
    "    per_example_train_loss_ = tf.nn.sparse_softmax_cross_entropy_with_logits(labels=y_, logits=logits_,\n",
    "                                             name=\"per_example_train_loss_\")\n",
    "    train_loss_ = tf.reduce_mean(per_example_train_loss_, name=\"loss\")\n",
    "\n",
    "with tf.name_scope(\"Training\"):\n",
    "    alpha_ = tf.placeholder(tf.float32, name=\"learning_rate\")\n",
    "    optimizer_ = tf.train.AdamOptimizer(alpha_)\n",
    "    train_step_ = optimizer_.minimize(train_loss_)\n",
    "    \n",
    "##################\n",
    "### EVALUATION ###\n",
    "################## \n",
    "with tf.name_scope(\"Prediction\"):\n",
    "    pred_max_ = tf.argmax(logits_, 1, name=\"pred_max\")\n",
    "with tf.name_scope(\"Scoring\"):\n",
    "    correct_predictions_OP = tf.equal(pred_max_, y_)\n",
    "    accuracy_OP = tf.reduce_mean(tf.cast(correct_predictions_OP, \"float\"))\n",
    "\n",
    "# Initializing the variables\n",
    "init = tf.global_variables_initializer()"
   ]
  },
  {
   "cell_type": "code",
   "execution_count": 87,
   "metadata": {
    "collapsed": true
   },
   "outputs": [],
   "source": [
    "from tensorflow.contrib.tensorboard.plugins import projector\n",
    "\n",
    "def runSimpleNN(training_iters, batch_size, display_step, learning_rate):\n",
    "    LOG_DIR = 'logs'\n",
    "    \n",
    "    with tf.Session() as sess:\n",
    "#         saver = tf.train.Saver([C_])\n",
    "        sess.run(init)\n",
    "        step = 1\n",
    "        iters=[]\n",
    "        costs=[]\n",
    "        accs=[]\n",
    "        f1s=[]\n",
    "        precisions=[]\n",
    "        recalls=[]\n",
    "        iterator = PaddedDataIterator(train_df)\n",
    "\n",
    "        # Keep training until reach max iterations\n",
    "        while step * batch_size <= training_iters:\n",
    "\n",
    "            ##########################\n",
    "            ### GENERATE BATCH X,Y ###\n",
    "            ##########################\n",
    "            batch_x, batch_y = iterator.next_batch(batch_size,N)\n",
    "\n",
    "            ################\n",
    "            ### TRAINING ###\n",
    "            ################\n",
    "            cost, _, accuracy = sess.run([train_loss_, train_step_, accuracy_OP],\n",
    "                               feed_dict={ids_: batch_x, y_: batch_y,\n",
    "                                          alpha_: learning_rate})\n",
    "\n",
    "            #################\n",
    "            ### REPORTING ###\n",
    "            #################\n",
    "\n",
    "            if step % display_step == 0:\n",
    "                epoch = iterator.epochs\n",
    "                iters.append(step*batch_size)\n",
    "                costs.append(cost)\n",
    "                accs.append(accuracy)\n",
    "                print(\"[Epoch {:d}] \".format(epoch) + \\\n",
    "                      \"Iter \" + str(step*batch_size) + \", Minibatch Loss= \" + \\\n",
    "                      \"{:.6f}\".format(cost) + \", Accuracy= \" + \\\n",
    "                      \"{:.5f}\".format(accuracy))\n",
    "#                 saver.save(sess, os.path.join(LOG_DIR, 'embeddings.ckpt'), step)\n",
    "            step += 1\n",
    "        print(\"Optimization Finished!\")\n",
    "        \n",
    "##### For visualizing the embeddings. Commented out for now since it is causing the kernel to crash.\n",
    "#         # Format: tensorflow/tensorboard/plugins/projector/projector_config.proto\n",
    "#         config = projector.ProjectorConfig()\n",
    "\n",
    "#         # You can add multiple embeddings. Here we add only one.\n",
    "#         embedding = config.embeddings.add()\n",
    "#         embedding.tensor_name = C_.name\n",
    "#         # Link this tensor to its metadata file (e.g. labels).\n",
    "#         embedding.metadata_path = os.path.join(LOG_DIR, 'metadata.tsv')\n",
    "\n",
    "#         # Use the same LOG_DIR where you stored your checkpoint.\n",
    "#         summary_writer = tf.summary.FileWriter(LOG_DIR)\n",
    "\n",
    "#         # The next line writes a projector_config.pbtxt in the LOG_DIR. TensorBoard will\n",
    "#         # read this file during startup.\n",
    "#         projector.visualize_embeddings(summary_writer, config)\n",
    "\n",
    "        ##########################\n",
    "        ### EVALUATE WITH DEV DATA ###\n",
    "        ##########################    \n",
    "\n",
    "        batch_x_dev, batch_y_dev = PaddedDataIterator(dev_df).pad_sentences(N)\n",
    "        dev_pred, dev_acc, dev_cost,logits = sess.run(\n",
    "            [pred_max_,accuracy_OP, train_loss_,logits_],\n",
    "            feed_dict={ids_: batch_x_dev, y_: batch_y_dev})\n",
    "        print(sk.metrics.classification_report(batch_y_dev, dev_pred))\n",
    "        print (\"Dev Accuracy:\",dev_acc)\n",
    "        print(\"Dev cost:\",dev_cost)  \n",
    "\n",
    "        batch_x_test, batch_y_test = PaddedDataIterator(\n",
    "            test_df).pad_sentences(N)\n",
    "        test_pred,test_acc, test_cost, logits = sess.run(\n",
    "            [pred_max_, accuracy_OP, train_loss_,logits_],\n",
    "            feed_dict={ids_: batch_x_test, y_: batch_y_test})\n",
    "        print(sk.metrics.classification_report(batch_y_test, test_pred))\n",
    "        print (\"Test Accuracy:\",test_acc)\n",
    "        print(\"Test cost:\",test_cost)\n",
    "        \n",
    "        # Plot graphs.\n",
    "        plt.hist(dev_pred)\n",
    "        plt.title('dev pred data')\n",
    "        plt.show()\n",
    "\n",
    "        plt.hist(batch_y_dev)\n",
    "        plt.title('dev true data')\n",
    "        plt.show()\n",
    "\n",
    "\n",
    "        plt.scatter(logits[:,0],logits[:,1])\n",
    "        plt.title('dev logits data')\n",
    "        plt.show()\n",
    "\n",
    "        visualizeTraining(iters, costs, accs)\n",
    "        \n",
    "        return dev_pred, batch_y_dev"
   ]
  },
  {
   "cell_type": "code",
   "execution_count": 88,
   "metadata": {
    "collapsed": false,
    "scrolled": true
   },
   "outputs": [
    {
     "name": "stdout",
     "output_type": "stream",
     "text": [
      "[Epoch 1] Iter 2000, Minibatch Loss= 129.448151, Accuracy= 0.50200\n",
      "[Epoch 1] Iter 4000, Minibatch Loss= 22.944574, Accuracy= 0.54200\n",
      "[Epoch 1] Iter 6000, Minibatch Loss= 59.750900, Accuracy= 0.51800\n",
      "[Epoch 1] Iter 8000, Minibatch Loss= 21.212130, Accuracy= 0.53400\n",
      "[Epoch 1] Iter 10000, Minibatch Loss= 31.608482, Accuracy= 0.55700\n",
      "[Epoch 1] Iter 12000, Minibatch Loss= 14.800594, Accuracy= 0.57600\n",
      "[Epoch 1] Iter 14000, Minibatch Loss= 23.085945, Accuracy= 0.56200\n",
      "[Epoch 1] Iter 16000, Minibatch Loss= 15.686102, Accuracy= 0.60200\n",
      "[Epoch 1] Iter 18000, Minibatch Loss= 14.226986, Accuracy= 0.60100\n",
      "[Epoch 1] Iter 20000, Minibatch Loss= 16.231276, Accuracy= 0.61600\n",
      "[Epoch 1] Iter 22000, Minibatch Loss= 12.381762, Accuracy= 0.63100\n",
      "[Epoch 1] Iter 24000, Minibatch Loss= 13.314600, Accuracy= 0.59600\n",
      "[Epoch 1] Iter 26000, Minibatch Loss= 12.570360, Accuracy= 0.64800\n",
      "[Epoch 1] Iter 28000, Minibatch Loss= 9.645798, Accuracy= 0.66000\n",
      "[Epoch 1] Iter 30000, Minibatch Loss= 8.907782, Accuracy= 0.67300\n",
      "[Epoch 1] Iter 32000, Minibatch Loss= 9.689238, Accuracy= 0.68700\n",
      "[Epoch 1] Iter 34000, Minibatch Loss= 8.866861, Accuracy= 0.68900\n",
      "[Epoch 1] Iter 36000, Minibatch Loss= 8.971055, Accuracy= 0.67000\n",
      "[Epoch 1] Iter 38000, Minibatch Loss= 8.137403, Accuracy= 0.68900\n",
      "[Epoch 1] Iter 40000, Minibatch Loss= 7.049020, Accuracy= 0.72000\n",
      "[Epoch 1] Iter 42000, Minibatch Loss= 6.194393, Accuracy= 0.75600\n",
      "[Epoch 1] Iter 44000, Minibatch Loss= 6.260862, Accuracy= 0.72000\n",
      "[Epoch 1] Iter 46000, Minibatch Loss= 5.871799, Accuracy= 0.75200\n",
      "[Epoch 1] Iter 48000, Minibatch Loss= 6.030369, Accuracy= 0.73500\n",
      "[Epoch 1] Iter 50000, Minibatch Loss= 6.345348, Accuracy= 0.72700\n",
      "[Epoch 1] Iter 52000, Minibatch Loss= 5.632322, Accuracy= 0.74000\n",
      "[Epoch 1] Iter 54000, Minibatch Loss= 4.325382, Accuracy= 0.75100\n",
      "[Epoch 1] Iter 56000, Minibatch Loss= 4.872072, Accuracy= 0.73700\n",
      "[Epoch 1] Iter 58000, Minibatch Loss= 4.619812, Accuracy= 0.76200\n",
      "[Epoch 1] Iter 60000, Minibatch Loss= 4.467731, Accuracy= 0.76500\n",
      "[Epoch 1] Iter 62000, Minibatch Loss= 4.442578, Accuracy= 0.77100\n",
      "[Epoch 1] Iter 64000, Minibatch Loss= 4.321741, Accuracy= 0.78200\n",
      "[Epoch 1] Iter 66000, Minibatch Loss= 3.522092, Accuracy= 0.76300\n",
      "[Epoch 1] Iter 68000, Minibatch Loss= 3.473684, Accuracy= 0.79400\n",
      "[Epoch 1] Iter 70000, Minibatch Loss= 3.300999, Accuracy= 0.78300\n",
      "[Epoch 1] Iter 72000, Minibatch Loss= 3.605538, Accuracy= 0.80900\n",
      "[Epoch 1] Iter 74000, Minibatch Loss= 2.326497, Accuracy= 0.82200\n",
      "[Epoch 1] Iter 76000, Minibatch Loss= 2.760097, Accuracy= 0.81100\n",
      "[Epoch 1] Iter 78000, Minibatch Loss= 2.676889, Accuracy= 0.80500\n",
      "[Epoch 1] Iter 80000, Minibatch Loss= 3.024254, Accuracy= 0.78400\n",
      "[Epoch 1] Iter 82000, Minibatch Loss= 2.977785, Accuracy= 0.80200\n",
      "[Epoch 1] Iter 84000, Minibatch Loss= 3.023390, Accuracy= 0.82000\n",
      "[Epoch 1] Iter 86000, Minibatch Loss= 2.245649, Accuracy= 0.82200\n",
      "[Epoch 1] Iter 88000, Minibatch Loss= 2.294113, Accuracy= 0.83400\n",
      "[Epoch 1] Iter 90000, Minibatch Loss= 2.105958, Accuracy= 0.83900\n",
      "[Epoch 1] Iter 92000, Minibatch Loss= 2.271931, Accuracy= 0.83000\n",
      "[Epoch 1] Iter 94000, Minibatch Loss= 2.485998, Accuracy= 0.80900\n",
      "[Epoch 1] Iter 96000, Minibatch Loss= 1.989711, Accuracy= 0.83000\n",
      "[Epoch 1] Iter 98000, Minibatch Loss= 1.835313, Accuracy= 0.82700\n",
      "[Epoch 1] Iter 100000, Minibatch Loss= 1.870863, Accuracy= 0.83900\n",
      "[Epoch 1] Iter 102000, Minibatch Loss= 2.246447, Accuracy= 0.83600\n",
      "[Epoch 1] Iter 104000, Minibatch Loss= 1.337389, Accuracy= 0.85400\n",
      "[Epoch 1] Iter 106000, Minibatch Loss= 1.516465, Accuracy= 0.85000\n",
      "[Epoch 1] Iter 108000, Minibatch Loss= 1.934087, Accuracy= 0.84800\n",
      "[Epoch 1] Iter 110000, Minibatch Loss= 1.640272, Accuracy= 0.84300\n",
      "[Epoch 1] Iter 112000, Minibatch Loss= 1.610363, Accuracy= 0.83700\n",
      "[Epoch 1] Iter 114000, Minibatch Loss= 1.409819, Accuracy= 0.85800\n",
      "[Epoch 1] Iter 116000, Minibatch Loss= 1.642298, Accuracy= 0.85300\n",
      "[Epoch 1] Iter 118000, Minibatch Loss= 1.468073, Accuracy= 0.83000\n",
      "[Epoch 2] Iter 120000, Minibatch Loss= 0.791984, Accuracy= 0.89800\n",
      "[Epoch 2] Iter 122000, Minibatch Loss= 0.643953, Accuracy= 0.91600\n",
      "[Epoch 2] Iter 124000, Minibatch Loss= 0.674652, Accuracy= 0.89400\n",
      "[Epoch 2] Iter 126000, Minibatch Loss= 0.631585, Accuracy= 0.91200\n",
      "[Epoch 2] Iter 128000, Minibatch Loss= 0.800798, Accuracy= 0.90000\n",
      "[Epoch 2] Iter 130000, Minibatch Loss= 0.592722, Accuracy= 0.90100\n",
      "[Epoch 2] Iter 132000, Minibatch Loss= 0.766501, Accuracy= 0.90700\n",
      "[Epoch 2] Iter 134000, Minibatch Loss= 0.489748, Accuracy= 0.92900\n",
      "[Epoch 2] Iter 136000, Minibatch Loss= 0.632144, Accuracy= 0.89900\n",
      "[Epoch 2] Iter 138000, Minibatch Loss= 0.611973, Accuracy= 0.92600\n",
      "[Epoch 2] Iter 140000, Minibatch Loss= 0.580966, Accuracy= 0.92600\n",
      "[Epoch 2] Iter 142000, Minibatch Loss= 0.696324, Accuracy= 0.90900\n",
      "[Epoch 2] Iter 144000, Minibatch Loss= 0.641204, Accuracy= 0.91500\n",
      "[Epoch 2] Iter 146000, Minibatch Loss= 0.529938, Accuracy= 0.92600\n",
      "[Epoch 2] Iter 148000, Minibatch Loss= 0.625145, Accuracy= 0.92800\n",
      "[Epoch 2] Iter 150000, Minibatch Loss= 0.574188, Accuracy= 0.91900\n",
      "[Epoch 2] Iter 152000, Minibatch Loss= 0.398529, Accuracy= 0.93500\n",
      "[Epoch 2] Iter 154000, Minibatch Loss= 0.540034, Accuracy= 0.91900\n",
      "[Epoch 2] Iter 156000, Minibatch Loss= 0.466661, Accuracy= 0.93300\n",
      "[Epoch 2] Iter 158000, Minibatch Loss= 0.817854, Accuracy= 0.91800\n",
      "[Epoch 2] Iter 160000, Minibatch Loss= 0.557842, Accuracy= 0.92700\n",
      "[Epoch 2] Iter 162000, Minibatch Loss= 0.525229, Accuracy= 0.92300\n",
      "[Epoch 2] Iter 164000, Minibatch Loss= 0.523721, Accuracy= 0.91800\n",
      "[Epoch 2] Iter 166000, Minibatch Loss= 0.450325, Accuracy= 0.93000\n",
      "[Epoch 2] Iter 168000, Minibatch Loss= 0.666102, Accuracy= 0.92500\n",
      "[Epoch 2] Iter 170000, Minibatch Loss= 0.621822, Accuracy= 0.92500\n",
      "[Epoch 2] Iter 172000, Minibatch Loss= 0.652461, Accuracy= 0.91700\n",
      "[Epoch 2] Iter 174000, Minibatch Loss= 0.454402, Accuracy= 0.93300\n",
      "[Epoch 2] Iter 176000, Minibatch Loss= 0.346998, Accuracy= 0.92600\n",
      "[Epoch 2] Iter 178000, Minibatch Loss= 0.618938, Accuracy= 0.92800\n",
      "[Epoch 2] Iter 180000, Minibatch Loss= 0.587535, Accuracy= 0.91900\n",
      "[Epoch 2] Iter 182000, Minibatch Loss= 0.557069, Accuracy= 0.91100\n",
      "[Epoch 2] Iter 184000, Minibatch Loss= 0.724203, Accuracy= 0.92800\n",
      "[Epoch 2] Iter 186000, Minibatch Loss= 0.429854, Accuracy= 0.93800\n",
      "[Epoch 2] Iter 188000, Minibatch Loss= 0.550187, Accuracy= 0.91600\n",
      "[Epoch 2] Iter 190000, Minibatch Loss= 0.494339, Accuracy= 0.92600\n",
      "[Epoch 2] Iter 192000, Minibatch Loss= 0.486932, Accuracy= 0.94900\n",
      "[Epoch 2] Iter 194000, Minibatch Loss= 0.489094, Accuracy= 0.92100\n",
      "[Epoch 2] Iter 196000, Minibatch Loss= 0.368690, Accuracy= 0.93600\n",
      "[Epoch 2] Iter 198000, Minibatch Loss= 0.416273, Accuracy= 0.94000\n",
      "[Epoch 2] Iter 200000, Minibatch Loss= 0.520602, Accuracy= 0.92700\n",
      "[Epoch 2] Iter 202000, Minibatch Loss= 0.415210, Accuracy= 0.93300\n",
      "[Epoch 2] Iter 204000, Minibatch Loss= 0.364002, Accuracy= 0.94000\n",
      "[Epoch 2] Iter 206000, Minibatch Loss= 0.375743, Accuracy= 0.93600\n",
      "[Epoch 2] Iter 208000, Minibatch Loss= 0.340319, Accuracy= 0.94900\n",
      "[Epoch 2] Iter 210000, Minibatch Loss= 0.541872, Accuracy= 0.92600\n",
      "[Epoch 2] Iter 212000, Minibatch Loss= 0.572871, Accuracy= 0.91900\n",
      "[Epoch 2] Iter 214000, Minibatch Loss= 0.352301, Accuracy= 0.94100\n",
      "[Epoch 2] Iter 216000, Minibatch Loss= 0.477851, Accuracy= 0.94100\n",
      "[Epoch 2] Iter 218000, Minibatch Loss= 0.440766, Accuracy= 0.94500\n",
      "[Epoch 2] Iter 220000, Minibatch Loss= 0.443196, Accuracy= 0.93100\n",
      "[Epoch 2] Iter 222000, Minibatch Loss= 0.634136, Accuracy= 0.93100\n",
      "[Epoch 2] Iter 224000, Minibatch Loss= 0.418360, Accuracy= 0.95400\n",
      "[Epoch 2] Iter 226000, Minibatch Loss= 0.331060, Accuracy= 0.94900\n",
      "[Epoch 2] Iter 228000, Minibatch Loss= 0.463612, Accuracy= 0.93000\n",
      "[Epoch 2] Iter 230000, Minibatch Loss= 0.557213, Accuracy= 0.93800\n",
      "[Epoch 2] Iter 232000, Minibatch Loss= 0.382802, Accuracy= 0.93700\n",
      "[Epoch 2] Iter 234000, Minibatch Loss= 0.547096, Accuracy= 0.91900\n",
      "[Epoch 2] Iter 236000, Minibatch Loss= 0.559678, Accuracy= 0.92900\n",
      "Optimization Finished!\n",
      "             precision    recall  f1-score   support\n",
      "\n",
      "          0       0.22      0.21      0.21      1284\n",
      "          1       0.86      0.87      0.87      7373\n",
      "\n",
      "avg / total       0.77      0.77      0.77      8657\n",
      "\n",
      "Dev Accuracy: 0.770244\n",
      "Dev cost: 5.81491\n",
      "             precision    recall  f1-score   support\n",
      "\n",
      "          0       0.21      0.19      0.20      1298\n",
      "          1       0.86      0.87      0.87      7419\n",
      "\n",
      "avg / total       0.76      0.77      0.77      8717\n",
      "\n",
      "Test Accuracy: 0.770563\n",
      "Test cost: 5.5773\n"
     ]
    },
    {
     "data": {
      "image/png": "[encoded data removed]",
      "text/plain": [
       "<matplotlib.figure.Figure at 0x7f5b602536d0>"
      ]
     },
     "metadata": {},
     "output_type": "display_data"
    },
    {
     "data": {
      "image/png": "[encoded data removed]",
      "text/plain": [
       "<matplotlib.figure.Figure at 0x7f5b135a50d0>"
      ]
     },
     "metadata": {},
     "output_type": "display_data"
    },
    {
     "data": {
      "image/png": "[encoded data removed]",
      "text/plain": [
       "<matplotlib.figure.Figure at 0x7f5b1d640990>"
      ]
     },
     "metadata": {},
     "output_type": "display_data"
    },
    {
     "data": {
      "image/png": "[encoded data removed]",
      "text/plain": [
       "<matplotlib.figure.Figure at 0x7f5b1cc7d7d0>"
      ]
     },
     "metadata": {},
     "output_type": "display_data"
    },
    {
     "data": {
      "image/png": "[encoded data removed]",
      "text/plain": [
       "<matplotlib.figure.Figure at 0x7f5af1508e50>"
      ]
     },
     "metadata": {},
     "output_type": "display_data"
    }
   ],
   "source": [
    "training_iters = 236000\n",
    "batch_size = 1000\n",
    "display_step = 2\n",
    "learning_rate = 0.1\n",
    "dev_pred, batch_y_dev = runSimpleNN(training_iters, batch_size, display_step, learning_rate)"
   ]
  },
  {
   "cell_type": "code",
   "execution_count": null,
   "metadata": {
    "collapsed": true
   },
   "outputs": [],
   "source": []
  },
  {
   "cell_type": "markdown",
   "metadata": {},
   "source": [
    "##### GloVe Embeddings"
   ]
  },
  {
   "cell_type": "code",
   "execution_count": 34,
   "metadata": {
    "collapsed": true
   },
   "outputs": [],
   "source": [
    "'''\n",
    "Simple Model with GloVe Embedding\n",
    "'''\n",
    "\n",
    "from __future__ import print_function\n",
    "\n",
    "import tensorflow as tf\n",
    "import sklearn as sk\n",
    "from tensorflow.contrib import rnn\n",
    "\n",
    "# Reset defaul graph.\n",
    "tf.reset_default_graph()\n",
    "tf.set_random_seed(42)\n",
    "\n",
    "######################## \n",
    "### MODEL PARAMETERS ###\n",
    "######################## \n",
    "\n",
    "# Network Parameters\n",
    "# Context window size (sentence length)\n",
    "N = 50 #changed to the above max_document_length: 60\n",
    "# Embedding size\n",
    "M = embedding_dim ##changed to the glove dimension:50\n",
    "# Hidden units\n",
    "H = 50 # hidden layer num of features\n",
    "n_classes = 2  \n",
    "V = 10000\n",
    "\n",
    "\n",
    "#################################\n",
    "### PLACEHOLDER AND GRAPH ###\n",
    "#################################\n",
    "\n",
    "with tf.name_scope(\"Inputs\"):\n",
    "    ids_ = tf.placeholder(tf.int64, [None, N], name=\"ids\")\n",
    "    y_ = tf.placeholder(tf.int64, [None], name=\"y\")\n",
    "\n",
    "with tf.name_scope(\"Embedding_Layer\"):\n",
    "#     C_ = tf.Variable(tf.random_uniform([V, M],\n",
    "#                                        -1.0, 1.0), name=\"C\")\n",
    "    # embedding_lookup gives shape (batch_size, N, M)\n",
    "    W = tf.Variable(tf.constant(0.0, shape=[vocab_size, embedding_dim]),\n",
    "                trainable=False, name=\"W\")\n",
    "    embedding_placeholder = tf.placeholder(tf.float32, [vocab_size, embedding_dim])\n",
    "    embedding_init = W.assign(embedding_placeholder)\n",
    "\n",
    "    x_ = tf.reshape(tf.nn.embedding_lookup(W, ids_), \n",
    "                    [-1, N*M], name=\"x\")\n",
    "#     print(W[0])\n",
    "\n",
    "with tf.name_scope(\"Hidden_Layer\"):\n",
    "    W1_ = tf.Variable(tf.random_normal([N*M,H]), name=\"W1\")\n",
    "    b1_ = tf.Variable(tf.zeros([H,], dtype=tf.float32), name=\"b1\")\n",
    "    h_ = tf.tanh(tf.matmul(x_, W1_) + b1_, name=\"h\")\n",
    "\n",
    "with tf.name_scope(\"Output_Layer\"):\n",
    "    W2_ = tf.Variable(tf.random_normal([H,2]), name=\"W2\")\n",
    "    W3_ = tf.Variable(tf.random_normal([N*M,2]), name=\"W3\")\n",
    "    b3_ = tf.Variable(tf.zeros([2,], dtype=tf.float32), name=\"b3\")\n",
    "    # Concat [h x] and [W2 W3]\n",
    "    hx_ = tf.concat([h_, x_], 1, name=\"hx\")\n",
    "    W23_ = tf.concat([W2_, W3_], 0, name=\"W23\")\n",
    "    logits_ = tf.add(tf.matmul(hx_, W23_), b3_, name=\"logits\")\n",
    "\n",
    "\n",
    "#############################\n",
    "### LOSS AND OPTIMIZATION ###\n",
    "#############################\n",
    "\n",
    "with tf.name_scope(\"Cost_Function\"):\n",
    "    # Sampled softmax loss, for training\n",
    "    per_example_train_loss_ = tf.nn.sparse_softmax_cross_entropy_with_logits(labels=y_, logits=logits_,\n",
    "                                             name=\"per_example_train_loss_\")\n",
    "    train_loss_ = tf.reduce_mean(per_example_train_loss_, name=\"loss\")\n",
    "\n",
    "with tf.name_scope(\"Training\"):\n",
    "    alpha_ = tf.placeholder(tf.float32, name=\"learning_rate\")\n",
    "    optimizer_ = tf.train.AdamOptimizer(alpha_)\n",
    "    train_step_ = optimizer_.minimize(train_loss_)\n",
    "    \n",
    "##################\n",
    "### EVALUATION ###\n",
    "################## \n",
    "with tf.name_scope(\"Prediction\"):\n",
    "    pred_max_ = tf.argmax(logits_, 1, name=\"pred_max\")\n",
    "with tf.name_scope(\"Scoring\"):\n",
    "    correct_predictions_OP = tf.equal(pred_max_, y_)\n",
    "    accuracy_OP = tf.reduce_mean(tf.cast(correct_predictions_OP, \"float\"))\n",
    "\n",
    "# Initializing the variables\n",
    "init = tf.global_variables_initializer()"
   ]
  },
  {
   "cell_type": "code",
   "execution_count": 35,
   "metadata": {
    "collapsed": true
   },
   "outputs": [],
   "source": [
    "from tensorflow.contrib.tensorboard.plugins import projector\n",
    "\n",
    "def runSimpleNN(training_iters, batch_size, display_step, learning_rate):\n",
    "    LOG_DIR = 'logs'\n",
    "    \n",
    "    with tf.Session() as sess:\n",
    "#         saver = tf.train.Saver([C_])\n",
    "        sess.run(init)\n",
    "        step = 1\n",
    "        iters=[]\n",
    "        costs=[]\n",
    "        accs=[]\n",
    "        f1s=[]\n",
    "        precisions=[]\n",
    "        recalls=[]\n",
    "        iterator = PaddedDataIterator(train_df_glove)\n",
    "\n",
    "        # Keep training until reach max iterations\n",
    "        while step * batch_size <= training_iters:\n",
    "\n",
    "            ##########################\n",
    "            ### GENERATE BATCH X,Y ###\n",
    "            ##########################\n",
    "            batch_x, batch_y = iterator.next_batch(batch_size,N)\n",
    "\n",
    "            ################\n",
    "            ### TRAINING ###\n",
    "            ################\n",
    "            sess.run(embedding_init, feed_dict={embedding_placeholder: embedding})##added\n",
    "#             print (sess.run(W)[0])\n",
    "            cost, _, accuracy = sess.run([train_loss_, train_step_, accuracy_OP],\n",
    "                               feed_dict={ids_: batch_x, y_: batch_y,\n",
    "                                          alpha_: learning_rate})\n",
    "\n",
    "            #################\n",
    "            ### REPORTING ###\n",
    "            #################\n",
    "\n",
    "            if step % display_step == 0:\n",
    "                epoch = iterator.epochs\n",
    "                iters.append(step*batch_size)\n",
    "                costs.append(cost)\n",
    "                accs.append(accuracy)\n",
    "                print(\"[Epoch {:d}] \".format(epoch) + \\\n",
    "                      \"Iter \" + str(step*batch_size) + \", Minibatch Loss= \" + \\\n",
    "                      \"{:.6f}\".format(cost) + \", Accuracy= \" + \\\n",
    "                      \"{:.5f}\".format(accuracy))\n",
    "#                 saver.save(sess, os.path.join(LOG_DIR, 'embeddings.ckpt'), step)\n",
    "            step += 1\n",
    "        print(\"Optimization Finished!\")\n",
    "        \n",
    "##### For visualizing the embeddings. Commented out for now since it is causing the kernel to crash.\n",
    "#         # Format: tensorflow/tensorboard/plugins/projector/projector_config.proto\n",
    "#         config = projector.ProjectorConfig()\n",
    "\n",
    "#         # You can add multiple embeddings. Here we add only one.\n",
    "#         embedding = config.embeddings.add()\n",
    "#         embedding.tensor_name = C_.name\n",
    "#         # Link this tensor to its metadata file (e.g. labels).\n",
    "#         embedding.metadata_path = os.path.join(LOG_DIR, 'metadata.tsv')\n",
    "\n",
    "#         # Use the same LOG_DIR where you stored your checkpoint.\n",
    "#         summary_writer = tf.summary.FileWriter(LOG_DIR)\n",
    "\n",
    "#         # The next line writes a projector_config.pbtxt in the LOG_DIR. TensorBoard will\n",
    "#         # read this file during startup.\n",
    "#         projector.visualize_embeddings(summary_writer, config)\n",
    "\n",
    "        ##########################\n",
    "        ### EVALUATE WITH DEV DATA ###\n",
    "        ##########################    \n",
    "\n",
    "        batch_x_dev, batch_y_dev = PaddedDataIterator(dev_df_glove).next_batch(len(dev_df_glove),N)\n",
    "        dev_pred, dev_acc, dev_cost,logits = sess.run(\n",
    "            [pred_max_,accuracy_OP, train_loss_,logits_],\n",
    "            feed_dict={ids_: batch_x_dev, y_: batch_y_dev})\n",
    "        print(sk.metrics.classification_report(batch_y_dev, dev_pred))\n",
    "        print (\"Dev Accuracy:\",dev_acc)\n",
    "        print(\"Dev cost:\",dev_cost)  \n",
    "\n",
    "        batch_x_test, batch_y_test = PaddedDataIterator(\n",
    "            test_df_glove).next_batch(len(test_df_glove),N)\n",
    "        test_pred,test_acc, test_cost, logits = sess.run(\n",
    "            [pred_max_, accuracy_OP, train_loss_,logits_],\n",
    "            feed_dict={ids_: batch_x_test, y_: batch_y_test})\n",
    "        print(sk.metrics.classification_report(batch_y_test, test_pred))\n",
    "        print (\"Test Accuracy:\",test_acc)\n",
    "        print(\"Test cost:\",test_cost)\n",
    "\n",
    "        # Plot graphs.\n",
    "        plt.hist(dev_pred)\n",
    "        plt.title('dev pred data')\n",
    "        plt.show()\n",
    "\n",
    "        plt.hist(batch_y_dev)\n",
    "        plt.title('dev true data')\n",
    "        plt.show()\n",
    "\n",
    "\n",
    "        plt.scatter(logits[:,0],logits[:,1])\n",
    "        plt.title('dev logits data')\n",
    "        plt.show()\n",
    "\n",
    "        visualizeTraining(iters, costs, accs)\n",
    "        return dev_pred, batch_y_dev"
   ]
  },
  {
   "cell_type": "code",
   "execution_count": 47,
   "metadata": {
    "collapsed": false,
    "scrolled": true
   },
   "outputs": [
    {
     "name": "stdout",
     "output_type": "stream",
     "text": [
      "[Epoch 1] Iter 2000, Minibatch Loss= 17.384302, Accuracy= 0.53700\n",
      "[Epoch 1] Iter 4000, Minibatch Loss= 15.843983, Accuracy= 0.53500\n",
      "[Epoch 1] Iter 6000, Minibatch Loss= 16.734016, Accuracy= 0.50300\n",
      "[Epoch 1] Iter 8000, Minibatch Loss= 16.925806, Accuracy= 0.48000\n",
      "[Epoch 1] Iter 10000, Minibatch Loss= 16.021122, Accuracy= 0.53200\n",
      "[Epoch 1] Iter 12000, Minibatch Loss= 15.802731, Accuracy= 0.53300\n",
      "[Epoch 1] Iter 14000, Minibatch Loss= 14.439738, Accuracy= 0.54200\n",
      "[Epoch 1] Iter 16000, Minibatch Loss= 13.511934, Accuracy= 0.53500\n",
      "[Epoch 1] Iter 18000, Minibatch Loss= 13.702402, Accuracy= 0.53800\n",
      "[Epoch 1] Iter 20000, Minibatch Loss= 12.302889, Accuracy= 0.58700\n",
      "[Epoch 1] Iter 22000, Minibatch Loss= 13.750910, Accuracy= 0.56900\n",
      "[Epoch 1] Iter 24000, Minibatch Loss= 13.631029, Accuracy= 0.52900\n",
      "[Epoch 1] Iter 26000, Minibatch Loss= 12.810216, Accuracy= 0.54700\n",
      "[Epoch 1] Iter 28000, Minibatch Loss= 11.412986, Accuracy= 0.54800\n",
      "[Epoch 1] Iter 30000, Minibatch Loss= 12.527987, Accuracy= 0.52300\n",
      "[Epoch 1] Iter 32000, Minibatch Loss= 11.862140, Accuracy= 0.55200\n",
      "[Epoch 1] Iter 34000, Minibatch Loss= 10.270187, Accuracy= 0.60400\n",
      "[Epoch 1] Iter 36000, Minibatch Loss= 10.930337, Accuracy= 0.57300\n",
      "[Epoch 1] Iter 38000, Minibatch Loss= 9.975184, Accuracy= 0.58500\n",
      "[Epoch 1] Iter 40000, Minibatch Loss= 9.860603, Accuracy= 0.60900\n",
      "[Epoch 1] Iter 42000, Minibatch Loss= 9.932412, Accuracy= 0.60000\n",
      "[Epoch 1] Iter 44000, Minibatch Loss= 9.970086, Accuracy= 0.57000\n",
      "[Epoch 1] Iter 46000, Minibatch Loss= 9.696593, Accuracy= 0.58300\n",
      "[Epoch 1] Iter 48000, Minibatch Loss= 8.168276, Accuracy= 0.60500\n",
      "[Epoch 1] Iter 50000, Minibatch Loss= 8.309758, Accuracy= 0.64800\n",
      "[Epoch 1] Iter 52000, Minibatch Loss= 8.012172, Accuracy= 0.59600\n",
      "[Epoch 1] Iter 54000, Minibatch Loss= 8.328067, Accuracy= 0.59100\n",
      "[Epoch 1] Iter 56000, Minibatch Loss= 8.786433, Accuracy= 0.61100\n",
      "[Epoch 1] Iter 58000, Minibatch Loss= 7.137150, Accuracy= 0.63300\n",
      "[Epoch 1] Iter 60000, Minibatch Loss= 7.978191, Accuracy= 0.60100\n",
      "[Epoch 1] Iter 62000, Minibatch Loss= 7.817324, Accuracy= 0.62700\n",
      "[Epoch 1] Iter 64000, Minibatch Loss= 7.986526, Accuracy= 0.62600\n",
      "[Epoch 1] Iter 66000, Minibatch Loss= 7.090801, Accuracy= 0.64500\n",
      "[Epoch 1] Iter 68000, Minibatch Loss= 7.310664, Accuracy= 0.62700\n",
      "[Epoch 1] Iter 70000, Minibatch Loss= 6.268710, Accuracy= 0.66100\n",
      "[Epoch 1] Iter 72000, Minibatch Loss= 6.547009, Accuracy= 0.64400\n",
      "[Epoch 1] Iter 74000, Minibatch Loss= 6.192218, Accuracy= 0.65500\n",
      "[Epoch 1] Iter 76000, Minibatch Loss= 7.090402, Accuracy= 0.64700\n",
      "[Epoch 1] Iter 78000, Minibatch Loss= 6.920319, Accuracy= 0.65500\n",
      "[Epoch 1] Iter 80000, Minibatch Loss= 6.385531, Accuracy= 0.63200\n",
      "[Epoch 1] Iter 82000, Minibatch Loss= 6.449020, Accuracy= 0.66000\n",
      "[Epoch 1] Iter 84000, Minibatch Loss= 5.488431, Accuracy= 0.66100\n",
      "[Epoch 1] Iter 86000, Minibatch Loss= 7.167223, Accuracy= 0.60700\n",
      "[Epoch 1] Iter 88000, Minibatch Loss= 5.626932, Accuracy= 0.66100\n",
      "[Epoch 1] Iter 90000, Minibatch Loss= 5.781045, Accuracy= 0.64800\n",
      "[Epoch 1] Iter 92000, Minibatch Loss= 5.708179, Accuracy= 0.66300\n",
      "[Epoch 1] Iter 94000, Minibatch Loss= 5.742738, Accuracy= 0.66400\n",
      "[Epoch 1] Iter 96000, Minibatch Loss= 4.724860, Accuracy= 0.68600\n",
      "[Epoch 1] Iter 98000, Minibatch Loss= 5.405380, Accuracy= 0.66900\n",
      "[Epoch 1] Iter 100000, Minibatch Loss= 4.932310, Accuracy= 0.67800\n",
      "[Epoch 1] Iter 102000, Minibatch Loss= 4.971209, Accuracy= 0.65900\n",
      "[Epoch 1] Iter 104000, Minibatch Loss= 4.719373, Accuracy= 0.68700\n",
      "[Epoch 1] Iter 106000, Minibatch Loss= 5.518211, Accuracy= 0.68100\n",
      "[Epoch 1] Iter 108000, Minibatch Loss= 5.210084, Accuracy= 0.66100\n",
      "[Epoch 1] Iter 110000, Minibatch Loss= 4.575666, Accuracy= 0.69700\n",
      "[Epoch 1] Iter 112000, Minibatch Loss= 4.103360, Accuracy= 0.71500\n",
      "[Epoch 1] Iter 114000, Minibatch Loss= 4.255418, Accuracy= 0.69400\n",
      "[Epoch 1] Iter 116000, Minibatch Loss= 4.112424, Accuracy= 0.70900\n",
      "[Epoch 1] Iter 118000, Minibatch Loss= 4.123860, Accuracy= 0.71400\n",
      "[Epoch 2] Iter 120000, Minibatch Loss= 2.304623, Accuracy= 0.77500\n",
      "[Epoch 2] Iter 122000, Minibatch Loss= 2.440252, Accuracy= 0.77400\n",
      "[Epoch 2] Iter 124000, Minibatch Loss= 2.265797, Accuracy= 0.78000\n",
      "[Epoch 2] Iter 126000, Minibatch Loss= 2.704154, Accuracy= 0.76400\n",
      "[Epoch 2] Iter 128000, Minibatch Loss= 2.611233, Accuracy= 0.79000\n",
      "[Epoch 2] Iter 130000, Minibatch Loss= 2.486958, Accuracy= 0.76600\n",
      "[Epoch 2] Iter 132000, Minibatch Loss= 2.263088, Accuracy= 0.80000\n",
      "[Epoch 2] Iter 134000, Minibatch Loss= 2.132985, Accuracy= 0.80800\n",
      "[Epoch 2] Iter 136000, Minibatch Loss= 2.598678, Accuracy= 0.75400\n",
      "[Epoch 2] Iter 138000, Minibatch Loss= 2.576293, Accuracy= 0.78100\n",
      "[Epoch 2] Iter 140000, Minibatch Loss= 2.525991, Accuracy= 0.77000\n",
      "[Epoch 2] Iter 142000, Minibatch Loss= 2.449520, Accuracy= 0.80300\n",
      "[Epoch 2] Iter 144000, Minibatch Loss= 2.320781, Accuracy= 0.78400\n",
      "[Epoch 2] Iter 146000, Minibatch Loss= 2.161007, Accuracy= 0.78300\n",
      "[Epoch 2] Iter 148000, Minibatch Loss= 1.953258, Accuracy= 0.83100\n",
      "[Epoch 2] Iter 150000, Minibatch Loss= 2.099260, Accuracy= 0.76100\n",
      "[Epoch 2] Iter 152000, Minibatch Loss= 1.921707, Accuracy= 0.81100\n",
      "[Epoch 2] Iter 154000, Minibatch Loss= 2.285333, Accuracy= 0.79100\n",
      "[Epoch 2] Iter 156000, Minibatch Loss= 2.088365, Accuracy= 0.79600\n",
      "[Epoch 2] Iter 158000, Minibatch Loss= 2.179086, Accuracy= 0.75600\n",
      "[Epoch 2] Iter 160000, Minibatch Loss= 2.236901, Accuracy= 0.79800\n",
      "[Epoch 2] Iter 162000, Minibatch Loss= 2.275699, Accuracy= 0.76200\n",
      "[Epoch 2] Iter 164000, Minibatch Loss= 2.127956, Accuracy= 0.80100\n",
      "[Epoch 2] Iter 166000, Minibatch Loss= 1.867138, Accuracy= 0.81700\n",
      "[Epoch 2] Iter 168000, Minibatch Loss= 2.069472, Accuracy= 0.78400\n",
      "[Epoch 2] Iter 170000, Minibatch Loss= 1.928914, Accuracy= 0.80600\n",
      "[Epoch 2] Iter 172000, Minibatch Loss= 1.719289, Accuracy= 0.83000\n",
      "[Epoch 2] Iter 174000, Minibatch Loss= 2.058939, Accuracy= 0.78500\n",
      "[Epoch 2] Iter 176000, Minibatch Loss= 1.826559, Accuracy= 0.82500\n",
      "[Epoch 2] Iter 178000, Minibatch Loss= 1.600789, Accuracy= 0.80700\n",
      "[Epoch 2] Iter 180000, Minibatch Loss= 1.887210, Accuracy= 0.80800\n",
      "[Epoch 2] Iter 182000, Minibatch Loss= 1.566703, Accuracy= 0.81100\n",
      "[Epoch 2] Iter 184000, Minibatch Loss= 1.774287, Accuracy= 0.78100\n",
      "[Epoch 2] Iter 186000, Minibatch Loss= 1.550485, Accuracy= 0.85000\n",
      "[Epoch 2] Iter 188000, Minibatch Loss= 1.843024, Accuracy= 0.78800\n",
      "[Epoch 2] Iter 190000, Minibatch Loss= 1.605533, Accuracy= 0.81500\n",
      "[Epoch 2] Iter 192000, Minibatch Loss= 1.676406, Accuracy= 0.80800\n",
      "[Epoch 2] Iter 194000, Minibatch Loss= 1.821130, Accuracy= 0.80100\n",
      "[Epoch 2] Iter 196000, Minibatch Loss= 1.619287, Accuracy= 0.80600\n",
      "[Epoch 2] Iter 198000, Minibatch Loss= 1.702467, Accuracy= 0.76800\n",
      "[Epoch 2] Iter 200000, Minibatch Loss= 1.618853, Accuracy= 0.83800\n",
      "[Epoch 2] Iter 202000, Minibatch Loss= 1.804409, Accuracy= 0.78700\n",
      "[Epoch 2] Iter 204000, Minibatch Loss= 1.742761, Accuracy= 0.84200\n",
      "[Epoch 2] Iter 206000, Minibatch Loss= 1.324180, Accuracy= 0.82000\n",
      "[Epoch 2] Iter 208000, Minibatch Loss= 1.522007, Accuracy= 0.82700\n",
      "[Epoch 2] Iter 210000, Minibatch Loss= 1.499182, Accuracy= 0.83800\n",
      "[Epoch 2] Iter 212000, Minibatch Loss= 1.636417, Accuracy= 0.77900\n",
      "[Epoch 2] Iter 214000, Minibatch Loss= 1.534137, Accuracy= 0.84700\n",
      "[Epoch 2] Iter 216000, Minibatch Loss= 1.537977, Accuracy= 0.79700\n",
      "[Epoch 2] Iter 218000, Minibatch Loss= 1.326091, Accuracy= 0.83900\n",
      "[Epoch 2] Iter 220000, Minibatch Loss= 1.392920, Accuracy= 0.83200\n",
      "[Epoch 2] Iter 222000, Minibatch Loss= 1.430535, Accuracy= 0.80700\n",
      "[Epoch 2] Iter 224000, Minibatch Loss= 1.310089, Accuracy= 0.84400\n",
      "[Epoch 2] Iter 226000, Minibatch Loss= 1.323647, Accuracy= 0.84300\n",
      "[Epoch 2] Iter 228000, Minibatch Loss= 1.028137, Accuracy= 0.84000\n",
      "[Epoch 2] Iter 230000, Minibatch Loss= 1.471666, Accuracy= 0.85800\n",
      "[Epoch 2] Iter 232000, Minibatch Loss= 1.569956, Accuracy= 0.79800\n",
      "[Epoch 2] Iter 234000, Minibatch Loss= 1.291764, Accuracy= 0.83600\n",
      "[Epoch 2] Iter 236000, Minibatch Loss= 1.305930, Accuracy= 0.81400\n",
      "Optimization Finished!\n",
      "             precision    recall  f1-score   support\n",
      "\n",
      "          0       0.19      0.33      0.24      1284\n",
      "          1       0.87      0.75      0.81      7373\n",
      "\n",
      "avg / total       0.77      0.69      0.72      8657\n",
      "\n",
      "Dev Accuracy: 0.691464\n",
      "Dev cost: 5.20667\n",
      "             precision    recall  f1-score   support\n",
      "\n",
      "          0       0.19      0.32      0.24      1298\n",
      "          1       0.86      0.75      0.80      7419\n",
      "\n",
      "avg / total       0.76      0.69      0.72      8717\n",
      "\n",
      "Test Accuracy: 0.68831\n",
      "Test cost: 5.11074\n"
     ]
    },
    {
     "data": {
      "image/png": "[encoded data removed]",
      "text/plain": [
       "<matplotlib.figure.Figure at 0x7f5b192d2b90>"
      ]
     },
     "metadata": {},
     "output_type": "display_data"
    },
    {
     "data": {
      "image/png": "[encoded data removed]",
      "text/plain": [
       "<matplotlib.figure.Figure at 0x7f5b1254d8d0>"
      ]
     },
     "metadata": {},
     "output_type": "display_data"
    },
    {
     "data": {
      "image/png": "[encoded data removed]",
      "text/plain": [
       "<matplotlib.figure.Figure at 0x7f5b12486b50>"
      ]
     },
     "metadata": {},
     "output_type": "display_data"
    },
    {
     "data": {
      "image/png": "[encoded data removed]",
      "text/plain": [
       "<matplotlib.figure.Figure at 0x7f5b124ba810>"
      ]
     },
     "metadata": {},
     "output_type": "display_data"
    },
    {
     "data": {
      "image/png": "[encoded data removed]",
      "text/plain": [
       "<matplotlib.figure.Figure at 0x7f5b1c75de90>"
      ]
     },
     "metadata": {},
     "output_type": "display_data"
    }
   ],
   "source": [
    "training_iters = 236000\n",
    "batch_size = 1000\n",
    "display_step = 2\n",
    "learning_rate = 0.01\n",
    "a=runSimpleNN(training_iters, batch_size, display_step, learning_rate)"
   ]
  },
  {
   "cell_type": "code",
   "execution_count": null,
   "metadata": {
    "collapsed": true
   },
   "outputs": [],
   "source": []
  },
  {
   "cell_type": "markdown",
   "metadata": {},
   "source": [
    "### 4.2.2 LSTM"
   ]
  },
  {
   "cell_type": "code",
   "execution_count": 56,
   "metadata": {
    "collapsed": true
   },
   "outputs": [],
   "source": [
    "'''\n",
    "A Recurrent Neural Network (LSTM) implementation example using TensorFlow library.\n",
    "This example is using the MNIST database of handwritten digits (http://yann.lecun.com/exdb/mnist/)\n",
    "Long Short Term Memory paper: http://deeplearning.cs.cmu.edu/pdfs/Hochreiter97_lstm.pdf\n",
    "Author: Aymeric Damien\n",
    "Project: https://github.com/aymericdamien/TensorFlow-Examples/\n",
    "'''\n",
    "\n",
    "from __future__ import print_function\n",
    "\n",
    "def run_LSTM(learning_rate_v ,training_iters_v ,batch_size_v ,sentence_size_v ,n_hidden_v, n_layer_v):\n",
    "    import tensorflow as tf\n",
    "    import sklearn as sk\n",
    "    from tensorflow.contrib import rnn\n",
    "\n",
    "    # Import MNIST data\n",
    "\n",
    "\n",
    "    '''\n",
    "    To classify images using a recurrent neural network, we consider every image\n",
    "    row as a sequence of pixels. Because MNIST image shape is 28*28px, we will then\n",
    "    handle 28 sequences of 28 steps for every sample.\n",
    "    '''\n",
    "    # Reset defaul graph.\n",
    "    tf.reset_default_graph()\n",
    "    tf.set_random_seed(42)\n",
    "\n",
    "    ######################## \n",
    "    ### MODEL PARAMETERS ###\n",
    "    ######################## \n",
    "\n",
    "    # 0.01 learning rate\n",
    "    # 200k iterations\n",
    "    # 1000 batch size\n",
    "    # 10 context window\n",
    "    # 50 hidden\n",
    "    ## 70 sentence length\n",
    "\n",
    "\n",
    "    # Parameters\n",
    "    learning_rate = learning_rate_v\n",
    "    training_iters = training_iters_v\n",
    "    batch_size = batch_size_v\n",
    "    display_step = 2\n",
    "    sentence_size = sentence_size_v\n",
    "\n",
    "    # Network Parameters\n",
    "    n_input = 1  \n",
    "    n_steps = sentence_size/n_input # timesteps\n",
    "    n_hidden = n_hidden_v # hidden layer num of features\n",
    "    n_classes = 2  \n",
    "    vocab_size = 10000\n",
    "    n_layer = n_layer_v\n",
    "\n",
    "\n",
    "    #################################\n",
    "    ### PLACEHOLDER AND VARIABLE ###\n",
    "    #################################\n",
    "\n",
    "    # tf Graph input\n",
    "    ids_ = tf.placeholder(tf.int32, [None, n_steps, n_input], name=\"ids\")\n",
    "    y = tf.placeholder(tf.int32, [None, n_classes], name=\"y\")\n",
    "\n",
    "    # Define weights\n",
    "    weights = {\n",
    "        'out': tf.Variable(tf.random_normal([n_hidden, n_classes]), name=\"W\")\n",
    "    }\n",
    "    biases = {\n",
    "        'out': tf.Variable(tf.zeros([n_classes], dtype=tf.float32), name=\"b\")\n",
    "    }\n",
    "\n",
    "\n",
    "    ######################## \n",
    "    ### DEFINE RNN MODEL ###\n",
    "    ######################## \n",
    "    def MakeFancyRNNCell(H, keep_prob, num_layers=1):\n",
    "        \"\"\"Make a fancy RNN cell.\n",
    "        Use tf.nn.rnn_cell functions to construct an LSTM cell.\n",
    "        Initialize forget_bias=0.0 for better training.\n",
    "        Args:\n",
    "          H: hidden state size\n",
    "          keep_prob: dropout keep prob (same for input and output)\n",
    "          num_layers: number of cell layers\n",
    "        Returns:\n",
    "          (tf.nn.rnn_cell.RNNCell) multi-layer LSTM cell with dropout\n",
    "        \"\"\"\n",
    "        cells = []\n",
    "        for _ in xrange(num_layers):\n",
    "            cell = tf.contrib.rnn.BasicLSTMCell(H, forget_bias=0.0)\n",
    "            cell = tf.contrib.rnn.DropoutWrapper(\n",
    "              cell, input_keep_prob=keep_prob, output_keep_prob=keep_prob)\n",
    "            cells.append(cell)\n",
    "        return tf.contrib.rnn.MultiRNNCell(cells)\n",
    "\n",
    "\n",
    "    # def RNN(x, weights, biases):\n",
    "\n",
    "    with tf.name_scope(\"Embedding_Layer\"):\n",
    "        C_ = tf.Variable(tf.random_uniform([vocab_size, n_hidden],\n",
    "                                           -1.0, 1.0), name=\"C\")\n",
    "        # embedding_lookup gives shape (batch_size, N, M)\n",
    "        x_ = tf.reshape(tf.nn.embedding_lookup(C_, ids_), \n",
    "                        [-1, n_steps, n_input*n_hidden], name=\"x\")\n",
    "\n",
    "\n",
    "    # Unstack to get a list of 'n_steps' tensors of shape (batch_size, n_input)\n",
    "\n",
    "\n",
    "    with tf.name_scope(\"Recurrent_Layer\"):\n",
    "        # Define a lstm cell with tensorflow\n",
    "            lstm_cell = MakeFancyRNNCell(n_hidden, keep_prob = 1.0, num_layers=n_layer)\n",
    "        # Get lstm cell output\n",
    "            outputs, states = tf.nn.dynamic_rnn(lstm_cell, x_, dtype=tf.float32)\n",
    "\n",
    "    # Linear activation, using rnn inner loop last output\n",
    "    with tf.name_scope(\"Output_Layer\"):\n",
    "        outputs=tf.transpose(outputs,[1,0,2])\n",
    "\n",
    "\n",
    "        last_output = tf.gather(outputs,int(outputs.shape[0])-1)\n",
    "\n",
    "        logits_ = tf.nn.softmax(tf.matmul(outputs[-1], weights['out']) + biases['out'])\n",
    "\n",
    "\n",
    "    #############################\n",
    "    ### LOSS AND OPTIMIZATION ###\n",
    "    #############################\n",
    "\n",
    "    with tf.name_scope(\"Cost_Function\"):\n",
    "        per_example_train_loss_ = tf.nn.softmax_cross_entropy_with_logits(\n",
    "            logits=logits_, labels=y, name=\"per_example_train_loss\")\n",
    "        cost = tf.reduce_mean(per_example_train_loss_, name=\"loss\")\n",
    "    with tf.name_scope(\"Training\"):\n",
    "        optimizer = tf.train.AdamOptimizer(learning_rate=learning_rate).minimize(cost)\n",
    "\n",
    "\n",
    "    ##################\n",
    "    ### EVALUATION ###\n",
    "    ################## \n",
    "    with tf.name_scope(\"Prediction\"):\n",
    "        pred_ = 1-tf.argmax(logits_,1)\n",
    "        actual_labels_ = 1-tf.argmax(y,1)\n",
    "        correct_pred_ = tf.equal(pred_, actual_labels_)\n",
    "    with tf.name_scope(\"Scoring\"):\n",
    "        accuracy_ = tf.reduce_mean(tf.cast(correct_pred_, tf.float32))\n",
    "\n",
    "\n",
    "\n",
    "    #################\n",
    "    ### RUN GRAPH ###\n",
    "    #################\n",
    "\n",
    "    # Initializing the variables\n",
    "    init = tf.global_variables_initializer()\n",
    "    \n",
    "    \n",
    "    with tf.Session() as sess:\n",
    "        sess.run(init)\n",
    "        step = 1\n",
    "        iters=[]\n",
    "        costs=[]\n",
    "        accs=[]\n",
    "        f1s=[]\n",
    "        precisions=[]\n",
    "        recalls=[]\n",
    "        iterator = PaddedDataIterator(train_df)\n",
    "\n",
    "        # Keep training until reach max iterations\n",
    "        while step * batch_size < training_iters:\n",
    "\n",
    "            ##########################\n",
    "            ### GENERATE BATCH X,Y ###\n",
    "            ##########################\n",
    "            batch_x, batch_y_1 = iterator.next_batch(batch_size,sentence_size)\n",
    "            batch_y = np.concatenate((batch_y_1.reshape([-1,1]), 1-batch_y_1.reshape([-1,1])), axis=1)\n",
    "            batch_x = batch_x.reshape((batch_size, n_steps, n_input))\n",
    "\n",
    "\n",
    "            ################\n",
    "            ### TRAINING ###\n",
    "            ################\n",
    "            out = sess.run(outputs,feed_dict={ids_: batch_x})\n",
    "\n",
    "            sess.run(optimizer, feed_dict={ids_: batch_x, y: batch_y})\n",
    "\n",
    "            #################\n",
    "            ### REPORTING ###\n",
    "            #################\n",
    "\n",
    "            if step % display_step == 0:\n",
    "                # Calculate batch accuracy, loss\n",
    "                acc,loss = sess.run([accuracy_,cost], feed_dict={ids_: batch_x, y: batch_y})\n",
    "                iters.append(step*batch_size)\n",
    "                costs.append(loss)\n",
    "                accs.append(acc)\n",
    "\n",
    "            step += 1\n",
    "        print(\"Optimization Finished!\")\n",
    "\n",
    "        ##########################\n",
    "        ### EVALUATE WITH DEV DATA ###\n",
    "        ##########################    \n",
    "\n",
    "        batch_x_dev_1, batch_y_1_dev = PaddedDataIterator(dev_df).next_batch(len(dev_df),sentence_size)\n",
    "        batch_x_dev = batch_x_dev_1.reshape([-1,n_steps, n_input])\n",
    "        batch_y_dev = np.concatenate((batch_y_1_dev.reshape([-1,1]), 1-batch_y_1_dev.reshape([-1,1])), axis=1)\n",
    "    #     dev_acc, dev_cost = sess.run([accuracy_, cost],feed_dict={x: batch_x_dev, y: batch_y_dev})\n",
    "        dev_pred,dev_acc_labels,dev_acc, dev_cost,logits = sess.run(\n",
    "            [pred_,actual_labels_,accuracy_, cost,logits_],\n",
    "            feed_dict={ids_: batch_x_dev, y: batch_y_dev})\n",
    "        precision = sk.metrics.precision_score(dev_acc_labels, dev_pred)\n",
    "        recall = sk.metrics.recall_score(dev_acc_labels, dev_pred)\n",
    "        f1 = sk.metrics.f1_score(dev_acc_labels, dev_pred)\n",
    "\n",
    "        print (\"Dev Accuracy:\",dev_acc)\n",
    "        print(\"Dev cost:\",dev_cost)  \n",
    "        print(\"F1=%.5f, Precision=%.5f, Recall=%.5f\" %(f1,precision,recall))\n",
    "        visualizeTraining(iters, costs, accs)\n",
    "\n",
    "        \n",
    "        ##########################\n",
    "        ### EVALUATE WITH TEST DATA ###\n",
    "        ##########################    \n",
    "\n",
    "        batch_x_test_1, batch_y_1_test = PaddedDataIterator(test_df).next_batch(len(test_df),sentence_size)\n",
    "        batch_x_test = batch_x_test_1.reshape([-1,n_steps, n_input])\n",
    "        batch_y_test = np.concatenate((batch_y_1_test.reshape([-1,1]), 1-batch_y_1_test.reshape([-1,1])), axis=1)\n",
    "\n",
    "        test_pred,test_acc_labels,test_acc, test_cost,logits = sess.run(\n",
    "            [pred_,actual_labels_,accuracy_, cost,logits_],\n",
    "            feed_dict={ids_: batch_x_test, y: batch_y_test})\n",
    "        precision = sk.metrics.precision_score(test_acc_labels, test_pred)\n",
    "        recall = sk.metrics.recall_score(test_acc_labels, test_pred)\n",
    "        f1 = sk.metrics.f1_score(test_acc_labels, test_pred)\n",
    "\n",
    "        print (\"test Accuracy:\",test_acc)\n",
    "        print(\"test cost:\",test_cost)  \n",
    "        print(\"F1=%.5f, Precision=%.5f, Recall=%.5f\" %(f1,precision,recall))\n",
    "        print(sk.metrics.classification_report(test_acc_labels, test_pred))\n",
    "        return (learning_rate ,training_iters ,batch_size ,sentence_size  ,n_hidden,n_layer),\\\n",
    "                (dev_acc,dev_cost,f1,precision,recall)"
   ]
  },
  {
   "cell_type": "code",
   "execution_count": 43,
   "metadata": {
    "collapsed": false
   },
   "outputs": [
    {
     "name": "stdout",
     "output_type": "stream",
     "text": [
      "Optimization Finished!\n"
     ]
    }
   ],
   "source": [
    "learning_rate = [0.01, 0.1]\n",
    "training_iters = [100000,200000]\n",
    "batch_size = [100] \n",
    "sentence_size =[30,50,100]\n",
    "n_hidden = [20,50]\n",
    "n_layer = [1,2,3]\n",
    "dic= {}\n",
    "for learning_rate_v, training_iters_v,batch_size_v,sentence_size_v,n_hidden_v,n_layer_v \\\n",
    "    in product(learning_rate, training_iters ,batch_size,sentence_size,n_hidden,n_layer):\n",
    "    a,b = run_LSTM(learning_rate_v, training_iters_v,batch_size_v,sentence_size_v,n_hidden_v,n_layer_v)\n",
    "    dic[a]=b"
   ]
  },
  {
   "cell_type": "code",
   "execution_count": 57,
   "metadata": {
    "collapsed": false,
    "scrolled": false
   },
   "outputs": [
    {
     "name": "stdout",
     "output_type": "stream",
     "text": [
      "Optimization Finished!\n",
      "Dev Accuracy: 0.699434\n",
      "Dev cost: 0.603404\n",
      "F1=0.81156, Precision=0.87071, Recall=0.75993\n"
     ]
    },
    {
     "data": {
      "image/png": "[encoded data removed]",
      "text/plain": [
       "<matplotlib.figure.Figure at 0x7f5661261c10>"
      ]
     },
     "metadata": {},
     "output_type": "display_data"
    },
    {
     "data": {
      "image/png": "[encoded data removed]",
      "text/plain": [
       "<matplotlib.figure.Figure at 0x7f5659a97810>"
      ]
     },
     "metadata": {},
     "output_type": "display_data"
    },
    {
     "name": "stdout",
     "output_type": "stream",
     "text": [
      "test Accuracy: 0.706665\n",
      "test cost: 0.595474\n",
      "F1=0.81776, Precision=0.86766, Recall=0.77328\n",
      "             precision    recall  f1-score   support\n",
      "\n",
      "          0       0.20      0.33      0.25      1298\n",
      "          1       0.87      0.77      0.82      7419\n",
      "\n",
      "avg / total       0.77      0.71      0.73      8717\n",
      "\n",
      "Optimization Finished!\n",
      "Dev Accuracy: 0.727619\n",
      "Dev cost: 0.589076\n",
      "F1=0.83366, Precision=0.86859, Recall=0.80144\n"
     ]
    },
    {
     "data": {
      "image/png": "[encoded data removed]",
      "text/plain": [
       "<matplotlib.figure.Figure at 0x7f5659dfe090>"
      ]
     },
     "metadata": {},
     "output_type": "display_data"
    },
    {
     "data": {
      "image/png": "[encoded data removed]",
      "text/plain": [
       "<matplotlib.figure.Figure at 0x7f565975bbd0>"
      ]
     },
     "metadata": {},
     "output_type": "display_data"
    },
    {
     "name": "stdout",
     "output_type": "stream",
     "text": [
      "test Accuracy: 0.722037\n",
      "test cost: 0.594659\n",
      "F1=0.82882, Precision=0.87084, Recall=0.79067\n",
      "             precision    recall  f1-score   support\n",
      "\n",
      "          0       0.22      0.33      0.26      1298\n",
      "          1       0.87      0.79      0.83      7419\n",
      "\n",
      "avg / total       0.77      0.72      0.74      8717\n",
      "\n",
      "Optimization Finished!\n",
      "Dev Accuracy: 0.675985\n",
      "Dev cost: 0.638564\n",
      "F1=0.79162, Precision=0.87516, Recall=0.72264\n"
     ]
    },
    {
     "data": {
      "image/png": "[encoded data removed]",
      "text/plain": [
       "<matplotlib.figure.Figure at 0x7f564dfadf10>"
      ]
     },
     "metadata": {},
     "output_type": "display_data"
    },
    {
     "data": {
      "image/png": "[encoded data removed]",
      "text/plain": [
       "<matplotlib.figure.Figure at 0x7f564deab590>"
      ]
     },
     "metadata": {},
     "output_type": "display_data"
    },
    {
     "name": "stdout",
     "output_type": "stream",
     "text": [
      "test Accuracy: 0.679706\n",
      "test cost: 0.636474\n",
      "F1=0.79471, Precision=0.87429, Recall=0.72840\n",
      "             precision    recall  f1-score   support\n",
      "\n",
      "          0       0.21      0.40      0.27      1298\n",
      "          1       0.87      0.73      0.79      7419\n",
      "\n",
      "avg / total       0.77      0.68      0.72      8717\n",
      "\n"
     ]
    }
   ],
   "source": [
    "learning_rate = [0.01]\n",
    "training_iters = [200000]\n",
    "batch_size = [100] \n",
    "sentence_size =[70]\n",
    "n_hidden = [30]\n",
    "n_layer = [1,2,3]\n",
    "dic= {}\n",
    "\n",
    "for learning_rate_v, training_iters_v,batch_size_v,sentence_size_v,n_hidden_v,n_layer_v \\\n",
    "    in product(learning_rate, training_iters ,batch_size,sentence_size,n_hidden,n_layer):\n",
    "    a,b = run_LSTM(learning_rate_v, training_iters_v,batch_size_v,sentence_size_v,n_hidden_v,n_layer_v)\n",
    "    dic[a]=b"
   ]
  },
  {
   "cell_type": "markdown",
   "metadata": {},
   "source": [
    "### 4.2.3 Error Analysis"
   ]
  },
  {
   "cell_type": "code",
   "execution_count": 89,
   "metadata": {
    "collapsed": false
   },
   "outputs": [
    {
     "name": "stdout",
     "output_type": "stream",
     "text": [
      "1989\n",
      "[(6, 1, 0), (7, 1, 0), (8, 1, 0), (9, 1, 0), (10, 1, 0), (12, 1, 0), (20, 1, 0), (26, 1, 0), (38, 0, 1), (52, 0, 1)]\n"
     ]
    }
   ],
   "source": [
    "errors = [(i, v, batch_y_dev[i]) for i,v in enumerate(dev_pred) if v != batch_y_dev[i]]\n",
    "print(len(errors))\n",
    "print(errors[:10])\n",
    "x_dev_review_ids = nonnan_review_id_clean[dev_inds]"
   ]
  },
  {
   "cell_type": "code",
   "execution_count": 90,
   "metadata": {
    "collapsed": true
   },
   "outputs": [],
   "source": [
    "def analyzeError(index):\n",
    "    print(x_dev[index])\n",
    "    print(\"Pred: {0}, Actual: {1}\".format(dev_pred[index], y_dev[index]))\n",
    "    print(df.iloc[[x_dev_review_ids[index]]])\n",
    "    print(\"\\n\")"
   ]
  },
  {
   "cell_type": "code",
   "execution_count": 91,
   "metadata": {
    "collapsed": true
   },
   "outputs": [],
   "source": [
    "def analyzeFalsePositives(num):\n",
    "    count = 0\n",
    "    fp_tokens = []\n",
    "    for i,pred in enumerate(dev_pred):\n",
    "        if pred == 1 and y_dev[i] == 0:\n",
    "            count += 1\n",
    "            fp_tokens.append(len(x_dev_ids[i]))\n",
    "            if count <= num:\n",
    "                analyzeError(i)\n",
    "    print(\"Average # tokens in false positives: {0}\".format(np.average(fp_tokens)))\n",
    "    print(\"Median # tokens in false positives: {0}\".format(np.median(fp_tokens)))\n",
    "\n",
    "        \n",
    "def analyzeFalseNegatives(num):\n",
    "    count = 0\n",
    "    fn_tokens = []\n",
    "    for i,pred in enumerate(dev_pred):\n",
    "        if pred == 0 and y_dev[i] == 1:\n",
    "            count += 1\n",
    "            fn_tokens.append(len(x_dev_ids[i]))\n",
    "            if count <= num:\n",
    "                analyzeError(i)\n",
    "    print(\"Average # tokens in false negatives: {0}\".format(np.average(fn_tokens)))\n",
    "    print(\"Median # tokens in false positives: {0}\".format(np.median(fn_tokens)))"
   ]
  },
  {
   "cell_type": "code",
   "execution_count": 92,
   "metadata": {
    "collapsed": false
   },
   "outputs": [
    {
     "name": "stdout",
     "output_type": "stream",
     "text": [
      "always wear a size 11 in every shoe.  these were too big but i wear an orthotic/insole so they were perfect.  most definitely order a size down\n",
      "Pred: 1, Actual: [ 0.]\n",
      "         reviewerID        asin reviewerName helpful  unixReviewTime  \\\n",
      "381  A1GP5LOTQFST63  B000072UMJ      flonman  [0, 1]      1369612800   \n",
      "\n",
      "                                            reviewText  overall   reviewTime  \\\n",
      "381  always wear a size 11 in every shoe.  these we...   5.0000  05 27, 2013   \n",
      "\n",
      "     summary  index_col  \n",
      "381  classic        381  \n",
      "\n",
      "\n",
      "I've always loved Converse shoes as they are trendy and comfy. I absolutely love the shoes, though the color I chose (Parasailing) it's a little bit different from the one shown in the picture, a little more towards green than turquoise. Nevertheless, I am happy with my purchase. The seller is concerned about getting feedback from the customer on their overall purchase experience., which I think it's great.\n",
      "Pred: 1, Actual: [ 0.]\n",
      "        reviewerID        asin       reviewerName helpful  unixReviewTime  \\\n",
      "413  AGSTTOCU7WVC7  B000072UMJ  Marcela Matamoros  [0, 1]      1365292800   \n",
      "\n",
      "                                            reviewText  overall  reviewTime  \\\n",
      "413  I've always loved Converse shoes as they are t...   5.0000  04 7, 2013   \n",
      "\n",
      "          summary  index_col  \n",
      "413  Good product        413  \n",
      "\n",
      "\n",
      "I've bought these for work, where I stand for an average of 8 hrs at a time.Comfortable, great traction, inexpensive.\n",
      "Pred: 1, Actual: [ 0.]\n",
      "        reviewerID        asin reviewerName helpful  unixReviewTime  \\\n",
      "420  AC09OIFJYTUQK  B000072UMJ           MF  [0, 2]      1353456000   \n",
      "\n",
      "                                            reviewText  overall   reviewTime  \\\n",
      "420  I've bought these for work, where I stand for ...   3.0000  11 21, 2012   \n",
      "\n",
      "              summary  index_col  \n",
      "420  Worth the price.        420  \n",
      "\n",
      "\n",
      "I bought these for my 13 yr old son.  They cost about the same price at the mall but it's always a plus when you can avoid going to the mall.  Chuck's run larger so you have to get a size smaller than what you would normally wear.  I found that out when I had to do a return and reorder.  Other than that, he seems to like his Chuck's.  I've bought a few more in different colors because he likes them so much.\n",
      "Pred: 1, Actual: [ 0.]\n",
      "         reviewerID        asin reviewerName helpful  unixReviewTime  \\\n",
      "449  A1L92F4Q5UP5D7  B000072UMJ          y2k  [0, 1]      1354665600   \n",
      "\n",
      "                                            reviewText  overall  reviewTime  \\\n",
      "449  I bought these for my 13 yr old son.  They cos...   4.0000  12 5, 2012   \n",
      "\n",
      "                       summary  index_col  \n",
      "449  Save the trip to the mall        449  \n",
      "\n",
      "\n",
      "Very sheer, which is good, but the Caf&eacute; Au Lait  color has more tan to it than I expected.  Overall, still a good purchase and I will buy more in other colors in the future.\n",
      "Pred: 1, Actual: [ 0.]\n",
      "        reviewerID        asin  reviewerName helpful  unixReviewTime  \\\n",
      "901  A4W04JGWML69E  B0000891IO  Kendall Ewan  [0, 1]      1367366400   \n",
      "\n",
      "                                            reviewText  overall  reviewTime  \\\n",
      "901  Very sheer, which is good, but the Caf&eacute;...   4.0000  05 1, 2013   \n",
      "\n",
      "    summary  index_col  \n",
      "901    Nice        901  \n",
      "\n",
      "\n",
      "When I received these, they looked like good quality and the latch looked secure. I wore them to work (I have a desk job) and lost one the first day. Fortunately for me, the cleaning lady helped me look for it and managed to find it on the floor in the office. Now I'm scared to wear them again. I have another pair of sterling silver hoops that have this same type of latch. I've worn them for years, and they've never fallen out of my ears. I can't help but be disappointment with a pair of earrings when one falls out of my ear on the first day, especially when I did not do anything to cause it to fall out.\n",
      "Pred: 1, Actual: [ 0.]\n",
      "          reviewerID        asin   reviewerName helpful  unixReviewTime  \\\n",
      "1951  A2DMQ5BYVYAFGV  B0000B35D8  Smart Shopper  [0, 1]      1333497600   \n",
      "\n",
      "                                             reviewText  overall  reviewTime  \\\n",
      "1951  When I received these, they looked like good q...   3.0000  04 4, 2012   \n",
      "\n",
      "                         summary  index_col  \n",
      "1951  What gives with the latch?       1951  \n",
      "\n",
      "\n",
      "The sneakers fit fine but the material that covers the top of your foot digs into your foot so bad. I wore them one time and had to stop at a store and buy myself a pair of flip flops because I could not stand the pain anymore. I wish I would have wore them around the house before so that I could have returned them for a refund. I am so mad I just threw out all this money on such a crappy pair of sneakers.\n",
      "Pred: 1, Actual: [ 0.]\n",
      "          reviewerID        asin                       reviewerName helpful  \\\n",
      "2131  A3IY33BB4EB4MP  B0000BW6IN  Rose A. Harbaugh \"Rosie & Dustin\"  [0, 1]   \n",
      "\n",
      "      unixReviewTime                                         reviewText  \\\n",
      "2131      1372636800  The sneakers fit fine but the material that co...   \n",
      "\n",
      "      overall  reviewTime             summary  index_col  \n",
      "2131   1.0000  07 1, 2013  They hurt my feet!       2131  \n",
      "\n",
      "\n",
      "** PLEASE NOTE **  I was new to amazon at the time I posted this review, and was angry about the shipping time (and still am).  My previous low rating of the product should not have been influenced by the seller/shipper's ineptness.  Please accept my apology.  The product is of very high quality, and the fit is great.  It's a little stiff because it's very thick and warm--so I've opted to wear PolarTec thermals underneath my motorcycle rain suit (motorcycle rain suits are one-piece, and have a high collar at the neck--so there is nowhere for cold air, rain, or snow to penetrate) although I don't only wear my foul weather gear on the bike.  I also enjoy hiking in the mountains in very foul weather, and the Carhartt biberalls are a little restrictive for that.  The PolarTec thermals under the motorcycle rain suit provide great mobility.  The Carhartt biberalls would be best suited to riding an outdoor tractor, ATV, or working outside when walking many miles up and down hills isn't part of the job.  Merry Christmas to all, and a Happy New Year.  Below is my original post:The product is of very high quality.  The problem is that I ordered it when the weather was very cold.  It took so long to ship that the weather was warm by the time the biberall came.  I should have ordered a bathing suit!  I'm sorry for not being able to try it out before writing this review, but I haven't been able to use it.  I should have purchased it from cabellas.  They get things to me very quickly.\n",
      "Pred: 1, Actual: [ 0.]\n",
      "          reviewerID        asin reviewerName  helpful  unixReviewTime  \\\n",
      "3011  A2D2E5B2XC8YV9  B0000WL7HI  ScottyJames  [0, 17]      1297728000   \n",
      "\n",
      "                                             reviewText  overall   reviewTime  \\\n",
      "3011  ** PLEASE NOTE **  I was new to amazon at the ...   5.0000  02 15, 2011   \n",
      "\n",
      "               summary  index_col  \n",
      "3011  Too Long to Ship       3011  \n",
      "\n",
      "\n",
      "I'm on the short side (5 ft to be exact) and these fit perfectly. I have dancer thighs-- meaning they're kinda big-- and the stockings are able to stretch and hold nicely on my legs even without a garter =) My boyfriend was definitely surprised and pleased when he found me wearing these under my dress.\n",
      "Pred: 1, Actual: [ 0.]\n",
      "          reviewerID        asin reviewerName helpful  unixReviewTime  \\\n",
      "3103  A2CWWUR3GGTMHR  B0000Y5T7A      b.gaddz  [0, 1]      1369785600   \n",
      "\n",
      "                                             reviewText  overall   reviewTime  \\\n",
      "3103  I'm on the short side (5 ft to be exact) and t...   5.0000  05 29, 2013   \n",
      "\n",
      "                        summary  index_col  \n",
      "3103  My boyfriend loved them!!       3103  \n",
      "\n",
      "\n",
      "These truly do not show panty lines.  The fabric is thin and comfortable.  I'm going to purchase more to add to my collection.\n",
      "Pred: 1, Actual: [ 0.]\n",
      "          reviewerID        asin             reviewerName helpful  \\\n",
      "3281  A11Z2PU7JCZ81T  B0000ZCH4W  Golden One \"Golden One\"  [0, 1]   \n",
      "\n",
      "      unixReviewTime                                         reviewText  \\\n",
      "3281      1367539200  These truly do not show panty lines.  The fabr...   \n",
      "\n",
      "      overall  reviewTime     summary  index_col  \n",
      "3281   5.0000  05 3, 2013  Love these       3281  \n",
      "\n",
      "\n",
      "Average # tokens in false positives: 63.5386338186\n",
      "Median # tokens in false positives: 47.0\n"
     ]
    }
   ],
   "source": [
    "\n",
    "analyzeFalsePositives(10)"
   ]
  },
  {
   "cell_type": "code",
   "execution_count": 93,
   "metadata": {
    "collapsed": false
   },
   "outputs": [
    {
     "name": "stdout",
     "output_type": "stream",
     "text": [
      "I like this product because it hides my fat belly. I can wear tight dresses without my belly showing off.\n",
      "Pred: 0, Actual: [ 1.]\n",
      "          reviewerID        asin         reviewerName helpful  unixReviewTime  \\\n",
      "1198  A3U62PW290APHL  B00008KH9C  Sapphire \"Sapphire\"  [2, 2]      1372809600   \n",
      "\n",
      "                                             reviewText  overall  reviewTime  \\\n",
      "1198  I like this product because it hides my fat be...   4.0000  07 3, 2013   \n",
      "\n",
      "            summary  index_col  \n",
      "1198  Great product       1198  \n",
      "\n",
      "\n",
      "Ordinary socks don't cut it for hiking. These are fantastic!  They are soft and comfortable and I recommend Wool and/or Silk for hiking as either will help prevent blisters on the feet.\n",
      "Pred: 0, Actual: [ 1.]\n",
      "         reviewerID        asin reviewerName helpful  unixReviewTime  \\\n",
      "1671  AY7WFTZQC3RBN  B0000ASDJH     J. Bates  [1, 1]      1390694400   \n",
      "\n",
      "                                             reviewText  overall   reviewTime  \\\n",
      "1671  Ordinary socks don't cut it for hiking. These ...   5.0000  01 26, 2014   \n",
      "\n",
      "                   summary  index_col  \n",
      "1671  Excellent for hiking       1671  \n",
      "\n",
      "\n",
      "This item is smaller than the first impression I had when viewing the description. I would not order such jewelry again.\n",
      "Pred: 0, Actual: [ 1.]\n",
      "         reviewerID        asin      reviewerName helpful  unixReviewTime  \\\n",
      "1901  AHXSLU9C78I2G  B0000B35D3  Donna Mae Baukat  [1, 1]      1389916800   \n",
      "\n",
      "                                             reviewText  overall   reviewTime  \\\n",
      "1901  This item is smaller than the first impression...   3.0000  01 17, 2014   \n",
      "\n",
      "                            summary  index_col  \n",
      "1901  Smaller Than First Impression       1901  \n",
      "\n",
      "\n",
      "Secure latch and easy to open and close.  Great for activity like golf because they are secure on your ears.  Beautiful gold color...\n",
      "Pred: 0, Actual: [ 1.]\n",
      "          reviewerID        asin       reviewerName helpful  unixReviewTime  \\\n",
      "1907  A30IHJYSOSELOC  B0000B35D3  Judith A. Blucker  [1, 1]      1379462400   \n",
      "\n",
      "                                             reviewText  overall   reviewTime  \\\n",
      "1907  Secure latch and easy to open and close.  Grea...   5.0000  09 18, 2013   \n",
      "\n",
      "                 summary  index_col  \n",
      "1907  Very nice earrings       1907  \n",
      "\n",
      "\n",
      "Leggings are not opaque, and run a bit small.  I normally wear a small, but I bought a medium and it fits perfectly.\n",
      "Pred: 0, Actual: [ 1.]\n",
      "          reviewerID        asin reviewerName helpful  unixReviewTime  \\\n",
      "2109  A374JKO9HMM0G2  B0000BNGCD        Fiona  [2, 2]      1384300800   \n",
      "\n",
      "                                             reviewText  overall   reviewTime  \\\n",
      "2109  Leggings are not opaque, and run a bit small. ...   3.0000  11 13, 2013   \n",
      "\n",
      "                                     summary  index_col  \n",
      "2109  Decent Price- You get what you pay for       2109  \n",
      "\n",
      "\n",
      "Way too small. Have owned a dozen pair of these and they fit perfectly. These are too small, a weird cut, definitely irregular. Very disappointing.\n",
      "Pred: 0, Actual: [ 1.]\n",
      "          reviewerID        asin                       reviewerName helpful  \\\n",
      "2299  A36EUBJ23CPIKQ  B0000C321X  Oakland Citizen \"Oakland Citizen\"  [2, 2]   \n",
      "\n",
      "      unixReviewTime                                         reviewText  \\\n",
      "2299      1397433600  Way too small. Have owned a dozen pair of thes...   \n",
      "\n",
      "      overall   reviewTime                     summary  index_col  \n",
      "2299   1.0000  04 14, 2014  Way too small or irregular       2299  \n",
      "\n",
      "\n",
      "It is perfect. It fits me great.\n",
      "Pred: 0, Actual: [ 1.]\n",
      "          reviewerID        asin              reviewerName helpful  \\\n",
      "2309  A2DQPW08PVTYUK  B0000C321X  Pedro A. Salcedo Quijano  [1, 1]   \n",
      "\n",
      "      unixReviewTime                        reviewText  overall   reviewTime  \\\n",
      "2309      1179014400  It is perfect. It fits me great.   5.0000  05 13, 2007   \n",
      "\n",
      "                                                summary  index_col  \n",
      "2309  Levi's 501 Original Fit Button Fly Jeans (Purc...       2309  \n",
      "\n",
      "\n",
      "The snaps are cheaply made from a thin punched metal. Two have already sprung open and he's worn them only a few times.This is such a disappointment because the fabric part is great and he loves the look.I wouldn't buy them again nor recommend them to anyone who likes suspenders.\n",
      "Pred: 0, Actual: [ 1.]\n",
      "         reviewerID        asin reviewerName helpful  unixReviewTime  \\\n",
      "2489  A3AT0VW5IYLK8  B0000DD6C2           KW  [1, 1]      1362096000   \n",
      "\n",
      "                                             reviewText  overall  reviewTime  \\\n",
      "2489  The snaps are cheaply made from a thin punched...   2.0000  03 1, 2013   \n",
      "\n",
      "                summary  index_col  \n",
      "2489  Looks good but...       2489  \n",
      "\n",
      "\n",
      "This was so small that I could not wear it at all. I hope the problem with this bra is that the one I received was sized incorrectly.  This was definitely not a comfortable bra. I am returning it.\n",
      "Pred: 0, Actual: [ 1.]\n",
      "          reviewerID        asin reviewerName helpful  unixReviewTime  \\\n",
      "3163  A3TA7I0XCT7JEY  B0000ZBSBU  Going Green  [2, 2]      1397174400   \n",
      "\n",
      "                                             reviewText  overall   reviewTime  \\\n",
      "3163  This was so small that I could not wear it at ...   1.0000  04 11, 2014   \n",
      "\n",
      "            summary  index_col  \n",
      "3163  Uncomfortable       3163  \n",
      "\n",
      "\n",
      "It fits, not too bad on shoulders, but wore just once and the stitching is coming undone all ready. I guess I got what I paid for.\n",
      "Pred: 0, Actual: [ 1.]\n",
      "          reviewerID        asin reviewerName helpful  unixReviewTime  \\\n",
      "3198  A2E6IE08AXP6JD  B0000ZBSBU       sharon  [3, 3]      1333324800   \n",
      "\n",
      "                                             reviewText  overall  reviewTime  \\\n",
      "3198  It fits, not too bad on shoulders, but wore ju...   3.0000  04 2, 2012   \n",
      "\n",
      "                 summary  index_col  \n",
      "3198  what I paid  for ?       3198  \n",
      "\n",
      "\n",
      "Average # tokens in false negatives: 47.2577181208\n",
      "Median # tokens in false positives: 32.0\n"
     ]
    }
   ],
   "source": [
    "analyzeFalseNegatives(10)"
   ]
  },
  {
   "cell_type": "code",
   "execution_count": null,
   "metadata": {
    "collapsed": true
   },
   "outputs": [],
   "source": []
  }
 ],
 "metadata": {
  "kernelspec": {
   "display_name": "Python 2",
   "language": "python",
   "name": "python2"
  },
  "language_info": {
   "codemirror_mode": {
    "name": "ipython",
    "version": 2
   },
   "file_extension": ".py",
   "mimetype": "text/x-python",
   "name": "python",
   "nbconvert_exporter": "python",
   "pygments_lexer": "ipython2",
   "version": "2.7.13"
  }
 },
 "nbformat": 4,
 "nbformat_minor": 2
}
